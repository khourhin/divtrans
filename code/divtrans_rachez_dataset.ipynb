{
 "cells": [
  {
   "cell_type": "markdown",
   "metadata": {},
   "source": [
    "# Divergent transcription validation\n",
    "\n",
    "We want to validate the divergent identification dataset by comparing RNA-seq and K27Ac Chip-seq data from Rachez's dataset."
   ]
  },
  {
   "cell_type": "code",
   "execution_count": 1,
   "metadata": {},
   "outputs": [],
   "source": [
    "from pynextgen import divtrans\n",
    "from pynextgen.bed import Bed\n",
    "from pynextgen.basics_bam import Bam\n",
    "import glob\n",
    "import pandas as pd\n",
    "from matplotlib import rcParams\n",
    "import seaborn as sns\n",
    "\n",
    "rcParams[\"figure.figsize\"] = (16.0, 8.0)"
   ]
  },
  {
   "cell_type": "code",
   "execution_count": 2,
   "metadata": {},
   "outputs": [],
   "source": [
    "%load_ext autoreload\n",
    "%autoreload 2"
   ]
  },
  {
   "cell_type": "markdown",
   "metadata": {},
   "source": [
    "## Input\n",
    "Get mm9 genome size for fisher test:"
   ]
  },
  {
   "cell_type": "code",
   "execution_count": 3,
   "metadata": {},
   "outputs": [],
   "source": [
    "%%bash\n",
    "\n",
    "mysql --user=genome --host=genome-mysql.cse.ucsc.edu -A -e \"select chrom, size from mm9.chromInfo\" \\\n",
    "    | sort -k1,1 -k2,2n > ../data/rachez_test_data/mm9.genome"
   ]
  },
  {
   "cell_type": "code",
   "execution_count": 4,
   "metadata": {},
   "outputs": [],
   "source": [
    "chro_sizes = \"../data/rachez_test_data/mm9.genome\""
   ]
  },
  {
   "cell_type": "markdown",
   "metadata": {},
   "source": [
    "Bam files:"
   ]
  },
  {
   "cell_type": "code",
   "execution_count": 5,
   "metadata": {},
   "outputs": [],
   "source": [
    "bams = glob.glob(\"../data/rachez_test_data/*.bam\")"
   ]
  },
  {
   "cell_type": "markdown",
   "metadata": {},
   "source": [
    "Subset test bam:"
   ]
  },
  {
   "cell_type": "code",
   "execution_count": 6,
   "metadata": {
    "lines_to_next_cell": 2
   },
   "outputs": [],
   "source": [
    "subset_bam = Bam(bams[0]).multi_fetch([\"chr1:0-249250621\"], bam_out=\"test.bam\")"
   ]
  },
  {
   "cell_type": "code",
   "execution_count": 7,
   "metadata": {},
   "outputs": [
    {
     "data": {
      "text/plain": [
       "BAM Object for file: test.bam"
      ]
     },
     "execution_count": 7,
     "metadata": {},
     "output_type": "execute_result"
    }
   ],
   "source": [
    "subset_bam"
   ]
  },
  {
   "cell_type": "markdown",
   "metadata": {},
   "source": [
    "## Divergent transcription detection (test dataset)"
   ]
  },
  {
   "cell_type": "code",
   "execution_count": 8,
   "metadata": {},
   "outputs": [],
   "source": [
    "test_analysis = divtrans.DivTransFromBam(\n",
    "    subset_bam.path,\n",
    "    distance=100,\n",
    "    max_template_length=500,\n",
    "    no_overlap=True,\n",
    "    remove_GL_contigs=True,\n",
    ")"
   ]
  },
  {
   "cell_type": "code",
   "execution_count": 9,
   "metadata": {},
   "outputs": [
    {
     "name": "stderr",
     "output_type": "stream",
     "text": [
      "2019-03-22 15:09:27,582 -  - pynextgen.divtrans - _get_oriented_reads() - INFO - Bam: <pysam.libcalignmentfile.AlignmentFile object at 0x7f3e2dcd3c18>; Number of alignments: 6,255,484; Secondary alignments removed: 302392; Too large templates removed: 2,627,818; Alignments with spliced reads removed: 147,406; Percentage of alignment used: 51%;\n"
     ]
    }
   ],
   "source": [
    "test_analysis.run()"
   ]
  },
  {
   "cell_type": "markdown",
   "metadata": {},
   "source": [
    "### Filtering"
   ]
  },
  {
   "cell_type": "code",
   "execution_count": 10,
   "metadata": {},
   "outputs": [
    {
     "name": "stderr",
     "output_type": "stream",
     "text": [
      "2019-03-22 15:09:27,633 -  - pynextgen.divtrans - __init__() - INFO - Intermediate files will be stored in /tmp/bedfilter_nvlgvmv2\n"
     ]
    }
   ],
   "source": [
    "bedfilter = divtrans.BedFilter(test_analysis.bed, subset_bam.path, threads=4)"
   ]
  },
  {
   "cell_type": "code",
   "execution_count": 11,
   "metadata": {},
   "outputs": [
    {
     "name": "stderr",
     "output_type": "stream",
     "text": [
      "2019-03-22 15:09:27,668 -  - pynextgen.divtrans - multiple_run() - INFO - Filtering <Bed object: test_divtrans>\n",
      " with params: flank:100; count_thres:2; count_ratio_thres:1\n",
      "2019-03-22 15:09:27,719 - basics_bam.py - pynextgen.basics_bam - count_over_intervals() - INFO - Starting count on intervals\n",
      "2019-03-22 15:09:33,753 - basics_bam.py - pynextgen.basics_bam - count_over_intervals() - INFO - Starting count on intervals\n",
      "2019-03-22 15:09:39,889 -  - pynextgen.divtrans - _count_around_intervals() - INFO - Gathering stranded counts data ...\n",
      "2019-03-22 15:09:39,919 -  - pynextgen.divtrans - _filter_by_counts() - INFO - Filtering intervals based on read coverage ...\n",
      "2019-03-22 15:09:39,942 -  - pynextgen.divtrans - _filter_by_counts() - INFO - Filtering for <Bed object: test_divtrans>\n",
      " DONE.\n",
      "2019-03-22 15:09:39,946 -  - pynextgen.divtrans - multiple_run() - INFO - Filtering <Bed object: test_divtrans>\n",
      " with params: flank:100; count_thres:2; count_ratio_thres:2\n",
      "2019-03-22 15:09:39,949 -  - pynextgen.divtrans - run() - INFO - Using previous count table: /tmp/bedfilter_nvlgvmv2/filter_7rdxtnkk_counts.csv\n",
      "2019-03-22 15:09:39,951 -  - pynextgen.divtrans - _filter_by_counts() - INFO - Filtering intervals based on read coverage ...\n",
      "2019-03-22 15:09:39,969 -  - pynextgen.divtrans - _filter_by_counts() - INFO - Filtering for <Bed object: test_divtrans>\n",
      " DONE.\n",
      "2019-03-22 15:09:39,972 -  - pynextgen.divtrans - multiple_run() - INFO - Filtering <Bed object: test_divtrans>\n",
      " with params: flank:100; count_thres:2; count_ratio_thres:4\n",
      "2019-03-22 15:09:39,975 -  - pynextgen.divtrans - run() - INFO - Using previous count table: /tmp/bedfilter_nvlgvmv2/filter_7rdxtnkk_counts.csv\n",
      "2019-03-22 15:09:39,977 -  - pynextgen.divtrans - _filter_by_counts() - INFO - Filtering intervals based on read coverage ...\n",
      "2019-03-22 15:09:39,996 -  - pynextgen.divtrans - _filter_by_counts() - INFO - Filtering for <Bed object: test_divtrans>\n",
      " DONE.\n",
      "2019-03-22 15:09:39,999 -  - pynextgen.divtrans - multiple_run() - INFO - Filtering <Bed object: test_divtrans>\n",
      " with params: flank:100; count_thres:5; count_ratio_thres:1\n",
      "2019-03-22 15:09:40,002 -  - pynextgen.divtrans - run() - INFO - Using previous count table: /tmp/bedfilter_nvlgvmv2/filter_7rdxtnkk_counts.csv\n",
      "2019-03-22 15:09:40,005 -  - pynextgen.divtrans - _filter_by_counts() - INFO - Filtering intervals based on read coverage ...\n",
      "2019-03-22 15:09:40,023 -  - pynextgen.divtrans - _filter_by_counts() - INFO - Filtering for <Bed object: test_divtrans>\n",
      " DONE.\n",
      "2019-03-22 15:09:40,026 -  - pynextgen.divtrans - multiple_run() - INFO - Filtering <Bed object: test_divtrans>\n",
      " with params: flank:100; count_thres:5; count_ratio_thres:2\n",
      "2019-03-22 15:09:40,029 -  - pynextgen.divtrans - run() - INFO - Using previous count table: /tmp/bedfilter_nvlgvmv2/filter_7rdxtnkk_counts.csv\n",
      "2019-03-22 15:09:40,030 -  - pynextgen.divtrans - _filter_by_counts() - INFO - Filtering intervals based on read coverage ...\n",
      "2019-03-22 15:09:40,048 -  - pynextgen.divtrans - _filter_by_counts() - INFO - Filtering for <Bed object: test_divtrans>\n",
      " DONE.\n",
      "2019-03-22 15:09:40,051 -  - pynextgen.divtrans - multiple_run() - INFO - Filtering <Bed object: test_divtrans>\n",
      " with params: flank:100; count_thres:5; count_ratio_thres:4\n",
      "2019-03-22 15:09:40,053 -  - pynextgen.divtrans - run() - INFO - Using previous count table: /tmp/bedfilter_nvlgvmv2/filter_7rdxtnkk_counts.csv\n",
      "2019-03-22 15:09:40,054 -  - pynextgen.divtrans - _filter_by_counts() - INFO - Filtering intervals based on read coverage ...\n",
      "2019-03-22 15:09:40,073 -  - pynextgen.divtrans - _filter_by_counts() - INFO - Filtering for <Bed object: test_divtrans>\n",
      " DONE.\n",
      "2019-03-22 15:09:40,076 -  - pynextgen.divtrans - multiple_run() - INFO - Filtering <Bed object: test_divtrans>\n",
      " with params: flank:100; count_thres:10; count_ratio_thres:1\n",
      "2019-03-22 15:09:40,079 -  - pynextgen.divtrans - run() - INFO - Using previous count table: /tmp/bedfilter_nvlgvmv2/filter_7rdxtnkk_counts.csv\n",
      "2019-03-22 15:09:40,080 -  - pynextgen.divtrans - _filter_by_counts() - INFO - Filtering intervals based on read coverage ...\n",
      "2019-03-22 15:09:40,097 -  - pynextgen.divtrans - _filter_by_counts() - INFO - Filtering for <Bed object: test_divtrans>\n",
      " DONE.\n",
      "2019-03-22 15:09:40,100 -  - pynextgen.divtrans - multiple_run() - INFO - Filtering <Bed object: test_divtrans>\n",
      " with params: flank:100; count_thres:10; count_ratio_thres:2\n",
      "2019-03-22 15:09:40,102 -  - pynextgen.divtrans - run() - INFO - Using previous count table: /tmp/bedfilter_nvlgvmv2/filter_7rdxtnkk_counts.csv\n",
      "2019-03-22 15:09:40,103 -  - pynextgen.divtrans - _filter_by_counts() - INFO - Filtering intervals based on read coverage ...\n",
      "2019-03-22 15:09:40,121 -  - pynextgen.divtrans - _filter_by_counts() - INFO - Filtering for <Bed object: test_divtrans>\n",
      " DONE.\n",
      "2019-03-22 15:09:40,124 -  - pynextgen.divtrans - multiple_run() - INFO - Filtering <Bed object: test_divtrans>\n",
      " with params: flank:100; count_thres:10; count_ratio_thres:4\n",
      "2019-03-22 15:09:40,127 -  - pynextgen.divtrans - run() - INFO - Using previous count table: /tmp/bedfilter_nvlgvmv2/filter_7rdxtnkk_counts.csv\n",
      "2019-03-22 15:09:40,129 -  - pynextgen.divtrans - _filter_by_counts() - INFO - Filtering intervals based on read coverage ...\n",
      "2019-03-22 15:09:40,146 -  - pynextgen.divtrans - _filter_by_counts() - INFO - Filtering for <Bed object: test_divtrans>\n",
      " DONE.\n",
      "2019-03-22 15:09:40,150 -  - pynextgen.divtrans - multiple_run() - INFO - Filtering <Bed object: test_divtrans>\n",
      " with params: flank:250; count_thres:2; count_ratio_thres:1\n",
      "2019-03-22 15:09:40,201 - basics_bam.py - pynextgen.basics_bam - count_over_intervals() - INFO - Starting count on intervals\n",
      "2019-03-22 15:09:45,939 - basics_bam.py - pynextgen.basics_bam - count_over_intervals() - INFO - Starting count on intervals\n",
      "2019-03-22 15:09:52,675 -  - pynextgen.divtrans - _count_around_intervals() - INFO - Gathering stranded counts data ...\n",
      "2019-03-22 15:09:52,701 -  - pynextgen.divtrans - _filter_by_counts() - INFO - Filtering intervals based on read coverage ...\n",
      "2019-03-22 15:09:52,722 -  - pynextgen.divtrans - _filter_by_counts() - INFO - Filtering for <Bed object: test_divtrans>\n",
      " DONE.\n",
      "2019-03-22 15:09:52,725 -  - pynextgen.divtrans - multiple_run() - INFO - Filtering <Bed object: test_divtrans>\n",
      " with params: flank:250; count_thres:2; count_ratio_thres:2\n",
      "2019-03-22 15:09:52,728 -  - pynextgen.divtrans - run() - INFO - Using previous count table: /tmp/bedfilter_nvlgvmv2/filter_gegw3hpq_counts.csv\n",
      "2019-03-22 15:09:52,735 -  - pynextgen.divtrans - _filter_by_counts() - INFO - Filtering intervals based on read coverage ...\n",
      "2019-03-22 15:09:52,755 -  - pynextgen.divtrans - _filter_by_counts() - INFO - Filtering for <Bed object: test_divtrans>\n",
      " DONE.\n",
      "2019-03-22 15:09:52,757 -  - pynextgen.divtrans - multiple_run() - INFO - Filtering <Bed object: test_divtrans>\n",
      " with params: flank:250; count_thres:2; count_ratio_thres:4\n",
      "2019-03-22 15:09:52,760 -  - pynextgen.divtrans - run() - INFO - Using previous count table: /tmp/bedfilter_nvlgvmv2/filter_gegw3hpq_counts.csv\n",
      "2019-03-22 15:09:52,763 -  - pynextgen.divtrans - _filter_by_counts() - INFO - Filtering intervals based on read coverage ...\n",
      "2019-03-22 15:09:52,782 -  - pynextgen.divtrans - _filter_by_counts() - INFO - Filtering for <Bed object: test_divtrans>\n",
      " DONE.\n",
      "2019-03-22 15:09:52,785 -  - pynextgen.divtrans - multiple_run() - INFO - Filtering <Bed object: test_divtrans>\n",
      " with params: flank:250; count_thres:5; count_ratio_thres:1\n",
      "2019-03-22 15:09:52,788 -  - pynextgen.divtrans - run() - INFO - Using previous count table: /tmp/bedfilter_nvlgvmv2/filter_gegw3hpq_counts.csv\n",
      "2019-03-22 15:09:52,790 -  - pynextgen.divtrans - _filter_by_counts() - INFO - Filtering intervals based on read coverage ...\n",
      "2019-03-22 15:09:52,809 -  - pynextgen.divtrans - _filter_by_counts() - INFO - Filtering for <Bed object: test_divtrans>\n",
      " DONE.\n",
      "2019-03-22 15:09:52,813 -  - pynextgen.divtrans - multiple_run() - INFO - Filtering <Bed object: test_divtrans>\n",
      " with params: flank:250; count_thres:5; count_ratio_thres:2\n",
      "2019-03-22 15:09:52,816 -  - pynextgen.divtrans - run() - INFO - Using previous count table: /tmp/bedfilter_nvlgvmv2/filter_gegw3hpq_counts.csv\n",
      "2019-03-22 15:09:52,819 -  - pynextgen.divtrans - _filter_by_counts() - INFO - Filtering intervals based on read coverage ...\n",
      "2019-03-22 15:09:52,838 -  - pynextgen.divtrans - _filter_by_counts() - INFO - Filtering for <Bed object: test_divtrans>\n",
      " DONE.\n",
      "2019-03-22 15:09:52,841 -  - pynextgen.divtrans - multiple_run() - INFO - Filtering <Bed object: test_divtrans>\n",
      " with params: flank:250; count_thres:5; count_ratio_thres:4\n",
      "2019-03-22 15:09:52,844 -  - pynextgen.divtrans - run() - INFO - Using previous count table: /tmp/bedfilter_nvlgvmv2/filter_gegw3hpq_counts.csv\n",
      "2019-03-22 15:09:52,846 -  - pynextgen.divtrans - _filter_by_counts() - INFO - Filtering intervals based on read coverage ...\n",
      "2019-03-22 15:09:52,865 -  - pynextgen.divtrans - _filter_by_counts() - INFO - Filtering for <Bed object: test_divtrans>\n",
      " DONE.\n",
      "2019-03-22 15:09:52,868 -  - pynextgen.divtrans - multiple_run() - INFO - Filtering <Bed object: test_divtrans>\n",
      " with params: flank:250; count_thres:10; count_ratio_thres:1\n",
      "2019-03-22 15:09:52,871 -  - pynextgen.divtrans - run() - INFO - Using previous count table: /tmp/bedfilter_nvlgvmv2/filter_gegw3hpq_counts.csv\n",
      "2019-03-22 15:09:52,872 -  - pynextgen.divtrans - _filter_by_counts() - INFO - Filtering intervals based on read coverage ...\n",
      "2019-03-22 15:09:52,891 -  - pynextgen.divtrans - _filter_by_counts() - INFO - Filtering for <Bed object: test_divtrans>\n",
      " DONE.\n",
      "2019-03-22 15:09:52,894 -  - pynextgen.divtrans - multiple_run() - INFO - Filtering <Bed object: test_divtrans>\n",
      " with params: flank:250; count_thres:10; count_ratio_thres:2\n",
      "2019-03-22 15:09:52,898 -  - pynextgen.divtrans - run() - INFO - Using previous count table: /tmp/bedfilter_nvlgvmv2/filter_gegw3hpq_counts.csv\n",
      "2019-03-22 15:09:52,900 -  - pynextgen.divtrans - _filter_by_counts() - INFO - Filtering intervals based on read coverage ...\n",
      "2019-03-22 15:09:52,918 -  - pynextgen.divtrans - _filter_by_counts() - INFO - Filtering for <Bed object: test_divtrans>\n",
      " DONE.\n",
      "2019-03-22 15:09:52,922 -  - pynextgen.divtrans - multiple_run() - INFO - Filtering <Bed object: test_divtrans>\n",
      " with params: flank:250; count_thres:10; count_ratio_thres:4\n",
      "2019-03-22 15:09:52,925 -  - pynextgen.divtrans - run() - INFO - Using previous count table: /tmp/bedfilter_nvlgvmv2/filter_gegw3hpq_counts.csv\n",
      "2019-03-22 15:09:52,927 -  - pynextgen.divtrans - _filter_by_counts() - INFO - Filtering intervals based on read coverage ...\n",
      "2019-03-22 15:09:52,948 -  - pynextgen.divtrans - _filter_by_counts() - INFO - Filtering for <Bed object: test_divtrans>\n",
      " DONE.\n",
      "2019-03-22 15:09:52,951 -  - pynextgen.divtrans - multiple_run() - INFO - Filtering <Bed object: test_divtrans>\n",
      " with params: flank:500; count_thres:2; count_ratio_thres:1\n",
      "2019-03-22 15:09:53,002 - basics_bam.py - pynextgen.basics_bam - count_over_intervals() - INFO - Starting count on intervals\n",
      "2019-03-22 15:09:59,338 - basics_bam.py - pynextgen.basics_bam - count_over_intervals() - INFO - Starting count on intervals\n",
      "2019-03-22 15:10:07,179 -  - pynextgen.divtrans - _count_around_intervals() - INFO - Gathering stranded counts data ...\n",
      "2019-03-22 15:10:07,205 -  - pynextgen.divtrans - _filter_by_counts() - INFO - Filtering intervals based on read coverage ...\n",
      "2019-03-22 15:10:07,228 -  - pynextgen.divtrans - _filter_by_counts() - INFO - Filtering for <Bed object: test_divtrans>\n",
      " DONE.\n",
      "2019-03-22 15:10:07,231 -  - pynextgen.divtrans - multiple_run() - INFO - Filtering <Bed object: test_divtrans>\n",
      " with params: flank:500; count_thres:2; count_ratio_thres:2\n",
      "2019-03-22 15:10:07,236 -  - pynextgen.divtrans - run() - INFO - Using previous count table: /tmp/bedfilter_nvlgvmv2/filter_ny_qzcn__counts.csv\n",
      "2019-03-22 15:10:07,238 -  - pynextgen.divtrans - _filter_by_counts() - INFO - Filtering intervals based on read coverage ...\n",
      "2019-03-22 15:10:07,260 -  - pynextgen.divtrans - _filter_by_counts() - INFO - Filtering for <Bed object: test_divtrans>\n",
      " DONE.\n",
      "2019-03-22 15:10:07,264 -  - pynextgen.divtrans - multiple_run() - INFO - Filtering <Bed object: test_divtrans>\n",
      " with params: flank:500; count_thres:2; count_ratio_thres:4\n",
      "2019-03-22 15:10:07,269 -  - pynextgen.divtrans - run() - INFO - Using previous count table: /tmp/bedfilter_nvlgvmv2/filter_ny_qzcn__counts.csv\n",
      "2019-03-22 15:10:07,271 -  - pynextgen.divtrans - _filter_by_counts() - INFO - Filtering intervals based on read coverage ...\n",
      "2019-03-22 15:10:07,290 -  - pynextgen.divtrans - _filter_by_counts() - INFO - Filtering for <Bed object: test_divtrans>\n",
      " DONE.\n",
      "2019-03-22 15:10:07,293 -  - pynextgen.divtrans - multiple_run() - INFO - Filtering <Bed object: test_divtrans>\n",
      " with params: flank:500; count_thres:5; count_ratio_thres:1\n",
      "2019-03-22 15:10:07,298 -  - pynextgen.divtrans - run() - INFO - Using previous count table: /tmp/bedfilter_nvlgvmv2/filter_ny_qzcn__counts.csv\n",
      "2019-03-22 15:10:07,303 -  - pynextgen.divtrans - _filter_by_counts() - INFO - Filtering intervals based on read coverage ...\n",
      "2019-03-22 15:10:07,324 -  - pynextgen.divtrans - _filter_by_counts() - INFO - Filtering for <Bed object: test_divtrans>\n",
      " DONE.\n",
      "2019-03-22 15:10:07,327 -  - pynextgen.divtrans - multiple_run() - INFO - Filtering <Bed object: test_divtrans>\n",
      " with params: flank:500; count_thres:5; count_ratio_thres:2\n",
      "2019-03-22 15:10:07,329 -  - pynextgen.divtrans - run() - INFO - Using previous count table: /tmp/bedfilter_nvlgvmv2/filter_ny_qzcn__counts.csv\n",
      "2019-03-22 15:10:07,331 -  - pynextgen.divtrans - _filter_by_counts() - INFO - Filtering intervals based on read coverage ...\n",
      "2019-03-22 15:10:07,351 -  - pynextgen.divtrans - _filter_by_counts() - INFO - Filtering for <Bed object: test_divtrans>\n",
      " DONE.\n",
      "2019-03-22 15:10:07,355 -  - pynextgen.divtrans - multiple_run() - INFO - Filtering <Bed object: test_divtrans>\n",
      " with params: flank:500; count_thres:5; count_ratio_thres:4\n",
      "2019-03-22 15:10:07,357 -  - pynextgen.divtrans - run() - INFO - Using previous count table: /tmp/bedfilter_nvlgvmv2/filter_ny_qzcn__counts.csv\n",
      "2019-03-22 15:10:07,358 -  - pynextgen.divtrans - _filter_by_counts() - INFO - Filtering intervals based on read coverage ...\n",
      "2019-03-22 15:10:07,378 -  - pynextgen.divtrans - _filter_by_counts() - INFO - Filtering for <Bed object: test_divtrans>\n",
      " DONE.\n",
      "2019-03-22 15:10:07,381 -  - pynextgen.divtrans - multiple_run() - INFO - Filtering <Bed object: test_divtrans>\n",
      " with params: flank:500; count_thres:10; count_ratio_thres:1\n",
      "2019-03-22 15:10:07,384 -  - pynextgen.divtrans - run() - INFO - Using previous count table: /tmp/bedfilter_nvlgvmv2/filter_ny_qzcn__counts.csv\n",
      "2019-03-22 15:10:07,386 -  - pynextgen.divtrans - _filter_by_counts() - INFO - Filtering intervals based on read coverage ...\n",
      "2019-03-22 15:10:07,409 -  - pynextgen.divtrans - _filter_by_counts() - INFO - Filtering for <Bed object: test_divtrans>\n",
      " DONE.\n",
      "2019-03-22 15:10:07,414 -  - pynextgen.divtrans - multiple_run() - INFO - Filtering <Bed object: test_divtrans>\n",
      " with params: flank:500; count_thres:10; count_ratio_thres:2\n",
      "2019-03-22 15:10:07,420 -  - pynextgen.divtrans - run() - INFO - Using previous count table: /tmp/bedfilter_nvlgvmv2/filter_ny_qzcn__counts.csv\n",
      "2019-03-22 15:10:07,424 -  - pynextgen.divtrans - _filter_by_counts() - INFO - Filtering intervals based on read coverage ...\n",
      "2019-03-22 15:10:07,444 -  - pynextgen.divtrans - _filter_by_counts() - INFO - Filtering for <Bed object: test_divtrans>\n",
      " DONE.\n",
      "2019-03-22 15:10:07,448 -  - pynextgen.divtrans - multiple_run() - INFO - Filtering <Bed object: test_divtrans>\n",
      " with params: flank:500; count_thres:10; count_ratio_thres:4\n",
      "2019-03-22 15:10:07,450 -  - pynextgen.divtrans - run() - INFO - Using previous count table: /tmp/bedfilter_nvlgvmv2/filter_ny_qzcn__counts.csv\n",
      "2019-03-22 15:10:07,454 -  - pynextgen.divtrans - _filter_by_counts() - INFO - Filtering intervals based on read coverage ...\n",
      "2019-03-22 15:10:07,475 -  - pynextgen.divtrans - _filter_by_counts() - INFO - Filtering for <Bed object: test_divtrans>\n",
      " DONE.\n"
     ]
    }
   ],
   "source": [
    "bedfilter.multiple_run(\n",
    "    chro_sizes,\n",
    "    flanks=[100, 250, 500],\n",
    "    count_thress=[2, 5, 10],\n",
    "    count_ratio_thress=[1, 2, 4],\n",
    ")"
   ]
  },
  {
   "cell_type": "markdown",
   "metadata": {},
   "source": [
    "## Compare with K27Ac peaks"
   ]
  },
  {
   "cell_type": "code",
   "execution_count": 12,
   "metadata": {},
   "outputs": [],
   "source": [
    "ref_bed = Bed(\n",
    "    \"../data/rachez_test_data/H3K27ac_Rep1_vs_INPUT-Mouse_Rep1_peaks.narrowPeak\"\n",
    ").filter_by_chromosome(\"chr1\")"
   ]
  },
  {
   "cell_type": "markdown",
   "metadata": {},
   "source": [
    "### Statistics for parameter tuning:\n",
    "\n",
    "#### True positive rate:\n",
    "\n",
    "$TPR = TP/P$\n",
    "\n",
    "With:\n",
    "- TP: number of true positives\n",
    "- P: number of real positive cases in the data\n",
    "\n",
    "#### False positive rate:\n",
    "\n",
    "$FPR = FP/N$\n",
    "\n",
    "With:\n",
    "- FP: number of false positives\n",
    "- N: number of real negative cases in the data\n",
    "\n",
    "Source:\n",
    "https://en.wikipedia.org/wiki/Receiver_operating_characteristic"
   ]
  },
  {
   "cell_type": "code",
   "execution_count": 19,
   "metadata": {},
   "outputs": [],
   "source": [
    "jaccard_df = pd.concat(\n",
    "    [bed.jaccard(ref_bed) for bed in bedfilter.filtered_beds.values()]\n",
    ")\n",
    "fisher_df = pd.concat(\n",
    "    [bed.fisher(ref_bed, chro_sizes) for bed in bedfilter.filtered_beds.values()]\n",
    ")\n",
    "\n",
    "# To Compute the true positive ratio\n",
    "len_df = pd.DataFrame(\n",
    "    {bed.name: len(bed) for bed in bedfilter.filtered_beds.values()},\n",
    "    index=[\"bed_length\"],\n",
    ").T\n",
    "\n",
    "# To compute false positives\n",
    "fp_df = pd.DataFrame(\n",
    "    {\n",
    "        bed.name: len(bed.intersect(ref_bed, supp_args=\"-v\"))\n",
    "        for bed in bedfilter.filtered_beds.values()\n",
    "    },\n",
    "    index=[\"false_positives\"],\n",
    ").T\n",
    "\n",
    "# Total negative number is considered to be the number of intervals when complementing the K27Ac peaks\n",
    "total_negatives = len(ref_bed.complement(chro_sizes))\n",
    "\n",
    "# Join results\n",
    "sum_df = pd.concat(\n",
    "    [fisher_df.set_index(\"bed1\"), jaccard_df.set_index(\"bed1\"), len_df, fp_df],\n",
    "    axis=1,\n",
    "    sort=False,\n",
    ").sort_values(\"jaccard\", ascending=False)\n",
    "\n",
    "# n_intersection from jaccard test can be assimilated to True Positives:\n",
    "# ie (number of divergent transcription interval overlapping a K27Ac peak)\n",
    "sum_df.rename(columns={\"n_intersections\": \"true_positives\"}, inplace=True)\n",
    "\n",
    "# Compute true/false positive rate\n",
    "sum_df[\"true_positive_rate\"] = sum_df[\"true_positives\"] / len(ref_bed)\n",
    "sum_df[\"false_positive_rate\"] = sum_df[\"false_positives\"] / total_negatives\n",
    "\n",
    "# Cannot compute the false positive rate.\n",
    "\n",
    "# Table cleanup\n",
    "sum_df.index = sum_df.index.str.replace(\"test_divtrans_\", \"\")\n",
    "sum_df.index = sum_df.index.str.replace(\"_counts_filtered\", \"\")"
   ]
  },
  {
   "cell_type": "code",
   "execution_count": 20,
   "metadata": {},
   "outputs": [
    {
     "data": {
      "text/html": [
       "<div>\n",
       "<style scoped>\n",
       "    .dataframe tbody tr th:only-of-type {\n",
       "        vertical-align: middle;\n",
       "    }\n",
       "\n",
       "    .dataframe tbody tr th {\n",
       "        vertical-align: top;\n",
       "    }\n",
       "\n",
       "    .dataframe thead th {\n",
       "        text-align: right;\n",
       "    }\n",
       "</style>\n",
       "<table border=\"1\" class=\"dataframe\">\n",
       "  <thead>\n",
       "    <tr style=\"text-align: right;\">\n",
       "      <th></th>\n",
       "      <th>left</th>\n",
       "      <th>right</th>\n",
       "      <th>two-tail</th>\n",
       "      <th>ratio</th>\n",
       "      <th>bed2</th>\n",
       "      <th>intersection</th>\n",
       "      <th>union-intersection</th>\n",
       "      <th>jaccard</th>\n",
       "      <th>true_positives</th>\n",
       "      <th>bed2</th>\n",
       "      <th>bed_length</th>\n",
       "      <th>false_positives</th>\n",
       "      <th>true_positive_rate</th>\n",
       "      <th>false_positive_rate</th>\n",
       "    </tr>\n",
       "    <tr>\n",
       "      <th>bed1</th>\n",
       "      <th></th>\n",
       "      <th></th>\n",
       "      <th></th>\n",
       "      <th></th>\n",
       "      <th></th>\n",
       "      <th></th>\n",
       "      <th></th>\n",
       "      <th></th>\n",
       "      <th></th>\n",
       "      <th></th>\n",
       "      <th></th>\n",
       "      <th></th>\n",
       "      <th></th>\n",
       "      <th></th>\n",
       "    </tr>\n",
       "  </thead>\n",
       "  <tbody>\n",
       "    <tr>\n",
       "      <th>500_2_1</th>\n",
       "      <td>1.0</td>\n",
       "      <td>8.903500e-138</td>\n",
       "      <td>8.903500e-138</td>\n",
       "      <td>2670.766</td>\n",
       "      <td>H3K27ac_Rep1_vs_INPUT-Mouse_Rep1_peaks_only_chr1</td>\n",
       "      <td>1739</td>\n",
       "      <td>885773</td>\n",
       "      <td>0.001963</td>\n",
       "      <td>48</td>\n",
       "      <td>H3K27ac_Rep1_vs_INPUT-Mouse_Rep1_peaks_only_chr1</td>\n",
       "      <td>103</td>\n",
       "      <td>55</td>\n",
       "      <td>0.020851</td>\n",
       "      <td>0.023524</td>\n",
       "    </tr>\n",
       "    <tr>\n",
       "      <th>250_2_1</th>\n",
       "      <td>1.0</td>\n",
       "      <td>1.041200e-102</td>\n",
       "      <td>1.041200e-102</td>\n",
       "      <td>1926.445</td>\n",
       "      <td>H3K27ac_Rep1_vs_INPUT-Mouse_Rep1_peaks_only_chr1</td>\n",
       "      <td>1557</td>\n",
       "      <td>885844</td>\n",
       "      <td>0.001758</td>\n",
       "      <td>37</td>\n",
       "      <td>H3K27ac_Rep1_vs_INPUT-Mouse_Rep1_peaks_only_chr1</td>\n",
       "      <td>95</td>\n",
       "      <td>58</td>\n",
       "      <td>0.016073</td>\n",
       "      <td>0.024808</td>\n",
       "    </tr>\n",
       "    <tr>\n",
       "      <th>500_5_1</th>\n",
       "      <td>1.0</td>\n",
       "      <td>6.399700e-127</td>\n",
       "      <td>6.399700e-127</td>\n",
       "      <td>4428.800</td>\n",
       "      <td>H3K27ac_Rep1_vs_INPUT-Mouse_Rep1_peaks_only_chr1</td>\n",
       "      <td>1524</td>\n",
       "      <td>884334</td>\n",
       "      <td>0.001723</td>\n",
       "      <td>42</td>\n",
       "      <td>H3K27ac_Rep1_vs_INPUT-Mouse_Rep1_peaks_only_chr1</td>\n",
       "      <td>71</td>\n",
       "      <td>29</td>\n",
       "      <td>0.018245</td>\n",
       "      <td>0.012404</td>\n",
       "    </tr>\n",
       "    <tr>\n",
       "      <th>100_2_1</th>\n",
       "      <td>1.0</td>\n",
       "      <td>2.499000e-79</td>\n",
       "      <td>2.499000e-79</td>\n",
       "      <td>1645.579</td>\n",
       "      <td>H3K27ac_Rep1_vs_INPUT-Mouse_Rep1_peaks_only_chr1</td>\n",
       "      <td>1281</td>\n",
       "      <td>878987</td>\n",
       "      <td>0.001457</td>\n",
       "      <td>29</td>\n",
       "      <td>H3K27ac_Rep1_vs_INPUT-Mouse_Rep1_peaks_only_chr1</td>\n",
       "      <td>82</td>\n",
       "      <td>53</td>\n",
       "      <td>0.012598</td>\n",
       "      <td>0.022669</td>\n",
       "    </tr>\n",
       "    <tr>\n",
       "      <th>500_10_1</th>\n",
       "      <td>1.0</td>\n",
       "      <td>2.321900e-104</td>\n",
       "      <td>2.321900e-104</td>\n",
       "      <td>7678.440</td>\n",
       "      <td>H3K27ac_Rep1_vs_INPUT-Mouse_Rep1_peaks_only_chr1</td>\n",
       "      <td>1226</td>\n",
       "      <td>883774</td>\n",
       "      <td>0.001387</td>\n",
       "      <td>33</td>\n",
       "      <td>H3K27ac_Rep1_vs_INPUT-Mouse_Rep1_peaks_only_chr1</td>\n",
       "      <td>46</td>\n",
       "      <td>13</td>\n",
       "      <td>0.014335</td>\n",
       "      <td>0.005560</td>\n",
       "    </tr>\n",
       "  </tbody>\n",
       "</table>\n",
       "</div>"
      ],
      "text/plain": [
       "          left          right       two-tail     ratio  \\\n",
       "bed1                                                     \n",
       "500_2_1    1.0  8.903500e-138  8.903500e-138  2670.766   \n",
       "250_2_1    1.0  1.041200e-102  1.041200e-102  1926.445   \n",
       "500_5_1    1.0  6.399700e-127  6.399700e-127  4428.800   \n",
       "100_2_1    1.0   2.499000e-79   2.499000e-79  1645.579   \n",
       "500_10_1   1.0  2.321900e-104  2.321900e-104  7678.440   \n",
       "\n",
       "                                                      bed2  intersection  \\\n",
       "bed1                                                                       \n",
       "500_2_1   H3K27ac_Rep1_vs_INPUT-Mouse_Rep1_peaks_only_chr1          1739   \n",
       "250_2_1   H3K27ac_Rep1_vs_INPUT-Mouse_Rep1_peaks_only_chr1          1557   \n",
       "500_5_1   H3K27ac_Rep1_vs_INPUT-Mouse_Rep1_peaks_only_chr1          1524   \n",
       "100_2_1   H3K27ac_Rep1_vs_INPUT-Mouse_Rep1_peaks_only_chr1          1281   \n",
       "500_10_1  H3K27ac_Rep1_vs_INPUT-Mouse_Rep1_peaks_only_chr1          1226   \n",
       "\n",
       "          union-intersection   jaccard  true_positives  \\\n",
       "bed1                                                     \n",
       "500_2_1               885773  0.001963              48   \n",
       "250_2_1               885844  0.001758              37   \n",
       "500_5_1               884334  0.001723              42   \n",
       "100_2_1               878987  0.001457              29   \n",
       "500_10_1              883774  0.001387              33   \n",
       "\n",
       "                                                      bed2  bed_length  \\\n",
       "bed1                                                                     \n",
       "500_2_1   H3K27ac_Rep1_vs_INPUT-Mouse_Rep1_peaks_only_chr1         103   \n",
       "250_2_1   H3K27ac_Rep1_vs_INPUT-Mouse_Rep1_peaks_only_chr1          95   \n",
       "500_5_1   H3K27ac_Rep1_vs_INPUT-Mouse_Rep1_peaks_only_chr1          71   \n",
       "100_2_1   H3K27ac_Rep1_vs_INPUT-Mouse_Rep1_peaks_only_chr1          82   \n",
       "500_10_1  H3K27ac_Rep1_vs_INPUT-Mouse_Rep1_peaks_only_chr1          46   \n",
       "\n",
       "          false_positives  true_positive_rate  false_positive_rate  \n",
       "bed1                                                                \n",
       "500_2_1                55            0.020851             0.023524  \n",
       "250_2_1                58            0.016073             0.024808  \n",
       "500_5_1                29            0.018245             0.012404  \n",
       "100_2_1                53            0.012598             0.022669  \n",
       "500_10_1               13            0.014335             0.005560  "
      ]
     },
     "execution_count": 20,
     "metadata": {},
     "output_type": "execute_result"
    }
   ],
   "source": [
    "sum_df.head()"
   ]
  },
  {
   "cell_type": "code",
   "execution_count": 21,
   "metadata": {},
   "outputs": [
    {
     "data": {
      "text/plain": [
       "<seaborn.axisgrid.PairGrid at 0x7f3df6d97c88>"
      ]
     },
     "execution_count": 21,
     "metadata": {},
     "output_type": "execute_result"
    },
    {
     "data": {
      "image/png": "[encoded data removed]",
      "text/plain": [
       "<Figure size 264x180 with 1 Axes>"
      ]
     },
     "metadata": {
      "needs_background": "light"
     },
     "output_type": "display_data"
    }
   ],
   "source": [
    "sns.pairplot(\n",
    "    x_vars=\"false_positive_rate\",\n",
    "    y_vars=\"true_positive_rate\",\n",
    "    data=sum_df.reset_index(),\n",
    "    hue=\"bed1\",\n",
    ")"
   ]
  },
  {
   "cell_type": "code",
   "execution_count": 15,
   "metadata": {},
   "outputs": [
    {
     "data": {
      "text/plain": [
       "<matplotlib.axes._subplots.AxesSubplot at 0x7f3df6f54f60>"
      ]
     },
     "execution_count": 15,
     "metadata": {},
     "output_type": "execute_result"
    },
    {
     "data": {
      "image/png": "[encoded data removed]",
      "text/plain": [
       "<Figure size 432x288 with 1 Axes>"
      ]
     },
     "metadata": {
      "needs_background": "light"
     },
     "output_type": "display_data"
    }
   ],
   "source": [
    "# Plot\n",
    "sum_df[\"true_positive_rate\"].sort_values().plot(kind=\"bar\", color=\"salmon\")"
   ]
  },
  {
   "cell_type": "markdown",
   "metadata": {},
   "source": [
    "## Divergent transcription detection"
   ]
  },
  {
   "cell_type": "code",
   "execution_count": 9,
   "metadata": {},
   "outputs": [],
   "source": [
    "\n",
    "analysis = [\n",
    "    divtrans.DivTransFromBam(\n",
    "        bam,\n",
    "        distance=100,\n",
    "        max_template_length=500,\n",
    "        no_overlap=True,\n",
    "        remove_GL_contigs=True,\n",
    "    )\n",
    "    for bam in bams\n",
    "]"
   ]
  },
  {
   "cell_type": "code",
   "execution_count": 10,
   "metadata": {},
   "outputs": [
    {
     "name": "stderr",
     "output_type": "stream",
     "text": [
      "2019-03-21 15:16:47,280 -  - pynextgen.divtrans - run() - INFO - Using already available bed file: ../data/rachez_test_data/HPg_1_Aligned.sortedByCoord.out_divtrans.bed\n",
      "2019-03-21 15:16:47,280 -  - pynextgen.divtrans - run() - INFO - Using already available bed file: ../data/rachez_test_data/HPg_1_Aligned.sortedByCoord.out_divtrans.bed\n",
      "2019-03-21 15:16:47,285 -  - pynextgen.divtrans - run() - INFO - Using already available bed file: ../data/rachez_test_data/HPg_3_Aligned.sortedByCoord.out_divtrans.bed\n",
      "2019-03-21 15:16:47,285 -  - pynextgen.divtrans - run() - INFO - Using already available bed file: ../data/rachez_test_data/HPg_3_Aligned.sortedByCoord.out_divtrans.bed\n",
      "2019-03-21 15:16:47,289 -  - pynextgen.divtrans - run() - INFO - Using already available bed file: ../data/rachez_test_data/HPg_2_Aligned.sortedByCoord.out_divtrans.bed\n",
      "2019-03-21 15:16:47,289 -  - pynextgen.divtrans - run() - INFO - Using already available bed file: ../data/rachez_test_data/HPg_2_Aligned.sortedByCoord.out_divtrans.bed\n"
     ]
    },
    {
     "data": {
      "text/plain": [
       "[None, None, None]"
      ]
     },
     "execution_count": 10,
     "metadata": {},
     "output_type": "execute_result"
    }
   ],
   "source": [
    "[an.run() for an in analysis]"
   ]
  },
  {
   "cell_type": "markdown",
   "metadata": {},
   "source": [
    "## Divergent transcription bed filtering"
   ]
  },
  {
   "cell_type": "code",
   "execution_count": 13,
   "metadata": {
    "lines_to_next_cell": 2
   },
   "outputs": [
    {
     "name": "stderr",
     "output_type": "stream",
     "text": [
      "2019-03-21 15:17:42,438 -  - pynextgen.divtrans - __init__() - INFO - Intermediate files will be stored in /tmp/tmp1pcspd7d\n",
      "2019-03-21 15:17:42,438 -  - pynextgen.divtrans - __init__() - INFO - Intermediate files will be stored in /tmp/tmp1pcspd7d\n",
      "2019-03-21 15:17:43,042 - basics_bam.py - pynextgen.basics_bam - count_over_intervals() - INFO - Starting count on intervals\n",
      "Process ForkPoolWorker-3:\n",
      "Process ForkPoolWorker-2:\n",
      "Process ForkPoolWorker-1:\n",
      "Traceback (most recent call last):\n",
      "  File \"/home/khourhin/programs/miniconda3/envs/classic/lib/python3.6/multiprocessing/process.py\", line 258, in _bootstrap\n",
      "    self.run()\n",
      "Traceback (most recent call last):\n",
      "Traceback (most recent call last):\n",
      "  File \"/home/khourhin/programs/miniconda3/envs/classic/lib/python3.6/multiprocessing/process.py\", line 258, in _bootstrap\n",
      "    self.run()\n",
      "Process ForkPoolWorker-4:\n"
     ]
    },
    {
     "ename": "KeyboardInterrupt",
     "evalue": "",
     "output_type": "error",
     "traceback": [
      "\u001b[0;31m---------------------------------------------------------------------------\u001b[0m",
      "\u001b[0;31mKeyboardInterrupt\u001b[0m                         Traceback (most recent call last)",
      "\u001b[0;32m<ipython-input-13-dc4c3ab97dfc>\u001b[0m in \u001b[0;36m<module>\u001b[0;34m\u001b[0m\n\u001b[0;32m----> 1\u001b[0;31m \u001b[0mdivtrans\u001b[0m\u001b[0;34m.\u001b[0m\u001b[0mBedFilter\u001b[0m\u001b[0;34m(\u001b[0m\u001b[0manalysis\u001b[0m\u001b[0;34m[\u001b[0m\u001b[0;36m0\u001b[0m\u001b[0;34m]\u001b[0m\u001b[0;34m.\u001b[0m\u001b[0mbed\u001b[0m\u001b[0;34m,\u001b[0m \u001b[0mbams\u001b[0m\u001b[0;34m[\u001b[0m\u001b[0;36m0\u001b[0m\u001b[0;34m]\u001b[0m\u001b[0;34m,\u001b[0m \u001b[0mthreads\u001b[0m\u001b[0;34m=\u001b[0m\u001b[0;36m4\u001b[0m\u001b[0;34m)\u001b[0m\u001b[0;34m.\u001b[0m\u001b[0mrun\u001b[0m\u001b[0;34m(\u001b[0m\u001b[0mchro_sizes\u001b[0m\u001b[0;34m,\u001b[0m \u001b[0mflank\u001b[0m\u001b[0;34m=\u001b[0m\u001b[0;36m500\u001b[0m\u001b[0;34m,\u001b[0m \u001b[0mcount_thres\u001b[0m\u001b[0;34m=\u001b[0m\u001b[0;36m5\u001b[0m\u001b[0;34m,\u001b[0m \u001b[0mcount_ratio_thres\u001b[0m\u001b[0;34m=\u001b[0m\u001b[0;36m2\u001b[0m\u001b[0;34m)\u001b[0m\u001b[0;34m\u001b[0m\u001b[0;34m\u001b[0m\u001b[0m\n\u001b[0m",
      "\u001b[0;32m~/Programming/pynextgen/pynextgen/divtrans.py\u001b[0m in \u001b[0;36mrun\u001b[0;34m(self, chro_sizes, flank, count_thres, count_ratio_thres)\u001b[0m\n\u001b[1;32m    271\u001b[0m         \u001b[0;32melse\u001b[0m\u001b[0;34m:\u001b[0m\u001b[0;34m\u001b[0m\u001b[0;34m\u001b[0m\u001b[0m\n\u001b[1;32m    272\u001b[0m             self.count_matrices[count_params] = self._count_around_intervals(\n\u001b[0;32m--> 273\u001b[0;31m                 \u001b[0mchro_sizes\u001b[0m\u001b[0;34m,\u001b[0m \u001b[0mflank\u001b[0m\u001b[0;34m\u001b[0m\u001b[0;34m\u001b[0m\u001b[0m\n\u001b[0m\u001b[1;32m    274\u001b[0m             )\n\u001b[1;32m    275\u001b[0m \u001b[0;34m\u001b[0m\u001b[0m\n",
      "\u001b[0;32m~/Programming/pynextgen/pynextgen/divtrans.py\u001b[0m in \u001b[0;36m_count_around_intervals\u001b[0;34m(self, chro_sizes, flank)\u001b[0m\n\u001b[1;32m    151\u001b[0m         \u001b[0;31m# Quantify reads for upstream interval\u001b[0m\u001b[0;34m\u001b[0m\u001b[0;34m\u001b[0m\u001b[0;34m\u001b[0m\u001b[0m\n\u001b[1;32m    152\u001b[0m         counts_upstream = bb.count_over_intervals(\n\u001b[0;32m--> 153\u001b[0;31m             \u001b[0mself\u001b[0m\u001b[0;34m.\u001b[0m\u001b[0mbam\u001b[0m\u001b[0;34m,\u001b[0m \u001b[0mminus_left_divtrans\u001b[0m\u001b[0;34m.\u001b[0m\u001b[0mpath\u001b[0m\u001b[0;34m,\u001b[0m \u001b[0mthreads\u001b[0m\u001b[0;34m=\u001b[0m\u001b[0mself\u001b[0m\u001b[0;34m.\u001b[0m\u001b[0mthreads\u001b[0m\u001b[0;34m\u001b[0m\u001b[0;34m\u001b[0m\u001b[0m\n\u001b[0m\u001b[1;32m    154\u001b[0m         )\n\u001b[1;32m    155\u001b[0m         counts_upstream.rename(\n",
      "\u001b[0;32m~/Programming/pynextgen/pynextgen/basics_bam.py\u001b[0m in \u001b[0;36mcount_over_intervals\u001b[0;34m(bam_file, bed_file, threads)\u001b[0m\n\u001b[1;32m     65\u001b[0m     \u001b[0mf\u001b[0m \u001b[0;34m=\u001b[0m \u001b[0mpartial\u001b[0m\u001b[0;34m(\u001b[0m\u001b[0mcount\u001b[0m\u001b[0;34m,\u001b[0m \u001b[0mbam_file\u001b[0m\u001b[0;34m)\u001b[0m\u001b[0;34m\u001b[0m\u001b[0;34m\u001b[0m\u001b[0m\n\u001b[1;32m     66\u001b[0m \u001b[0;34m\u001b[0m\u001b[0m\n\u001b[0;32m---> 67\u001b[0;31m     \u001b[0mresults\u001b[0m \u001b[0;34m=\u001b[0m \u001b[0mp\u001b[0m\u001b[0;34m.\u001b[0m\u001b[0mmap\u001b[0m\u001b[0;34m(\u001b[0m\u001b[0mf\u001b[0m\u001b[0;34m,\u001b[0m \u001b[0;34m[\u001b[0m\u001b[0mx\u001b[0m \u001b[0;32mfor\u001b[0m \u001b[0mx\u001b[0m \u001b[0;32min\u001b[0m \u001b[0mbed\u001b[0m\u001b[0;34m.\u001b[0m\u001b[0mget_intervals\u001b[0m\u001b[0;34m(\u001b[0m\u001b[0;34m)\u001b[0m\u001b[0;34m]\u001b[0m\u001b[0;34m)\u001b[0m\u001b[0;34m\u001b[0m\u001b[0;34m\u001b[0m\u001b[0m\n\u001b[0m\u001b[1;32m     68\u001b[0m \u001b[0;34m\u001b[0m\u001b[0m\n\u001b[1;32m     69\u001b[0m     \u001b[0;31m# for counter, interval in enumerate(bed.get_intervals()):\u001b[0m\u001b[0;34m\u001b[0m\u001b[0;34m\u001b[0m\u001b[0;34m\u001b[0m\u001b[0m\n",
      "\u001b[0;32m~/programs/miniconda3/envs/classic/lib/python3.6/multiprocessing/pool.py\u001b[0m in \u001b[0;36mmap\u001b[0;34m(self, func, iterable, chunksize)\u001b[0m\n\u001b[1;32m    286\u001b[0m         \u001b[0;32min\u001b[0m \u001b[0ma\u001b[0m \u001b[0mlist\u001b[0m \u001b[0mthat\u001b[0m \u001b[0;32mis\u001b[0m \u001b[0mreturned\u001b[0m\u001b[0;34m.\u001b[0m\u001b[0;34m\u001b[0m\u001b[0;34m\u001b[0m\u001b[0m\n\u001b[1;32m    287\u001b[0m         '''\n\u001b[0;32m--> 288\u001b[0;31m         \u001b[0;32mreturn\u001b[0m \u001b[0mself\u001b[0m\u001b[0;34m.\u001b[0m\u001b[0m_map_async\u001b[0m\u001b[0;34m(\u001b[0m\u001b[0mfunc\u001b[0m\u001b[0;34m,\u001b[0m \u001b[0miterable\u001b[0m\u001b[0;34m,\u001b[0m \u001b[0mmapstar\u001b[0m\u001b[0;34m,\u001b[0m \u001b[0mchunksize\u001b[0m\u001b[0;34m)\u001b[0m\u001b[0;34m.\u001b[0m\u001b[0mget\u001b[0m\u001b[0;34m(\u001b[0m\u001b[0;34m)\u001b[0m\u001b[0;34m\u001b[0m\u001b[0;34m\u001b[0m\u001b[0m\n\u001b[0m\u001b[1;32m    289\u001b[0m \u001b[0;34m\u001b[0m\u001b[0m\n\u001b[1;32m    290\u001b[0m     \u001b[0;32mdef\u001b[0m \u001b[0mstarmap\u001b[0m\u001b[0;34m(\u001b[0m\u001b[0mself\u001b[0m\u001b[0;34m,\u001b[0m \u001b[0mfunc\u001b[0m\u001b[0;34m,\u001b[0m \u001b[0miterable\u001b[0m\u001b[0;34m,\u001b[0m \u001b[0mchunksize\u001b[0m\u001b[0;34m=\u001b[0m\u001b[0;32mNone\u001b[0m\u001b[0;34m)\u001b[0m\u001b[0;34m:\u001b[0m\u001b[0;34m\u001b[0m\u001b[0;34m\u001b[0m\u001b[0m\n",
      "\u001b[0;32m~/programs/miniconda3/envs/classic/lib/python3.6/multiprocessing/pool.py\u001b[0m in \u001b[0;36mget\u001b[0;34m(self, timeout)\u001b[0m\n\u001b[1;32m    662\u001b[0m \u001b[0;34m\u001b[0m\u001b[0m\n\u001b[1;32m    663\u001b[0m     \u001b[0;32mdef\u001b[0m \u001b[0mget\u001b[0m\u001b[0;34m(\u001b[0m\u001b[0mself\u001b[0m\u001b[0;34m,\u001b[0m \u001b[0mtimeout\u001b[0m\u001b[0;34m=\u001b[0m\u001b[0;32mNone\u001b[0m\u001b[0;34m)\u001b[0m\u001b[0;34m:\u001b[0m\u001b[0;34m\u001b[0m\u001b[0;34m\u001b[0m\u001b[0m\n\u001b[0;32m--> 664\u001b[0;31m         \u001b[0mself\u001b[0m\u001b[0;34m.\u001b[0m\u001b[0mwait\u001b[0m\u001b[0;34m(\u001b[0m\u001b[0mtimeout\u001b[0m\u001b[0;34m)\u001b[0m\u001b[0;34m\u001b[0m\u001b[0;34m\u001b[0m\u001b[0m\n\u001b[0m\u001b[1;32m    665\u001b[0m         \u001b[0;32mif\u001b[0m \u001b[0;32mnot\u001b[0m \u001b[0mself\u001b[0m\u001b[0;34m.\u001b[0m\u001b[0mready\u001b[0m\u001b[0;34m(\u001b[0m\u001b[0;34m)\u001b[0m\u001b[0;34m:\u001b[0m\u001b[0;34m\u001b[0m\u001b[0;34m\u001b[0m\u001b[0m\n\u001b[1;32m    666\u001b[0m             \u001b[0;32mraise\u001b[0m \u001b[0mTimeoutError\u001b[0m\u001b[0;34m\u001b[0m\u001b[0;34m\u001b[0m\u001b[0m\n",
      "\u001b[0;32m~/programs/miniconda3/envs/classic/lib/python3.6/multiprocessing/pool.py\u001b[0m in \u001b[0;36mwait\u001b[0;34m(self, timeout)\u001b[0m\n\u001b[1;32m    659\u001b[0m \u001b[0;34m\u001b[0m\u001b[0m\n\u001b[1;32m    660\u001b[0m     \u001b[0;32mdef\u001b[0m \u001b[0mwait\u001b[0m\u001b[0;34m(\u001b[0m\u001b[0mself\u001b[0m\u001b[0;34m,\u001b[0m \u001b[0mtimeout\u001b[0m\u001b[0;34m=\u001b[0m\u001b[0;32mNone\u001b[0m\u001b[0;34m)\u001b[0m\u001b[0;34m:\u001b[0m\u001b[0;34m\u001b[0m\u001b[0;34m\u001b[0m\u001b[0m\n\u001b[0;32m--> 661\u001b[0;31m         \u001b[0mself\u001b[0m\u001b[0;34m.\u001b[0m\u001b[0m_event\u001b[0m\u001b[0;34m.\u001b[0m\u001b[0mwait\u001b[0m\u001b[0;34m(\u001b[0m\u001b[0mtimeout\u001b[0m\u001b[0;34m)\u001b[0m\u001b[0;34m\u001b[0m\u001b[0;34m\u001b[0m\u001b[0m\n\u001b[0m\u001b[1;32m    662\u001b[0m \u001b[0;34m\u001b[0m\u001b[0m\n\u001b[1;32m    663\u001b[0m     \u001b[0;32mdef\u001b[0m \u001b[0mget\u001b[0m\u001b[0;34m(\u001b[0m\u001b[0mself\u001b[0m\u001b[0;34m,\u001b[0m \u001b[0mtimeout\u001b[0m\u001b[0;34m=\u001b[0m\u001b[0;32mNone\u001b[0m\u001b[0;34m)\u001b[0m\u001b[0;34m:\u001b[0m\u001b[0;34m\u001b[0m\u001b[0;34m\u001b[0m\u001b[0m\n",
      "\u001b[0;32m~/programs/miniconda3/envs/classic/lib/python3.6/threading.py\u001b[0m in \u001b[0;36mwait\u001b[0;34m(self, timeout)\u001b[0m\n\u001b[1;32m    549\u001b[0m             \u001b[0msignaled\u001b[0m \u001b[0;34m=\u001b[0m \u001b[0mself\u001b[0m\u001b[0;34m.\u001b[0m\u001b[0m_flag\u001b[0m\u001b[0;34m\u001b[0m\u001b[0;34m\u001b[0m\u001b[0m\n\u001b[1;32m    550\u001b[0m             \u001b[0;32mif\u001b[0m \u001b[0;32mnot\u001b[0m \u001b[0msignaled\u001b[0m\u001b[0;34m:\u001b[0m\u001b[0;34m\u001b[0m\u001b[0;34m\u001b[0m\u001b[0m\n\u001b[0;32m--> 551\u001b[0;31m                 \u001b[0msignaled\u001b[0m \u001b[0;34m=\u001b[0m \u001b[0mself\u001b[0m\u001b[0;34m.\u001b[0m\u001b[0m_cond\u001b[0m\u001b[0;34m.\u001b[0m\u001b[0mwait\u001b[0m\u001b[0;34m(\u001b[0m\u001b[0mtimeout\u001b[0m\u001b[0;34m)\u001b[0m\u001b[0;34m\u001b[0m\u001b[0;34m\u001b[0m\u001b[0m\n\u001b[0m\u001b[1;32m    552\u001b[0m             \u001b[0;32mreturn\u001b[0m \u001b[0msignaled\u001b[0m\u001b[0;34m\u001b[0m\u001b[0;34m\u001b[0m\u001b[0m\n\u001b[1;32m    553\u001b[0m \u001b[0;34m\u001b[0m\u001b[0m\n",
      "\u001b[0;32m~/programs/miniconda3/envs/classic/lib/python3.6/threading.py\u001b[0m in \u001b[0;36mwait\u001b[0;34m(self, timeout)\u001b[0m\n\u001b[1;32m    293\u001b[0m         \u001b[0;32mtry\u001b[0m\u001b[0;34m:\u001b[0m    \u001b[0;31m# restore state no matter what (e.g., KeyboardInterrupt)\u001b[0m\u001b[0;34m\u001b[0m\u001b[0;34m\u001b[0m\u001b[0m\n\u001b[1;32m    294\u001b[0m             \u001b[0;32mif\u001b[0m \u001b[0mtimeout\u001b[0m \u001b[0;32mis\u001b[0m \u001b[0;32mNone\u001b[0m\u001b[0;34m:\u001b[0m\u001b[0;34m\u001b[0m\u001b[0;34m\u001b[0m\u001b[0m\n\u001b[0;32m--> 295\u001b[0;31m                 \u001b[0mwaiter\u001b[0m\u001b[0;34m.\u001b[0m\u001b[0macquire\u001b[0m\u001b[0;34m(\u001b[0m\u001b[0;34m)\u001b[0m\u001b[0;34m\u001b[0m\u001b[0;34m\u001b[0m\u001b[0m\n\u001b[0m\u001b[1;32m    296\u001b[0m                 \u001b[0mgotit\u001b[0m \u001b[0;34m=\u001b[0m \u001b[0;32mTrue\u001b[0m\u001b[0;34m\u001b[0m\u001b[0;34m\u001b[0m\u001b[0m\n\u001b[1;32m    297\u001b[0m             \u001b[0;32melse\u001b[0m\u001b[0;34m:\u001b[0m\u001b[0;34m\u001b[0m\u001b[0;34m\u001b[0m\u001b[0m\n",
      "\u001b[0;31mKeyboardInterrupt\u001b[0m: "
     ]
    },
    {
     "name": "stderr",
     "output_type": "stream",
     "text": [
      "  File \"/home/khourhin/programs/miniconda3/envs/classic/lib/python3.6/multiprocessing/process.py\", line 93, in run\n",
      "    self._target(*self._args, **self._kwargs)\n",
      "  File \"/home/khourhin/programs/miniconda3/envs/classic/lib/python3.6/multiprocessing/process.py\", line 258, in _bootstrap\n",
      "    self.run()\n",
      "Traceback (most recent call last):\n",
      "  File \"/home/khourhin/programs/miniconda3/envs/classic/lib/python3.6/multiprocessing/pool.py\", line 119, in worker\n",
      "    result = (True, func(*args, **kwds))\n",
      "  File \"/home/khourhin/programs/miniconda3/envs/classic/lib/python3.6/multiprocessing/process.py\", line 93, in run\n",
      "    self._target(*self._args, **self._kwargs)\n",
      "  File \"/home/khourhin/programs/miniconda3/envs/classic/lib/python3.6/multiprocessing/process.py\", line 258, in _bootstrap\n",
      "    self.run()\n",
      "  File \"/home/khourhin/programs/miniconda3/envs/classic/lib/python3.6/multiprocessing/pool.py\", line 119, in worker\n",
      "    result = (True, func(*args, **kwds))\n",
      "  File \"/home/khourhin/programs/miniconda3/envs/classic/lib/python3.6/multiprocessing/pool.py\", line 44, in mapstar\n",
      "    return list(map(*args))\n",
      "  File \"/home/khourhin/programs/miniconda3/envs/classic/lib/python3.6/multiprocessing/process.py\", line 93, in run\n",
      "    self._target(*self._args, **self._kwargs)\n",
      "  File \"/home/khourhin/programs/miniconda3/envs/classic/lib/python3.6/multiprocessing/pool.py\", line 44, in mapstar\n",
      "    return list(map(*args))\n",
      "  File \"/home/khourhin/Programming/pynextgen/pynextgen/basics_bam.py\", line 32, in count\n",
      "    alignment = pysam.AlignmentFile(bam_file)\n",
      "  File \"/home/khourhin/programs/miniconda3/envs/classic/lib/python3.6/multiprocessing/pool.py\", line 119, in worker\n",
      "    result = (True, func(*args, **kwds))\n",
      "KeyboardInterrupt\n",
      "  File \"/home/khourhin/programs/miniconda3/envs/classic/lib/python3.6/multiprocessing/pool.py\", line 44, in mapstar\n",
      "    return list(map(*args))\n",
      "  File \"/home/khourhin/Programming/pynextgen/pynextgen/basics_bam.py\", line 34, in count\n",
      "    for read in alignment.fetch(interval.chro, interval.start, interval.end):\n",
      "KeyboardInterrupt\n",
      "  File \"/home/khourhin/Programming/pynextgen/pynextgen/basics_bam.py\", line 32, in count\n",
      "    alignment = pysam.AlignmentFile(bam_file)\n",
      "KeyboardInterrupt\n",
      "  File \"/home/khourhin/programs/miniconda3/envs/classic/lib/python3.6/multiprocessing/process.py\", line 93, in run\n",
      "    self._target(*self._args, **self._kwargs)\n",
      "  File \"/home/khourhin/programs/miniconda3/envs/classic/lib/python3.6/multiprocessing/pool.py\", line 119, in worker\n",
      "    result = (True, func(*args, **kwds))\n",
      "  File \"/home/khourhin/programs/miniconda3/envs/classic/lib/python3.6/multiprocessing/pool.py\", line 44, in mapstar\n",
      "    return list(map(*args))\n",
      "  File \"/home/khourhin/Programming/pynextgen/pynextgen/basics_bam.py\", line 34, in count\n",
      "    for read in alignment.fetch(interval.chro, interval.start, interval.end):\n",
      "KeyboardInterrupt\n"
     ]
    }
   ],
   "source": [
    "divtrans.BedFilter(analysis[0].bed, bams[0], threads=4).run(\n",
    "    chro_sizes, flank=500, count_thres=5, count_ratio_thres=2\n",
    ")"
   ]
  },
  {
   "cell_type": "markdown",
   "metadata": {
    "toc-hr-collapsed": true
   },
   "source": [
    "## Compare with K27Ac Chip peaks"
   ]
  },
  {
   "cell_type": "code",
   "execution_count": 40,
   "metadata": {},
   "outputs": [],
   "source": [
    "rep1_k27ac = Bed(\n",
    "    \"../data/rachez_test_data/H3K27ac_Rep1_vs_INPUT-Mouse_Rep1_peaks.narrowPeak\"\n",
    ")\n",
    "rep2_k27ac = Bed(\n",
    "    \"../data/rachez_test_data/H3K27ac_Rep1_vs_INPUT-Mouse_Rep1_peaks.narrowPeak\"\n",
    ")\n",
    "k27ac_vs_input = Bed(\n",
    "    \"../data/rachez_test_data/H3K27ac_vs_INPUT-Mouse_Rep1_select.narrowPeak\"\n",
    ").sort()"
   ]
  },
  {
   "cell_type": "code",
   "execution_count": 46,
   "metadata": {},
   "outputs": [
    {
     "data": {
      "text/plain": [
       "{'left': 0.0,\n",
       " 'right': 1.0,\n",
       " 'two-tail': 0.0,\n",
       " 'ratio': 18.238,\n",
       " 'bed1': 'HPg_1_Aligned.sortedByCoord.out_divtrans_S',\n",
       " 'bed2': 'H3K27ac_Rep1_vs_INPUT-Mouse_Rep1_peaks'}"
      ]
     },
     "execution_count": 46,
     "metadata": {},
     "output_type": "execute_result"
    }
   ],
   "source": [
    "analysis[0].bed.sort().fisher(rep2_k27ac, \"../data/rachez_test_data/mm9.genome\")"
   ]
  }
 ],
 "metadata": {
  "jupytext": {
   "formats": "ipynb,py:light"
  },
  "kernelspec": {
   "display_name": "Python [conda env:classic]",
   "language": "python",
   "name": "conda-env-classic-py"
  },
  "language_info": {
   "codemirror_mode": {
    "name": "ipython",
    "version": 3
   },
   "file_extension": ".py",
   "mimetype": "text/x-python",
   "name": "python",
   "nbconvert_exporter": "python",
   "pygments_lexer": "ipython3",
   "version": "3.6.7"
  },
  "toc-autonumbering": false,
  "toc-showcode": false,
  "toc-showmarkdowntxt": false,
  "toc-showtags": false
 },
 "nbformat": 4,
 "nbformat_minor": 2
}
