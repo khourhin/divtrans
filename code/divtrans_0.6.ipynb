{
 "cells": [
  {
   "cell_type": "markdown",
   "metadata": {
    "ein.tags": "worksheet-0",
    "extensions": {
     "jupyter_dashboards": {
      "version": 1,
      "views": {
       "grid_default": {
        "col": 0,
        "height": 4,
        "hidden": false,
        "row": 0,
        "width": 4
       },
       "report_default": {
        "hidden": false
       }
      }
     }
    },
    "slideshow": {
     "slide_type": "-"
    }
   },
   "source": [
    "# Import"
   ]
  },
  {
   "cell_type": "code",
   "execution_count": 3,
   "metadata": {
    "ExecuteTime": {
     "end_time": "2018-01-12T13:27:24.140077Z",
     "start_time": "2018-01-12T13:27:23.511971Z"
    },
    "autoscroll": false,
    "collapsed": false,
    "ein.hycell": false,
    "ein.tags": "worksheet-0",
    "extensions": {
     "jupyter_dashboards": {
      "version": 1,
      "views": {
       "grid_default": {
        "hidden": true
       },
       "report_default": {
        "hidden": true
       }
      }
     }
    },
    "slideshow": {
     "slide_type": "-"
    }
   },
   "outputs": [],
   "source": [
    "import os\n",
    "import glob\n",
    "import pandas as pd\n",
    "#from multiprocessing import Pool\n",
    "\n",
    "import bed_lib as bl\n",
    "import div_trans_lib as dt\n",
    "import basics_counts as bc\n",
    "\n",
    "%matplotlib inline"
   ]
  },
  {
   "cell_type": "code",
   "execution_count": 2,
   "metadata": {
    "ExecuteTime": {
     "end_time": "2018-01-12T13:27:25.055283Z",
     "start_time": "2018-01-12T13:27:25.010690Z"
    },
    "autoscroll": false,
    "collapsed": false,
    "ein.hycell": false,
    "ein.tags": "worksheet-0",
    "extensions": {
     "jupyter_dashboards": {
      "version": 1,
      "views": {
       "grid_default": {
        "hidden": true
       },
       "report_default": {
        "hidden": true
       }
      }
     }
    },
    "slideshow": {
     "slide_type": "-"
    }
   },
   "outputs": [],
   "source": [
    "# To not have to restart the kernel everytime changes are made in modules\n",
    "%load_ext autoreload\n",
    "%autoreload 2"
   ]
  },
  {
   "cell_type": "markdown",
   "metadata": {
    "ein.tags": "worksheet-0",
    "extensions": {
     "jupyter_dashboards": {
      "version": 1,
      "views": {
       "grid_default": {
        "col": 0,
        "height": 5,
        "hidden": false,
        "row": 86,
        "width": 12
       },
       "report_default": {
        "hidden": false
       }
      }
     }
    },
    "slideshow": {
     "slide_type": "-"
    }
   },
   "source": [
    "**WARNINGS**\n",
    "\n",
    "- TRY filtering only uniquely mapping reads (MAPQ 255) and compare with filtering only primary \n",
    "\n",
    "**TO EXPLAIN**\n",
    "\n",
    "There is a rationale being only using reads (and not fragments), since we are only interested in ends of - reads first and then beginnings of + reads \n",
    "> Actually might be interesting to try using only one reads of the pair (TO CHECK)"
   ]
  },
  {
   "cell_type": "markdown",
   "metadata": {
    "ein.tags": "worksheet-0",
    "extensions": {
     "jupyter_dashboards": {
      "version": 1,
      "views": {
       "grid_default": {
        "col": 7,
        "height": 4,
        "hidden": false,
        "row": 43,
        "width": 4
       },
       "report_default": {
        "hidden": false
       }
      }
     }
    },
    "slideshow": {
     "slide_type": "-"
    }
   },
   "source": [
    "## Input"
   ]
  },
  {
   "cell_type": "code",
   "execution_count": 8,
   "metadata": {
    "ExecuteTime": {
     "end_time": "2018-01-12T13:27:26.846959Z",
     "start_time": "2018-01-12T13:27:26.810475Z"
    },
    "autoscroll": false,
    "collapsed": false,
    "ein.hycell": false,
    "ein.tags": "worksheet-0",
    "extensions": {
     "jupyter_dashboards": {
      "version": 1,
      "views": {
       "grid_default": {
        "hidden": true
       },
       "report_default": {
        "hidden": true
       }
      }
     }
    },
    "slideshow": {
     "slide_type": "-"
    }
   },
   "outputs": [
    {
     "data": {
      "text/plain": [
       "['../data/bams/VEUDE_A_1_coordSort_filt.bam',\n",
       " '../data/bams/Compoud_A_1_coordSort_filt.bam']"
      ]
     },
     "execution_count": 8,
     "metadata": {},
     "output_type": "execute_result"
    }
   ],
   "source": [
    "bams = glob.glob('../data/bams/*_coordSort_filt.bam')\n",
    "#bams = glob.glob('../data/bams/test/*.bam')\n",
    "bams"
   ]
  },
  {
   "cell_type": "markdown",
   "metadata": {
    "ein.tags": "worksheet-0",
    "slideshow": {
     "slide_type": "-"
    }
   },
   "source": [
    "# Analyse from bams\n",
    "\n",
    "The idea here is to detect divergent transcription directly from a sorted bam.\n",
    "This would fix some limitations of the first method.\n",
    "\n",
    "ALGO: \n",
    "Look through the coordinated sorted bam file, registering the transcribed strand for each reads.\n",
    "\n",
    "Since we have paired strand-specific libraries (rf):\n",
    "- first of the pair, reverse complemented = + strand\n",
    "- second of the pair, NOT reverse complemented = + strand\n",
    "- first of the pair, NOT reverse complemented = - strand\n",
    "- second of the pair, reverse complemented = - strand\n",
    "\n",
    "When a change of sign is detected, calculate the distance with the previous transcript on the opposite strand \n",
    "\n",
    "## Detect divergent transcription events accross sorted bam"
   ]
  },
  {
   "cell_type": "code",
   "execution_count": 9,
   "metadata": {
    "autoscroll": false,
    "collapsed": false,
    "ein.hycell": false,
    "ein.tags": "worksheet-0",
    "slideshow": {
     "slide_type": "-"
    }
   },
   "outputs": [
    {
     "name": "stderr",
     "output_type": "stream",
     "text": [
      "2018-08-10 17:08:15,422 -  - div_trans_lib - get_divergent_transcription_beds() - INFO - Using already available bed file: bed_outfolder/VEUDE_A_1_coordSort_filt_divtrans.bed\n",
      "2018-08-10 17:08:15,435 -  - div_trans_lib - get_divergent_transcription_beds() - INFO - Using already available bed file: bed_outfolder/Compoud_A_1_coordSort_filt_divtrans.bed\n"
     ]
    },
    {
     "name": "stdout",
     "output_type": "stream",
     "text": [
      "CPU times: user 6.43 ms, sys: 9.46 ms, total: 15.9 ms\n",
      "Wall time: 18.1 ms\n"
     ]
    }
   ],
   "source": [
    "%%time\n",
    "div_trans_beds = [dt.get_divergent_transcription_beds(bam, distance=500) for bam in bams]"
   ]
  },
  {
   "cell_type": "markdown",
   "metadata": {
    "ein.tags": "worksheet-0",
    "slideshow": {
     "slide_type": "-"
    }
   },
   "source": [
    "Merge the divergent transcription events detected:"
   ]
  },
  {
   "cell_type": "code",
   "execution_count": 10,
   "metadata": {
    "autoscroll": false,
    "collapsed": false,
    "ein.hycell": false,
    "ein.tags": "worksheet-0",
    "slideshow": {
     "slide_type": "-"
    }
   },
   "outputs": [],
   "source": [
    "div_trans_beds_merged = [bed.merge() for bed in div_trans_beds]"
   ]
  },
  {
   "cell_type": "code",
   "execution_count": 6,
   "metadata": {
    "autoscroll": false,
    "collapsed": false,
    "ein.hycell": false,
    "ein.tags": "worksheet-0",
    "slideshow": {
     "slide_type": "-"
    }
   },
   "outputs": [
    {
     "name": "stdout",
     "output_type": "stream",
     "text": [
      "1\t14627\t14825\n",
      "1\t15143\t15308\n",
      "1\t15834\t15865\n",
      "1\t15919\t16165\n",
      "1\t17432\t17581\n",
      "1\t17860\t17997\n",
      "1\t19182\t19393\n",
      "1\t23683\t23711\n",
      "1\t29246\t29560\n",
      "1\t123748\t123791\n"
     ]
    }
   ],
   "source": [
    "div_trans_beds_merged[0].head()"
   ]
  },
  {
   "cell_type": "markdown",
   "metadata": {
    "ein.tags": "worksheet-0",
    "slideshow": {
     "slide_type": "-"
    }
   },
   "source": [
    "# Filter by overlap with CAGE TSS\n",
    "\n",
    "Use FANTOM5 transcription initiation information obtained with CAGE data (either simple or divergent transcription) to filter divergent transcription events detected in RNA-seq alignments.\n",
    "\n",
    "## Download cage peaks"
   ]
  },
  {
   "cell_type": "code",
   "execution_count": null,
   "metadata": {
    "autoscroll": false,
    "collapsed": false,
    "ein.hycell": false,
    "ein.tags": "worksheet-0",
    "slideshow": {
     "slide_type": "-"
    }
   },
   "outputs": [],
   "source": [
    "%%bash\n",
    "\n",
    "wget http://fantom.gsc.riken.jp/5/datafiles/latest/extra/CAGE_peaks/hg19.cage_peak_phase1and2combined_coord.bed.gz \\\n",
    "    -O ../data/cage_peaks.bed.gz\n",
    "    \n",
    "gunzip ../data/cage_peaks.bed.gz\n",
    "    \n",
    "# Convert to Ensembl type bed\n",
    "sed 's/^chr//g' ../data/cage_peaks.bed | bedtools sort -i - > ../data/cage_peaks_clean.bed\n",
    "\n",
    "# Separate two beds (one per strand) to later catch both cage transcription direction\n",
    "#awk '$6~\"+\" {print}' ../data/cage_peaks_clean.bed > ../data/cage_peaks_plusStrand.bed\n",
    "#awk '$6~\"-\" {print}' ../data/cage_peaks_clean.bed > ../data/cage_peaks_minusStrand.bed\n",
    "\n",
    "# Cleanup\n",
    "rm ../data/cage_peaks.bed\n",
    "#rm ../data/cage_peaks_clean.bed"
   ]
  },
  {
   "cell_type": "markdown",
   "metadata": {
    "ein.tags": "worksheet-0",
    "slideshow": {
     "slide_type": "-"
    }
   },
   "source": [
    "## Filter divergent transcription events with CAGE dataset\n",
    "### Detect divergent transcription in CAGE dataset"
   ]
  },
  {
   "cell_type": "code",
   "execution_count": 7,
   "metadata": {
    "autoscroll": false,
    "collapsed": false,
    "ein.hycell": false,
    "ein.tags": "worksheet-0",
    "slideshow": {
     "slide_type": "-"
    }
   },
   "outputs": [],
   "source": [
    "cage_bed = bl.Bed('../data/cage_peaks_clean.bed')\n",
    "cage_div_trans_out = '../data/cage_div_trans.bed'\n",
    "\n",
    "with open(cage_div_trans_out, 'w') as f:\n",
    "        for interval in dt.identify_divergent_transcription(cage_bed.get_intervals()):\n",
    "            f.write('\\t'.join([str(x) for x in interval]) + '\\n')\n",
    "        \n",
    "cage_div_trans_bed = bl.Bed(cage_div_trans_out)"
   ]
  },
  {
   "cell_type": "markdown",
   "metadata": {
    "ein.tags": "worksheet-0",
    "slideshow": {
     "slide_type": "-"
    }
   },
   "source": [
    "### Select RNA-seq divtrans events overlapping with CAGE divtrans events"
   ]
  },
  {
   "cell_type": "code",
   "execution_count": 8,
   "metadata": {
    "autoscroll": false,
    "collapsed": false,
    "ein.hycell": false,
    "ein.tags": "worksheet-0",
    "slideshow": {
     "slide_type": "-"
    }
   },
   "outputs": [],
   "source": [
    "div_trans_intersect_cage = [bed.intersect(cage_div_trans_bed, supp_args='-wa')\n",
    "                                for bed in div_trans_beds_merged]"
   ]
  },
  {
   "cell_type": "code",
   "execution_count": 9,
   "metadata": {
    "autoscroll": false,
    "collapsed": false,
    "ein.hycell": false,
    "ein.tags": "worksheet-0",
    "slideshow": {
     "slide_type": "-"
    }
   },
   "outputs": [
    {
     "data": {
      "text/html": [
       "<div>\n",
       "<style scoped>\n",
       "    .dataframe tbody tr th:only-of-type {\n",
       "        vertical-align: middle;\n",
       "    }\n",
       "\n",
       "    .dataframe tbody tr th {\n",
       "        vertical-align: top;\n",
       "    }\n",
       "\n",
       "    .dataframe thead th {\n",
       "        text-align: right;\n",
       "    }\n",
       "</style>\n",
       "<table border=\"1\" class=\"dataframe\">\n",
       "  <thead>\n",
       "    <tr style=\"text-align: right;\">\n",
       "      <th></th>\n",
       "      <th>Nbases</th>\n",
       "      <th>Nintervals</th>\n",
       "      <th>bedobj</th>\n",
       "      <th>name</th>\n",
       "      <th>path</th>\n",
       "    </tr>\n",
       "  </thead>\n",
       "  <tbody>\n",
       "    <tr>\n",
       "      <th>0</th>\n",
       "      <td>911750</td>\n",
       "      <td>2034</td>\n",
       "      <td>&lt;Bed object: VEUDE_A_1_coordSort_filt_divtrans...</td>\n",
       "      <td>VEUDE_A_1_coordSort_filt_divtrans_M-inter-cage...</td>\n",
       "      <td>bed_outfolder/VEUDE_A_1_coordSort_filt_divtran...</td>\n",
       "    </tr>\n",
       "    <tr>\n",
       "      <th>1</th>\n",
       "      <td>1065836</td>\n",
       "      <td>2106</td>\n",
       "      <td>&lt;Bed object: Compoud_A_1_coordSort_filt_divtra...</td>\n",
       "      <td>Compoud_A_1_coordSort_filt_divtrans_M-inter-ca...</td>\n",
       "      <td>bed_outfolder/Compoud_A_1_coordSort_filt_divtr...</td>\n",
       "    </tr>\n",
       "  </tbody>\n",
       "</table>\n",
       "</div>"
      ],
      "text/plain": [
       "    Nbases  Nintervals                                             bedobj  \\\n",
       "0   911750        2034  <Bed object: VEUDE_A_1_coordSort_filt_divtrans...   \n",
       "1  1065836        2106  <Bed object: Compoud_A_1_coordSort_filt_divtra...   \n",
       "\n",
       "                                                name  \\\n",
       "0  VEUDE_A_1_coordSort_filt_divtrans_M-inter-cage...   \n",
       "1  Compoud_A_1_coordSort_filt_divtrans_M-inter-ca...   \n",
       "\n",
       "                                                path  \n",
       "0  bed_outfolder/VEUDE_A_1_coordSort_filt_divtran...  \n",
       "1  bed_outfolder/Compoud_A_1_coordSort_filt_divtr...  "
      ]
     },
     "execution_count": 9,
     "metadata": {},
     "output_type": "execute_result"
    }
   ],
   "source": [
    "pd.DataFrame([bed.stats() for bed in div_trans_intersect_cage])"
   ]
  },
  {
   "cell_type": "markdown",
   "metadata": {
    "ein.tags": "worksheet-0",
    "slideshow": {
     "slide_type": "-"
    }
   },
   "source": [
    "# Filter by FANTOM5 CAGE enhancer prediction [SLIDEBASE]\n",
    "\n",
    "One can use SLIDEBASE for enhancer http://slidebase.binf.ku.dk/human_enhancers/results\n",
    "\n",
    "Downloading bed from SLIDEBASE (same as SLIDEBASE \"Download BED\"):"
   ]
  },
  {
   "cell_type": "code",
   "execution_count": null,
   "metadata": {
    "autoscroll": false,
    "collapsed": false,
    "ein.hycell": false,
    "ein.tags": "worksheet-0",
    "slideshow": {
     "slide_type": "-"
    }
   },
   "outputs": [],
   "source": [
    "%%bash\n",
    "    \n",
    "wget http://slidebase.binf.ku.dk/human_enhancers/bed -O ../data/slidebase_enhancers.bed\n",
    "\n",
    "# Convert to Ensembl type bed\n",
    "sed 's/^chr//g' ../data/slidebase_enhancers.bed | bedtools sort -i - > ../data/slidebase_enhancers_clean.bed\n",
    "\n",
    "rm ../data/slidebase_enhancers.bed"
   ]
  },
  {
   "cell_type": "code",
   "execution_count": 10,
   "metadata": {
    "autoscroll": false,
    "collapsed": false,
    "ein.hycell": false,
    "ein.tags": "worksheet-0",
    "slideshow": {
     "slide_type": "-"
    }
   },
   "outputs": [],
   "source": [
    "slidebase_enh = bl.Bed('../data/slidebase_enhancers_clean.bed')"
   ]
  },
  {
   "cell_type": "code",
   "execution_count": 11,
   "metadata": {
    "autoscroll": false,
    "collapsed": false,
    "ein.hycell": false,
    "ein.tags": "worksheet-0",
    "slideshow": {
     "slide_type": "-"
    }
   },
   "outputs": [],
   "source": [
    "div_trans_intersect_slidebase = [bed.intersect(slidebase_enh, supp_args='-wa')\n",
    "                                for bed in div_trans_beds_merged]"
   ]
  },
  {
   "cell_type": "code",
   "execution_count": 12,
   "metadata": {
    "autoscroll": false,
    "collapsed": false,
    "ein.hycell": false,
    "ein.tags": "worksheet-0",
    "slideshow": {
     "slide_type": "-"
    }
   },
   "outputs": [
    {
     "data": {
      "text/html": [
       "<div>\n",
       "<style scoped>\n",
       "    .dataframe tbody tr th:only-of-type {\n",
       "        vertical-align: middle;\n",
       "    }\n",
       "\n",
       "    .dataframe tbody tr th {\n",
       "        vertical-align: top;\n",
       "    }\n",
       "\n",
       "    .dataframe thead th {\n",
       "        text-align: right;\n",
       "    }\n",
       "</style>\n",
       "<table border=\"1\" class=\"dataframe\">\n",
       "  <thead>\n",
       "    <tr style=\"text-align: right;\">\n",
       "      <th></th>\n",
       "      <th>Nbases</th>\n",
       "      <th>Nintervals</th>\n",
       "      <th>bedobj</th>\n",
       "      <th>name</th>\n",
       "      <th>path</th>\n",
       "    </tr>\n",
       "  </thead>\n",
       "  <tbody>\n",
       "    <tr>\n",
       "      <th>0</th>\n",
       "      <td>1152057</td>\n",
       "      <td>3191</td>\n",
       "      <td>&lt;Bed object: VEUDE_A_1_coordSort_filt_divtrans...</td>\n",
       "      <td>VEUDE_A_1_coordSort_filt_divtrans_M-inter-slid...</td>\n",
       "      <td>bed_outfolder/VEUDE_A_1_coordSort_filt_divtran...</td>\n",
       "    </tr>\n",
       "    <tr>\n",
       "      <th>1</th>\n",
       "      <td>1597962</td>\n",
       "      <td>3695</td>\n",
       "      <td>&lt;Bed object: Compoud_A_1_coordSort_filt_divtra...</td>\n",
       "      <td>Compoud_A_1_coordSort_filt_divtrans_M-inter-sl...</td>\n",
       "      <td>bed_outfolder/Compoud_A_1_coordSort_filt_divtr...</td>\n",
       "    </tr>\n",
       "  </tbody>\n",
       "</table>\n",
       "</div>"
      ],
      "text/plain": [
       "    Nbases  Nintervals                                             bedobj  \\\n",
       "0  1152057        3191  <Bed object: VEUDE_A_1_coordSort_filt_divtrans...   \n",
       "1  1597962        3695  <Bed object: Compoud_A_1_coordSort_filt_divtra...   \n",
       "\n",
       "                                                name  \\\n",
       "0  VEUDE_A_1_coordSort_filt_divtrans_M-inter-slid...   \n",
       "1  Compoud_A_1_coordSort_filt_divtrans_M-inter-sl...   \n",
       "\n",
       "                                                path  \n",
       "0  bed_outfolder/VEUDE_A_1_coordSort_filt_divtran...  \n",
       "1  bed_outfolder/Compoud_A_1_coordSort_filt_divtr...  "
      ]
     },
     "execution_count": 12,
     "metadata": {},
     "output_type": "execute_result"
    }
   ],
   "source": [
    "pd.DataFrame([bed.stats() for bed in div_trans_intersect_slidebase])"
   ]
  },
  {
   "cell_type": "markdown",
   "metadata": {
    "ein.tags": "worksheet-0",
    "slideshow": {
     "slide_type": "-"
    }
   },
   "source": [
    "# Filter by Transcription factors intervals\n",
    "\n",
    "Download transcription factors bed from UCSC:\n",
    "\n",
    "**IMPORTANT NOTE:** At the difference of enhancer and div_trans intervals, transcription factors intervals are not merged \n",
    "> This leads to divergent estimations in intersection when considering jaccard and intersect results.\n",
    "\n",
    "\n",
    "**WARNING** The download took ~1 hour "
   ]
  },
  {
   "cell_type": "code",
   "execution_count": 42,
   "metadata": {
    "autoscroll": false,
    "collapsed": false,
    "ein.hycell": false,
    "ein.tags": "worksheet-0",
    "slideshow": {
     "slide_type": "-"
    }
   },
   "outputs": [],
   "source": [
    "%%bash\n",
    "\n",
    "# Download from UCSC mysql database, remove the 'chr',the header, sort the bed\n",
    "mysql --user=genome --host=genome-mysql.cse.ucsc.edu -A -e \"use hg19; SELECT * FROM wgEncodeRegTfbsClusteredV3;\" | \\\n",
    "    awk -v OFS='\\t' 'NR>1 {gsub(\"chr\",\"\",$2); print $2, $3, $4, $5, $6}' | \\\n",
    "    bedtools sort -i - > ../data/wgEncodeRegTfbsClusteredV3.bed"
   ]
  },
  {
   "cell_type": "code",
   "execution_count": 13,
   "metadata": {
    "autoscroll": false,
    "collapsed": false,
    "ein.hycell": false,
    "ein.tags": "worksheet-0",
    "slideshow": {
     "slide_type": "-"
    }
   },
   "outputs": [],
   "source": [
    "transcription_factors_bed = bl.Bed('../data/wgEncodeRegTfbsClusteredV3.bed').merge()"
   ]
  },
  {
   "cell_type": "code",
   "execution_count": 14,
   "metadata": {
    "autoscroll": false,
    "collapsed": false,
    "ein.hycell": false,
    "ein.tags": "worksheet-0",
    "slideshow": {
     "slide_type": "-"
    }
   },
   "outputs": [],
   "source": [
    "div_trans_intersect_transFact = [bed.intersect(transcription_factors_bed, supp_args='-wa')\n",
    "                                for bed in div_trans_beds_merged]"
   ]
  },
  {
   "cell_type": "code",
   "execution_count": 15,
   "metadata": {
    "autoscroll": false,
    "collapsed": false,
    "ein.hycell": false,
    "ein.tags": "worksheet-0",
    "slideshow": {
     "slide_type": "-"
    }
   },
   "outputs": [
    {
     "data": {
      "text/html": [
       "<div>\n",
       "<style scoped>\n",
       "    .dataframe tbody tr th:only-of-type {\n",
       "        vertical-align: middle;\n",
       "    }\n",
       "\n",
       "    .dataframe tbody tr th {\n",
       "        vertical-align: top;\n",
       "    }\n",
       "\n",
       "    .dataframe thead th {\n",
       "        text-align: right;\n",
       "    }\n",
       "</style>\n",
       "<table border=\"1\" class=\"dataframe\">\n",
       "  <thead>\n",
       "    <tr style=\"text-align: right;\">\n",
       "      <th></th>\n",
       "      <th>Nbases</th>\n",
       "      <th>Nintervals</th>\n",
       "      <th>bedobj</th>\n",
       "      <th>name</th>\n",
       "      <th>path</th>\n",
       "    </tr>\n",
       "  </thead>\n",
       "  <tbody>\n",
       "    <tr>\n",
       "      <th>0</th>\n",
       "      <td>29606523</td>\n",
       "      <td>89167</td>\n",
       "      <td>&lt;Bed object: VEUDE_A_1_coordSort_filt_divtrans...</td>\n",
       "      <td>VEUDE_A_1_coordSort_filt_divtrans_M-inter-wgEn...</td>\n",
       "      <td>bed_outfolder/VEUDE_A_1_coordSort_filt_divtran...</td>\n",
       "    </tr>\n",
       "    <tr>\n",
       "      <th>1</th>\n",
       "      <td>32938330</td>\n",
       "      <td>94972</td>\n",
       "      <td>&lt;Bed object: Compoud_A_1_coordSort_filt_divtra...</td>\n",
       "      <td>Compoud_A_1_coordSort_filt_divtrans_M-inter-wg...</td>\n",
       "      <td>bed_outfolder/Compoud_A_1_coordSort_filt_divtr...</td>\n",
       "    </tr>\n",
       "  </tbody>\n",
       "</table>\n",
       "</div>"
      ],
      "text/plain": [
       "     Nbases  Nintervals                                             bedobj  \\\n",
       "0  29606523       89167  <Bed object: VEUDE_A_1_coordSort_filt_divtrans...   \n",
       "1  32938330       94972  <Bed object: Compoud_A_1_coordSort_filt_divtra...   \n",
       "\n",
       "                                                name  \\\n",
       "0  VEUDE_A_1_coordSort_filt_divtrans_M-inter-wgEn...   \n",
       "1  Compoud_A_1_coordSort_filt_divtrans_M-inter-wg...   \n",
       "\n",
       "                                                path  \n",
       "0  bed_outfolder/VEUDE_A_1_coordSort_filt_divtran...  \n",
       "1  bed_outfolder/Compoud_A_1_coordSort_filt_divtr...  "
      ]
     },
     "execution_count": 15,
     "metadata": {},
     "output_type": "execute_result"
    }
   ],
   "source": [
    "pd.DataFrame([bed.stats() for bed in div_trans_intersect_transFact])"
   ]
  },
  {
   "cell_type": "markdown",
   "metadata": {
    "ein.tags": "worksheet-0",
    "slideshow": {
     "slide_type": "-"
    }
   },
   "source": [
    "# Filter by Chromatin state infered enhancers\n",
    "\n",
    "Download epigenomes data from the NIH Roadmap Epigenomics Mapping Consortium \n",
    "\n",
    "see: https://egg2.wustl.edu/roadmap/web_portal/chr_state_learning.html#core_15state\n",
    "\n",
    "**WARNING:** ~45min download"
   ]
  },
  {
   "cell_type": "code",
   "execution_count": 9,
   "metadata": {
    "autoscroll": false,
    "collapsed": false,
    "ein.hycell": false,
    "ein.tags": "worksheet-0",
    "slideshow": {
     "slide_type": "-"
    }
   },
   "outputs": [
    {
     "name": "stdout",
     "output_type": "stream",
     "text": [
      "E001_15_coreMarks_mnemonics.bed.gz\n",
      "E002_15_coreMarks_mnemonics.bed.gz\n",
      "E003_15_coreMarks_mnemonics.bed.gz\n",
      "E004_15_coreMarks_mnemonics.bed.gz\n",
      "E005_15_coreMarks_mnemonics.bed.gz\n",
      "E006_15_coreMarks_mnemonics.bed.gz\n",
      "E007_15_coreMarks_mnemonics.bed.gz\n",
      "E008_15_coreMarks_mnemonics.bed.gz\n",
      "E009_15_coreMarks_mnemonics.bed.gz\n",
      "E010_15_coreMarks_mnemonics.bed.gz\n",
      "E011_15_coreMarks_mnemonics.bed.gz\n",
      "E012_15_coreMarks_mnemonics.bed.gz\n",
      "E013_15_coreMarks_mnemonics.bed.gz\n",
      "E014_15_coreMarks_mnemonics.bed.gz\n",
      "E015_15_coreMarks_mnemonics.bed.gz\n",
      "E016_15_coreMarks_mnemonics.bed.gz\n",
      "E017_15_coreMarks_mnemonics.bed.gz\n",
      "E018_15_coreMarks_mnemonics.bed.gz\n",
      "E019_15_coreMarks_mnemonics.bed.gz\n",
      "E020_15_coreMarks_mnemonics.bed.gz\n",
      "E021_15_coreMarks_mnemonics.bed.gz\n",
      "E022_15_coreMarks_mnemonics.bed.gz\n",
      "E023_15_coreMarks_mnemonics.bed.gz\n",
      "E024_15_coreMarks_mnemonics.bed.gz\n",
      "E025_15_coreMarks_mnemonics.bed.gz\n",
      "E026_15_coreMarks_mnemonics.bed.gz\n",
      "E027_15_coreMarks_mnemonics.bed.gz\n",
      "E028_15_coreMarks_mnemonics.bed.gz\n",
      "E029_15_coreMarks_mnemonics.bed.gz\n",
      "E030_15_coreMarks_mnemonics.bed.gz\n",
      "E031_15_coreMarks_mnemonics.bed.gz\n",
      "E032_15_coreMarks_mnemonics.bed.gz\n",
      "E033_15_coreMarks_mnemonics.bed.gz\n",
      "E034_15_coreMarks_mnemonics.bed.gz\n",
      "E035_15_coreMarks_mnemonics.bed.gz\n",
      "E036_15_coreMarks_mnemonics.bed.gz\n",
      "E037_15_coreMarks_mnemonics.bed.gz\n",
      "E038_15_coreMarks_mnemonics.bed.gz\n",
      "E039_15_coreMarks_mnemonics.bed.gz\n",
      "E040_15_coreMarks_mnemonics.bed.gz\n",
      "E041_15_coreMarks_mnemonics.bed.gz\n",
      "E042_15_coreMarks_mnemonics.bed.gz\n",
      "E043_15_coreMarks_mnemonics.bed.gz\n",
      "E044_15_coreMarks_mnemonics.bed.gz\n",
      "E045_15_coreMarks_mnemonics.bed.gz\n",
      "E046_15_coreMarks_mnemonics.bed.gz\n",
      "E047_15_coreMarks_mnemonics.bed.gz\n",
      "E048_15_coreMarks_mnemonics.bed.gz\n",
      "E049_15_coreMarks_mnemonics.bed.gz\n",
      "E050_15_coreMarks_mnemonics.bed.gz\n",
      "E051_15_coreMarks_mnemonics.bed.gz\n",
      "E052_15_coreMarks_mnemonics.bed.gz\n",
      "E053_15_coreMarks_mnemonics.bed.gz\n",
      "E054_15_coreMarks_mnemonics.bed.gz\n",
      "E055_15_coreMarks_mnemonics.bed.gz\n",
      "E056_15_coreMarks_mnemonics.bed.gz\n",
      "E057_15_coreMarks_mnemonics.bed.gz\n",
      "E058_15_coreMarks_mnemonics.bed.gz\n",
      "E059_15_coreMarks_mnemonics.bed.gz\n",
      "E061_15_coreMarks_mnemonics.bed.gz\n",
      "E062_15_coreMarks_mnemonics.bed.gz\n",
      "E063_15_coreMarks_mnemonics.bed.gz\n",
      "E065_15_coreMarks_mnemonics.bed.gz\n",
      "E066_15_coreMarks_mnemonics.bed.gz\n",
      "E067_15_coreMarks_mnemonics.bed.gz\n",
      "E068_15_coreMarks_mnemonics.bed.gz\n",
      "E069_15_coreMarks_mnemonics.bed.gz\n",
      "E070_15_coreMarks_mnemonics.bed.gz\n",
      "E071_15_coreMarks_mnemonics.bed.gz\n",
      "E072_15_coreMarks_mnemonics.bed.gz\n",
      "E073_15_coreMarks_mnemonics.bed.gz\n",
      "E074_15_coreMarks_mnemonics.bed.gz\n",
      "E075_15_coreMarks_mnemonics.bed.gz\n",
      "E076_15_coreMarks_mnemonics.bed.gz\n",
      "E077_15_coreMarks_mnemonics.bed.gz\n",
      "E078_15_coreMarks_mnemonics.bed.gz\n",
      "E079_15_coreMarks_mnemonics.bed.gz\n",
      "E080_15_coreMarks_mnemonics.bed.gz\n",
      "E081_15_coreMarks_mnemonics.bed.gz\n",
      "E082_15_coreMarks_mnemonics.bed.gz\n",
      "E083_15_coreMarks_mnemonics.bed.gz\n",
      "E084_15_coreMarks_mnemonics.bed.gz\n",
      "E085_15_coreMarks_mnemonics.bed.gz\n",
      "E086_15_coreMarks_mnemonics.bed.gz\n",
      "E087_15_coreMarks_mnemonics.bed.gz\n",
      "E088_15_coreMarks_mnemonics.bed.gz\n",
      "E089_15_coreMarks_mnemonics.bed.gz\n",
      "E090_15_coreMarks_mnemonics.bed.gz\n",
      "E091_15_coreMarks_mnemonics.bed.gz\n",
      "E092_15_coreMarks_mnemonics.bed.gz\n",
      "E093_15_coreMarks_mnemonics.bed.gz\n",
      "E094_15_coreMarks_mnemonics.bed.gz\n",
      "E095_15_coreMarks_mnemonics.bed.gz\n",
      "E096_15_coreMarks_mnemonics.bed.gz\n",
      "E097_15_coreMarks_mnemonics.bed.gz\n",
      "E098_15_coreMarks_mnemonics.bed.gz\n",
      "E099_15_coreMarks_mnemonics.bed.gz\n",
      "E100_15_coreMarks_mnemonics.bed.gz\n",
      "E101_15_coreMarks_mnemonics.bed.gz\n",
      "E102_15_coreMarks_mnemonics.bed.gz\n",
      "E103_15_coreMarks_mnemonics.bed.gz\n",
      "E104_15_coreMarks_mnemonics.bed.gz\n",
      "E105_15_coreMarks_mnemonics.bed.gz\n",
      "E106_15_coreMarks_mnemonics.bed.gz\n",
      "E107_15_coreMarks_mnemonics.bed.gz\n",
      "E108_15_coreMarks_mnemonics.bed.gz\n",
      "E109_15_coreMarks_mnemonics.bed.gz\n",
      "E110_15_coreMarks_mnemonics.bed.gz\n",
      "E111_15_coreMarks_mnemonics.bed.gz\n",
      "E112_15_coreMarks_mnemonics.bed.gz\n",
      "E113_15_coreMarks_mnemonics.bed.gz\n",
      "E114_15_coreMarks_mnemonics.bed.gz\n",
      "E115_15_coreMarks_mnemonics.bed.gz\n",
      "E116_15_coreMarks_mnemonics.bed.gz\n",
      "E117_15_coreMarks_mnemonics.bed.gz\n",
      "E118_15_coreMarks_mnemonics.bed.gz\n",
      "E119_15_coreMarks_mnemonics.bed.gz\n",
      "E120_15_coreMarks_mnemonics.bed.gz\n",
      "E121_15_coreMarks_mnemonics.bed.gz\n",
      "E122_15_coreMarks_mnemonics.bed.gz\n",
      "E123_15_coreMarks_mnemonics.bed.gz\n",
      "E124_15_coreMarks_mnemonics.bed.gz\n",
      "E125_15_coreMarks_mnemonics.bed.gz\n",
      "E126_15_coreMarks_mnemonics.bed.gz\n",
      "E127_15_coreMarks_mnemonics.bed.gz\n",
      "E128_15_coreMarks_mnemonics.bed.gz\n",
      "E129_15_coreMarks_mnemonics.bed.gz\n"
     ]
    }
   ],
   "source": [
    "%%bash\n",
    "#wget -P ../data/chmm_enhancers http://egg2.wustl.edu/roadmap/data/byFileType/chromhmmSegmentations/ChmmModels/coreMarks/jointModel/final/all.mnemonics.bedFiles.tgz\n",
    "\n",
    "tar -C ../data/chmm_enhancers/ -zxvf ../data/chmm_enhancers/all.mnemonics.bedFiles.tgz\n",
    "gunzip ../data/chmm_enhancers/*.gz"
   ]
  },
  {
   "cell_type": "markdown",
   "metadata": {
    "ein.tags": "worksheet-0",
    "slideshow": {
     "slide_type": "-"
    }
   },
   "source": [
    "Add cell line information to the bed before merging. Here it could be maybe interesting to merge according to a percentage of overlap (not overlapping intervals with only 1 base overlap for example)\n",
    "\n",
    "The mnemonics selected are:\n",
    "\n",
    "* 1_TssA\n",
    "* 2_TssAFlnk\n",
    "* 7_Enh\n",
    "* 6_EnhG\n",
    "* 10_TssBiv\n",
    "* 12_EnhBiv"
   ]
  },
  {
   "cell_type": "code",
   "execution_count": 5,
   "metadata": {
    "autoscroll": false,
    "collapsed": false,
    "ein.hycell": false,
    "ein.tags": "worksheet-0",
    "slideshow": {
     "slide_type": "-"
    }
   },
   "outputs": [],
   "source": [
    "%%bash\n",
    "\n",
    "cd ../data/chmm_enhancers/\n",
    "\n",
    "# Add the name of the cell line to bed annotations:\n",
    "for i in *.bed; do awk -v cellline=${i%%_*} 'BEGIN{OFS=\"\\t\"}; ($4~/Enh|Tss/) {print $1, $2, $3, $4 \"_\" cellline}' $i > ${i%%.*}_tmp.bed; done\n",
    "# Concatenate all Enh files, bedtools sort / merge / remove 'chr'\n",
    "cat E*tmp.bed | sort -k1,1 -k2,2n | bedtools merge  -c 4 -o collapse | sed 's/^chr//g' > cat_all_ENh_Tss_all_tissu_sort_merged.bed"
   ]
  },
  {
   "cell_type": "code",
   "execution_count": 6,
   "metadata": {
    "autoscroll": false,
    "collapsed": false,
    "ein.hycell": false,
    "ein.tags": "worksheet-0",
    "slideshow": {
     "slide_type": "-"
    }
   },
   "outputs": [],
   "source": [
    "epigenomes_bed = bl.Bed('../data/chmm_enhancers/cat_all_ENh_Tss_all_tissu_sort_merged.bed')"
   ]
  },
  {
   "cell_type": "code",
   "execution_count": 11,
   "metadata": {
    "autoscroll": false,
    "collapsed": false,
    "ein.hycell": false,
    "ein.tags": "worksheet-0",
    "slideshow": {
     "slide_type": "-"
    }
   },
   "outputs": [],
   "source": [
    "div_trans_intersect_epigenomes = [bed.intersect(epigenomes_bed, supp_args='-wa') \n",
    "                                  for bed in div_trans_beds_merged]"
   ]
  },
  {
   "cell_type": "code",
   "execution_count": null,
   "metadata": {
    "autoscroll": false,
    "collapsed": false,
    "ein.hycell": false,
    "ein.tags": "worksheet-0",
    "slideshow": {
     "slide_type": "-"
    }
   },
   "outputs": [],
   "source": [
    "[x.stats() for x in div_trans_intersect_epigenomes]"
   ]
  }
 ],
 "metadata": {
  "extensions": {
   "jupyter_dashboards": {
    "activeView": "grid_default",
    "version": 1,
    "views": {
     "grid_default": {
      "cellMargin": 10,
      "defaultCellHeight": 20,
      "maxColumns": 12,
      "name": "grid",
      "type": "grid"
     },
     "report_default": {
      "name": "report",
      "type": "report"
     }
    }
   }
  },
  "kernelspec": {
   "display_name": "Python [default]",
   "language": "python",
   "name": "python3"
  },
  "language_info": {
   "codemirror_mode": {
    "name": "ipython",
    "version": 3
   },
   "file_extension": ".py",
   "mimetype": "text/x-python",
   "name": "python",
   "nbconvert_exporter": "python",
   "pygments_lexer": "ipython3",
   "version": "3.6.3"
  },
  "name": "divtrans_0.6.ipynb",
  "toc": {
   "colors": {
    "hover_highlight": "#DAA520",
    "navigate_num": "#000000",
    "navigate_text": "#333333",
    "running_highlight": "#FF0000",
    "selected_highlight": "#FFD700",
    "sidebar_border": "#EEEEEE",
    "wrapper_background": "#FFFFFF"
   },
   "moveMenuLeft": true,
   "nav_menu": {
    "height": "47px",
    "width": "252px"
   },
   "navigate_menu": true,
   "number_sections": true,
   "sideBar": false,
   "threshold": 4,
   "toc_cell": false,
   "toc_position": {
    "height": "577px",
    "left": "5px",
    "right": "20px",
    "top": "107.986px",
    "width": "184px"
   },
   "toc_section_display": "block",
   "toc_window_display": true,
   "widenNotebook": false
  }
 },
 "nbformat": 4,
 "nbformat_minor": 2
}
