{
 "cells": [
  {
   "cell_type": "markdown",
   "metadata": {
    "extensions": {
     "jupyter_dashboards": {
      "version": 1,
      "views": {
       "grid_default": {
        "col": 0,
        "height": 4,
        "hidden": false,
        "row": 0,
        "width": 4
       },
       "report_default": {
        "hidden": false
       }
      }
     }
    }
   },
   "source": [
    "# Import"
   ]
  },
  {
   "cell_type": "code",
   "execution_count": 1,
   "metadata": {
    "ExecuteTime": {
     "end_time": "2018-01-12T13:27:24.140077Z",
     "start_time": "2018-01-12T13:27:23.511971Z"
    },
    "collapsed": true,
    "extensions": {
     "jupyter_dashboards": {
      "version": 1,
      "views": {
       "grid_default": {
        "hidden": true
       },
       "report_default": {
        "hidden": true
       }
      }
     }
    }
   },
   "outputs": [],
   "source": [
    "import os\n",
    "import glob\n",
    "import pandas as pd\n",
    "#from multiprocessing import Pool\n",
    "\n",
    "import bed_lib as bl\n",
    "import div_trans_lib as dt\n",
    "import basics_counts as bc\n",
    "import basics_bam as bb\n",
    "\n",
    "%matplotlib inline"
   ]
  },
  {
   "cell_type": "code",
   "execution_count": 2,
   "metadata": {
    "ExecuteTime": {
     "end_time": "2018-01-12T13:27:25.055283Z",
     "start_time": "2018-01-12T13:27:25.010690Z"
    },
    "collapsed": true,
    "extensions": {
     "jupyter_dashboards": {
      "version": 1,
      "views": {
       "grid_default": {
        "hidden": true
       },
       "report_default": {
        "hidden": true
       }
      }
     }
    }
   },
   "outputs": [],
   "source": [
    "# To not have to restart the kernel everytime changes are made in modules\n",
    "%load_ext autoreload\n",
    "%autoreload 2"
   ]
  },
  {
   "cell_type": "markdown",
   "metadata": {
    "extensions": {
     "jupyter_dashboards": {
      "version": 1,
      "views": {
       "grid_default": {
        "col": 0,
        "height": 5,
        "hidden": false,
        "row": 86,
        "width": 12
       },
       "report_default": {
        "hidden": false
       }
      }
     }
    }
   },
   "source": [
    "**WARNINGS**\n",
    "\n",
    "- TRY filtering only uniquely mapping reads (MAPQ 255) and compare with filtering only primary \n",
    "\n",
    "**TO EXPLAIN**\n",
    "\n",
    "There is a rationale being only using reads (and not fragments), since we are only interested in ends of - reads first and then beginnings of + reads \n",
    "> Actually might be interesting to try using only one reads of the pair (TO CHECK)"
   ]
  },
  {
   "cell_type": "markdown",
   "metadata": {
    "extensions": {
     "jupyter_dashboards": {
      "version": 1,
      "views": {
       "grid_default": {
        "col": 7,
        "height": 4,
        "hidden": false,
        "row": 43,
        "width": 4
       },
       "report_default": {
        "hidden": false
       }
      }
     }
    }
   },
   "source": [
    "## Input"
   ]
  },
  {
   "cell_type": "code",
   "execution_count": 42,
   "metadata": {
    "ExecuteTime": {
     "end_time": "2018-01-12T13:27:26.846959Z",
     "start_time": "2018-01-12T13:27:26.810475Z"
    },
    "extensions": {
     "jupyter_dashboards": {
      "version": 1,
      "views": {
       "grid_default": {
        "hidden": true
       },
       "report_default": {
        "hidden": true
       }
      }
     }
    }
   },
   "outputs": [
    {
     "data": {
      "text/plain": [
       "['../data/bams/VEUDE_A_1_coordSort_filt.bam',\n",
       " '../data/bams/Compoud_A_1_coordSort_filt.bam']"
      ]
     },
     "execution_count": 42,
     "metadata": {},
     "output_type": "execute_result"
    }
   ],
   "source": [
    "bam_paths = glob.glob('../data/bams/*_coordSort_filt.bam')\n",
    "#bam_paths = glob.glob('../data/bams/test/*.bam')\n",
    "bam_paths"
   ]
  },
  {
   "cell_type": "markdown",
   "metadata": {},
   "source": [
    "### For testing: extract a list of intervals of interest in a single bam"
   ]
  },
  {
   "cell_type": "code",
   "execution_count": 43,
   "metadata": {
    "ExecuteTime": {
     "end_time": "2018-01-12T13:27:26.846959Z",
     "start_time": "2018-01-12T13:27:26.810475Z"
    },
    "extensions": {
     "jupyter_dashboards": {
      "version": 1,
      "views": {
       "grid_default": {
        "hidden": true
       },
       "report_default": {
        "hidden": true
       }
      }
     }
    }
   },
   "outputs": [
    {
     "name": "stderr",
     "output_type": "stream",
     "text": [
      "2018-08-01 11:18:32,469 - basics_bam.py - basics_bam - multi_fetch() - DEBUG - Extracting interval: 5:19004800-19044400 from BAM Object for file: ../data/bams/VEUDE_A_1_coordSort_filt.bam\n",
      "2018-08-01 11:18:32,469 - basics_bam.py - basics_bam - multi_fetch() - DEBUG - Extracting interval: 5:19004800-19044400 from BAM Object for file: ../data/bams/VEUDE_A_1_coordSort_filt.bam\n",
      "2018-08-01 11:18:32,469 - basics_bam.py - basics_bam - multi_fetch() - DEBUG - Extracting interval: 5:19004800-19044400 from BAM Object for file: ../data/bams/VEUDE_A_1_coordSort_filt.bam\n",
      "2018-08-01 11:18:32,469 - basics_bam.py - basics_bam - multi_fetch() - DEBUG - Extracting interval: 5:19004800-19044400 from BAM Object for file: ../data/bams/VEUDE_A_1_coordSort_filt.bam\n",
      "2018-08-01 11:18:32,469 - basics_bam.py - basics_bam - multi_fetch() - DEBUG - Extracting interval: 5:19004800-19044400 from BAM Object for file: ../data/bams/VEUDE_A_1_coordSort_filt.bam\n",
      "DEBUG:basics_bam.py - basics_bam:Extracting interval: 5:19004800-19044400 from BAM Object for file: ../data/bams/VEUDE_A_1_coordSort_filt.bam\n",
      "2018-08-01 11:18:32,519 - basics_bam.py - basics_bam - multi_fetch() - DEBUG - Extracting interval: 6:87796000-87830200 from BAM Object for file: ../data/bams/VEUDE_A_1_coordSort_filt.bam\n",
      "2018-08-01 11:18:32,519 - basics_bam.py - basics_bam - multi_fetch() - DEBUG - Extracting interval: 6:87796000-87830200 from BAM Object for file: ../data/bams/VEUDE_A_1_coordSort_filt.bam\n",
      "2018-08-01 11:18:32,519 - basics_bam.py - basics_bam - multi_fetch() - DEBUG - Extracting interval: 6:87796000-87830200 from BAM Object for file: ../data/bams/VEUDE_A_1_coordSort_filt.bam\n",
      "2018-08-01 11:18:32,519 - basics_bam.py - basics_bam - multi_fetch() - DEBUG - Extracting interval: 6:87796000-87830200 from BAM Object for file: ../data/bams/VEUDE_A_1_coordSort_filt.bam\n",
      "2018-08-01 11:18:32,519 - basics_bam.py - basics_bam - multi_fetch() - DEBUG - Extracting interval: 6:87796000-87830200 from BAM Object for file: ../data/bams/VEUDE_A_1_coordSort_filt.bam\n",
      "DEBUG:basics_bam.py - basics_bam:Extracting interval: 6:87796000-87830200 from BAM Object for file: ../data/bams/VEUDE_A_1_coordSort_filt.bam\n",
      "2018-08-01 11:18:32,559 - basics_bam.py - basics_bam - multi_fetch() - DEBUG - Extracting interval: 4:23304600-23335200 from BAM Object for file: ../data/bams/VEUDE_A_1_coordSort_filt.bam\n",
      "2018-08-01 11:18:32,559 - basics_bam.py - basics_bam - multi_fetch() - DEBUG - Extracting interval: 4:23304600-23335200 from BAM Object for file: ../data/bams/VEUDE_A_1_coordSort_filt.bam\n",
      "2018-08-01 11:18:32,559 - basics_bam.py - basics_bam - multi_fetch() - DEBUG - Extracting interval: 4:23304600-23335200 from BAM Object for file: ../data/bams/VEUDE_A_1_coordSort_filt.bam\n",
      "2018-08-01 11:18:32,559 - basics_bam.py - basics_bam - multi_fetch() - DEBUG - Extracting interval: 4:23304600-23335200 from BAM Object for file: ../data/bams/VEUDE_A_1_coordSort_filt.bam\n",
      "2018-08-01 11:18:32,559 - basics_bam.py - basics_bam - multi_fetch() - DEBUG - Extracting interval: 4:23304600-23335200 from BAM Object for file: ../data/bams/VEUDE_A_1_coordSort_filt.bam\n",
      "DEBUG:basics_bam.py - basics_bam:Extracting interval: 4:23304600-23335200 from BAM Object for file: ../data/bams/VEUDE_A_1_coordSort_filt.bam\n",
      "2018-08-01 11:18:32,606 - basics_bam.py - basics_bam - multi_fetch() - DEBUG - Extracting interval: 1:126681200-126836600 from BAM Object for file: ../data/bams/VEUDE_A_1_coordSort_filt.bam\n",
      "2018-08-01 11:18:32,606 - basics_bam.py - basics_bam - multi_fetch() - DEBUG - Extracting interval: 1:126681200-126836600 from BAM Object for file: ../data/bams/VEUDE_A_1_coordSort_filt.bam\n",
      "2018-08-01 11:18:32,606 - basics_bam.py - basics_bam - multi_fetch() - DEBUG - Extracting interval: 1:126681200-126836600 from BAM Object for file: ../data/bams/VEUDE_A_1_coordSort_filt.bam\n",
      "2018-08-01 11:18:32,606 - basics_bam.py - basics_bam - multi_fetch() - DEBUG - Extracting interval: 1:126681200-126836600 from BAM Object for file: ../data/bams/VEUDE_A_1_coordSort_filt.bam\n",
      "2018-08-01 11:18:32,606 - basics_bam.py - basics_bam - multi_fetch() - DEBUG - Extracting interval: 1:126681200-126836600 from BAM Object for file: ../data/bams/VEUDE_A_1_coordSort_filt.bam\n",
      "DEBUG:basics_bam.py - basics_bam:Extracting interval: 1:126681200-126836600 from BAM Object for file: ../data/bams/VEUDE_A_1_coordSort_filt.bam\n",
      "2018-08-01 11:18:32,644 - basics_bam.py - basics_bam - multi_fetch() - DEBUG - Extracting interval: 4:83935200-83955400 from BAM Object for file: ../data/bams/VEUDE_A_1_coordSort_filt.bam\n",
      "2018-08-01 11:18:32,644 - basics_bam.py - basics_bam - multi_fetch() - DEBUG - Extracting interval: 4:83935200-83955400 from BAM Object for file: ../data/bams/VEUDE_A_1_coordSort_filt.bam\n",
      "2018-08-01 11:18:32,644 - basics_bam.py - basics_bam - multi_fetch() - DEBUG - Extracting interval: 4:83935200-83955400 from BAM Object for file: ../data/bams/VEUDE_A_1_coordSort_filt.bam\n",
      "2018-08-01 11:18:32,644 - basics_bam.py - basics_bam - multi_fetch() - DEBUG - Extracting interval: 4:83935200-83955400 from BAM Object for file: ../data/bams/VEUDE_A_1_coordSort_filt.bam\n",
      "2018-08-01 11:18:32,644 - basics_bam.py - basics_bam - multi_fetch() - DEBUG - Extracting interval: 4:83935200-83955400 from BAM Object for file: ../data/bams/VEUDE_A_1_coordSort_filt.bam\n",
      "DEBUG:basics_bam.py - basics_bam:Extracting interval: 4:83935200-83955400 from BAM Object for file: ../data/bams/VEUDE_A_1_coordSort_filt.bam\n",
      "2018-08-01 11:18:32,694 - basics_bam.py - basics_bam - multi_fetch() - DEBUG - Extracting interval: 2:43480600-43496000 from BAM Object for file: ../data/bams/VEUDE_A_1_coordSort_filt.bam\n",
      "2018-08-01 11:18:32,694 - basics_bam.py - basics_bam - multi_fetch() - DEBUG - Extracting interval: 2:43480600-43496000 from BAM Object for file: ../data/bams/VEUDE_A_1_coordSort_filt.bam\n",
      "2018-08-01 11:18:32,694 - basics_bam.py - basics_bam - multi_fetch() - DEBUG - Extracting interval: 2:43480600-43496000 from BAM Object for file: ../data/bams/VEUDE_A_1_coordSort_filt.bam\n",
      "2018-08-01 11:18:32,694 - basics_bam.py - basics_bam - multi_fetch() - DEBUG - Extracting interval: 2:43480600-43496000 from BAM Object for file: ../data/bams/VEUDE_A_1_coordSort_filt.bam\n",
      "2018-08-01 11:18:32,694 - basics_bam.py - basics_bam - multi_fetch() - DEBUG - Extracting interval: 2:43480600-43496000 from BAM Object for file: ../data/bams/VEUDE_A_1_coordSort_filt.bam\n",
      "DEBUG:basics_bam.py - basics_bam:Extracting interval: 2:43480600-43496000 from BAM Object for file: ../data/bams/VEUDE_A_1_coordSort_filt.bam\n",
      "2018-08-01 11:18:32,741 - basics_bam.py - basics_bam - multi_fetch() - DEBUG - Extracting interval: 3:46343200-46380000 from BAM Object for file: ../data/bams/VEUDE_A_1_coordSort_filt.bam\n",
      "2018-08-01 11:18:32,741 - basics_bam.py - basics_bam - multi_fetch() - DEBUG - Extracting interval: 3:46343200-46380000 from BAM Object for file: ../data/bams/VEUDE_A_1_coordSort_filt.bam\n",
      "2018-08-01 11:18:32,741 - basics_bam.py - basics_bam - multi_fetch() - DEBUG - Extracting interval: 3:46343200-46380000 from BAM Object for file: ../data/bams/VEUDE_A_1_coordSort_filt.bam\n",
      "2018-08-01 11:18:32,741 - basics_bam.py - basics_bam - multi_fetch() - DEBUG - Extracting interval: 3:46343200-46380000 from BAM Object for file: ../data/bams/VEUDE_A_1_coordSort_filt.bam\n",
      "2018-08-01 11:18:32,741 - basics_bam.py - basics_bam - multi_fetch() - DEBUG - Extracting interval: 3:46343200-46380000 from BAM Object for file: ../data/bams/VEUDE_A_1_coordSort_filt.bam\n",
      "DEBUG:basics_bam.py - basics_bam:Extracting interval: 3:46343200-46380000 from BAM Object for file: ../data/bams/VEUDE_A_1_coordSort_filt.bam\n",
      "2018-08-01 11:18:32,770 - basics_bam.py - basics_bam - multi_fetch() - DEBUG - Extracting interval: 1:175072578-175073731 from BAM Object for file: ../data/bams/VEUDE_A_1_coordSort_filt.bam\n",
      "2018-08-01 11:18:32,770 - basics_bam.py - basics_bam - multi_fetch() - DEBUG - Extracting interval: 1:175072578-175073731 from BAM Object for file: ../data/bams/VEUDE_A_1_coordSort_filt.bam\n",
      "2018-08-01 11:18:32,770 - basics_bam.py - basics_bam - multi_fetch() - DEBUG - Extracting interval: 1:175072578-175073731 from BAM Object for file: ../data/bams/VEUDE_A_1_coordSort_filt.bam\n",
      "2018-08-01 11:18:32,770 - basics_bam.py - basics_bam - multi_fetch() - DEBUG - Extracting interval: 1:175072578-175073731 from BAM Object for file: ../data/bams/VEUDE_A_1_coordSort_filt.bam\n",
      "2018-08-01 11:18:32,770 - basics_bam.py - basics_bam - multi_fetch() - DEBUG - Extracting interval: 1:175072578-175073731 from BAM Object for file: ../data/bams/VEUDE_A_1_coordSort_filt.bam\n",
      "DEBUG:basics_bam.py - basics_bam:Extracting interval: 1:175072578-175073731 from BAM Object for file: ../data/bams/VEUDE_A_1_coordSort_filt.bam\n",
      "2018-08-01 11:18:32,790 - basics_bam.py - basics_bam - multi_fetch() - DEBUG - Extracting interval: 1:28981074-28982933 from BAM Object for file: ../data/bams/VEUDE_A_1_coordSort_filt.bam\n",
      "2018-08-01 11:18:32,790 - basics_bam.py - basics_bam - multi_fetch() - DEBUG - Extracting interval: 1:28981074-28982933 from BAM Object for file: ../data/bams/VEUDE_A_1_coordSort_filt.bam\n",
      "2018-08-01 11:18:32,790 - basics_bam.py - basics_bam - multi_fetch() - DEBUG - Extracting interval: 1:28981074-28982933 from BAM Object for file: ../data/bams/VEUDE_A_1_coordSort_filt.bam\n",
      "2018-08-01 11:18:32,790 - basics_bam.py - basics_bam - multi_fetch() - DEBUG - Extracting interval: 1:28981074-28982933 from BAM Object for file: ../data/bams/VEUDE_A_1_coordSort_filt.bam\n",
      "2018-08-01 11:18:32,790 - basics_bam.py - basics_bam - multi_fetch() - DEBUG - Extracting interval: 1:28981074-28982933 from BAM Object for file: ../data/bams/VEUDE_A_1_coordSort_filt.bam\n",
      "DEBUG:basics_bam.py - basics_bam:Extracting interval: 1:28981074-28982933 from BAM Object for file: ../data/bams/VEUDE_A_1_coordSort_filt.bam\n",
      "2018-08-01 11:18:32,805 - basics_bam.py - basics_bam - multi_fetch() - DEBUG - Extracting interval: 10:31549665-31550835 from BAM Object for file: ../data/bams/VEUDE_A_1_coordSort_filt.bam\n",
      "2018-08-01 11:18:32,805 - basics_bam.py - basics_bam - multi_fetch() - DEBUG - Extracting interval: 10:31549665-31550835 from BAM Object for file: ../data/bams/VEUDE_A_1_coordSort_filt.bam\n",
      "2018-08-01 11:18:32,805 - basics_bam.py - basics_bam - multi_fetch() - DEBUG - Extracting interval: 10:31549665-31550835 from BAM Object for file: ../data/bams/VEUDE_A_1_coordSort_filt.bam\n",
      "2018-08-01 11:18:32,805 - basics_bam.py - basics_bam - multi_fetch() - DEBUG - Extracting interval: 10:31549665-31550835 from BAM Object for file: ../data/bams/VEUDE_A_1_coordSort_filt.bam\n",
      "2018-08-01 11:18:32,805 - basics_bam.py - basics_bam - multi_fetch() - DEBUG - Extracting interval: 10:31549665-31550835 from BAM Object for file: ../data/bams/VEUDE_A_1_coordSort_filt.bam\n",
      "DEBUG:basics_bam.py - basics_bam:Extracting interval: 10:31549665-31550835 from BAM Object for file: ../data/bams/VEUDE_A_1_coordSort_filt.bam\n",
      "2018-08-01 11:18:32,819 - basics_bam.py - basics_bam - multi_fetch() - DEBUG - Extracting interval: 10:48608841-48609859 from BAM Object for file: ../data/bams/VEUDE_A_1_coordSort_filt.bam\n",
      "2018-08-01 11:18:32,819 - basics_bam.py - basics_bam - multi_fetch() - DEBUG - Extracting interval: 10:48608841-48609859 from BAM Object for file: ../data/bams/VEUDE_A_1_coordSort_filt.bam\n",
      "2018-08-01 11:18:32,819 - basics_bam.py - basics_bam - multi_fetch() - DEBUG - Extracting interval: 10:48608841-48609859 from BAM Object for file: ../data/bams/VEUDE_A_1_coordSort_filt.bam\n",
      "2018-08-01 11:18:32,819 - basics_bam.py - basics_bam - multi_fetch() - DEBUG - Extracting interval: 10:48608841-48609859 from BAM Object for file: ../data/bams/VEUDE_A_1_coordSort_filt.bam\n",
      "2018-08-01 11:18:32,819 - basics_bam.py - basics_bam - multi_fetch() - DEBUG - Extracting interval: 10:48608841-48609859 from BAM Object for file: ../data/bams/VEUDE_A_1_coordSort_filt.bam\n",
      "DEBUG:basics_bam.py - basics_bam:Extracting interval: 10:48608841-48609859 from BAM Object for file: ../data/bams/VEUDE_A_1_coordSort_filt.bam\n",
      "2018-08-01 11:18:32,837 - basics_bam.py - basics_bam - multi_fetch() - DEBUG - Extracting interval: 10:69546063-69547482 from BAM Object for file: ../data/bams/VEUDE_A_1_coordSort_filt.bam\n",
      "2018-08-01 11:18:32,837 - basics_bam.py - basics_bam - multi_fetch() - DEBUG - Extracting interval: 10:69546063-69547482 from BAM Object for file: ../data/bams/VEUDE_A_1_coordSort_filt.bam\n",
      "2018-08-01 11:18:32,837 - basics_bam.py - basics_bam - multi_fetch() - DEBUG - Extracting interval: 10:69546063-69547482 from BAM Object for file: ../data/bams/VEUDE_A_1_coordSort_filt.bam\n",
      "2018-08-01 11:18:32,837 - basics_bam.py - basics_bam - multi_fetch() - DEBUG - Extracting interval: 10:69546063-69547482 from BAM Object for file: ../data/bams/VEUDE_A_1_coordSort_filt.bam\n",
      "2018-08-01 11:18:32,837 - basics_bam.py - basics_bam - multi_fetch() - DEBUG - Extracting interval: 10:69546063-69547482 from BAM Object for file: ../data/bams/VEUDE_A_1_coordSort_filt.bam\n",
      "DEBUG:basics_bam.py - basics_bam:Extracting interval: 10:69546063-69547482 from BAM Object for file: ../data/bams/VEUDE_A_1_coordSort_filt.bam\n",
      "2018-08-01 11:18:32,845 - basics_bam.py - basics_bam - multi_fetch() - DEBUG - Extracting interval: 11:108491750-108493969 from BAM Object for file: ../data/bams/VEUDE_A_1_coordSort_filt.bam\n",
      "2018-08-01 11:18:32,845 - basics_bam.py - basics_bam - multi_fetch() - DEBUG - Extracting interval: 11:108491750-108493969 from BAM Object for file: ../data/bams/VEUDE_A_1_coordSort_filt.bam\n",
      "2018-08-01 11:18:32,845 - basics_bam.py - basics_bam - multi_fetch() - DEBUG - Extracting interval: 11:108491750-108493969 from BAM Object for file: ../data/bams/VEUDE_A_1_coordSort_filt.bam\n",
      "2018-08-01 11:18:32,845 - basics_bam.py - basics_bam - multi_fetch() - DEBUG - Extracting interval: 11:108491750-108493969 from BAM Object for file: ../data/bams/VEUDE_A_1_coordSort_filt.bam\n",
      "2018-08-01 11:18:32,845 - basics_bam.py - basics_bam - multi_fetch() - DEBUG - Extracting interval: 11:108491750-108493969 from BAM Object for file: ../data/bams/VEUDE_A_1_coordSort_filt.bam\n",
      "DEBUG:basics_bam.py - basics_bam:Extracting interval: 11:108491750-108493969 from BAM Object for file: ../data/bams/VEUDE_A_1_coordSort_filt.bam\n",
      "2018-08-01 11:18:32,866 - basics_bam.py - basics_bam - multi_fetch() - DEBUG - Extracting interval: 11:108494858-108496123 from BAM Object for file: ../data/bams/VEUDE_A_1_coordSort_filt.bam\n",
      "2018-08-01 11:18:32,866 - basics_bam.py - basics_bam - multi_fetch() - DEBUG - Extracting interval: 11:108494858-108496123 from BAM Object for file: ../data/bams/VEUDE_A_1_coordSort_filt.bam\n",
      "2018-08-01 11:18:32,866 - basics_bam.py - basics_bam - multi_fetch() - DEBUG - Extracting interval: 11:108494858-108496123 from BAM Object for file: ../data/bams/VEUDE_A_1_coordSort_filt.bam\n",
      "2018-08-01 11:18:32,866 - basics_bam.py - basics_bam - multi_fetch() - DEBUG - Extracting interval: 11:108494858-108496123 from BAM Object for file: ../data/bams/VEUDE_A_1_coordSort_filt.bam\n",
      "2018-08-01 11:18:32,866 - basics_bam.py - basics_bam - multi_fetch() - DEBUG - Extracting interval: 11:108494858-108496123 from BAM Object for file: ../data/bams/VEUDE_A_1_coordSort_filt.bam\n",
      "DEBUG:basics_bam.py - basics_bam:Extracting interval: 11:108494858-108496123 from BAM Object for file: ../data/bams/VEUDE_A_1_coordSort_filt.bam\n",
      "2018-08-01 11:18:32,876 - basics_bam.py - basics_bam - multi_fetch() - DEBUG - Extracting interval: 11:126763239-126764653 from BAM Object for file: ../data/bams/VEUDE_A_1_coordSort_filt.bam\n",
      "2018-08-01 11:18:32,876 - basics_bam.py - basics_bam - multi_fetch() - DEBUG - Extracting interval: 11:126763239-126764653 from BAM Object for file: ../data/bams/VEUDE_A_1_coordSort_filt.bam\n",
      "2018-08-01 11:18:32,876 - basics_bam.py - basics_bam - multi_fetch() - DEBUG - Extracting interval: 11:126763239-126764653 from BAM Object for file: ../data/bams/VEUDE_A_1_coordSort_filt.bam\n",
      "2018-08-01 11:18:32,876 - basics_bam.py - basics_bam - multi_fetch() - DEBUG - Extracting interval: 11:126763239-126764653 from BAM Object for file: ../data/bams/VEUDE_A_1_coordSort_filt.bam\n",
      "2018-08-01 11:18:32,876 - basics_bam.py - basics_bam - multi_fetch() - DEBUG - Extracting interval: 11:126763239-126764653 from BAM Object for file: ../data/bams/VEUDE_A_1_coordSort_filt.bam\n",
      "DEBUG:basics_bam.py - basics_bam:Extracting interval: 11:126763239-126764653 from BAM Object for file: ../data/bams/VEUDE_A_1_coordSort_filt.bam\n",
      "2018-08-01 11:18:32,894 - basics_bam.py - basics_bam - multi_fetch() - DEBUG - Extracting interval: 11:76317699-76318864 from BAM Object for file: ../data/bams/VEUDE_A_1_coordSort_filt.bam\n",
      "2018-08-01 11:18:32,894 - basics_bam.py - basics_bam - multi_fetch() - DEBUG - Extracting interval: 11:76317699-76318864 from BAM Object for file: ../data/bams/VEUDE_A_1_coordSort_filt.bam\n",
      "2018-08-01 11:18:32,894 - basics_bam.py - basics_bam - multi_fetch() - DEBUG - Extracting interval: 11:76317699-76318864 from BAM Object for file: ../data/bams/VEUDE_A_1_coordSort_filt.bam\n",
      "2018-08-01 11:18:32,894 - basics_bam.py - basics_bam - multi_fetch() - DEBUG - Extracting interval: 11:76317699-76318864 from BAM Object for file: ../data/bams/VEUDE_A_1_coordSort_filt.bam\n",
      "2018-08-01 11:18:32,894 - basics_bam.py - basics_bam - multi_fetch() - DEBUG - Extracting interval: 11:76317699-76318864 from BAM Object for file: ../data/bams/VEUDE_A_1_coordSort_filt.bam\n",
      "DEBUG:basics_bam.py - basics_bam:Extracting interval: 11:76317699-76318864 from BAM Object for file: ../data/bams/VEUDE_A_1_coordSort_filt.bam\n",
      "2018-08-01 11:18:32,911 - basics_bam.py - basics_bam - multi_fetch() - DEBUG - Extracting interval: 12:101959588-101960882 from BAM Object for file: ../data/bams/VEUDE_A_1_coordSort_filt.bam\n",
      "2018-08-01 11:18:32,911 - basics_bam.py - basics_bam - multi_fetch() - DEBUG - Extracting interval: 12:101959588-101960882 from BAM Object for file: ../data/bams/VEUDE_A_1_coordSort_filt.bam\n",
      "2018-08-01 11:18:32,911 - basics_bam.py - basics_bam - multi_fetch() - DEBUG - Extracting interval: 12:101959588-101960882 from BAM Object for file: ../data/bams/VEUDE_A_1_coordSort_filt.bam\n",
      "2018-08-01 11:18:32,911 - basics_bam.py - basics_bam - multi_fetch() - DEBUG - Extracting interval: 12:101959588-101960882 from BAM Object for file: ../data/bams/VEUDE_A_1_coordSort_filt.bam\n",
      "2018-08-01 11:18:32,911 - basics_bam.py - basics_bam - multi_fetch() - DEBUG - Extracting interval: 12:101959588-101960882 from BAM Object for file: ../data/bams/VEUDE_A_1_coordSort_filt.bam\n",
      "DEBUG:basics_bam.py - basics_bam:Extracting interval: 12:101959588-101960882 from BAM Object for file: ../data/bams/VEUDE_A_1_coordSort_filt.bam\n",
      "2018-08-01 11:18:32,924 - basics_bam.py - basics_bam - multi_fetch() - DEBUG - Extracting interval: 13:21761824-21763230 from BAM Object for file: ../data/bams/VEUDE_A_1_coordSort_filt.bam\n",
      "2018-08-01 11:18:32,924 - basics_bam.py - basics_bam - multi_fetch() - DEBUG - Extracting interval: 13:21761824-21763230 from BAM Object for file: ../data/bams/VEUDE_A_1_coordSort_filt.bam\n",
      "2018-08-01 11:18:32,924 - basics_bam.py - basics_bam - multi_fetch() - DEBUG - Extracting interval: 13:21761824-21763230 from BAM Object for file: ../data/bams/VEUDE_A_1_coordSort_filt.bam\n",
      "2018-08-01 11:18:32,924 - basics_bam.py - basics_bam - multi_fetch() - DEBUG - Extracting interval: 13:21761824-21763230 from BAM Object for file: ../data/bams/VEUDE_A_1_coordSort_filt.bam\n",
      "2018-08-01 11:18:32,924 - basics_bam.py - basics_bam - multi_fetch() - DEBUG - Extracting interval: 13:21761824-21763230 from BAM Object for file: ../data/bams/VEUDE_A_1_coordSort_filt.bam\n",
      "DEBUG:basics_bam.py - basics_bam:Extracting interval: 13:21761824-21763230 from BAM Object for file: ../data/bams/VEUDE_A_1_coordSort_filt.bam\n",
      "2018-08-01 11:18:32,946 - basics_bam.py - basics_bam - multi_fetch() - DEBUG - Extracting interval: 13:81026233-81027806 from BAM Object for file: ../data/bams/VEUDE_A_1_coordSort_filt.bam\n",
      "2018-08-01 11:18:32,946 - basics_bam.py - basics_bam - multi_fetch() - DEBUG - Extracting interval: 13:81026233-81027806 from BAM Object for file: ../data/bams/VEUDE_A_1_coordSort_filt.bam\n",
      "2018-08-01 11:18:32,946 - basics_bam.py - basics_bam - multi_fetch() - DEBUG - Extracting interval: 13:81026233-81027806 from BAM Object for file: ../data/bams/VEUDE_A_1_coordSort_filt.bam\n",
      "2018-08-01 11:18:32,946 - basics_bam.py - basics_bam - multi_fetch() - DEBUG - Extracting interval: 13:81026233-81027806 from BAM Object for file: ../data/bams/VEUDE_A_1_coordSort_filt.bam\n",
      "2018-08-01 11:18:32,946 - basics_bam.py - basics_bam - multi_fetch() - DEBUG - Extracting interval: 13:81026233-81027806 from BAM Object for file: ../data/bams/VEUDE_A_1_coordSort_filt.bam\n",
      "DEBUG:basics_bam.py - basics_bam:Extracting interval: 13:81026233-81027806 from BAM Object for file: ../data/bams/VEUDE_A_1_coordSort_filt.bam\n",
      "2018-08-01 11:18:32,967 - basics_bam.py - basics_bam - multi_fetch() - DEBUG - Extracting interval: 14:104537043-104538608 from BAM Object for file: ../data/bams/VEUDE_A_1_coordSort_filt.bam\n",
      "2018-08-01 11:18:32,967 - basics_bam.py - basics_bam - multi_fetch() - DEBUG - Extracting interval: 14:104537043-104538608 from BAM Object for file: ../data/bams/VEUDE_A_1_coordSort_filt.bam\n",
      "2018-08-01 11:18:32,967 - basics_bam.py - basics_bam - multi_fetch() - DEBUG - Extracting interval: 14:104537043-104538608 from BAM Object for file: ../data/bams/VEUDE_A_1_coordSort_filt.bam\n",
      "2018-08-01 11:18:32,967 - basics_bam.py - basics_bam - multi_fetch() - DEBUG - Extracting interval: 14:104537043-104538608 from BAM Object for file: ../data/bams/VEUDE_A_1_coordSort_filt.bam\n",
      "2018-08-01 11:18:32,967 - basics_bam.py - basics_bam - multi_fetch() - DEBUG - Extracting interval: 14:104537043-104538608 from BAM Object for file: ../data/bams/VEUDE_A_1_coordSort_filt.bam\n",
      "DEBUG:basics_bam.py - basics_bam:Extracting interval: 14:104537043-104538608 from BAM Object for file: ../data/bams/VEUDE_A_1_coordSort_filt.bam\n",
      "2018-08-01 11:18:32,990 - basics_bam.py - basics_bam - multi_fetch() - DEBUG - Extracting interval: 14:55386994-55388122 from BAM Object for file: ../data/bams/VEUDE_A_1_coordSort_filt.bam\n",
      "2018-08-01 11:18:32,990 - basics_bam.py - basics_bam - multi_fetch() - DEBUG - Extracting interval: 14:55386994-55388122 from BAM Object for file: ../data/bams/VEUDE_A_1_coordSort_filt.bam\n",
      "2018-08-01 11:18:32,990 - basics_bam.py - basics_bam - multi_fetch() - DEBUG - Extracting interval: 14:55386994-55388122 from BAM Object for file: ../data/bams/VEUDE_A_1_coordSort_filt.bam\n",
      "2018-08-01 11:18:32,990 - basics_bam.py - basics_bam - multi_fetch() - DEBUG - Extracting interval: 14:55386994-55388122 from BAM Object for file: ../data/bams/VEUDE_A_1_coordSort_filt.bam\n",
      "2018-08-01 11:18:32,990 - basics_bam.py - basics_bam - multi_fetch() - DEBUG - Extracting interval: 14:55386994-55388122 from BAM Object for file: ../data/bams/VEUDE_A_1_coordSort_filt.bam\n",
      "DEBUG:basics_bam.py - basics_bam:Extracting interval: 14:55386994-55388122 from BAM Object for file: ../data/bams/VEUDE_A_1_coordSort_filt.bam\n",
      "2018-08-01 11:18:33,009 - basics_bam.py - basics_bam - multi_fetch() - DEBUG - Extracting interval: 15:47936402-47937576 from BAM Object for file: ../data/bams/VEUDE_A_1_coordSort_filt.bam\n",
      "2018-08-01 11:18:33,009 - basics_bam.py - basics_bam - multi_fetch() - DEBUG - Extracting interval: 15:47936402-47937576 from BAM Object for file: ../data/bams/VEUDE_A_1_coordSort_filt.bam\n",
      "2018-08-01 11:18:33,009 - basics_bam.py - basics_bam - multi_fetch() - DEBUG - Extracting interval: 15:47936402-47937576 from BAM Object for file: ../data/bams/VEUDE_A_1_coordSort_filt.bam\n",
      "2018-08-01 11:18:33,009 - basics_bam.py - basics_bam - multi_fetch() - DEBUG - Extracting interval: 15:47936402-47937576 from BAM Object for file: ../data/bams/VEUDE_A_1_coordSort_filt.bam\n",
      "2018-08-01 11:18:33,009 - basics_bam.py - basics_bam - multi_fetch() - DEBUG - Extracting interval: 15:47936402-47937576 from BAM Object for file: ../data/bams/VEUDE_A_1_coordSort_filt.bam\n",
      "DEBUG:basics_bam.py - basics_bam:Extracting interval: 15:47936402-47937576 from BAM Object for file: ../data/bams/VEUDE_A_1_coordSort_filt.bam\n",
      "2018-08-01 11:18:33,019 - basics_bam.py - basics_bam - multi_fetch() - DEBUG - Extracting interval: 16:85052325-85054726 from BAM Object for file: ../data/bams/VEUDE_A_1_coordSort_filt.bam\n",
      "2018-08-01 11:18:33,019 - basics_bam.py - basics_bam - multi_fetch() - DEBUG - Extracting interval: 16:85052325-85054726 from BAM Object for file: ../data/bams/VEUDE_A_1_coordSort_filt.bam\n",
      "2018-08-01 11:18:33,019 - basics_bam.py - basics_bam - multi_fetch() - DEBUG - Extracting interval: 16:85052325-85054726 from BAM Object for file: ../data/bams/VEUDE_A_1_coordSort_filt.bam\n",
      "2018-08-01 11:18:33,019 - basics_bam.py - basics_bam - multi_fetch() - DEBUG - Extracting interval: 16:85052325-85054726 from BAM Object for file: ../data/bams/VEUDE_A_1_coordSort_filt.bam\n",
      "2018-08-01 11:18:33,019 - basics_bam.py - basics_bam - multi_fetch() - DEBUG - Extracting interval: 16:85052325-85054726 from BAM Object for file: ../data/bams/VEUDE_A_1_coordSort_filt.bam\n",
      "DEBUG:basics_bam.py - basics_bam:Extracting interval: 16:85052325-85054726 from BAM Object for file: ../data/bams/VEUDE_A_1_coordSort_filt.bam\n",
      "2018-08-01 11:18:33,040 - basics_bam.py - basics_bam - multi_fetch() - DEBUG - Extracting interval: 18:44809957-44811180 from BAM Object for file: ../data/bams/VEUDE_A_1_coordSort_filt.bam\n",
      "2018-08-01 11:18:33,040 - basics_bam.py - basics_bam - multi_fetch() - DEBUG - Extracting interval: 18:44809957-44811180 from BAM Object for file: ../data/bams/VEUDE_A_1_coordSort_filt.bam\n",
      "2018-08-01 11:18:33,040 - basics_bam.py - basics_bam - multi_fetch() - DEBUG - Extracting interval: 18:44809957-44811180 from BAM Object for file: ../data/bams/VEUDE_A_1_coordSort_filt.bam\n",
      "2018-08-01 11:18:33,040 - basics_bam.py - basics_bam - multi_fetch() - DEBUG - Extracting interval: 18:44809957-44811180 from BAM Object for file: ../data/bams/VEUDE_A_1_coordSort_filt.bam\n",
      "2018-08-01 11:18:33,040 - basics_bam.py - basics_bam - multi_fetch() - DEBUG - Extracting interval: 18:44809957-44811180 from BAM Object for file: ../data/bams/VEUDE_A_1_coordSort_filt.bam\n",
      "DEBUG:basics_bam.py - basics_bam:Extracting interval: 18:44809957-44811180 from BAM Object for file: ../data/bams/VEUDE_A_1_coordSort_filt.bam\n",
      "2018-08-01 11:18:33,048 - basics_bam.py - basics_bam - multi_fetch() - DEBUG - Extracting interval: 2:157752315-157754855 from BAM Object for file: ../data/bams/VEUDE_A_1_coordSort_filt.bam\n",
      "2018-08-01 11:18:33,048 - basics_bam.py - basics_bam - multi_fetch() - DEBUG - Extracting interval: 2:157752315-157754855 from BAM Object for file: ../data/bams/VEUDE_A_1_coordSort_filt.bam\n",
      "2018-08-01 11:18:33,048 - basics_bam.py - basics_bam - multi_fetch() - DEBUG - Extracting interval: 2:157752315-157754855 from BAM Object for file: ../data/bams/VEUDE_A_1_coordSort_filt.bam\n",
      "2018-08-01 11:18:33,048 - basics_bam.py - basics_bam - multi_fetch() - DEBUG - Extracting interval: 2:157752315-157754855 from BAM Object for file: ../data/bams/VEUDE_A_1_coordSort_filt.bam\n",
      "2018-08-01 11:18:33,048 - basics_bam.py - basics_bam - multi_fetch() - DEBUG - Extracting interval: 2:157752315-157754855 from BAM Object for file: ../data/bams/VEUDE_A_1_coordSort_filt.bam\n",
      "DEBUG:basics_bam.py - basics_bam:Extracting interval: 2:157752315-157754855 from BAM Object for file: ../data/bams/VEUDE_A_1_coordSort_filt.bam\n",
      "2018-08-01 11:18:33,055 - basics_bam.py - basics_bam - multi_fetch() - DEBUG - Extracting interval: 2:166296503-166297685 from BAM Object for file: ../data/bams/VEUDE_A_1_coordSort_filt.bam\n",
      "2018-08-01 11:18:33,055 - basics_bam.py - basics_bam - multi_fetch() - DEBUG - Extracting interval: 2:166296503-166297685 from BAM Object for file: ../data/bams/VEUDE_A_1_coordSort_filt.bam\n",
      "2018-08-01 11:18:33,055 - basics_bam.py - basics_bam - multi_fetch() - DEBUG - Extracting interval: 2:166296503-166297685 from BAM Object for file: ../data/bams/VEUDE_A_1_coordSort_filt.bam\n",
      "2018-08-01 11:18:33,055 - basics_bam.py - basics_bam - multi_fetch() - DEBUG - Extracting interval: 2:166296503-166297685 from BAM Object for file: ../data/bams/VEUDE_A_1_coordSort_filt.bam\n",
      "2018-08-01 11:18:33,055 - basics_bam.py - basics_bam - multi_fetch() - DEBUG - Extracting interval: 2:166296503-166297685 from BAM Object for file: ../data/bams/VEUDE_A_1_coordSort_filt.bam\n",
      "DEBUG:basics_bam.py - basics_bam:Extracting interval: 2:166296503-166297685 from BAM Object for file: ../data/bams/VEUDE_A_1_coordSort_filt.bam\n",
      "2018-08-01 11:18:33,069 - basics_bam.py - basics_bam - multi_fetch() - DEBUG - Extracting interval: 2:187153516-187154852 from BAM Object for file: ../data/bams/VEUDE_A_1_coordSort_filt.bam\n",
      "2018-08-01 11:18:33,069 - basics_bam.py - basics_bam - multi_fetch() - DEBUG - Extracting interval: 2:187153516-187154852 from BAM Object for file: ../data/bams/VEUDE_A_1_coordSort_filt.bam\n",
      "2018-08-01 11:18:33,069 - basics_bam.py - basics_bam - multi_fetch() - DEBUG - Extracting interval: 2:187153516-187154852 from BAM Object for file: ../data/bams/VEUDE_A_1_coordSort_filt.bam\n",
      "2018-08-01 11:18:33,069 - basics_bam.py - basics_bam - multi_fetch() - DEBUG - Extracting interval: 2:187153516-187154852 from BAM Object for file: ../data/bams/VEUDE_A_1_coordSort_filt.bam\n",
      "2018-08-01 11:18:33,069 - basics_bam.py - basics_bam - multi_fetch() - DEBUG - Extracting interval: 2:187153516-187154852 from BAM Object for file: ../data/bams/VEUDE_A_1_coordSort_filt.bam\n",
      "DEBUG:basics_bam.py - basics_bam:Extracting interval: 2:187153516-187154852 from BAM Object for file: ../data/bams/VEUDE_A_1_coordSort_filt.bam\n",
      "2018-08-01 11:18:33,090 - basics_bam.py - basics_bam - multi_fetch() - DEBUG - Extracting interval: 2:194340311-194341794 from BAM Object for file: ../data/bams/VEUDE_A_1_coordSort_filt.bam\n",
      "2018-08-01 11:18:33,090 - basics_bam.py - basics_bam - multi_fetch() - DEBUG - Extracting interval: 2:194340311-194341794 from BAM Object for file: ../data/bams/VEUDE_A_1_coordSort_filt.bam\n",
      "2018-08-01 11:18:33,090 - basics_bam.py - basics_bam - multi_fetch() - DEBUG - Extracting interval: 2:194340311-194341794 from BAM Object for file: ../data/bams/VEUDE_A_1_coordSort_filt.bam\n",
      "2018-08-01 11:18:33,090 - basics_bam.py - basics_bam - multi_fetch() - DEBUG - Extracting interval: 2:194340311-194341794 from BAM Object for file: ../data/bams/VEUDE_A_1_coordSort_filt.bam\n",
      "2018-08-01 11:18:33,090 - basics_bam.py - basics_bam - multi_fetch() - DEBUG - Extracting interval: 2:194340311-194341794 from BAM Object for file: ../data/bams/VEUDE_A_1_coordSort_filt.bam\n",
      "DEBUG:basics_bam.py - basics_bam:Extracting interval: 2:194340311-194341794 from BAM Object for file: ../data/bams/VEUDE_A_1_coordSort_filt.bam\n",
      "2018-08-01 11:18:33,097 - basics_bam.py - basics_bam - multi_fetch() - DEBUG - Extracting interval: 2:73949410-73950976 from BAM Object for file: ../data/bams/VEUDE_A_1_coordSort_filt.bam\n",
      "2018-08-01 11:18:33,097 - basics_bam.py - basics_bam - multi_fetch() - DEBUG - Extracting interval: 2:73949410-73950976 from BAM Object for file: ../data/bams/VEUDE_A_1_coordSort_filt.bam\n",
      "2018-08-01 11:18:33,097 - basics_bam.py - basics_bam - multi_fetch() - DEBUG - Extracting interval: 2:73949410-73950976 from BAM Object for file: ../data/bams/VEUDE_A_1_coordSort_filt.bam\n",
      "2018-08-01 11:18:33,097 - basics_bam.py - basics_bam - multi_fetch() - DEBUG - Extracting interval: 2:73949410-73950976 from BAM Object for file: ../data/bams/VEUDE_A_1_coordSort_filt.bam\n",
      "2018-08-01 11:18:33,097 - basics_bam.py - basics_bam - multi_fetch() - DEBUG - Extracting interval: 2:73949410-73950976 from BAM Object for file: ../data/bams/VEUDE_A_1_coordSort_filt.bam\n",
      "DEBUG:basics_bam.py - basics_bam:Extracting interval: 2:73949410-73950976 from BAM Object for file: ../data/bams/VEUDE_A_1_coordSort_filt.bam\n",
      "2018-08-01 11:18:33,110 - basics_bam.py - basics_bam - multi_fetch() - DEBUG - Extracting interval: 2:77088433-77089662 from BAM Object for file: ../data/bams/VEUDE_A_1_coordSort_filt.bam\n",
      "2018-08-01 11:18:33,110 - basics_bam.py - basics_bam - multi_fetch() - DEBUG - Extracting interval: 2:77088433-77089662 from BAM Object for file: ../data/bams/VEUDE_A_1_coordSort_filt.bam\n",
      "2018-08-01 11:18:33,110 - basics_bam.py - basics_bam - multi_fetch() - DEBUG - Extracting interval: 2:77088433-77089662 from BAM Object for file: ../data/bams/VEUDE_A_1_coordSort_filt.bam\n",
      "2018-08-01 11:18:33,110 - basics_bam.py - basics_bam - multi_fetch() - DEBUG - Extracting interval: 2:77088433-77089662 from BAM Object for file: ../data/bams/VEUDE_A_1_coordSort_filt.bam\n",
      "2018-08-01 11:18:33,110 - basics_bam.py - basics_bam - multi_fetch() - DEBUG - Extracting interval: 2:77088433-77089662 from BAM Object for file: ../data/bams/VEUDE_A_1_coordSort_filt.bam\n",
      "DEBUG:basics_bam.py - basics_bam:Extracting interval: 2:77088433-77089662 from BAM Object for file: ../data/bams/VEUDE_A_1_coordSort_filt.bam\n",
      "2018-08-01 11:18:33,118 - basics_bam.py - basics_bam - multi_fetch() - DEBUG - Extracting interval: 22:32696272-32698887 from BAM Object for file: ../data/bams/VEUDE_A_1_coordSort_filt.bam\n",
      "2018-08-01 11:18:33,118 - basics_bam.py - basics_bam - multi_fetch() - DEBUG - Extracting interval: 22:32696272-32698887 from BAM Object for file: ../data/bams/VEUDE_A_1_coordSort_filt.bam\n",
      "2018-08-01 11:18:33,118 - basics_bam.py - basics_bam - multi_fetch() - DEBUG - Extracting interval: 22:32696272-32698887 from BAM Object for file: ../data/bams/VEUDE_A_1_coordSort_filt.bam\n",
      "2018-08-01 11:18:33,118 - basics_bam.py - basics_bam - multi_fetch() - DEBUG - Extracting interval: 22:32696272-32698887 from BAM Object for file: ../data/bams/VEUDE_A_1_coordSort_filt.bam\n",
      "2018-08-01 11:18:33,118 - basics_bam.py - basics_bam - multi_fetch() - DEBUG - Extracting interval: 22:32696272-32698887 from BAM Object for file: ../data/bams/VEUDE_A_1_coordSort_filt.bam\n",
      "DEBUG:basics_bam.py - basics_bam:Extracting interval: 22:32696272-32698887 from BAM Object for file: ../data/bams/VEUDE_A_1_coordSort_filt.bam\n",
      "2018-08-01 11:18:33,132 - basics_bam.py - basics_bam - multi_fetch() - DEBUG - Extracting interval: 3:117465398-117466937 from BAM Object for file: ../data/bams/VEUDE_A_1_coordSort_filt.bam\n",
      "2018-08-01 11:18:33,132 - basics_bam.py - basics_bam - multi_fetch() - DEBUG - Extracting interval: 3:117465398-117466937 from BAM Object for file: ../data/bams/VEUDE_A_1_coordSort_filt.bam\n",
      "2018-08-01 11:18:33,132 - basics_bam.py - basics_bam - multi_fetch() - DEBUG - Extracting interval: 3:117465398-117466937 from BAM Object for file: ../data/bams/VEUDE_A_1_coordSort_filt.bam\n",
      "2018-08-01 11:18:33,132 - basics_bam.py - basics_bam - multi_fetch() - DEBUG - Extracting interval: 3:117465398-117466937 from BAM Object for file: ../data/bams/VEUDE_A_1_coordSort_filt.bam\n",
      "2018-08-01 11:18:33,132 - basics_bam.py - basics_bam - multi_fetch() - DEBUG - Extracting interval: 3:117465398-117466937 from BAM Object for file: ../data/bams/VEUDE_A_1_coordSort_filt.bam\n",
      "DEBUG:basics_bam.py - basics_bam:Extracting interval: 3:117465398-117466937 from BAM Object for file: ../data/bams/VEUDE_A_1_coordSort_filt.bam\n",
      "2018-08-01 11:18:33,151 - basics_bam.py - basics_bam - multi_fetch() - DEBUG - Extracting interval: 3:161487733-161489121 from BAM Object for file: ../data/bams/VEUDE_A_1_coordSort_filt.bam\n",
      "2018-08-01 11:18:33,151 - basics_bam.py - basics_bam - multi_fetch() - DEBUG - Extracting interval: 3:161487733-161489121 from BAM Object for file: ../data/bams/VEUDE_A_1_coordSort_filt.bam\n",
      "2018-08-01 11:18:33,151 - basics_bam.py - basics_bam - multi_fetch() - DEBUG - Extracting interval: 3:161487733-161489121 from BAM Object for file: ../data/bams/VEUDE_A_1_coordSort_filt.bam\n",
      "2018-08-01 11:18:33,151 - basics_bam.py - basics_bam - multi_fetch() - DEBUG - Extracting interval: 3:161487733-161489121 from BAM Object for file: ../data/bams/VEUDE_A_1_coordSort_filt.bam\n",
      "2018-08-01 11:18:33,151 - basics_bam.py - basics_bam - multi_fetch() - DEBUG - Extracting interval: 3:161487733-161489121 from BAM Object for file: ../data/bams/VEUDE_A_1_coordSort_filt.bam\n",
      "DEBUG:basics_bam.py - basics_bam:Extracting interval: 3:161487733-161489121 from BAM Object for file: ../data/bams/VEUDE_A_1_coordSort_filt.bam\n",
      "2018-08-01 11:18:33,316 - basics_bam.py - basics_bam - multi_fetch() - DEBUG - Extracting interval: 5:19004800-19044400 from BAM Object for file: ../data/bams/Compoud_A_1_coordSort_filt.bam\n",
      "2018-08-01 11:18:33,316 - basics_bam.py - basics_bam - multi_fetch() - DEBUG - Extracting interval: 5:19004800-19044400 from BAM Object for file: ../data/bams/Compoud_A_1_coordSort_filt.bam\n",
      "2018-08-01 11:18:33,316 - basics_bam.py - basics_bam - multi_fetch() - DEBUG - Extracting interval: 5:19004800-19044400 from BAM Object for file: ../data/bams/Compoud_A_1_coordSort_filt.bam\n",
      "2018-08-01 11:18:33,316 - basics_bam.py - basics_bam - multi_fetch() - DEBUG - Extracting interval: 5:19004800-19044400 from BAM Object for file: ../data/bams/Compoud_A_1_coordSort_filt.bam\n",
      "2018-08-01 11:18:33,316 - basics_bam.py - basics_bam - multi_fetch() - DEBUG - Extracting interval: 5:19004800-19044400 from BAM Object for file: ../data/bams/Compoud_A_1_coordSort_filt.bam\n",
      "DEBUG:basics_bam.py - basics_bam:Extracting interval: 5:19004800-19044400 from BAM Object for file: ../data/bams/Compoud_A_1_coordSort_filt.bam\n",
      "2018-08-01 11:18:33,326 - basics_bam.py - basics_bam - multi_fetch() - DEBUG - Extracting interval: 6:87796000-87830200 from BAM Object for file: ../data/bams/Compoud_A_1_coordSort_filt.bam\n",
      "2018-08-01 11:18:33,326 - basics_bam.py - basics_bam - multi_fetch() - DEBUG - Extracting interval: 6:87796000-87830200 from BAM Object for file: ../data/bams/Compoud_A_1_coordSort_filt.bam\n",
      "2018-08-01 11:18:33,326 - basics_bam.py - basics_bam - multi_fetch() - DEBUG - Extracting interval: 6:87796000-87830200 from BAM Object for file: ../data/bams/Compoud_A_1_coordSort_filt.bam\n",
      "2018-08-01 11:18:33,326 - basics_bam.py - basics_bam - multi_fetch() - DEBUG - Extracting interval: 6:87796000-87830200 from BAM Object for file: ../data/bams/Compoud_A_1_coordSort_filt.bam\n",
      "2018-08-01 11:18:33,326 - basics_bam.py - basics_bam - multi_fetch() - DEBUG - Extracting interval: 6:87796000-87830200 from BAM Object for file: ../data/bams/Compoud_A_1_coordSort_filt.bam\n",
      "DEBUG:basics_bam.py - basics_bam:Extracting interval: 6:87796000-87830200 from BAM Object for file: ../data/bams/Compoud_A_1_coordSort_filt.bam\n",
      "2018-08-01 11:18:33,336 - basics_bam.py - basics_bam - multi_fetch() - DEBUG - Extracting interval: 4:23304600-23335200 from BAM Object for file: ../data/bams/Compoud_A_1_coordSort_filt.bam\n",
      "2018-08-01 11:18:33,336 - basics_bam.py - basics_bam - multi_fetch() - DEBUG - Extracting interval: 4:23304600-23335200 from BAM Object for file: ../data/bams/Compoud_A_1_coordSort_filt.bam\n",
      "2018-08-01 11:18:33,336 - basics_bam.py - basics_bam - multi_fetch() - DEBUG - Extracting interval: 4:23304600-23335200 from BAM Object for file: ../data/bams/Compoud_A_1_coordSort_filt.bam\n",
      "2018-08-01 11:18:33,336 - basics_bam.py - basics_bam - multi_fetch() - DEBUG - Extracting interval: 4:23304600-23335200 from BAM Object for file: ../data/bams/Compoud_A_1_coordSort_filt.bam\n",
      "2018-08-01 11:18:33,336 - basics_bam.py - basics_bam - multi_fetch() - DEBUG - Extracting interval: 4:23304600-23335200 from BAM Object for file: ../data/bams/Compoud_A_1_coordSort_filt.bam\n",
      "DEBUG:basics_bam.py - basics_bam:Extracting interval: 4:23304600-23335200 from BAM Object for file: ../data/bams/Compoud_A_1_coordSort_filt.bam\n",
      "2018-08-01 11:18:33,348 - basics_bam.py - basics_bam - multi_fetch() - DEBUG - Extracting interval: 1:126681200-126836600 from BAM Object for file: ../data/bams/Compoud_A_1_coordSort_filt.bam\n",
      "2018-08-01 11:18:33,348 - basics_bam.py - basics_bam - multi_fetch() - DEBUG - Extracting interval: 1:126681200-126836600 from BAM Object for file: ../data/bams/Compoud_A_1_coordSort_filt.bam\n",
      "2018-08-01 11:18:33,348 - basics_bam.py - basics_bam - multi_fetch() - DEBUG - Extracting interval: 1:126681200-126836600 from BAM Object for file: ../data/bams/Compoud_A_1_coordSort_filt.bam\n",
      "2018-08-01 11:18:33,348 - basics_bam.py - basics_bam - multi_fetch() - DEBUG - Extracting interval: 1:126681200-126836600 from BAM Object for file: ../data/bams/Compoud_A_1_coordSort_filt.bam\n",
      "2018-08-01 11:18:33,348 - basics_bam.py - basics_bam - multi_fetch() - DEBUG - Extracting interval: 1:126681200-126836600 from BAM Object for file: ../data/bams/Compoud_A_1_coordSort_filt.bam\n",
      "DEBUG:basics_bam.py - basics_bam:Extracting interval: 1:126681200-126836600 from BAM Object for file: ../data/bams/Compoud_A_1_coordSort_filt.bam\n",
      "2018-08-01 11:18:33,359 - basics_bam.py - basics_bam - multi_fetch() - DEBUG - Extracting interval: 4:83935200-83955400 from BAM Object for file: ../data/bams/Compoud_A_1_coordSort_filt.bam\n",
      "2018-08-01 11:18:33,359 - basics_bam.py - basics_bam - multi_fetch() - DEBUG - Extracting interval: 4:83935200-83955400 from BAM Object for file: ../data/bams/Compoud_A_1_coordSort_filt.bam\n",
      "2018-08-01 11:18:33,359 - basics_bam.py - basics_bam - multi_fetch() - DEBUG - Extracting interval: 4:83935200-83955400 from BAM Object for file: ../data/bams/Compoud_A_1_coordSort_filt.bam\n",
      "2018-08-01 11:18:33,359 - basics_bam.py - basics_bam - multi_fetch() - DEBUG - Extracting interval: 4:83935200-83955400 from BAM Object for file: ../data/bams/Compoud_A_1_coordSort_filt.bam\n",
      "2018-08-01 11:18:33,359 - basics_bam.py - basics_bam - multi_fetch() - DEBUG - Extracting interval: 4:83935200-83955400 from BAM Object for file: ../data/bams/Compoud_A_1_coordSort_filt.bam\n",
      "DEBUG:basics_bam.py - basics_bam:Extracting interval: 4:83935200-83955400 from BAM Object for file: ../data/bams/Compoud_A_1_coordSort_filt.bam\n",
      "2018-08-01 11:18:33,376 - basics_bam.py - basics_bam - multi_fetch() - DEBUG - Extracting interval: 2:43480600-43496000 from BAM Object for file: ../data/bams/Compoud_A_1_coordSort_filt.bam\n",
      "2018-08-01 11:18:33,376 - basics_bam.py - basics_bam - multi_fetch() - DEBUG - Extracting interval: 2:43480600-43496000 from BAM Object for file: ../data/bams/Compoud_A_1_coordSort_filt.bam\n",
      "2018-08-01 11:18:33,376 - basics_bam.py - basics_bam - multi_fetch() - DEBUG - Extracting interval: 2:43480600-43496000 from BAM Object for file: ../data/bams/Compoud_A_1_coordSort_filt.bam\n",
      "2018-08-01 11:18:33,376 - basics_bam.py - basics_bam - multi_fetch() - DEBUG - Extracting interval: 2:43480600-43496000 from BAM Object for file: ../data/bams/Compoud_A_1_coordSort_filt.bam\n",
      "2018-08-01 11:18:33,376 - basics_bam.py - basics_bam - multi_fetch() - DEBUG - Extracting interval: 2:43480600-43496000 from BAM Object for file: ../data/bams/Compoud_A_1_coordSort_filt.bam\n",
      "DEBUG:basics_bam.py - basics_bam:Extracting interval: 2:43480600-43496000 from BAM Object for file: ../data/bams/Compoud_A_1_coordSort_filt.bam\n",
      "2018-08-01 11:18:33,397 - basics_bam.py - basics_bam - multi_fetch() - DEBUG - Extracting interval: 3:46343200-46380000 from BAM Object for file: ../data/bams/Compoud_A_1_coordSort_filt.bam\n",
      "2018-08-01 11:18:33,397 - basics_bam.py - basics_bam - multi_fetch() - DEBUG - Extracting interval: 3:46343200-46380000 from BAM Object for file: ../data/bams/Compoud_A_1_coordSort_filt.bam\n",
      "2018-08-01 11:18:33,397 - basics_bam.py - basics_bam - multi_fetch() - DEBUG - Extracting interval: 3:46343200-46380000 from BAM Object for file: ../data/bams/Compoud_A_1_coordSort_filt.bam\n",
      "2018-08-01 11:18:33,397 - basics_bam.py - basics_bam - multi_fetch() - DEBUG - Extracting interval: 3:46343200-46380000 from BAM Object for file: ../data/bams/Compoud_A_1_coordSort_filt.bam\n",
      "2018-08-01 11:18:33,397 - basics_bam.py - basics_bam - multi_fetch() - DEBUG - Extracting interval: 3:46343200-46380000 from BAM Object for file: ../data/bams/Compoud_A_1_coordSort_filt.bam\n",
      "DEBUG:basics_bam.py - basics_bam:Extracting interval: 3:46343200-46380000 from BAM Object for file: ../data/bams/Compoud_A_1_coordSort_filt.bam\n",
      "2018-08-01 11:18:33,411 - basics_bam.py - basics_bam - multi_fetch() - DEBUG - Extracting interval: 1:175072578-175073731 from BAM Object for file: ../data/bams/Compoud_A_1_coordSort_filt.bam\n",
      "2018-08-01 11:18:33,411 - basics_bam.py - basics_bam - multi_fetch() - DEBUG - Extracting interval: 1:175072578-175073731 from BAM Object for file: ../data/bams/Compoud_A_1_coordSort_filt.bam\n",
      "2018-08-01 11:18:33,411 - basics_bam.py - basics_bam - multi_fetch() - DEBUG - Extracting interval: 1:175072578-175073731 from BAM Object for file: ../data/bams/Compoud_A_1_coordSort_filt.bam\n",
      "2018-08-01 11:18:33,411 - basics_bam.py - basics_bam - multi_fetch() - DEBUG - Extracting interval: 1:175072578-175073731 from BAM Object for file: ../data/bams/Compoud_A_1_coordSort_filt.bam\n",
      "2018-08-01 11:18:33,411 - basics_bam.py - basics_bam - multi_fetch() - DEBUG - Extracting interval: 1:175072578-175073731 from BAM Object for file: ../data/bams/Compoud_A_1_coordSort_filt.bam\n",
      "DEBUG:basics_bam.py - basics_bam:Extracting interval: 1:175072578-175073731 from BAM Object for file: ../data/bams/Compoud_A_1_coordSort_filt.bam\n",
      "2018-08-01 11:18:33,422 - basics_bam.py - basics_bam - multi_fetch() - DEBUG - Extracting interval: 1:28981074-28982933 from BAM Object for file: ../data/bams/Compoud_A_1_coordSort_filt.bam\n",
      "2018-08-01 11:18:33,422 - basics_bam.py - basics_bam - multi_fetch() - DEBUG - Extracting interval: 1:28981074-28982933 from BAM Object for file: ../data/bams/Compoud_A_1_coordSort_filt.bam\n",
      "2018-08-01 11:18:33,422 - basics_bam.py - basics_bam - multi_fetch() - DEBUG - Extracting interval: 1:28981074-28982933 from BAM Object for file: ../data/bams/Compoud_A_1_coordSort_filt.bam\n",
      "2018-08-01 11:18:33,422 - basics_bam.py - basics_bam - multi_fetch() - DEBUG - Extracting interval: 1:28981074-28982933 from BAM Object for file: ../data/bams/Compoud_A_1_coordSort_filt.bam\n",
      "2018-08-01 11:18:33,422 - basics_bam.py - basics_bam - multi_fetch() - DEBUG - Extracting interval: 1:28981074-28982933 from BAM Object for file: ../data/bams/Compoud_A_1_coordSort_filt.bam\n",
      "DEBUG:basics_bam.py - basics_bam:Extracting interval: 1:28981074-28982933 from BAM Object for file: ../data/bams/Compoud_A_1_coordSort_filt.bam\n",
      "2018-08-01 11:18:33,441 - basics_bam.py - basics_bam - multi_fetch() - DEBUG - Extracting interval: 10:31549665-31550835 from BAM Object for file: ../data/bams/Compoud_A_1_coordSort_filt.bam\n",
      "2018-08-01 11:18:33,441 - basics_bam.py - basics_bam - multi_fetch() - DEBUG - Extracting interval: 10:31549665-31550835 from BAM Object for file: ../data/bams/Compoud_A_1_coordSort_filt.bam\n",
      "2018-08-01 11:18:33,441 - basics_bam.py - basics_bam - multi_fetch() - DEBUG - Extracting interval: 10:31549665-31550835 from BAM Object for file: ../data/bams/Compoud_A_1_coordSort_filt.bam\n",
      "2018-08-01 11:18:33,441 - basics_bam.py - basics_bam - multi_fetch() - DEBUG - Extracting interval: 10:31549665-31550835 from BAM Object for file: ../data/bams/Compoud_A_1_coordSort_filt.bam\n",
      "2018-08-01 11:18:33,441 - basics_bam.py - basics_bam - multi_fetch() - DEBUG - Extracting interval: 10:31549665-31550835 from BAM Object for file: ../data/bams/Compoud_A_1_coordSort_filt.bam\n",
      "DEBUG:basics_bam.py - basics_bam:Extracting interval: 10:31549665-31550835 from BAM Object for file: ../data/bams/Compoud_A_1_coordSort_filt.bam\n",
      "2018-08-01 11:18:33,453 - basics_bam.py - basics_bam - multi_fetch() - DEBUG - Extracting interval: 10:48608841-48609859 from BAM Object for file: ../data/bams/Compoud_A_1_coordSort_filt.bam\n",
      "2018-08-01 11:18:33,453 - basics_bam.py - basics_bam - multi_fetch() - DEBUG - Extracting interval: 10:48608841-48609859 from BAM Object for file: ../data/bams/Compoud_A_1_coordSort_filt.bam\n",
      "2018-08-01 11:18:33,453 - basics_bam.py - basics_bam - multi_fetch() - DEBUG - Extracting interval: 10:48608841-48609859 from BAM Object for file: ../data/bams/Compoud_A_1_coordSort_filt.bam\n",
      "2018-08-01 11:18:33,453 - basics_bam.py - basics_bam - multi_fetch() - DEBUG - Extracting interval: 10:48608841-48609859 from BAM Object for file: ../data/bams/Compoud_A_1_coordSort_filt.bam\n",
      "2018-08-01 11:18:33,453 - basics_bam.py - basics_bam - multi_fetch() - DEBUG - Extracting interval: 10:48608841-48609859 from BAM Object for file: ../data/bams/Compoud_A_1_coordSort_filt.bam\n",
      "DEBUG:basics_bam.py - basics_bam:Extracting interval: 10:48608841-48609859 from BAM Object for file: ../data/bams/Compoud_A_1_coordSort_filt.bam\n",
      "2018-08-01 11:18:33,470 - basics_bam.py - basics_bam - multi_fetch() - DEBUG - Extracting interval: 10:69546063-69547482 from BAM Object for file: ../data/bams/Compoud_A_1_coordSort_filt.bam\n",
      "2018-08-01 11:18:33,470 - basics_bam.py - basics_bam - multi_fetch() - DEBUG - Extracting interval: 10:69546063-69547482 from BAM Object for file: ../data/bams/Compoud_A_1_coordSort_filt.bam\n",
      "2018-08-01 11:18:33,470 - basics_bam.py - basics_bam - multi_fetch() - DEBUG - Extracting interval: 10:69546063-69547482 from BAM Object for file: ../data/bams/Compoud_A_1_coordSort_filt.bam\n",
      "2018-08-01 11:18:33,470 - basics_bam.py - basics_bam - multi_fetch() - DEBUG - Extracting interval: 10:69546063-69547482 from BAM Object for file: ../data/bams/Compoud_A_1_coordSort_filt.bam\n",
      "2018-08-01 11:18:33,470 - basics_bam.py - basics_bam - multi_fetch() - DEBUG - Extracting interval: 10:69546063-69547482 from BAM Object for file: ../data/bams/Compoud_A_1_coordSort_filt.bam\n",
      "DEBUG:basics_bam.py - basics_bam:Extracting interval: 10:69546063-69547482 from BAM Object for file: ../data/bams/Compoud_A_1_coordSort_filt.bam\n",
      "2018-08-01 11:18:33,488 - basics_bam.py - basics_bam - multi_fetch() - DEBUG - Extracting interval: 11:108491750-108493969 from BAM Object for file: ../data/bams/Compoud_A_1_coordSort_filt.bam\n",
      "2018-08-01 11:18:33,488 - basics_bam.py - basics_bam - multi_fetch() - DEBUG - Extracting interval: 11:108491750-108493969 from BAM Object for file: ../data/bams/Compoud_A_1_coordSort_filt.bam\n",
      "2018-08-01 11:18:33,488 - basics_bam.py - basics_bam - multi_fetch() - DEBUG - Extracting interval: 11:108491750-108493969 from BAM Object for file: ../data/bams/Compoud_A_1_coordSort_filt.bam\n",
      "2018-08-01 11:18:33,488 - basics_bam.py - basics_bam - multi_fetch() - DEBUG - Extracting interval: 11:108491750-108493969 from BAM Object for file: ../data/bams/Compoud_A_1_coordSort_filt.bam\n",
      "2018-08-01 11:18:33,488 - basics_bam.py - basics_bam - multi_fetch() - DEBUG - Extracting interval: 11:108491750-108493969 from BAM Object for file: ../data/bams/Compoud_A_1_coordSort_filt.bam\n",
      "DEBUG:basics_bam.py - basics_bam:Extracting interval: 11:108491750-108493969 from BAM Object for file: ../data/bams/Compoud_A_1_coordSort_filt.bam\n",
      "2018-08-01 11:18:33,497 - basics_bam.py - basics_bam - multi_fetch() - DEBUG - Extracting interval: 11:108494858-108496123 from BAM Object for file: ../data/bams/Compoud_A_1_coordSort_filt.bam\n",
      "2018-08-01 11:18:33,497 - basics_bam.py - basics_bam - multi_fetch() - DEBUG - Extracting interval: 11:108494858-108496123 from BAM Object for file: ../data/bams/Compoud_A_1_coordSort_filt.bam\n",
      "2018-08-01 11:18:33,497 - basics_bam.py - basics_bam - multi_fetch() - DEBUG - Extracting interval: 11:108494858-108496123 from BAM Object for file: ../data/bams/Compoud_A_1_coordSort_filt.bam\n",
      "2018-08-01 11:18:33,497 - basics_bam.py - basics_bam - multi_fetch() - DEBUG - Extracting interval: 11:108494858-108496123 from BAM Object for file: ../data/bams/Compoud_A_1_coordSort_filt.bam\n",
      "2018-08-01 11:18:33,497 - basics_bam.py - basics_bam - multi_fetch() - DEBUG - Extracting interval: 11:108494858-108496123 from BAM Object for file: ../data/bams/Compoud_A_1_coordSort_filt.bam\n",
      "DEBUG:basics_bam.py - basics_bam:Extracting interval: 11:108494858-108496123 from BAM Object for file: ../data/bams/Compoud_A_1_coordSort_filt.bam\n",
      "2018-08-01 11:18:33,512 - basics_bam.py - basics_bam - multi_fetch() - DEBUG - Extracting interval: 11:126763239-126764653 from BAM Object for file: ../data/bams/Compoud_A_1_coordSort_filt.bam\n",
      "2018-08-01 11:18:33,512 - basics_bam.py - basics_bam - multi_fetch() - DEBUG - Extracting interval: 11:126763239-126764653 from BAM Object for file: ../data/bams/Compoud_A_1_coordSort_filt.bam\n",
      "2018-08-01 11:18:33,512 - basics_bam.py - basics_bam - multi_fetch() - DEBUG - Extracting interval: 11:126763239-126764653 from BAM Object for file: ../data/bams/Compoud_A_1_coordSort_filt.bam\n",
      "2018-08-01 11:18:33,512 - basics_bam.py - basics_bam - multi_fetch() - DEBUG - Extracting interval: 11:126763239-126764653 from BAM Object for file: ../data/bams/Compoud_A_1_coordSort_filt.bam\n",
      "2018-08-01 11:18:33,512 - basics_bam.py - basics_bam - multi_fetch() - DEBUG - Extracting interval: 11:126763239-126764653 from BAM Object for file: ../data/bams/Compoud_A_1_coordSort_filt.bam\n",
      "DEBUG:basics_bam.py - basics_bam:Extracting interval: 11:126763239-126764653 from BAM Object for file: ../data/bams/Compoud_A_1_coordSort_filt.bam\n",
      "2018-08-01 11:18:33,526 - basics_bam.py - basics_bam - multi_fetch() - DEBUG - Extracting interval: 11:76317699-76318864 from BAM Object for file: ../data/bams/Compoud_A_1_coordSort_filt.bam\n",
      "2018-08-01 11:18:33,526 - basics_bam.py - basics_bam - multi_fetch() - DEBUG - Extracting interval: 11:76317699-76318864 from BAM Object for file: ../data/bams/Compoud_A_1_coordSort_filt.bam\n",
      "2018-08-01 11:18:33,526 - basics_bam.py - basics_bam - multi_fetch() - DEBUG - Extracting interval: 11:76317699-76318864 from BAM Object for file: ../data/bams/Compoud_A_1_coordSort_filt.bam\n",
      "2018-08-01 11:18:33,526 - basics_bam.py - basics_bam - multi_fetch() - DEBUG - Extracting interval: 11:76317699-76318864 from BAM Object for file: ../data/bams/Compoud_A_1_coordSort_filt.bam\n",
      "2018-08-01 11:18:33,526 - basics_bam.py - basics_bam - multi_fetch() - DEBUG - Extracting interval: 11:76317699-76318864 from BAM Object for file: ../data/bams/Compoud_A_1_coordSort_filt.bam\n",
      "DEBUG:basics_bam.py - basics_bam:Extracting interval: 11:76317699-76318864 from BAM Object for file: ../data/bams/Compoud_A_1_coordSort_filt.bam\n",
      "2018-08-01 11:18:33,539 - basics_bam.py - basics_bam - multi_fetch() - DEBUG - Extracting interval: 12:101959588-101960882 from BAM Object for file: ../data/bams/Compoud_A_1_coordSort_filt.bam\n",
      "2018-08-01 11:18:33,539 - basics_bam.py - basics_bam - multi_fetch() - DEBUG - Extracting interval: 12:101959588-101960882 from BAM Object for file: ../data/bams/Compoud_A_1_coordSort_filt.bam\n",
      "2018-08-01 11:18:33,539 - basics_bam.py - basics_bam - multi_fetch() - DEBUG - Extracting interval: 12:101959588-101960882 from BAM Object for file: ../data/bams/Compoud_A_1_coordSort_filt.bam\n",
      "2018-08-01 11:18:33,539 - basics_bam.py - basics_bam - multi_fetch() - DEBUG - Extracting interval: 12:101959588-101960882 from BAM Object for file: ../data/bams/Compoud_A_1_coordSort_filt.bam\n",
      "2018-08-01 11:18:33,539 - basics_bam.py - basics_bam - multi_fetch() - DEBUG - Extracting interval: 12:101959588-101960882 from BAM Object for file: ../data/bams/Compoud_A_1_coordSort_filt.bam\n",
      "DEBUG:basics_bam.py - basics_bam:Extracting interval: 12:101959588-101960882 from BAM Object for file: ../data/bams/Compoud_A_1_coordSort_filt.bam\n",
      "2018-08-01 11:18:33,551 - basics_bam.py - basics_bam - multi_fetch() - DEBUG - Extracting interval: 13:21761824-21763230 from BAM Object for file: ../data/bams/Compoud_A_1_coordSort_filt.bam\n",
      "2018-08-01 11:18:33,551 - basics_bam.py - basics_bam - multi_fetch() - DEBUG - Extracting interval: 13:21761824-21763230 from BAM Object for file: ../data/bams/Compoud_A_1_coordSort_filt.bam\n",
      "2018-08-01 11:18:33,551 - basics_bam.py - basics_bam - multi_fetch() - DEBUG - Extracting interval: 13:21761824-21763230 from BAM Object for file: ../data/bams/Compoud_A_1_coordSort_filt.bam\n",
      "2018-08-01 11:18:33,551 - basics_bam.py - basics_bam - multi_fetch() - DEBUG - Extracting interval: 13:21761824-21763230 from BAM Object for file: ../data/bams/Compoud_A_1_coordSort_filt.bam\n",
      "2018-08-01 11:18:33,551 - basics_bam.py - basics_bam - multi_fetch() - DEBUG - Extracting interval: 13:21761824-21763230 from BAM Object for file: ../data/bams/Compoud_A_1_coordSort_filt.bam\n",
      "DEBUG:basics_bam.py - basics_bam:Extracting interval: 13:21761824-21763230 from BAM Object for file: ../data/bams/Compoud_A_1_coordSort_filt.bam\n",
      "2018-08-01 11:18:33,560 - basics_bam.py - basics_bam - multi_fetch() - DEBUG - Extracting interval: 13:81026233-81027806 from BAM Object for file: ../data/bams/Compoud_A_1_coordSort_filt.bam\n",
      "2018-08-01 11:18:33,560 - basics_bam.py - basics_bam - multi_fetch() - DEBUG - Extracting interval: 13:81026233-81027806 from BAM Object for file: ../data/bams/Compoud_A_1_coordSort_filt.bam\n",
      "2018-08-01 11:18:33,560 - basics_bam.py - basics_bam - multi_fetch() - DEBUG - Extracting interval: 13:81026233-81027806 from BAM Object for file: ../data/bams/Compoud_A_1_coordSort_filt.bam\n",
      "2018-08-01 11:18:33,560 - basics_bam.py - basics_bam - multi_fetch() - DEBUG - Extracting interval: 13:81026233-81027806 from BAM Object for file: ../data/bams/Compoud_A_1_coordSort_filt.bam\n",
      "2018-08-01 11:18:33,560 - basics_bam.py - basics_bam - multi_fetch() - DEBUG - Extracting interval: 13:81026233-81027806 from BAM Object for file: ../data/bams/Compoud_A_1_coordSort_filt.bam\n",
      "DEBUG:basics_bam.py - basics_bam:Extracting interval: 13:81026233-81027806 from BAM Object for file: ../data/bams/Compoud_A_1_coordSort_filt.bam\n",
      "2018-08-01 11:18:33,575 - basics_bam.py - basics_bam - multi_fetch() - DEBUG - Extracting interval: 14:104537043-104538608 from BAM Object for file: ../data/bams/Compoud_A_1_coordSort_filt.bam\n",
      "2018-08-01 11:18:33,575 - basics_bam.py - basics_bam - multi_fetch() - DEBUG - Extracting interval: 14:104537043-104538608 from BAM Object for file: ../data/bams/Compoud_A_1_coordSort_filt.bam\n",
      "2018-08-01 11:18:33,575 - basics_bam.py - basics_bam - multi_fetch() - DEBUG - Extracting interval: 14:104537043-104538608 from BAM Object for file: ../data/bams/Compoud_A_1_coordSort_filt.bam\n",
      "2018-08-01 11:18:33,575 - basics_bam.py - basics_bam - multi_fetch() - DEBUG - Extracting interval: 14:104537043-104538608 from BAM Object for file: ../data/bams/Compoud_A_1_coordSort_filt.bam\n",
      "2018-08-01 11:18:33,575 - basics_bam.py - basics_bam - multi_fetch() - DEBUG - Extracting interval: 14:104537043-104538608 from BAM Object for file: ../data/bams/Compoud_A_1_coordSort_filt.bam\n",
      "DEBUG:basics_bam.py - basics_bam:Extracting interval: 14:104537043-104538608 from BAM Object for file: ../data/bams/Compoud_A_1_coordSort_filt.bam\n",
      "2018-08-01 11:18:33,586 - basics_bam.py - basics_bam - multi_fetch() - DEBUG - Extracting interval: 14:55386994-55388122 from BAM Object for file: ../data/bams/Compoud_A_1_coordSort_filt.bam\n",
      "2018-08-01 11:18:33,586 - basics_bam.py - basics_bam - multi_fetch() - DEBUG - Extracting interval: 14:55386994-55388122 from BAM Object for file: ../data/bams/Compoud_A_1_coordSort_filt.bam\n",
      "2018-08-01 11:18:33,586 - basics_bam.py - basics_bam - multi_fetch() - DEBUG - Extracting interval: 14:55386994-55388122 from BAM Object for file: ../data/bams/Compoud_A_1_coordSort_filt.bam\n",
      "2018-08-01 11:18:33,586 - basics_bam.py - basics_bam - multi_fetch() - DEBUG - Extracting interval: 14:55386994-55388122 from BAM Object for file: ../data/bams/Compoud_A_1_coordSort_filt.bam\n",
      "2018-08-01 11:18:33,586 - basics_bam.py - basics_bam - multi_fetch() - DEBUG - Extracting interval: 14:55386994-55388122 from BAM Object for file: ../data/bams/Compoud_A_1_coordSort_filt.bam\n",
      "DEBUG:basics_bam.py - basics_bam:Extracting interval: 14:55386994-55388122 from BAM Object for file: ../data/bams/Compoud_A_1_coordSort_filt.bam\n",
      "2018-08-01 11:18:33,599 - basics_bam.py - basics_bam - multi_fetch() - DEBUG - Extracting interval: 15:47936402-47937576 from BAM Object for file: ../data/bams/Compoud_A_1_coordSort_filt.bam\n",
      "2018-08-01 11:18:33,599 - basics_bam.py - basics_bam - multi_fetch() - DEBUG - Extracting interval: 15:47936402-47937576 from BAM Object for file: ../data/bams/Compoud_A_1_coordSort_filt.bam\n",
      "2018-08-01 11:18:33,599 - basics_bam.py - basics_bam - multi_fetch() - DEBUG - Extracting interval: 15:47936402-47937576 from BAM Object for file: ../data/bams/Compoud_A_1_coordSort_filt.bam\n",
      "2018-08-01 11:18:33,599 - basics_bam.py - basics_bam - multi_fetch() - DEBUG - Extracting interval: 15:47936402-47937576 from BAM Object for file: ../data/bams/Compoud_A_1_coordSort_filt.bam\n",
      "2018-08-01 11:18:33,599 - basics_bam.py - basics_bam - multi_fetch() - DEBUG - Extracting interval: 15:47936402-47937576 from BAM Object for file: ../data/bams/Compoud_A_1_coordSort_filt.bam\n",
      "DEBUG:basics_bam.py - basics_bam:Extracting interval: 15:47936402-47937576 from BAM Object for file: ../data/bams/Compoud_A_1_coordSort_filt.bam\n",
      "2018-08-01 11:18:33,614 - basics_bam.py - basics_bam - multi_fetch() - DEBUG - Extracting interval: 16:85052325-85054726 from BAM Object for file: ../data/bams/Compoud_A_1_coordSort_filt.bam\n",
      "2018-08-01 11:18:33,614 - basics_bam.py - basics_bam - multi_fetch() - DEBUG - Extracting interval: 16:85052325-85054726 from BAM Object for file: ../data/bams/Compoud_A_1_coordSort_filt.bam\n",
      "2018-08-01 11:18:33,614 - basics_bam.py - basics_bam - multi_fetch() - DEBUG - Extracting interval: 16:85052325-85054726 from BAM Object for file: ../data/bams/Compoud_A_1_coordSort_filt.bam\n",
      "2018-08-01 11:18:33,614 - basics_bam.py - basics_bam - multi_fetch() - DEBUG - Extracting interval: 16:85052325-85054726 from BAM Object for file: ../data/bams/Compoud_A_1_coordSort_filt.bam\n",
      "2018-08-01 11:18:33,614 - basics_bam.py - basics_bam - multi_fetch() - DEBUG - Extracting interval: 16:85052325-85054726 from BAM Object for file: ../data/bams/Compoud_A_1_coordSort_filt.bam\n",
      "DEBUG:basics_bam.py - basics_bam:Extracting interval: 16:85052325-85054726 from BAM Object for file: ../data/bams/Compoud_A_1_coordSort_filt.bam\n",
      "2018-08-01 11:18:33,626 - basics_bam.py - basics_bam - multi_fetch() - DEBUG - Extracting interval: 18:44809957-44811180 from BAM Object for file: ../data/bams/Compoud_A_1_coordSort_filt.bam\n",
      "2018-08-01 11:18:33,626 - basics_bam.py - basics_bam - multi_fetch() - DEBUG - Extracting interval: 18:44809957-44811180 from BAM Object for file: ../data/bams/Compoud_A_1_coordSort_filt.bam\n",
      "2018-08-01 11:18:33,626 - basics_bam.py - basics_bam - multi_fetch() - DEBUG - Extracting interval: 18:44809957-44811180 from BAM Object for file: ../data/bams/Compoud_A_1_coordSort_filt.bam\n",
      "2018-08-01 11:18:33,626 - basics_bam.py - basics_bam - multi_fetch() - DEBUG - Extracting interval: 18:44809957-44811180 from BAM Object for file: ../data/bams/Compoud_A_1_coordSort_filt.bam\n",
      "2018-08-01 11:18:33,626 - basics_bam.py - basics_bam - multi_fetch() - DEBUG - Extracting interval: 18:44809957-44811180 from BAM Object for file: ../data/bams/Compoud_A_1_coordSort_filt.bam\n",
      "DEBUG:basics_bam.py - basics_bam:Extracting interval: 18:44809957-44811180 from BAM Object for file: ../data/bams/Compoud_A_1_coordSort_filt.bam\n",
      "2018-08-01 11:18:33,636 - basics_bam.py - basics_bam - multi_fetch() - DEBUG - Extracting interval: 2:157752315-157754855 from BAM Object for file: ../data/bams/Compoud_A_1_coordSort_filt.bam\n",
      "2018-08-01 11:18:33,636 - basics_bam.py - basics_bam - multi_fetch() - DEBUG - Extracting interval: 2:157752315-157754855 from BAM Object for file: ../data/bams/Compoud_A_1_coordSort_filt.bam\n",
      "2018-08-01 11:18:33,636 - basics_bam.py - basics_bam - multi_fetch() - DEBUG - Extracting interval: 2:157752315-157754855 from BAM Object for file: ../data/bams/Compoud_A_1_coordSort_filt.bam\n",
      "2018-08-01 11:18:33,636 - basics_bam.py - basics_bam - multi_fetch() - DEBUG - Extracting interval: 2:157752315-157754855 from BAM Object for file: ../data/bams/Compoud_A_1_coordSort_filt.bam\n",
      "2018-08-01 11:18:33,636 - basics_bam.py - basics_bam - multi_fetch() - DEBUG - Extracting interval: 2:157752315-157754855 from BAM Object for file: ../data/bams/Compoud_A_1_coordSort_filt.bam\n",
      "DEBUG:basics_bam.py - basics_bam:Extracting interval: 2:157752315-157754855 from BAM Object for file: ../data/bams/Compoud_A_1_coordSort_filt.bam\n",
      "2018-08-01 11:18:33,648 - basics_bam.py - basics_bam - multi_fetch() - DEBUG - Extracting interval: 2:166296503-166297685 from BAM Object for file: ../data/bams/Compoud_A_1_coordSort_filt.bam\n",
      "2018-08-01 11:18:33,648 - basics_bam.py - basics_bam - multi_fetch() - DEBUG - Extracting interval: 2:166296503-166297685 from BAM Object for file: ../data/bams/Compoud_A_1_coordSort_filt.bam\n",
      "2018-08-01 11:18:33,648 - basics_bam.py - basics_bam - multi_fetch() - DEBUG - Extracting interval: 2:166296503-166297685 from BAM Object for file: ../data/bams/Compoud_A_1_coordSort_filt.bam\n",
      "2018-08-01 11:18:33,648 - basics_bam.py - basics_bam - multi_fetch() - DEBUG - Extracting interval: 2:166296503-166297685 from BAM Object for file: ../data/bams/Compoud_A_1_coordSort_filt.bam\n",
      "2018-08-01 11:18:33,648 - basics_bam.py - basics_bam - multi_fetch() - DEBUG - Extracting interval: 2:166296503-166297685 from BAM Object for file: ../data/bams/Compoud_A_1_coordSort_filt.bam\n",
      "DEBUG:basics_bam.py - basics_bam:Extracting interval: 2:166296503-166297685 from BAM Object for file: ../data/bams/Compoud_A_1_coordSort_filt.bam\n",
      "2018-08-01 11:18:33,663 - basics_bam.py - basics_bam - multi_fetch() - DEBUG - Extracting interval: 2:187153516-187154852 from BAM Object for file: ../data/bams/Compoud_A_1_coordSort_filt.bam\n",
      "2018-08-01 11:18:33,663 - basics_bam.py - basics_bam - multi_fetch() - DEBUG - Extracting interval: 2:187153516-187154852 from BAM Object for file: ../data/bams/Compoud_A_1_coordSort_filt.bam\n",
      "2018-08-01 11:18:33,663 - basics_bam.py - basics_bam - multi_fetch() - DEBUG - Extracting interval: 2:187153516-187154852 from BAM Object for file: ../data/bams/Compoud_A_1_coordSort_filt.bam\n",
      "2018-08-01 11:18:33,663 - basics_bam.py - basics_bam - multi_fetch() - DEBUG - Extracting interval: 2:187153516-187154852 from BAM Object for file: ../data/bams/Compoud_A_1_coordSort_filt.bam\n",
      "2018-08-01 11:18:33,663 - basics_bam.py - basics_bam - multi_fetch() - DEBUG - Extracting interval: 2:187153516-187154852 from BAM Object for file: ../data/bams/Compoud_A_1_coordSort_filt.bam\n",
      "DEBUG:basics_bam.py - basics_bam:Extracting interval: 2:187153516-187154852 from BAM Object for file: ../data/bams/Compoud_A_1_coordSort_filt.bam\n",
      "2018-08-01 11:18:33,675 - basics_bam.py - basics_bam - multi_fetch() - DEBUG - Extracting interval: 2:194340311-194341794 from BAM Object for file: ../data/bams/Compoud_A_1_coordSort_filt.bam\n",
      "2018-08-01 11:18:33,675 - basics_bam.py - basics_bam - multi_fetch() - DEBUG - Extracting interval: 2:194340311-194341794 from BAM Object for file: ../data/bams/Compoud_A_1_coordSort_filt.bam\n",
      "2018-08-01 11:18:33,675 - basics_bam.py - basics_bam - multi_fetch() - DEBUG - Extracting interval: 2:194340311-194341794 from BAM Object for file: ../data/bams/Compoud_A_1_coordSort_filt.bam\n",
      "2018-08-01 11:18:33,675 - basics_bam.py - basics_bam - multi_fetch() - DEBUG - Extracting interval: 2:194340311-194341794 from BAM Object for file: ../data/bams/Compoud_A_1_coordSort_filt.bam\n",
      "2018-08-01 11:18:33,675 - basics_bam.py - basics_bam - multi_fetch() - DEBUG - Extracting interval: 2:194340311-194341794 from BAM Object for file: ../data/bams/Compoud_A_1_coordSort_filt.bam\n",
      "DEBUG:basics_bam.py - basics_bam:Extracting interval: 2:194340311-194341794 from BAM Object for file: ../data/bams/Compoud_A_1_coordSort_filt.bam\n",
      "2018-08-01 11:18:33,685 - basics_bam.py - basics_bam - multi_fetch() - DEBUG - Extracting interval: 2:73949410-73950976 from BAM Object for file: ../data/bams/Compoud_A_1_coordSort_filt.bam\n",
      "2018-08-01 11:18:33,685 - basics_bam.py - basics_bam - multi_fetch() - DEBUG - Extracting interval: 2:73949410-73950976 from BAM Object for file: ../data/bams/Compoud_A_1_coordSort_filt.bam\n",
      "2018-08-01 11:18:33,685 - basics_bam.py - basics_bam - multi_fetch() - DEBUG - Extracting interval: 2:73949410-73950976 from BAM Object for file: ../data/bams/Compoud_A_1_coordSort_filt.bam\n",
      "2018-08-01 11:18:33,685 - basics_bam.py - basics_bam - multi_fetch() - DEBUG - Extracting interval: 2:73949410-73950976 from BAM Object for file: ../data/bams/Compoud_A_1_coordSort_filt.bam\n",
      "2018-08-01 11:18:33,685 - basics_bam.py - basics_bam - multi_fetch() - DEBUG - Extracting interval: 2:73949410-73950976 from BAM Object for file: ../data/bams/Compoud_A_1_coordSort_filt.bam\n",
      "DEBUG:basics_bam.py - basics_bam:Extracting interval: 2:73949410-73950976 from BAM Object for file: ../data/bams/Compoud_A_1_coordSort_filt.bam\n",
      "2018-08-01 11:18:33,694 - basics_bam.py - basics_bam - multi_fetch() - DEBUG - Extracting interval: 2:77088433-77089662 from BAM Object for file: ../data/bams/Compoud_A_1_coordSort_filt.bam\n",
      "2018-08-01 11:18:33,694 - basics_bam.py - basics_bam - multi_fetch() - DEBUG - Extracting interval: 2:77088433-77089662 from BAM Object for file: ../data/bams/Compoud_A_1_coordSort_filt.bam\n",
      "2018-08-01 11:18:33,694 - basics_bam.py - basics_bam - multi_fetch() - DEBUG - Extracting interval: 2:77088433-77089662 from BAM Object for file: ../data/bams/Compoud_A_1_coordSort_filt.bam\n",
      "2018-08-01 11:18:33,694 - basics_bam.py - basics_bam - multi_fetch() - DEBUG - Extracting interval: 2:77088433-77089662 from BAM Object for file: ../data/bams/Compoud_A_1_coordSort_filt.bam\n",
      "2018-08-01 11:18:33,694 - basics_bam.py - basics_bam - multi_fetch() - DEBUG - Extracting interval: 2:77088433-77089662 from BAM Object for file: ../data/bams/Compoud_A_1_coordSort_filt.bam\n",
      "DEBUG:basics_bam.py - basics_bam:Extracting interval: 2:77088433-77089662 from BAM Object for file: ../data/bams/Compoud_A_1_coordSort_filt.bam\n",
      "2018-08-01 11:18:33,707 - basics_bam.py - basics_bam - multi_fetch() - DEBUG - Extracting interval: 22:32696272-32698887 from BAM Object for file: ../data/bams/Compoud_A_1_coordSort_filt.bam\n",
      "2018-08-01 11:18:33,707 - basics_bam.py - basics_bam - multi_fetch() - DEBUG - Extracting interval: 22:32696272-32698887 from BAM Object for file: ../data/bams/Compoud_A_1_coordSort_filt.bam\n",
      "2018-08-01 11:18:33,707 - basics_bam.py - basics_bam - multi_fetch() - DEBUG - Extracting interval: 22:32696272-32698887 from BAM Object for file: ../data/bams/Compoud_A_1_coordSort_filt.bam\n",
      "2018-08-01 11:18:33,707 - basics_bam.py - basics_bam - multi_fetch() - DEBUG - Extracting interval: 22:32696272-32698887 from BAM Object for file: ../data/bams/Compoud_A_1_coordSort_filt.bam\n",
      "2018-08-01 11:18:33,707 - basics_bam.py - basics_bam - multi_fetch() - DEBUG - Extracting interval: 22:32696272-32698887 from BAM Object for file: ../data/bams/Compoud_A_1_coordSort_filt.bam\n",
      "DEBUG:basics_bam.py - basics_bam:Extracting interval: 22:32696272-32698887 from BAM Object for file: ../data/bams/Compoud_A_1_coordSort_filt.bam\n",
      "2018-08-01 11:18:33,719 - basics_bam.py - basics_bam - multi_fetch() - DEBUG - Extracting interval: 3:117465398-117466937 from BAM Object for file: ../data/bams/Compoud_A_1_coordSort_filt.bam\n",
      "2018-08-01 11:18:33,719 - basics_bam.py - basics_bam - multi_fetch() - DEBUG - Extracting interval: 3:117465398-117466937 from BAM Object for file: ../data/bams/Compoud_A_1_coordSort_filt.bam\n",
      "2018-08-01 11:18:33,719 - basics_bam.py - basics_bam - multi_fetch() - DEBUG - Extracting interval: 3:117465398-117466937 from BAM Object for file: ../data/bams/Compoud_A_1_coordSort_filt.bam\n",
      "2018-08-01 11:18:33,719 - basics_bam.py - basics_bam - multi_fetch() - DEBUG - Extracting interval: 3:117465398-117466937 from BAM Object for file: ../data/bams/Compoud_A_1_coordSort_filt.bam\n",
      "2018-08-01 11:18:33,719 - basics_bam.py - basics_bam - multi_fetch() - DEBUG - Extracting interval: 3:117465398-117466937 from BAM Object for file: ../data/bams/Compoud_A_1_coordSort_filt.bam\n",
      "DEBUG:basics_bam.py - basics_bam:Extracting interval: 3:117465398-117466937 from BAM Object for file: ../data/bams/Compoud_A_1_coordSort_filt.bam\n",
      "2018-08-01 11:18:33,728 - basics_bam.py - basics_bam - multi_fetch() - DEBUG - Extracting interval: 3:161487733-161489121 from BAM Object for file: ../data/bams/Compoud_A_1_coordSort_filt.bam\n",
      "2018-08-01 11:18:33,728 - basics_bam.py - basics_bam - multi_fetch() - DEBUG - Extracting interval: 3:161487733-161489121 from BAM Object for file: ../data/bams/Compoud_A_1_coordSort_filt.bam\n",
      "2018-08-01 11:18:33,728 - basics_bam.py - basics_bam - multi_fetch() - DEBUG - Extracting interval: 3:161487733-161489121 from BAM Object for file: ../data/bams/Compoud_A_1_coordSort_filt.bam\n",
      "2018-08-01 11:18:33,728 - basics_bam.py - basics_bam - multi_fetch() - DEBUG - Extracting interval: 3:161487733-161489121 from BAM Object for file: ../data/bams/Compoud_A_1_coordSort_filt.bam\n",
      "2018-08-01 11:18:33,728 - basics_bam.py - basics_bam - multi_fetch() - DEBUG - Extracting interval: 3:161487733-161489121 from BAM Object for file: ../data/bams/Compoud_A_1_coordSort_filt.bam\n",
      "DEBUG:basics_bam.py - basics_bam:Extracting interval: 3:161487733-161489121 from BAM Object for file: ../data/bams/Compoud_A_1_coordSort_filt.bam\n"
     ]
    }
   ],
   "source": [
    "# For testing generate bam of regions of interest\n",
    "#intervals = ['2:231,487,450-231,560,819', '1:912,436-960,073',\n",
    "#             '1:14,642,898-14,652,296', '1:16,977,736-17,015,333',\n",
    "#             '1:17,048,606-17,086,203', '1:17,212,506-17,250,102',\n",
    "#             '14:81,416,025-81,468,815']\n",
    "\n",
    "intervals = [\"5:19004800-19044400\", \"6:87796000-87830200\", \"4:23304600-23335200\", \"1:126681200-126836600\",\n",
    "\"4:83935200-83955400\", \"2:43480600-43496000\", \"3:46343200-46380000\", \"1:175072578-175073731\",\n",
    "\"1:28981074-28982933\", \"10:31549665-31550835\", \"10:48608841-48609859\", \"10:69546063-69547482\",\n",
    "\"11:108491750-108493969\", \"11:108494858-108496123\", \"11:126763239-126764653\", \"11:76317699-76318864\",\n",
    "\"12:101959588-101960882\", \"13:21761824-21763230\", \"13:81026233-81027806\", \"14:104537043-104538608\",\n",
    "\"14:55386994-55388122\", \"15:47936402-47937576\", \"16:85052325-85054726\", \"18:44809957-44811180\",\n",
    "\"2:157752315-157754855\", \"2:166296503-166297685\", \"2:187153516-187154852\", \"2:194340311-194341794\",\n",
    "\"2:73949410-73950976\", \"2:77088433-77089662\", \"22:32696272-32698887\", \"3:117465398-117466937\",\n",
    "\"3:161487733-161489121\"]\n",
    "\n",
    "bams = []\n",
    "\n",
    "for bam in bam_paths:\n",
    "    bam = bb.Bam(bam)\n",
    "    bam = bam.multi_fetch(intervals)\n",
    "    bam = bam.sort().make_index()\n",
    "    bams.append(bam.path)"
   ]
  },
  {
   "cell_type": "markdown",
   "metadata": {},
   "source": [
    "# Analyse from bams\n",
    "\n",
    "The idea here is to detect divergent transcription directly from a sorted bam.\n",
    "This would fix some limitations of the first method.\n",
    "\n",
    "ALGO: \n",
    "Look through the coordinated sorted bam file, registering the transcribed strand for each reads.\n",
    "\n",
    "Since we have paired strand-specific libraries (rf):\n",
    "- first of the pair, reverse complemented = + strand\n",
    "- second of the pair, NOT reverse complemented = + strand\n",
    "- first of the pair, NOT reverse complemented = - strand\n",
    "- second of the pair, reverse complemented = - strand\n",
    "\n",
    "When a change of sign is detected, calculate the distance with the previous transcript on the opposite strand \n",
    "\n",
    "## Detect divergent transcription events accross sorted bam"
   ]
  },
  {
   "cell_type": "code",
   "execution_count": 44,
   "metadata": {},
   "outputs": [],
   "source": [
    "div_trans_beds = [dt.get_divergent_transcription_beds(bam, distance=500) for bam in bams]"
   ]
  },
  {
   "cell_type": "code",
   "execution_count": 45,
   "metadata": {},
   "outputs": [
    {
     "name": "stdout",
     "output_type": "stream",
     "text": [
      "2\t43484470\t43484590\tdiv_event_1\t0\t.\n",
      "2\t43484637\t43484769\tdiv_event_2\t0\t.\n",
      "2\t43484785\t43484926\tdiv_event_3\t0\t.\n",
      "2\t43484843\t43484941\tdiv_event_4\t0\t.\n",
      "\n",
      "\n",
      "\n",
      "\n",
      "\n",
      "\n"
     ]
    }
   ],
   "source": [
    "div_trans_beds[0].head()"
   ]
  },
  {
   "cell_type": "markdown",
   "metadata": {},
   "source": [
    "Merge the divergent transcription events detected:"
   ]
  },
  {
   "cell_type": "markdown",
   "metadata": {},
   "source": [
    "### Filter based on featureCounts"
   ]
  },
  {
   "cell_type": "code",
   "execution_count": 46,
   "metadata": {},
   "outputs": [
    {
     "name": "stderr",
     "output_type": "stream",
     "text": [
      "2018-08-01 11:19:11,492 - basics_bam.py - basics_bam - count_over_intervals() - INFO - Starting count on intervals\n",
      "2018-08-01 11:19:11,492 - basics_bam.py - basics_bam - count_over_intervals() - INFO - Starting count on intervals\n",
      "2018-08-01 11:19:11,492 - basics_bam.py - basics_bam - count_over_intervals() - INFO - Starting count on intervals\n",
      "2018-08-01 11:19:11,492 - basics_bam.py - basics_bam - count_over_intervals() - INFO - Starting count on intervals\n",
      "2018-08-01 11:19:11,492 - basics_bam.py - basics_bam - count_over_intervals() - INFO - Starting count on intervals\n",
      "INFO:basics_bam.py - basics_bam:Starting count on intervals\n",
      "2018-08-01 11:19:11,549 - basics_bam.py - basics_bam - count_over_intervals() - INFO - Starting count on intervals\n",
      "2018-08-01 11:19:11,549 - basics_bam.py - basics_bam - count_over_intervals() - INFO - Starting count on intervals\n",
      "2018-08-01 11:19:11,549 - basics_bam.py - basics_bam - count_over_intervals() - INFO - Starting count on intervals\n",
      "2018-08-01 11:19:11,549 - basics_bam.py - basics_bam - count_over_intervals() - INFO - Starting count on intervals\n",
      "2018-08-01 11:19:11,549 - basics_bam.py - basics_bam - count_over_intervals() - INFO - Starting count on intervals\n",
      "INFO:basics_bam.py - basics_bam:Starting count on intervals\n",
      "2018-08-01 11:19:11,583 -  - div_trans_lib - filter_by_counts() - INFO - Gathering stranded counts data ...\n",
      "INFO: - div_trans_lib:Gathering stranded counts data ...\n",
      "2018-08-01 11:19:11,594 -  - div_trans_lib - filter_by_counts() - INFO - Filtering intervals based on read coverage ...\n",
      "INFO: - div_trans_lib:Filtering intervals based on read coverage ...\n",
      "2018-08-01 11:19:11,604 -  - div_trans_lib - filter_by_counts() - INFO - Filtering for <Bed object: VEUDE_A_1_coordSort_filt_fetched_S_divtrans> DONE.\n",
      "INFO: - div_trans_lib:Filtering for <Bed object: VEUDE_A_1_coordSort_filt_fetched_S_divtrans> DONE.\n",
      "2018-08-01 11:19:11,632 - basics_bam.py - basics_bam - count_over_intervals() - INFO - Starting count on intervals\n",
      "2018-08-01 11:19:11,632 - basics_bam.py - basics_bam - count_over_intervals() - INFO - Starting count on intervals\n",
      "2018-08-01 11:19:11,632 - basics_bam.py - basics_bam - count_over_intervals() - INFO - Starting count on intervals\n",
      "2018-08-01 11:19:11,632 - basics_bam.py - basics_bam - count_over_intervals() - INFO - Starting count on intervals\n",
      "2018-08-01 11:19:11,632 - basics_bam.py - basics_bam - count_over_intervals() - INFO - Starting count on intervals\n",
      "INFO:basics_bam.py - basics_bam:Starting count on intervals\n",
      "2018-08-01 11:19:11,723 - basics_bam.py - basics_bam - count_over_intervals() - INFO - Starting count on intervals\n",
      "2018-08-01 11:19:11,723 - basics_bam.py - basics_bam - count_over_intervals() - INFO - Starting count on intervals\n",
      "2018-08-01 11:19:11,723 - basics_bam.py - basics_bam - count_over_intervals() - INFO - Starting count on intervals\n",
      "2018-08-01 11:19:11,723 - basics_bam.py - basics_bam - count_over_intervals() - INFO - Starting count on intervals\n",
      "2018-08-01 11:19:11,723 - basics_bam.py - basics_bam - count_over_intervals() - INFO - Starting count on intervals\n",
      "INFO:basics_bam.py - basics_bam:Starting count on intervals\n",
      "2018-08-01 11:19:11,809 -  - div_trans_lib - filter_by_counts() - INFO - Gathering stranded counts data ...\n",
      "INFO: - div_trans_lib:Gathering stranded counts data ...\n",
      "2018-08-01 11:19:11,817 -  - div_trans_lib - filter_by_counts() - INFO - Filtering intervals based on read coverage ...\n",
      "INFO: - div_trans_lib:Filtering intervals based on read coverage ...\n",
      "2018-08-01 11:19:11,825 -  - div_trans_lib - filter_by_counts() - INFO - Filtering for <Bed object: Compoud_A_1_coordSort_filt_fetched_S_divtrans> DONE.\n",
      "INFO: - div_trans_lib:Filtering for <Bed object: Compoud_A_1_coordSort_filt_fetched_S_divtrans> DONE.\n"
     ]
    }
   ],
   "source": [
    "div_trans_beds_count_filtered = []\n",
    "\n",
    "for bed, bam in zip(div_trans_beds, bams):\n",
    "    div_trans_beds_count_filtered.append(dt.filter_by_counts(bed, bam, \n",
    "                                                       '../data/genome_chro_size.tab', \n",
    "                                                       flank=500, count_thres=10, count_ratio_thres=5))"
   ]
  },
  {
   "cell_type": "markdown",
   "metadata": {},
   "source": [
    "### Filter based on deeptools bamCoverage\n",
    "\n",
    "**WARNING** NEED TO REMOVE THE GL contigs (done manually for now)"
   ]
  },
  {
   "cell_type": "code",
   "execution_count": 47,
   "metadata": {},
   "outputs": [
    {
     "name": "stderr",
     "output_type": "stream",
     "text": [
      "2018-08-01 11:19:24,171 -  - div_trans_lib - filter_by_coverage() - INFO - Calculate coverage for bam: ../data/bams/VEUDE_A_1_coordSort_filt_fetched_S.bam\n",
      "INFO: - div_trans_lib:Calculate coverage for bam: ../data/bams/VEUDE_A_1_coordSort_filt_fetched_S.bam\n",
      "2018-08-01 11:19:49,429 -  - div_trans_lib - filter_by_coverage() - INFO - Filtering intervals based on read coverage ...\n",
      "INFO: - div_trans_lib:Filtering intervals based on read coverage ...\n",
      "2018-08-01 11:19:49,441 -  - div_trans_lib - filter_by_coverage() - INFO - Filtering for <Bed object: VEUDE_A_1_coordSort_filt_fetched_S_divtrans> DONE.\n",
      "INFO: - div_trans_lib:Filtering for <Bed object: VEUDE_A_1_coordSort_filt_fetched_S_divtrans> DONE.\n",
      "2018-08-01 11:19:49,475 -  - div_trans_lib - filter_by_coverage() - INFO - Calculate coverage for bam: ../data/bams/Compoud_A_1_coordSort_filt_fetched_S.bam\n",
      "INFO: - div_trans_lib:Calculate coverage for bam: ../data/bams/Compoud_A_1_coordSort_filt_fetched_S.bam\n",
      "2018-08-01 11:20:17,975 -  - div_trans_lib - filter_by_coverage() - INFO - Filtering intervals based on read coverage ...\n",
      "INFO: - div_trans_lib:Filtering intervals based on read coverage ...\n",
      "2018-08-01 11:20:17,984 -  - div_trans_lib - filter_by_coverage() - INFO - Filtering for <Bed object: Compoud_A_1_coordSort_filt_fetched_S_divtrans> DONE.\n",
      "INFO: - div_trans_lib:Filtering for <Bed object: Compoud_A_1_coordSort_filt_fetched_S_divtrans> DONE.\n"
     ]
    }
   ],
   "source": [
    "div_trans_beds_cov_filtered = {}\n",
    "\n",
    "for bed, bam in zip(div_trans_beds, bams):\n",
    "    bed_sel, df_coverages = dt.filter_by_coverage(bed, bam, '../data/genome_chro_size.tab', \n",
    "                                                  flank=500, cov_thres=0.18, cov_ratio_thres=1.9, threads=4)\n",
    "    \n",
    "    div_trans_beds_cov_filtered[os.path.basename(bed.path)] = {'bed': bed_sel, 'coverage': df_coverages}"
   ]
  },
  {
   "cell_type": "code",
   "execution_count": 58,
   "metadata": {},
   "outputs": [
    {
     "data": {
      "text/html": [
       "<div>\n",
       "<style scoped>\n",
       "    .dataframe tbody tr th:only-of-type {\n",
       "        vertical-align: middle;\n",
       "    }\n",
       "\n",
       "    .dataframe tbody tr th {\n",
       "        vertical-align: top;\n",
       "    }\n",
       "\n",
       "    .dataframe thead th {\n",
       "        text-align: right;\n",
       "    }\n",
       "</style>\n",
       "<table border=\"1\" class=\"dataframe\">\n",
       "  <thead>\n",
       "    <tr style=\"text-align: right;\">\n",
       "      <th></th>\n",
       "      <th>counts_forward_upstream</th>\n",
       "      <th>base_coverage_forward_upstream</th>\n",
       "      <th>counts_reverse_upstream</th>\n",
       "      <th>base_coverage_reverse_upstream</th>\n",
       "      <th>ratio_upstream</th>\n",
       "      <th>counts_forward_downstream</th>\n",
       "      <th>base_coverage_forward_downstream</th>\n",
       "      <th>counts_reverse_downstream</th>\n",
       "      <th>base_coverage_reverse_downstream</th>\n",
       "      <th>ratio_downstream</th>\n",
       "      <th>forward_noise_ratio</th>\n",
       "      <th>reverse_noise_ratio</th>\n",
       "    </tr>\n",
       "    <tr>\n",
       "      <th>divtrans_event</th>\n",
       "      <th></th>\n",
       "      <th></th>\n",
       "      <th></th>\n",
       "      <th></th>\n",
       "      <th></th>\n",
       "      <th></th>\n",
       "      <th></th>\n",
       "      <th></th>\n",
       "      <th></th>\n",
       "      <th></th>\n",
       "      <th></th>\n",
       "      <th></th>\n",
       "    </tr>\n",
       "  </thead>\n",
       "  <tbody>\n",
       "    <tr>\n",
       "      <th>div_event_1</th>\n",
       "      <td>2.875</td>\n",
       "      <td>0.055489</td>\n",
       "      <td>0.50</td>\n",
       "      <td>0.021739</td>\n",
       "      <td>0.391773</td>\n",
       "      <td>3.000000</td>\n",
       "      <td>0.070787</td>\n",
       "      <td>2.333333</td>\n",
       "      <td>0.031287</td>\n",
       "      <td>2.262487</td>\n",
       "      <td>1.043478</td>\n",
       "      <td>0.214286</td>\n",
       "    </tr>\n",
       "    <tr>\n",
       "      <th>div_event_10</th>\n",
       "      <td>0.000</td>\n",
       "      <td>0.000000</td>\n",
       "      <td>7.00</td>\n",
       "      <td>0.135000</td>\n",
       "      <td>inf</td>\n",
       "      <td>6.444444</td>\n",
       "      <td>0.141834</td>\n",
       "      <td>0.000000</td>\n",
       "      <td>0.000000</td>\n",
       "      <td>inf</td>\n",
       "      <td>inf</td>\n",
       "      <td>inf</td>\n",
       "    </tr>\n",
       "    <tr>\n",
       "      <th>div_event_11</th>\n",
       "      <td>2.200</td>\n",
       "      <td>0.047111</td>\n",
       "      <td>1.00</td>\n",
       "      <td>0.068889</td>\n",
       "      <td>1.462264</td>\n",
       "      <td>1.000000</td>\n",
       "      <td>0.011737</td>\n",
       "      <td>1.000000</td>\n",
       "      <td>0.076296</td>\n",
       "      <td>0.153838</td>\n",
       "      <td>0.454545</td>\n",
       "      <td>1.000000</td>\n",
       "    </tr>\n",
       "    <tr>\n",
       "      <th>div_event_12</th>\n",
       "      <td>1.600</td>\n",
       "      <td>0.061000</td>\n",
       "      <td>1.00</td>\n",
       "      <td>0.015833</td>\n",
       "      <td>0.259563</td>\n",
       "      <td>1.000000</td>\n",
       "      <td>0.024839</td>\n",
       "      <td>0.500000</td>\n",
       "      <td>0.016129</td>\n",
       "      <td>1.540000</td>\n",
       "      <td>0.625000</td>\n",
       "      <td>2.000000</td>\n",
       "    </tr>\n",
       "    <tr>\n",
       "      <th>div_event_13</th>\n",
       "      <td>1.000</td>\n",
       "      <td>0.004464</td>\n",
       "      <td>2.25</td>\n",
       "      <td>0.077500</td>\n",
       "      <td>17.360000</td>\n",
       "      <td>2.500000</td>\n",
       "      <td>0.044311</td>\n",
       "      <td>3.250000</td>\n",
       "      <td>0.101923</td>\n",
       "      <td>0.434753</td>\n",
       "      <td>2.500000</td>\n",
       "      <td>0.692308</td>\n",
       "    </tr>\n",
       "  </tbody>\n",
       "</table>\n",
       "</div>"
      ],
      "text/plain": [
       "                counts_forward_upstream  base_coverage_forward_upstream  \\\n",
       "divtrans_event                                                            \n",
       "div_event_1                       2.875                        0.055489   \n",
       "div_event_10                      0.000                        0.000000   \n",
       "div_event_11                      2.200                        0.047111   \n",
       "div_event_12                      1.600                        0.061000   \n",
       "div_event_13                      1.000                        0.004464   \n",
       "\n",
       "                counts_reverse_upstream  base_coverage_reverse_upstream  \\\n",
       "divtrans_event                                                            \n",
       "div_event_1                        0.50                        0.021739   \n",
       "div_event_10                       7.00                        0.135000   \n",
       "div_event_11                       1.00                        0.068889   \n",
       "div_event_12                       1.00                        0.015833   \n",
       "div_event_13                       2.25                        0.077500   \n",
       "\n",
       "                ratio_upstream  counts_forward_downstream  \\\n",
       "divtrans_event                                              \n",
       "div_event_1           0.391773                   3.000000   \n",
       "div_event_10               inf                   6.444444   \n",
       "div_event_11          1.462264                   1.000000   \n",
       "div_event_12          0.259563                   1.000000   \n",
       "div_event_13         17.360000                   2.500000   \n",
       "\n",
       "                base_coverage_forward_downstream  counts_reverse_downstream  \\\n",
       "divtrans_event                                                                \n",
       "div_event_1                             0.070787                   2.333333   \n",
       "div_event_10                            0.141834                   0.000000   \n",
       "div_event_11                            0.011737                   1.000000   \n",
       "div_event_12                            0.024839                   0.500000   \n",
       "div_event_13                            0.044311                   3.250000   \n",
       "\n",
       "                base_coverage_reverse_downstream  ratio_downstream  \\\n",
       "divtrans_event                                                       \n",
       "div_event_1                             0.031287          2.262487   \n",
       "div_event_10                            0.000000               inf   \n",
       "div_event_11                            0.076296          0.153838   \n",
       "div_event_12                            0.016129          1.540000   \n",
       "div_event_13                            0.101923          0.434753   \n",
       "\n",
       "                forward_noise_ratio  reverse_noise_ratio  \n",
       "divtrans_event                                            \n",
       "div_event_1                1.043478             0.214286  \n",
       "div_event_10                    inf                  inf  \n",
       "div_event_11               0.454545             1.000000  \n",
       "div_event_12               0.625000             2.000000  \n",
       "div_event_13               2.500000             0.692308  "
      ]
     },
     "execution_count": 58,
     "metadata": {},
     "output_type": "execute_result"
    }
   ],
   "source": [
    "div_trans_beds_cov_filtered['Compoud_A_1_coordSort_filt_fetched_S_divtrans.bed']['coverage'].head()"
   ]
  },
  {
   "cell_type": "code",
   "execution_count": 12,
   "metadata": {},
   "outputs": [],
   "source": [
    "div_trans_beds_filter_merged = [div_trans_beds_cov_filtered[x]['bed'].merge() for x in div_trans_beds_cov_filtered]"
   ]
  },
  {
   "cell_type": "code",
   "execution_count": 13,
   "metadata": {},
   "outputs": [
    {
     "name": "stdout",
     "output_type": "stream",
     "text": [
      "1\t714151\t714194\n",
      "1\t714283\t714530\n",
      "1\t730616\t730753\n",
      "1\t738613\t738752\n",
      "1\t745150\t745297\n",
      "1\t895549\t895646\n",
      "1\t935855\t936208\n",
      "1\t1167596\t1167602\n",
      "1\t1209055\t1209209\n",
      "1\t1209326\t1209428\n"
     ]
    }
   ],
   "source": [
    "div_trans_beds_filter_merged[0].head()"
   ]
  },
  {
   "cell_type": "markdown",
   "metadata": {},
   "source": [
    "# Filter divergent intervals events by overlap with CAGE TSS\n",
    "\n",
    "Use FANTOM5 transcription initiation information obtained with CAGE data (either simple or divergent transcription) to filter divergent transcription events detected in RNA-seq alignments.\n",
    "\n",
    "## Download cage peaks"
   ]
  },
  {
   "cell_type": "code",
   "execution_count": 14,
   "metadata": {},
   "outputs": [
    {
     "name": "stderr",
     "output_type": "stream",
     "text": [
      "--2018-07-23 13:35:52--  http://fantom.gsc.riken.jp/5/datafiles/latest/extra/CAGE_peaks/hg19.cage_peak_phase1and2combined_coord.bed.gz\n",
      "Resolving fantom.gsc.riken.jp... 134.160.84.66\n",
      "Connecting to fantom.gsc.riken.jp|134.160.84.66|:80... connected.\n",
      "HTTP request sent, awaiting response... 200 OK\n",
      "Length: 4405584 (4,2M) [application/x-gzip]\n",
      "Saving to: ‘../data/cage_peaks.bed.gz’\n",
      "\n",
      "     0K .......... .......... .......... .......... ..........  1%  104K 41s\n",
      "    50K .......... .......... .......... .......... ..........  2%  199K 31s\n",
      "   100K .......... .......... .......... .......... ..........  3% 2,21M 21s\n",
      "   150K .......... .......... .......... .......... ..........  4%  225K 20s\n",
      "   200K .......... .......... .......... .......... ..........  5% 1,61M 16s\n",
      "   250K .......... .......... .......... .......... ..........  6% 7,14M 14s\n",
      "   300K .......... .......... .......... .......... ..........  8%  210K 14s\n",
      "   350K .......... .......... .......... .......... ..........  9% 2,42M 12s\n",
      "   400K .......... .......... .......... .......... .......... 10% 7,74M 11s\n",
      "   450K .......... .......... .......... .......... .......... 11%  204K 12s\n",
      "   500K .......... .......... .......... .......... .......... 12% 6,71M 10s\n",
      "   550K .......... .......... .......... .......... .......... 13% 8,09M 9s\n",
      "   600K .......... .......... .......... .......... .......... 15% 24,4M 9s\n",
      "   650K .......... .......... .......... .......... .......... 16% 10,2M 8s\n",
      "   700K .......... .......... .......... .......... .......... 17% 14,7M 7s\n",
      "   750K .......... .......... .......... .......... .......... 18%  226K 8s\n",
      "   800K .......... .......... .......... .......... .......... 19% 5,44M 7s\n",
      "   850K .......... .......... .......... .......... .......... 20% 13,6M 7s\n",
      "   900K .......... .......... .......... .......... .......... 22% 9,26M 6s\n",
      "   950K .......... .......... .......... .......... .......... 23% 14,8M 6s\n",
      "  1000K .......... .......... .......... .......... .......... 24% 4,70M 6s\n",
      "  1050K .......... .......... .......... .......... .......... 25%  237K 6s\n",
      "  1100K .......... .......... .......... .......... .......... 26% 3,17M 6s\n",
      "  1150K .......... .......... .......... .......... .......... 27% 9,40M 5s\n",
      "  1200K .......... .......... .......... .......... .......... 29% 10,5M 5s\n",
      "  1250K .......... .......... .......... .......... .......... 30% 7,55M 5s\n",
      "  1300K .......... .......... .......... .......... .......... 31% 5,06M 4s\n",
      "  1350K .......... .......... .......... .......... .......... 32%  248K 5s\n",
      "  1400K .......... .......... .......... .......... .......... 33% 2,94M 4s\n",
      "  1450K .......... .......... .......... .......... .......... 34% 5,68M 4s\n",
      "  1500K .......... .......... .......... .......... .......... 36% 14,9M 4s\n",
      "  1550K .......... .......... .......... .......... .......... 37% 3,74M 4s\n",
      "  1600K .......... .......... .......... .......... .......... 38% 10,5M 4s\n",
      "  1650K .......... .......... .......... .......... .......... 39% 13,8M 4s\n",
      "  1700K .......... .......... .......... .......... .......... 40%  241K 4s\n",
      "  1750K .......... .......... .......... .......... .......... 41% 2,77M 4s\n",
      "  1800K .......... .......... .......... .......... .......... 42% 10,5M 3s\n",
      "  1850K .......... .......... .......... .......... .......... 44% 6,65M 3s\n",
      "  1900K .......... .......... .......... .......... .......... 45% 6,22M 3s\n",
      "  1950K .......... .......... .......... .......... .......... 46% 13,1M 3s\n",
      "  2000K .......... .......... .......... .......... .......... 47%  249K 3s\n",
      "  2050K .......... .......... .......... .......... .......... 48% 2,32M 3s\n",
      "  2100K .......... .......... .......... .......... .......... 49% 7,84M 3s\n",
      "  2150K .......... .......... .......... .......... .......... 51% 11,3M 3s\n",
      "  2200K .......... .......... .......... .......... .......... 52% 5,45M 3s\n",
      "  2250K .......... .......... .......... .......... .......... 53% 8,99M 2s\n",
      "  2300K .......... .......... .......... .......... .......... 54%  259K 2s\n",
      "  2350K .......... .......... .......... .......... .......... 55% 2,45M 2s\n",
      "  2400K .......... .......... .......... .......... .......... 56% 2,66M 2s\n",
      "  2450K .......... .......... .......... .......... .......... 58% 16,4M 2s\n",
      "  2500K .......... .......... .......... .......... .......... 59% 11,7M 2s\n",
      "  2550K .......... .......... .......... .......... .......... 60% 5,03M 2s\n",
      "  2600K .......... .......... .......... .......... .......... 61%  273K 2s\n",
      "  2650K .......... .......... .......... .......... .......... 62% 2,00M 2s\n",
      "  2700K .......... .......... .......... .......... .......... 63% 1,62M 2s\n",
      "  2750K .......... .......... .......... .......... .......... 65% 4,27M 2s\n",
      "  2800K .......... .......... .......... .......... .......... 66% 15,2M 2s\n",
      "  2850K .......... .......... .......... .......... .......... 67% 13,3M 2s\n",
      "  2900K .......... .......... .......... .......... .......... 68%  293K 2s\n",
      "  2950K .......... .......... .......... .......... .......... 69% 2,78M 2s\n",
      "  3000K .......... .......... .......... .......... .......... 70% 2,61M 1s\n",
      "  3050K .......... .......... .......... .......... .......... 72% 1,54M 1s\n",
      "  3100K .......... .......... .......... .......... .......... 73% 11,2M 1s\n",
      "  3150K .......... .......... .......... .......... .......... 74% 9,14M 1s\n",
      "  3200K .......... .......... .......... .......... .......... 75%  322K 1s\n",
      "  3250K .......... .......... .......... .......... .......... 76% 2,06M 1s\n",
      "  3300K .......... .......... .......... .......... .......... 77% 2,28M 1s\n",
      "  3350K .......... .......... .......... .......... .......... 79% 1,38M 1s\n",
      "  3400K .......... .......... .......... .......... .......... 80% 7,26M 1s\n",
      "  3450K .......... .......... .......... .......... .......... 81% 7,96M 1s\n",
      "  3500K .......... .......... .......... .......... .......... 82% 16,3M 1s\n",
      "  3550K .......... .......... .......... .......... .......... 83%  298K 1s\n",
      "  3600K .......... .......... .......... .......... .......... 84% 2,03M 1s\n",
      "  3650K .......... .......... .......... .......... .......... 85% 1,31M 1s\n",
      "  3700K .......... .......... .......... .......... .......... 87% 7,11M 1s\n",
      "  3750K .......... .......... .......... .......... .......... 88% 6,56M 1s\n",
      "  3800K .......... .......... .......... .......... .......... 89% 5,75M 0s\n",
      "  3850K .......... .......... .......... .......... .......... 90%  332K 0s\n",
      "  3900K .......... .......... .......... .......... .......... 91% 1,77M 0s\n",
      "  3950K .......... .......... .......... .......... .......... 92% 1,40M 0s\n",
      "  4000K .......... .......... .......... .......... .......... 94% 2,87M 0s\n",
      "  4050K .......... .......... .......... .......... .......... 95% 7,13M 0s\n",
      "  4100K .......... .......... .......... .......... .......... 96% 4,57M 0s\n",
      "  4150K .......... .......... .......... .......... .......... 97%  342K 0s\n",
      "  4200K .......... .......... .......... .......... .......... 98% 2,69M 0s\n",
      "  4250K .......... .......... .......... .......... .......... 99% 2,68M 0s\n",
      "  4300K ..                                                    100% 4441G=4,5s\n",
      "\n",
      "2018-07-23 13:35:57 (959 KB/s) - ‘../data/cage_peaks.bed.gz’ saved [4405584/4405584]\n",
      "\n"
     ]
    }
   ],
   "source": [
    "%%bash\n",
    "\n",
    "wget http://fantom.gsc.riken.jp/5/datafiles/latest/extra/CAGE_peaks/hg19.cage_peak_phase1and2combined_coord.bed.gz \\\n",
    "    -O ../data/cage_peaks.bed.gz\n",
    "    \n",
    "gunzip ../data/cage_peaks.bed.gz\n",
    "    \n",
    "# Convert to Ensembl type bed\n",
    "sed 's/^chr//g' ../data/cage_peaks.bed | bedtools sort -i - > ../data/cage_peaks_clean.bed\n",
    "\n",
    "# Separate two beds (one per strand) to later catch both cage transcription direction\n",
    "#awk '$6~\"+\" {print}' ../data/cage_peaks_clean.bed > ../data/cage_peaks_plusStrand.bed\n",
    "#awk '$6~\"-\" {print}' ../data/cage_peaks_clean.bed > ../data/cage_peaks_minusStrand.bed\n",
    "\n",
    "# Cleanup\n",
    "rm ../data/cage_peaks.bed\n",
    "#rm ../data/cage_peaks_clean.bed"
   ]
  },
  {
   "cell_type": "markdown",
   "metadata": {},
   "source": [
    "## Filter divergent transcription events with CAGE dataset\n",
    "### Detect divergent transcription in CAGE dataset"
   ]
  },
  {
   "cell_type": "code",
   "execution_count": 15,
   "metadata": {},
   "outputs": [],
   "source": [
    "cage_bed = bl.Bed('../data/cage_peaks_clean.bed')\n",
    "cage_div_trans_out = '../data/cage_div_trans.bed'\n",
    "\n",
    "with open(cage_div_trans_out, 'w') as f:\n",
    "        for interval in dt.identify_divergent_transcription(cage_bed.get_intervals()):\n",
    "            f.write('\\t'.join([str(x) for x in interval]) + '\\n')\n",
    "        \n",
    "cage_div_trans_bed = bl.Bed(cage_div_trans_out)"
   ]
  },
  {
   "cell_type": "markdown",
   "metadata": {},
   "source": [
    "### Select RNA-seq divtrans events overlapping with CAGE divtrans events"
   ]
  },
  {
   "cell_type": "code",
   "execution_count": 16,
   "metadata": {},
   "outputs": [],
   "source": [
    "div_trans_intersect_cage = [bed.intersect(cage_div_trans_bed, supp_args='-wa')\n",
    "                                for bed in div_trans_beds_filter_merged]"
   ]
  },
  {
   "cell_type": "code",
   "execution_count": 17,
   "metadata": {},
   "outputs": [
    {
     "data": {
      "text/html": [
       "<div>\n",
       "<style scoped>\n",
       "    .dataframe tbody tr th:only-of-type {\n",
       "        vertical-align: middle;\n",
       "    }\n",
       "\n",
       "    .dataframe tbody tr th {\n",
       "        vertical-align: top;\n",
       "    }\n",
       "\n",
       "    .dataframe thead th {\n",
       "        text-align: right;\n",
       "    }\n",
       "</style>\n",
       "<table border=\"1\" class=\"dataframe\">\n",
       "  <thead>\n",
       "    <tr style=\"text-align: right;\">\n",
       "      <th></th>\n",
       "      <th>Nbases</th>\n",
       "      <th>Nintervals</th>\n",
       "      <th>bedobj</th>\n",
       "      <th>name</th>\n",
       "      <th>path</th>\n",
       "    </tr>\n",
       "  </thead>\n",
       "  <tbody>\n",
       "    <tr>\n",
       "      <th>0</th>\n",
       "      <td>162329</td>\n",
       "      <td>720</td>\n",
       "      <td>&lt;Bed object: VEUDE_A_1_coordSort_filt_divtrans...</td>\n",
       "      <td>VEUDE_A_1_coordSort_filt_divtrans_coverage_fil...</td>\n",
       "      <td>bed_outfolder/VEUDE_A_1_coordSort_filt_divtran...</td>\n",
       "    </tr>\n",
       "    <tr>\n",
       "      <th>1</th>\n",
       "      <td>180131</td>\n",
       "      <td>781</td>\n",
       "      <td>&lt;Bed object: Compoud_A_1_coordSort_filt_divtra...</td>\n",
       "      <td>Compoud_A_1_coordSort_filt_divtrans_coverage_f...</td>\n",
       "      <td>bed_outfolder/Compoud_A_1_coordSort_filt_divtr...</td>\n",
       "    </tr>\n",
       "  </tbody>\n",
       "</table>\n",
       "</div>"
      ],
      "text/plain": [
       "   Nbases  Nintervals                                             bedobj  \\\n",
       "0  162329         720  <Bed object: VEUDE_A_1_coordSort_filt_divtrans...   \n",
       "1  180131         781  <Bed object: Compoud_A_1_coordSort_filt_divtra...   \n",
       "\n",
       "                                                name  \\\n",
       "0  VEUDE_A_1_coordSort_filt_divtrans_coverage_fil...   \n",
       "1  Compoud_A_1_coordSort_filt_divtrans_coverage_f...   \n",
       "\n",
       "                                                path  \n",
       "0  bed_outfolder/VEUDE_A_1_coordSort_filt_divtran...  \n",
       "1  bed_outfolder/Compoud_A_1_coordSort_filt_divtr...  "
      ]
     },
     "execution_count": 17,
     "metadata": {},
     "output_type": "execute_result"
    }
   ],
   "source": [
    "pd.DataFrame([bed.stats() for bed in div_trans_intersect_cage])"
   ]
  },
  {
   "cell_type": "code",
   "execution_count": 18,
   "metadata": {},
   "outputs": [
    {
     "data": {
      "text/html": [
       "<div>\n",
       "<style scoped>\n",
       "    .dataframe tbody tr th:only-of-type {\n",
       "        vertical-align: middle;\n",
       "    }\n",
       "\n",
       "    .dataframe tbody tr th {\n",
       "        vertical-align: top;\n",
       "    }\n",
       "\n",
       "    .dataframe thead th {\n",
       "        text-align: right;\n",
       "    }\n",
       "</style>\n",
       "<table border=\"1\" class=\"dataframe\">\n",
       "  <thead>\n",
       "    <tr style=\"text-align: right;\">\n",
       "      <th></th>\n",
       "      <th>Nbases</th>\n",
       "      <th>Nintervals</th>\n",
       "      <th>bedobj</th>\n",
       "      <th>name</th>\n",
       "      <th>path</th>\n",
       "    </tr>\n",
       "  </thead>\n",
       "  <tbody>\n",
       "    <tr>\n",
       "      <th>0</th>\n",
       "      <td>1207969</td>\n",
       "      <td>6655</td>\n",
       "      <td>&lt;Bed object: VEUDE_A_1_coordSort_filt_divtrans...</td>\n",
       "      <td>VEUDE_A_1_coordSort_filt_divtrans_coverage_fil...</td>\n",
       "      <td>bed_outfolder/VEUDE_A_1_coordSort_filt_divtran...</td>\n",
       "    </tr>\n",
       "    <tr>\n",
       "      <th>1</th>\n",
       "      <td>1397073</td>\n",
       "      <td>7711</td>\n",
       "      <td>&lt;Bed object: Compoud_A_1_coordSort_filt_divtra...</td>\n",
       "      <td>Compoud_A_1_coordSort_filt_divtrans_coverage_f...</td>\n",
       "      <td>bed_outfolder/Compoud_A_1_coordSort_filt_divtr...</td>\n",
       "    </tr>\n",
       "  </tbody>\n",
       "</table>\n",
       "</div>"
      ],
      "text/plain": [
       "    Nbases  Nintervals                                             bedobj  \\\n",
       "0  1207969        6655  <Bed object: VEUDE_A_1_coordSort_filt_divtrans...   \n",
       "1  1397073        7711  <Bed object: Compoud_A_1_coordSort_filt_divtra...   \n",
       "\n",
       "                                                name  \\\n",
       "0  VEUDE_A_1_coordSort_filt_divtrans_coverage_fil...   \n",
       "1  Compoud_A_1_coordSort_filt_divtrans_coverage_f...   \n",
       "\n",
       "                                                path  \n",
       "0  bed_outfolder/VEUDE_A_1_coordSort_filt_divtran...  \n",
       "1  bed_outfolder/Compoud_A_1_coordSort_filt_divtr...  "
      ]
     },
     "execution_count": 18,
     "metadata": {},
     "output_type": "execute_result"
    }
   ],
   "source": [
    "pd.DataFrame([bed.stats() for bed in div_trans_beds_filter_merged])"
   ]
  },
  {
   "cell_type": "markdown",
   "metadata": {},
   "source": [
    "# Compare to FANTOM5 CAGE enhancer prediction [SLIDEBASE]\n",
    "\n",
    "One can use SLIDEBASE for enhancer http://slidebase.binf.ku.dk/human_enhancers/results\n",
    "\n",
    "Downloading bed from SLIDEBASE (same as SLIDEBASE \"Download BED\"):"
   ]
  },
  {
   "cell_type": "code",
   "execution_count": 19,
   "metadata": {},
   "outputs": [
    {
     "name": "stderr",
     "output_type": "stream",
     "text": [
      "--2018-07-23 13:36:57--  http://slidebase.binf.ku.dk/human_enhancers/bed\n",
      "Resolving slidebase.binf.ku.dk... 130.226.13.22\n",
      "Connecting to slidebase.binf.ku.dk|130.226.13.22|:80... connected.\n",
      "HTTP request sent, awaiting response... 200 OK\n",
      "Length: unspecified [text/plain]\n",
      "Saving to: ‘../data/slidebase_enhancers.bed’\n",
      "\n",
      "     0K .......... .......... .......... .......... ..........  806K\n",
      "    50K .......... .......... .......... .......... .......... 2,03M\n",
      "   100K .......... .......... .......... .......... .......... 3,26M\n",
      "   150K .......... .......... .......... .......... .......... 6,00M\n",
      "   200K .......... .......... .......... .......... .......... 1,62M\n",
      "   250K .......... .......... .......... .......... .......... 12,0M\n",
      "   300K .......... .......... .......... .......... .......... 11,2M\n",
      "   350K .......... .......... .......... .......... .......... 7,47M\n",
      "   400K .......... .......... .......... .......... .......... 4,84M\n",
      "   450K .......... .......... .......... .......... .......... 5,93M\n",
      "   500K .......... .......... .......... .......... .......... 13,2M\n",
      "   550K .......... .......... .......... .......... .......... 5,89M\n",
      "   600K .......... .......... .......... .......... .......... 5,85M\n",
      "   650K .......... .......... .......... .......... .......... 8,47M\n",
      "   700K .......... .......... .......... .......... ..........  939K\n",
      "   750K .......... .......... .......... .......... .......... 6,44M\n",
      "   800K .......... .......... .......... .......... .......... 10,4M\n",
      "   850K .......... .......... .......... .......... .......... 8,10M\n",
      "   900K .......... .......... .......... .......... .......... 8,72M\n",
      "   950K .......... .......... .......... .......... .......... 12,2M\n",
      "  1000K .......... .......... .......... .......... .......... 5,97M\n",
      "  1050K .......... .......... .......... .......... .......... 4,31M\n",
      "  1100K .......... .......... .......... .......... .......... 7,25M\n",
      "  1150K .......... .......... .......... .......... .......... 7,22M\n",
      "  1200K .......... .......... .......... .......... .......... 6,56M\n",
      "  1250K .......... .......... .......... .......... .......... 11,4M\n",
      "  1300K .......... .......... .......... .......... .......... 9,18M\n",
      "  1350K .......... .......... .......... .......... .......... 8,71M\n",
      "  1400K .......... .......... .......... .......... .......... 6,81M\n",
      "  1450K .......... .......... .......... .......... .......... 11,3M\n",
      "  1500K .......... .......... .......... .......... .......... 1,44M\n",
      "  1550K .......... .......... .......... .......... .......... 6,11M\n",
      "  1600K .......... .......... .......... .......... .......... 1,12M\n",
      "  1650K ....                                                   8620G=0,4s\n",
      "\n",
      "2018-07-23 13:36:58 (3,74 MB/s) - ‘../data/slidebase_enhancers.bed’ saved [1694228]\n",
      "\n"
     ]
    }
   ],
   "source": [
    "%%bash\n",
    "    \n",
    "wget http://slidebase.binf.ku.dk/human_enhancers/bed -O ../data/slidebase_enhancers.bed\n",
    "\n",
    "# Convert to Ensembl type bed\n",
    "sed 's/^chr//g' ../data/slidebase_enhancers.bed | bedtools sort -i - > ../data/slidebase_enhancers_clean.bed\n",
    "\n",
    "rm ../data/slidebase_enhancers.bed"
   ]
  },
  {
   "cell_type": "code",
   "execution_count": 20,
   "metadata": {},
   "outputs": [],
   "source": [
    "slidebase_enh = bl.Bed('../data/slidebase_enhancers_clean.bed')"
   ]
  },
  {
   "cell_type": "markdown",
   "metadata": {},
   "source": [
    "Get the chromosome sizes for statistical testing of interval association:"
   ]
  },
  {
   "cell_type": "code",
   "execution_count": 21,
   "metadata": {},
   "outputs": [
    {
     "name": "stderr",
     "output_type": "stream",
     "text": [
      "INFO:basics_fasta.py - basics_fasta:Producing stats for: /home/khourhin/data/genomes/Homo_sapiens.GRCh37.dna_sm.primary_assembly.fa\n"
     ]
    },
    {
     "data": {
      "text/plain": [
       "seq_names\n",
       "1             249250621\n",
       "10            135534747\n",
       "11            135006516\n",
       "12            133851895\n",
       "13            115169878\n",
       "14            107349540\n",
       "15            102531392\n",
       "16             90354753\n",
       "17             81195210\n",
       "18             78077248\n",
       "19             59128983\n",
       "2             243199373\n",
       "20             63025520\n",
       "21             48129895\n",
       "22             51304566\n",
       "3             198022430\n",
       "4             191154276\n",
       "5             180915260\n",
       "6             171115067\n",
       "7             159138663\n",
       "8             146364022\n",
       "9             141213431\n",
       "MT                16569\n",
       "X             155270560\n",
       "Y              59373566\n",
       "GL000192.1       547496\n",
       "GL000225.1       211173\n",
       "GL000194.1       191469\n",
       "GL000193.1       189789\n",
       "GL000200.1       187035\n",
       "                ...    \n",
       "GL000233.1        45941\n",
       "GL000237.1        45867\n",
       "GL000230.1        43691\n",
       "GL000242.1        43523\n",
       "GL000243.1        43341\n",
       "GL000241.1        42152\n",
       "GL000236.1        41934\n",
       "GL000240.1        41933\n",
       "GL000206.1        41001\n",
       "GL000232.1        40652\n",
       "GL000234.1        40531\n",
       "GL000202.1        40103\n",
       "GL000238.1        39939\n",
       "GL000244.1        39929\n",
       "GL000248.1        39786\n",
       "GL000196.1        38914\n",
       "GL000249.1        38502\n",
       "GL000246.1        38154\n",
       "GL000203.1        37498\n",
       "GL000197.1        37175\n",
       "GL000245.1        36651\n",
       "GL000247.1        36422\n",
       "GL000201.1        36148\n",
       "GL000235.1        34474\n",
       "GL000239.1        33824\n",
       "GL000210.1        27682\n",
       "GL000231.1        27386\n",
       "GL000229.1        19913\n",
       "GL000226.1        15008\n",
       "GL000207.1         4262\n",
       "Name: seq_len, Length: 84, dtype: int64"
      ]
     },
     "execution_count": 21,
     "metadata": {},
     "output_type": "execute_result"
    }
   ],
   "source": [
    "bl.get_chrom_sizes('/home/khourhin/data/genomes/Homo_sapiens.GRCh37.dna_sm.primary_assembly.fa', '../data/genome_chro_size.tab')"
   ]
  },
  {
   "cell_type": "markdown",
   "metadata": {},
   "source": [
    "## Fisher test\n",
    "Testing if significant association between intervals detected with divergent transcription and the ones reported in fantom5 CAGE enhancer dataset:\n"
   ]
  },
  {
   "cell_type": "code",
   "execution_count": 22,
   "metadata": {},
   "outputs": [
    {
     "data": {
      "text/plain": [
       "[{'left': 1.0,\n",
       "  'right': 1.5111e-35,\n",
       "  'two-tail': 1.5111e-35,\n",
       "  'ratio': 3.832,\n",
       "  'bed1': 'VEUDE_A_1_coordSort_filt_divtrans_coverage_filtered_M',\n",
       "  'bed2': 'slidebase_enhancers_clean'},\n",
       " {'left': 1.0,\n",
       "  'right': 9.1485e-92,\n",
       "  'two-tail': 9.1485e-92,\n",
       "  'ratio': 5.792,\n",
       "  'bed1': 'Compoud_A_1_coordSort_filt_divtrans_coverage_filtered_M',\n",
       "  'bed2': 'slidebase_enhancers_clean'}]"
      ]
     },
     "execution_count": 22,
     "metadata": {},
     "output_type": "execute_result"
    }
   ],
   "source": [
    "[bed.fisher(slidebase_enh, '../data/genome_chro_size.tab') for bed in div_trans_beds_filter_merged]"
   ]
  },
  {
   "cell_type": "markdown",
   "metadata": {},
   "source": [
    "## Jaccard index\n",
    "\n",
    "Evaluating the distance between enhancer intervals defined by fantom5 and the ones predicted from RNA-seq data:"
   ]
  },
  {
   "cell_type": "code",
   "execution_count": 33,
   "metadata": {},
   "outputs": [
    {
     "data": {
      "text/html": [
       "<div>\n",
       "<style scoped>\n",
       "    .dataframe tbody tr th:only-of-type {\n",
       "        vertical-align: middle;\n",
       "    }\n",
       "\n",
       "    .dataframe tbody tr th {\n",
       "        vertical-align: top;\n",
       "    }\n",
       "\n",
       "    .dataframe thead th {\n",
       "        text-align: right;\n",
       "    }\n",
       "</style>\n",
       "<table border=\"1\" class=\"dataframe\">\n",
       "  <thead>\n",
       "    <tr style=\"text-align: right;\">\n",
       "      <th></th>\n",
       "      <th>intersection</th>\n",
       "      <th>union-intersection</th>\n",
       "      <th>jaccard</th>\n",
       "      <th>n_intersections</th>\n",
       "    </tr>\n",
       "  </thead>\n",
       "  <tbody>\n",
       "    <tr>\n",
       "      <th>VEUDE_A_1_coordSort_filt_divtrans_coverage_filtered_M</th>\n",
       "      <td>15776</td>\n",
       "      <td>11159337</td>\n",
       "      <td>0.001414</td>\n",
       "      <td>129</td>\n",
       "    </tr>\n",
       "    <tr>\n",
       "      <th>Compoud_A_1_coordSort_filt_divtrans_coverage_filtered_M</th>\n",
       "      <td>28022</td>\n",
       "      <td>11337958</td>\n",
       "      <td>0.002472</td>\n",
       "      <td>223</td>\n",
       "    </tr>\n",
       "  </tbody>\n",
       "</table>\n",
       "</div>"
      ],
      "text/plain": [
       "                                                    intersection  \\\n",
       "VEUDE_A_1_coordSort_filt_divtrans_coverage_filt...         15776   \n",
       "Compoud_A_1_coordSort_filt_divtrans_coverage_fi...         28022   \n",
       "\n",
       "                                                    union-intersection  \\\n",
       "VEUDE_A_1_coordSort_filt_divtrans_coverage_filt...            11159337   \n",
       "Compoud_A_1_coordSort_filt_divtrans_coverage_fi...            11337958   \n",
       "\n",
       "                                                     jaccard  n_intersections  \n",
       "VEUDE_A_1_coordSort_filt_divtrans_coverage_filt...  0.001414              129  \n",
       "Compoud_A_1_coordSort_filt_divtrans_coverage_fi...  0.002472              223  "
      ]
     },
     "execution_count": 33,
     "metadata": {},
     "output_type": "execute_result"
    }
   ],
   "source": [
    "pd.concat([bed.jaccard(slidebase_enh) for bed in div_trans_beds_filter_merged])"
   ]
  },
  {
   "cell_type": "markdown",
   "metadata": {},
   "source": [
    "## Shuffling"
   ]
  },
  {
   "cell_type": "code",
   "execution_count": 34,
   "metadata": {},
   "outputs": [
    {
     "name": "stderr",
     "output_type": "stream",
     "text": [
      "DEBUG: - bed_lib:Running: bedtools shuffle -i ../data/slidebase_enhancers_clean.bed -g ../data/genome_chro_size.tab  > bed_outfolder/slidebase_enhancers_clean-shuffle-0.bed\n",
      "DEBUG: - bed_lib:Running: bedtools shuffle -i ../data/slidebase_enhancers_clean.bed -g ../data/genome_chro_size.tab  > bed_outfolder/slidebase_enhancers_clean-shuffle-1.bed\n",
      "DEBUG: - bed_lib:Running: bedtools shuffle -i ../data/slidebase_enhancers_clean.bed -g ../data/genome_chro_size.tab  > bed_outfolder/slidebase_enhancers_clean-shuffle-2.bed\n",
      "DEBUG: - bed_lib:Running: bedtools shuffle -i ../data/slidebase_enhancers_clean.bed -g ../data/genome_chro_size.tab  > bed_outfolder/slidebase_enhancers_clean-shuffle-3.bed\n",
      "DEBUG: - bed_lib:Running: bedtools shuffle -i ../data/slidebase_enhancers_clean.bed -g ../data/genome_chro_size.tab  > bed_outfolder/slidebase_enhancers_clean-shuffle-4.bed\n",
      "DEBUG: - bed_lib:Running: bedtools shuffle -i ../data/slidebase_enhancers_clean.bed -g ../data/genome_chro_size.tab  > bed_outfolder/slidebase_enhancers_clean-shuffle-5.bed\n",
      "DEBUG: - bed_lib:Running: bedtools shuffle -i ../data/slidebase_enhancers_clean.bed -g ../data/genome_chro_size.tab  > bed_outfolder/slidebase_enhancers_clean-shuffle-6.bed\n",
      "DEBUG: - bed_lib:Running: bedtools shuffle -i ../data/slidebase_enhancers_clean.bed -g ../data/genome_chro_size.tab  > bed_outfolder/slidebase_enhancers_clean-shuffle-7.bed\n",
      "DEBUG: - bed_lib:Running: bedtools shuffle -i ../data/slidebase_enhancers_clean.bed -g ../data/genome_chro_size.tab  > bed_outfolder/slidebase_enhancers_clean-shuffle-8.bed\n",
      "DEBUG: - bed_lib:Running: bedtools shuffle -i ../data/slidebase_enhancers_clean.bed -g ../data/genome_chro_size.tab  > bed_outfolder/slidebase_enhancers_clean-shuffle-9.bed\n",
      "DEBUG: - bed_lib:Running: bedtools shuffle -i ../data/slidebase_enhancers_clean.bed -g ../data/genome_chro_size.tab  > bed_outfolder/slidebase_enhancers_clean-shuffle-10.bed\n",
      "DEBUG: - bed_lib:Running: bedtools shuffle -i ../data/slidebase_enhancers_clean.bed -g ../data/genome_chro_size.tab  > bed_outfolder/slidebase_enhancers_clean-shuffle-11.bed\n",
      "DEBUG: - bed_lib:Running: bedtools shuffle -i ../data/slidebase_enhancers_clean.bed -g ../data/genome_chro_size.tab  > bed_outfolder/slidebase_enhancers_clean-shuffle-12.bed\n",
      "DEBUG: - bed_lib:Running: bedtools shuffle -i ../data/slidebase_enhancers_clean.bed -g ../data/genome_chro_size.tab  > bed_outfolder/slidebase_enhancers_clean-shuffle-13.bed\n",
      "DEBUG: - bed_lib:Running: bedtools shuffle -i ../data/slidebase_enhancers_clean.bed -g ../data/genome_chro_size.tab  > bed_outfolder/slidebase_enhancers_clean-shuffle-14.bed\n",
      "DEBUG: - bed_lib:Running: bedtools shuffle -i ../data/slidebase_enhancers_clean.bed -g ../data/genome_chro_size.tab  > bed_outfolder/slidebase_enhancers_clean-shuffle-15.bed\n",
      "DEBUG: - bed_lib:Running: bedtools shuffle -i ../data/slidebase_enhancers_clean.bed -g ../data/genome_chro_size.tab  > bed_outfolder/slidebase_enhancers_clean-shuffle-16.bed\n",
      "DEBUG: - bed_lib:Running: bedtools shuffle -i ../data/slidebase_enhancers_clean.bed -g ../data/genome_chro_size.tab  > bed_outfolder/slidebase_enhancers_clean-shuffle-17.bed\n",
      "DEBUG: - bed_lib:Running: bedtools shuffle -i ../data/slidebase_enhancers_clean.bed -g ../data/genome_chro_size.tab  > bed_outfolder/slidebase_enhancers_clean-shuffle-18.bed\n",
      "DEBUG: - bed_lib:Running: bedtools shuffle -i ../data/slidebase_enhancers_clean.bed -g ../data/genome_chro_size.tab  > bed_outfolder/slidebase_enhancers_clean-shuffle-19.bed\n",
      "DEBUG: - bed_lib:Running: bedtools shuffle -i ../data/slidebase_enhancers_clean.bed -g ../data/genome_chro_size.tab  > bed_outfolder/slidebase_enhancers_clean-shuffle-20.bed\n",
      "DEBUG: - bed_lib:Running: bedtools shuffle -i ../data/slidebase_enhancers_clean.bed -g ../data/genome_chro_size.tab  > bed_outfolder/slidebase_enhancers_clean-shuffle-21.bed\n",
      "DEBUG: - bed_lib:Running: bedtools shuffle -i ../data/slidebase_enhancers_clean.bed -g ../data/genome_chro_size.tab  > bed_outfolder/slidebase_enhancers_clean-shuffle-22.bed\n",
      "DEBUG: - bed_lib:Running: bedtools shuffle -i ../data/slidebase_enhancers_clean.bed -g ../data/genome_chro_size.tab  > bed_outfolder/slidebase_enhancers_clean-shuffle-23.bed\n",
      "DEBUG: - bed_lib:Running: bedtools shuffle -i ../data/slidebase_enhancers_clean.bed -g ../data/genome_chro_size.tab  > bed_outfolder/slidebase_enhancers_clean-shuffle-24.bed\n",
      "DEBUG: - bed_lib:Running: bedtools shuffle -i ../data/slidebase_enhancers_clean.bed -g ../data/genome_chro_size.tab  > bed_outfolder/slidebase_enhancers_clean-shuffle-25.bed\n",
      "DEBUG: - bed_lib:Running: bedtools shuffle -i ../data/slidebase_enhancers_clean.bed -g ../data/genome_chro_size.tab  > bed_outfolder/slidebase_enhancers_clean-shuffle-26.bed\n",
      "DEBUG: - bed_lib:Running: bedtools shuffle -i ../data/slidebase_enhancers_clean.bed -g ../data/genome_chro_size.tab  > bed_outfolder/slidebase_enhancers_clean-shuffle-27.bed\n",
      "DEBUG: - bed_lib:Running: bedtools shuffle -i ../data/slidebase_enhancers_clean.bed -g ../data/genome_chro_size.tab  > bed_outfolder/slidebase_enhancers_clean-shuffle-28.bed\n",
      "DEBUG: - bed_lib:Running: bedtools shuffle -i ../data/slidebase_enhancers_clean.bed -g ../data/genome_chro_size.tab  > bed_outfolder/slidebase_enhancers_clean-shuffle-29.bed\n",
      "DEBUG: - bed_lib:Running: bedtools shuffle -i ../data/slidebase_enhancers_clean.bed -g ../data/genome_chro_size.tab  > bed_outfolder/slidebase_enhancers_clean-shuffle-30.bed\n",
      "DEBUG: - bed_lib:Running: bedtools shuffle -i ../data/slidebase_enhancers_clean.bed -g ../data/genome_chro_size.tab  > bed_outfolder/slidebase_enhancers_clean-shuffle-31.bed\n",
      "DEBUG: - bed_lib:Running: bedtools shuffle -i ../data/slidebase_enhancers_clean.bed -g ../data/genome_chro_size.tab  > bed_outfolder/slidebase_enhancers_clean-shuffle-32.bed\n",
      "DEBUG: - bed_lib:Running: bedtools shuffle -i ../data/slidebase_enhancers_clean.bed -g ../data/genome_chro_size.tab  > bed_outfolder/slidebase_enhancers_clean-shuffle-33.bed\n",
      "DEBUG: - bed_lib:Running: bedtools shuffle -i ../data/slidebase_enhancers_clean.bed -g ../data/genome_chro_size.tab  > bed_outfolder/slidebase_enhancers_clean-shuffle-34.bed\n",
      "DEBUG: - bed_lib:Running: bedtools shuffle -i ../data/slidebase_enhancers_clean.bed -g ../data/genome_chro_size.tab  > bed_outfolder/slidebase_enhancers_clean-shuffle-35.bed\n",
      "DEBUG: - bed_lib:Running: bedtools shuffle -i ../data/slidebase_enhancers_clean.bed -g ../data/genome_chro_size.tab  > bed_outfolder/slidebase_enhancers_clean-shuffle-36.bed\n",
      "DEBUG: - bed_lib:Running: bedtools shuffle -i ../data/slidebase_enhancers_clean.bed -g ../data/genome_chro_size.tab  > bed_outfolder/slidebase_enhancers_clean-shuffle-37.bed\n",
      "DEBUG: - bed_lib:Running: bedtools shuffle -i ../data/slidebase_enhancers_clean.bed -g ../data/genome_chro_size.tab  > bed_outfolder/slidebase_enhancers_clean-shuffle-38.bed\n",
      "DEBUG: - bed_lib:Running: bedtools shuffle -i ../data/slidebase_enhancers_clean.bed -g ../data/genome_chro_size.tab  > bed_outfolder/slidebase_enhancers_clean-shuffle-39.bed\n",
      "DEBUG: - bed_lib:Running: bedtools shuffle -i ../data/slidebase_enhancers_clean.bed -g ../data/genome_chro_size.tab  > bed_outfolder/slidebase_enhancers_clean-shuffle-40.bed\n",
      "DEBUG: - bed_lib:Running: bedtools shuffle -i ../data/slidebase_enhancers_clean.bed -g ../data/genome_chro_size.tab  > bed_outfolder/slidebase_enhancers_clean-shuffle-41.bed\n",
      "DEBUG: - bed_lib:Running: bedtools shuffle -i ../data/slidebase_enhancers_clean.bed -g ../data/genome_chro_size.tab  > bed_outfolder/slidebase_enhancers_clean-shuffle-42.bed\n",
      "DEBUG: - bed_lib:Running: bedtools shuffle -i ../data/slidebase_enhancers_clean.bed -g ../data/genome_chro_size.tab  > bed_outfolder/slidebase_enhancers_clean-shuffle-43.bed\n",
      "DEBUG: - bed_lib:Running: bedtools shuffle -i ../data/slidebase_enhancers_clean.bed -g ../data/genome_chro_size.tab  > bed_outfolder/slidebase_enhancers_clean-shuffle-44.bed\n",
      "DEBUG: - bed_lib:Running: bedtools shuffle -i ../data/slidebase_enhancers_clean.bed -g ../data/genome_chro_size.tab  > bed_outfolder/slidebase_enhancers_clean-shuffle-45.bed\n",
      "DEBUG: - bed_lib:Running: bedtools shuffle -i ../data/slidebase_enhancers_clean.bed -g ../data/genome_chro_size.tab  > bed_outfolder/slidebase_enhancers_clean-shuffle-46.bed\n",
      "DEBUG: - bed_lib:Running: bedtools shuffle -i ../data/slidebase_enhancers_clean.bed -g ../data/genome_chro_size.tab  > bed_outfolder/slidebase_enhancers_clean-shuffle-47.bed\n",
      "DEBUG: - bed_lib:Running: bedtools shuffle -i ../data/slidebase_enhancers_clean.bed -g ../data/genome_chro_size.tab  > bed_outfolder/slidebase_enhancers_clean-shuffle-48.bed\n",
      "DEBUG: - bed_lib:Running: bedtools shuffle -i ../data/slidebase_enhancers_clean.bed -g ../data/genome_chro_size.tab  > bed_outfolder/slidebase_enhancers_clean-shuffle-49.bed\n",
      "DEBUG: - bed_lib:Running: bedtools shuffle -i ../data/slidebase_enhancers_clean.bed -g ../data/genome_chro_size.tab  > bed_outfolder/slidebase_enhancers_clean-shuffle-50.bed\n",
      "DEBUG: - bed_lib:Running: bedtools shuffle -i ../data/slidebase_enhancers_clean.bed -g ../data/genome_chro_size.tab  > bed_outfolder/slidebase_enhancers_clean-shuffle-51.bed\n",
      "DEBUG: - bed_lib:Running: bedtools shuffle -i ../data/slidebase_enhancers_clean.bed -g ../data/genome_chro_size.tab  > bed_outfolder/slidebase_enhancers_clean-shuffle-52.bed\n",
      "DEBUG: - bed_lib:Running: bedtools shuffle -i ../data/slidebase_enhancers_clean.bed -g ../data/genome_chro_size.tab  > bed_outfolder/slidebase_enhancers_clean-shuffle-53.bed\n",
      "DEBUG: - bed_lib:Running: bedtools shuffle -i ../data/slidebase_enhancers_clean.bed -g ../data/genome_chro_size.tab  > bed_outfolder/slidebase_enhancers_clean-shuffle-54.bed\n",
      "DEBUG: - bed_lib:Running: bedtools shuffle -i ../data/slidebase_enhancers_clean.bed -g ../data/genome_chro_size.tab  > bed_outfolder/slidebase_enhancers_clean-shuffle-55.bed\n",
      "DEBUG: - bed_lib:Running: bedtools shuffle -i ../data/slidebase_enhancers_clean.bed -g ../data/genome_chro_size.tab  > bed_outfolder/slidebase_enhancers_clean-shuffle-56.bed\n",
      "DEBUG: - bed_lib:Running: bedtools shuffle -i ../data/slidebase_enhancers_clean.bed -g ../data/genome_chro_size.tab  > bed_outfolder/slidebase_enhancers_clean-shuffle-57.bed\n",
      "DEBUG: - bed_lib:Running: bedtools shuffle -i ../data/slidebase_enhancers_clean.bed -g ../data/genome_chro_size.tab  > bed_outfolder/slidebase_enhancers_clean-shuffle-58.bed\n",
      "DEBUG: - bed_lib:Running: bedtools shuffle -i ../data/slidebase_enhancers_clean.bed -g ../data/genome_chro_size.tab  > bed_outfolder/slidebase_enhancers_clean-shuffle-59.bed\n",
      "DEBUG: - bed_lib:Running: bedtools shuffle -i ../data/slidebase_enhancers_clean.bed -g ../data/genome_chro_size.tab  > bed_outfolder/slidebase_enhancers_clean-shuffle-60.bed\n",
      "DEBUG: - bed_lib:Running: bedtools shuffle -i ../data/slidebase_enhancers_clean.bed -g ../data/genome_chro_size.tab  > bed_outfolder/slidebase_enhancers_clean-shuffle-61.bed\n",
      "DEBUG: - bed_lib:Running: bedtools shuffle -i ../data/slidebase_enhancers_clean.bed -g ../data/genome_chro_size.tab  > bed_outfolder/slidebase_enhancers_clean-shuffle-62.bed\n",
      "DEBUG: - bed_lib:Running: bedtools shuffle -i ../data/slidebase_enhancers_clean.bed -g ../data/genome_chro_size.tab  > bed_outfolder/slidebase_enhancers_clean-shuffle-63.bed\n",
      "DEBUG: - bed_lib:Running: bedtools shuffle -i ../data/slidebase_enhancers_clean.bed -g ../data/genome_chro_size.tab  > bed_outfolder/slidebase_enhancers_clean-shuffle-64.bed\n",
      "DEBUG: - bed_lib:Running: bedtools shuffle -i ../data/slidebase_enhancers_clean.bed -g ../data/genome_chro_size.tab  > bed_outfolder/slidebase_enhancers_clean-shuffle-65.bed\n",
      "DEBUG: - bed_lib:Running: bedtools shuffle -i ../data/slidebase_enhancers_clean.bed -g ../data/genome_chro_size.tab  > bed_outfolder/slidebase_enhancers_clean-shuffle-66.bed\n",
      "DEBUG: - bed_lib:Running: bedtools shuffle -i ../data/slidebase_enhancers_clean.bed -g ../data/genome_chro_size.tab  > bed_outfolder/slidebase_enhancers_clean-shuffle-67.bed\n",
      "DEBUG: - bed_lib:Running: bedtools shuffle -i ../data/slidebase_enhancers_clean.bed -g ../data/genome_chro_size.tab  > bed_outfolder/slidebase_enhancers_clean-shuffle-68.bed\n",
      "DEBUG: - bed_lib:Running: bedtools shuffle -i ../data/slidebase_enhancers_clean.bed -g ../data/genome_chro_size.tab  > bed_outfolder/slidebase_enhancers_clean-shuffle-69.bed\n",
      "DEBUG: - bed_lib:Running: bedtools shuffle -i ../data/slidebase_enhancers_clean.bed -g ../data/genome_chro_size.tab  > bed_outfolder/slidebase_enhancers_clean-shuffle-70.bed\n",
      "DEBUG: - bed_lib:Running: bedtools shuffle -i ../data/slidebase_enhancers_clean.bed -g ../data/genome_chro_size.tab  > bed_outfolder/slidebase_enhancers_clean-shuffle-71.bed\n",
      "DEBUG: - bed_lib:Running: bedtools shuffle -i ../data/slidebase_enhancers_clean.bed -g ../data/genome_chro_size.tab  > bed_outfolder/slidebase_enhancers_clean-shuffle-72.bed\n",
      "DEBUG: - bed_lib:Running: bedtools shuffle -i ../data/slidebase_enhancers_clean.bed -g ../data/genome_chro_size.tab  > bed_outfolder/slidebase_enhancers_clean-shuffle-73.bed\n",
      "DEBUG: - bed_lib:Running: bedtools shuffle -i ../data/slidebase_enhancers_clean.bed -g ../data/genome_chro_size.tab  > bed_outfolder/slidebase_enhancers_clean-shuffle-74.bed\n",
      "DEBUG: - bed_lib:Running: bedtools shuffle -i ../data/slidebase_enhancers_clean.bed -g ../data/genome_chro_size.tab  > bed_outfolder/slidebase_enhancers_clean-shuffle-75.bed\n",
      "DEBUG: - bed_lib:Running: bedtools shuffle -i ../data/slidebase_enhancers_clean.bed -g ../data/genome_chro_size.tab  > bed_outfolder/slidebase_enhancers_clean-shuffle-76.bed\n",
      "DEBUG: - bed_lib:Running: bedtools shuffle -i ../data/slidebase_enhancers_clean.bed -g ../data/genome_chro_size.tab  > bed_outfolder/slidebase_enhancers_clean-shuffle-77.bed\n",
      "DEBUG: - bed_lib:Running: bedtools shuffle -i ../data/slidebase_enhancers_clean.bed -g ../data/genome_chro_size.tab  > bed_outfolder/slidebase_enhancers_clean-shuffle-78.bed\n",
      "DEBUG: - bed_lib:Running: bedtools shuffle -i ../data/slidebase_enhancers_clean.bed -g ../data/genome_chro_size.tab  > bed_outfolder/slidebase_enhancers_clean-shuffle-79.bed\n",
      "DEBUG: - bed_lib:Running: bedtools shuffle -i ../data/slidebase_enhancers_clean.bed -g ../data/genome_chro_size.tab  > bed_outfolder/slidebase_enhancers_clean-shuffle-80.bed\n",
      "DEBUG: - bed_lib:Running: bedtools shuffle -i ../data/slidebase_enhancers_clean.bed -g ../data/genome_chro_size.tab  > bed_outfolder/slidebase_enhancers_clean-shuffle-81.bed\n",
      "DEBUG: - bed_lib:Running: bedtools shuffle -i ../data/slidebase_enhancers_clean.bed -g ../data/genome_chro_size.tab  > bed_outfolder/slidebase_enhancers_clean-shuffle-82.bed\n",
      "DEBUG: - bed_lib:Running: bedtools shuffle -i ../data/slidebase_enhancers_clean.bed -g ../data/genome_chro_size.tab  > bed_outfolder/slidebase_enhancers_clean-shuffle-83.bed\n",
      "DEBUG: - bed_lib:Running: bedtools shuffle -i ../data/slidebase_enhancers_clean.bed -g ../data/genome_chro_size.tab  > bed_outfolder/slidebase_enhancers_clean-shuffle-84.bed\n",
      "DEBUG: - bed_lib:Running: bedtools shuffle -i ../data/slidebase_enhancers_clean.bed -g ../data/genome_chro_size.tab  > bed_outfolder/slidebase_enhancers_clean-shuffle-85.bed\n",
      "DEBUG: - bed_lib:Running: bedtools shuffle -i ../data/slidebase_enhancers_clean.bed -g ../data/genome_chro_size.tab  > bed_outfolder/slidebase_enhancers_clean-shuffle-86.bed\n",
      "DEBUG: - bed_lib:Running: bedtools shuffle -i ../data/slidebase_enhancers_clean.bed -g ../data/genome_chro_size.tab  > bed_outfolder/slidebase_enhancers_clean-shuffle-87.bed\n",
      "DEBUG: - bed_lib:Running: bedtools shuffle -i ../data/slidebase_enhancers_clean.bed -g ../data/genome_chro_size.tab  > bed_outfolder/slidebase_enhancers_clean-shuffle-88.bed\n",
      "DEBUG: - bed_lib:Running: bedtools shuffle -i ../data/slidebase_enhancers_clean.bed -g ../data/genome_chro_size.tab  > bed_outfolder/slidebase_enhancers_clean-shuffle-89.bed\n",
      "DEBUG: - bed_lib:Running: bedtools shuffle -i ../data/slidebase_enhancers_clean.bed -g ../data/genome_chro_size.tab  > bed_outfolder/slidebase_enhancers_clean-shuffle-90.bed\n",
      "DEBUG: - bed_lib:Running: bedtools shuffle -i ../data/slidebase_enhancers_clean.bed -g ../data/genome_chro_size.tab  > bed_outfolder/slidebase_enhancers_clean-shuffle-91.bed\n",
      "DEBUG: - bed_lib:Running: bedtools shuffle -i ../data/slidebase_enhancers_clean.bed -g ../data/genome_chro_size.tab  > bed_outfolder/slidebase_enhancers_clean-shuffle-92.bed\n",
      "DEBUG: - bed_lib:Running: bedtools shuffle -i ../data/slidebase_enhancers_clean.bed -g ../data/genome_chro_size.tab  > bed_outfolder/slidebase_enhancers_clean-shuffle-93.bed\n",
      "DEBUG: - bed_lib:Running: bedtools shuffle -i ../data/slidebase_enhancers_clean.bed -g ../data/genome_chro_size.tab  > bed_outfolder/slidebase_enhancers_clean-shuffle-94.bed\n",
      "DEBUG: - bed_lib:Running: bedtools shuffle -i ../data/slidebase_enhancers_clean.bed -g ../data/genome_chro_size.tab  > bed_outfolder/slidebase_enhancers_clean-shuffle-95.bed\n",
      "DEBUG: - bed_lib:Running: bedtools shuffle -i ../data/slidebase_enhancers_clean.bed -g ../data/genome_chro_size.tab  > bed_outfolder/slidebase_enhancers_clean-shuffle-96.bed\n",
      "DEBUG: - bed_lib:Running: bedtools shuffle -i ../data/slidebase_enhancers_clean.bed -g ../data/genome_chro_size.tab  > bed_outfolder/slidebase_enhancers_clean-shuffle-97.bed\n",
      "DEBUG: - bed_lib:Running: bedtools shuffle -i ../data/slidebase_enhancers_clean.bed -g ../data/genome_chro_size.tab  > bed_outfolder/slidebase_enhancers_clean-shuffle-98.bed\n",
      "DEBUG: - bed_lib:Running: bedtools shuffle -i ../data/slidebase_enhancers_clean.bed -g ../data/genome_chro_size.tab  > bed_outfolder/slidebase_enhancers_clean-shuffle-99.bed\n"
     ]
    }
   ],
   "source": [
    "shuffled_slidebase_enh = slidebase_enh.multi_shuffle(100, '../data/genome_chro_size.tab')"
   ]
  },
  {
   "cell_type": "markdown",
   "metadata": {},
   "source": [
    "Average number of common intervals between shuffled CAGE dataset and divergent transcription inferred dataset:\n",
    "\n",
    "(to relate with n_intersection from jaccard above)"
   ]
  },
  {
   "cell_type": "code",
   "execution_count": 35,
   "metadata": {},
   "outputs": [
    {
     "data": {
      "text/plain": [
       "34.75"
      ]
     },
     "execution_count": 35,
     "metadata": {},
     "output_type": "execute_result"
    }
   ],
   "source": [
    "pd.DataFrame([div_trans_beds_filter_merged[0].intersect(x).stats() for x in shuffled_slidebase_enh]).Nintervals.mean()"
   ]
  },
  {
   "cell_type": "code",
   "execution_count": 36,
   "metadata": {},
   "outputs": [
    {
     "data": {
      "text/plain": [
       "40.26"
      ]
     },
     "execution_count": 36,
     "metadata": {},
     "output_type": "execute_result"
    }
   ],
   "source": [
    "pd.DataFrame([div_trans_beds_filter_merged[1].intersect(x).stats() for x in shuffled_slidebase_enh]).Nintervals.mean()"
   ]
  },
  {
   "cell_type": "markdown",
   "metadata": {},
   "source": [
    "**CCL:** ~2 times more intersections between divtrans and CAGE intervals than expected by chance"
   ]
  },
  {
   "cell_type": "markdown",
   "metadata": {},
   "source": [
    "## Stats on divergent transcription intervals\n"
   ]
  },
  {
   "cell_type": "code",
   "execution_count": 29,
   "metadata": {},
   "outputs": [],
   "source": [
    "intersection_cage_div_trans_bed = [x.intersect(slidebase_enh) for x in div_trans_beds_filter_merged]"
   ]
  },
  {
   "cell_type": "markdown",
   "metadata": {},
   "source": [
    "# Compare to Transcription factors intervals\n",
    "\n",
    "Download transcription factors bed from UCSC:\n",
    "\n",
    "**IMPORTANT NOTE:** At the difference of enhancer and div_trans intervals, transcription factors intervals are not merged \n",
    "> This leads to divergent estimations in intersection when considering jaccard and intersect results."
   ]
  },
  {
   "cell_type": "code",
   "execution_count": 37,
   "metadata": {},
   "outputs": [],
   "source": [
    "%%bash\n",
    "\n",
    "# Download from UCSC mysql database, remove the 'chr',the header, sort the bed\n",
    "mysql --user=genome --host=genome-mysql.cse.ucsc.edu -A -e \"use hg19; SELECT * FROM wgEncodeRegTfbsClusteredV3;\" | \\\n",
    "    awk -v OFS='\\t' 'NR>1 {gsub(\"chr\",\"\",$2); print $2, $3, $4, $5, $6}' | \\\n",
    "    bedtools sort -i - > ../data/wgEncodeRegTfbsClusteredV3.bed"
   ]
  },
  {
   "cell_type": "code",
   "execution_count": 38,
   "metadata": {},
   "outputs": [],
   "source": [
    "transcription_factors_bed = bl.Bed('../data/wgEncodeRegTfbsClusteredV3.bed')"
   ]
  },
  {
   "cell_type": "markdown",
   "metadata": {},
   "source": [
    "## Fisher test\n",
    "Testing if significant association between intervals detected with divergent transcription and transcription factors from UCSC\n"
   ]
  },
  {
   "cell_type": "code",
   "execution_count": 39,
   "metadata": {},
   "outputs": [
    {
     "data": {
      "text/plain": [
       "[{'left': 1.0,\n",
       "  'right': 0.0,\n",
       "  'two-tail': 0.0,\n",
       "  'ratio': inf,\n",
       "  'bed1': 'VEUDE_A_1_coordSort_filt_divtrans_coverage_filtered_M',\n",
       "  'bed2': 'wgEncodeRegTfbsClusteredV3'},\n",
       " {'left': 1.0,\n",
       "  'right': 0.0,\n",
       "  'two-tail': 0.0,\n",
       "  'ratio': inf,\n",
       "  'bed1': 'Compoud_A_1_coordSort_filt_divtrans_coverage_filtered_M',\n",
       "  'bed2': 'wgEncodeRegTfbsClusteredV3'}]"
      ]
     },
     "execution_count": 39,
     "metadata": {},
     "output_type": "execute_result"
    }
   ],
   "source": [
    "[bed.fisher(transcription_factors_bed, '../data/genome_chro_size.tab') for bed in div_trans_beds_filter_merged]"
   ]
  },
  {
   "cell_type": "markdown",
   "metadata": {},
   "source": [
    "## Jaccard index"
   ]
  },
  {
   "cell_type": "code",
   "execution_count": 40,
   "metadata": {},
   "outputs": [
    {
     "data": {
      "text/html": [
       "<div>\n",
       "<style scoped>\n",
       "    .dataframe tbody tr th:only-of-type {\n",
       "        vertical-align: middle;\n",
       "    }\n",
       "\n",
       "    .dataframe tbody tr th {\n",
       "        vertical-align: top;\n",
       "    }\n",
       "\n",
       "    .dataframe thead th {\n",
       "        text-align: right;\n",
       "    }\n",
       "</style>\n",
       "<table border=\"1\" class=\"dataframe\">\n",
       "  <thead>\n",
       "    <tr style=\"text-align: right;\">\n",
       "      <th></th>\n",
       "      <th>intersection</th>\n",
       "      <th>union-intersection</th>\n",
       "      <th>jaccard</th>\n",
       "      <th>n_intersections</th>\n",
       "    </tr>\n",
       "  </thead>\n",
       "  <tbody>\n",
       "    <tr>\n",
       "      <th>VEUDE_A_1_coordSort_filt_divtrans_coverage_filtered_M</th>\n",
       "      <td>979009</td>\n",
       "      <td>380477118</td>\n",
       "      <td>0.002573</td>\n",
       "      <td>5571</td>\n",
       "    </tr>\n",
       "    <tr>\n",
       "      <th>Compoud_A_1_coordSort_filt_divtrans_coverage_filtered_M</th>\n",
       "      <td>1141079</td>\n",
       "      <td>380590626</td>\n",
       "      <td>0.002998</td>\n",
       "      <td>6505</td>\n",
       "    </tr>\n",
       "  </tbody>\n",
       "</table>\n",
       "</div>"
      ],
      "text/plain": [
       "                                                    intersection  \\\n",
       "VEUDE_A_1_coordSort_filt_divtrans_coverage_filt...        979009   \n",
       "Compoud_A_1_coordSort_filt_divtrans_coverage_fi...       1141079   \n",
       "\n",
       "                                                    union-intersection  \\\n",
       "VEUDE_A_1_coordSort_filt_divtrans_coverage_filt...           380477118   \n",
       "Compoud_A_1_coordSort_filt_divtrans_coverage_fi...           380590626   \n",
       "\n",
       "                                                     jaccard  n_intersections  \n",
       "VEUDE_A_1_coordSort_filt_divtrans_coverage_filt...  0.002573             5571  \n",
       "Compoud_A_1_coordSort_filt_divtrans_coverage_fi...  0.002998             6505  "
      ]
     },
     "execution_count": 40,
     "metadata": {},
     "output_type": "execute_result"
    }
   ],
   "source": [
    "pd.concat([bed.jaccard(transcription_factors_bed) for bed in div_trans_beds_filter_merged])"
   ]
  },
  {
   "cell_type": "markdown",
   "metadata": {},
   "source": [
    "## Shuffling"
   ]
  },
  {
   "cell_type": "code",
   "execution_count": 41,
   "metadata": {},
   "outputs": [
    {
     "name": "stderr",
     "output_type": "stream",
     "text": [
      "DEBUG: - bed_lib:Running: bedtools shuffle -i ../data/wgEncodeRegTfbsClusteredV3.bed -g ../data/genome_chro_size.tab  > bed_outfolder/wgEncodeRegTfbsClusteredV3-shuffle-0.bed\n",
      "DEBUG: - bed_lib:Running: bedtools shuffle -i ../data/wgEncodeRegTfbsClusteredV3.bed -g ../data/genome_chro_size.tab  > bed_outfolder/wgEncodeRegTfbsClusteredV3-shuffle-1.bed\n",
      "DEBUG: - bed_lib:Running: bedtools shuffle -i ../data/wgEncodeRegTfbsClusteredV3.bed -g ../data/genome_chro_size.tab  > bed_outfolder/wgEncodeRegTfbsClusteredV3-shuffle-2.bed\n",
      "DEBUG: - bed_lib:Running: bedtools shuffle -i ../data/wgEncodeRegTfbsClusteredV3.bed -g ../data/genome_chro_size.tab  > bed_outfolder/wgEncodeRegTfbsClusteredV3-shuffle-3.bed\n",
      "DEBUG: - bed_lib:Running: bedtools shuffle -i ../data/wgEncodeRegTfbsClusteredV3.bed -g ../data/genome_chro_size.tab  > bed_outfolder/wgEncodeRegTfbsClusteredV3-shuffle-4.bed\n",
      "DEBUG: - bed_lib:Running: bedtools shuffle -i ../data/wgEncodeRegTfbsClusteredV3.bed -g ../data/genome_chro_size.tab  > bed_outfolder/wgEncodeRegTfbsClusteredV3-shuffle-5.bed\n",
      "DEBUG: - bed_lib:Running: bedtools shuffle -i ../data/wgEncodeRegTfbsClusteredV3.bed -g ../data/genome_chro_size.tab  > bed_outfolder/wgEncodeRegTfbsClusteredV3-shuffle-6.bed\n",
      "DEBUG: - bed_lib:Running: bedtools shuffle -i ../data/wgEncodeRegTfbsClusteredV3.bed -g ../data/genome_chro_size.tab  > bed_outfolder/wgEncodeRegTfbsClusteredV3-shuffle-7.bed\n",
      "DEBUG: - bed_lib:Running: bedtools shuffle -i ../data/wgEncodeRegTfbsClusteredV3.bed -g ../data/genome_chro_size.tab  > bed_outfolder/wgEncodeRegTfbsClusteredV3-shuffle-8.bed\n",
      "DEBUG: - bed_lib:Running: bedtools shuffle -i ../data/wgEncodeRegTfbsClusteredV3.bed -g ../data/genome_chro_size.tab  > bed_outfolder/wgEncodeRegTfbsClusteredV3-shuffle-9.bed\n",
      "DEBUG: - bed_lib:Running: bedtools shuffle -i ../data/wgEncodeRegTfbsClusteredV3.bed -g ../data/genome_chro_size.tab  > bed_outfolder/wgEncodeRegTfbsClusteredV3-shuffle-10.bed\n",
      "DEBUG: - bed_lib:Running: bedtools shuffle -i ../data/wgEncodeRegTfbsClusteredV3.bed -g ../data/genome_chro_size.tab  > bed_outfolder/wgEncodeRegTfbsClusteredV3-shuffle-11.bed\n",
      "DEBUG: - bed_lib:Running: bedtools shuffle -i ../data/wgEncodeRegTfbsClusteredV3.bed -g ../data/genome_chro_size.tab  > bed_outfolder/wgEncodeRegTfbsClusteredV3-shuffle-12.bed\n",
      "DEBUG: - bed_lib:Running: bedtools shuffle -i ../data/wgEncodeRegTfbsClusteredV3.bed -g ../data/genome_chro_size.tab  > bed_outfolder/wgEncodeRegTfbsClusteredV3-shuffle-13.bed\n",
      "DEBUG: - bed_lib:Running: bedtools shuffle -i ../data/wgEncodeRegTfbsClusteredV3.bed -g ../data/genome_chro_size.tab  > bed_outfolder/wgEncodeRegTfbsClusteredV3-shuffle-14.bed\n",
      "DEBUG: - bed_lib:Running: bedtools shuffle -i ../data/wgEncodeRegTfbsClusteredV3.bed -g ../data/genome_chro_size.tab  > bed_outfolder/wgEncodeRegTfbsClusteredV3-shuffle-15.bed\n",
      "DEBUG: - bed_lib:Running: bedtools shuffle -i ../data/wgEncodeRegTfbsClusteredV3.bed -g ../data/genome_chro_size.tab  > bed_outfolder/wgEncodeRegTfbsClusteredV3-shuffle-16.bed\n",
      "DEBUG: - bed_lib:Running: bedtools shuffle -i ../data/wgEncodeRegTfbsClusteredV3.bed -g ../data/genome_chro_size.tab  > bed_outfolder/wgEncodeRegTfbsClusteredV3-shuffle-17.bed\n",
      "DEBUG: - bed_lib:Running: bedtools shuffle -i ../data/wgEncodeRegTfbsClusteredV3.bed -g ../data/genome_chro_size.tab  > bed_outfolder/wgEncodeRegTfbsClusteredV3-shuffle-18.bed\n",
      "DEBUG: - bed_lib:Running: bedtools shuffle -i ../data/wgEncodeRegTfbsClusteredV3.bed -g ../data/genome_chro_size.tab  > bed_outfolder/wgEncodeRegTfbsClusteredV3-shuffle-19.bed\n",
      "DEBUG: - bed_lib:Running: bedtools shuffle -i ../data/wgEncodeRegTfbsClusteredV3.bed -g ../data/genome_chro_size.tab  > bed_outfolder/wgEncodeRegTfbsClusteredV3-shuffle-20.bed\n",
      "DEBUG: - bed_lib:Running: bedtools shuffle -i ../data/wgEncodeRegTfbsClusteredV3.bed -g ../data/genome_chro_size.tab  > bed_outfolder/wgEncodeRegTfbsClusteredV3-shuffle-21.bed\n",
      "DEBUG: - bed_lib:Running: bedtools shuffle -i ../data/wgEncodeRegTfbsClusteredV3.bed -g ../data/genome_chro_size.tab  > bed_outfolder/wgEncodeRegTfbsClusteredV3-shuffle-22.bed\n",
      "DEBUG: - bed_lib:Running: bedtools shuffle -i ../data/wgEncodeRegTfbsClusteredV3.bed -g ../data/genome_chro_size.tab  > bed_outfolder/wgEncodeRegTfbsClusteredV3-shuffle-23.bed\n",
      "DEBUG: - bed_lib:Running: bedtools shuffle -i ../data/wgEncodeRegTfbsClusteredV3.bed -g ../data/genome_chro_size.tab  > bed_outfolder/wgEncodeRegTfbsClusteredV3-shuffle-24.bed\n",
      "DEBUG: - bed_lib:Running: bedtools shuffle -i ../data/wgEncodeRegTfbsClusteredV3.bed -g ../data/genome_chro_size.tab  > bed_outfolder/wgEncodeRegTfbsClusteredV3-shuffle-25.bed\n",
      "DEBUG: - bed_lib:Running: bedtools shuffle -i ../data/wgEncodeRegTfbsClusteredV3.bed -g ../data/genome_chro_size.tab  > bed_outfolder/wgEncodeRegTfbsClusteredV3-shuffle-26.bed\n",
      "DEBUG: - bed_lib:Running: bedtools shuffle -i ../data/wgEncodeRegTfbsClusteredV3.bed -g ../data/genome_chro_size.tab  > bed_outfolder/wgEncodeRegTfbsClusteredV3-shuffle-27.bed\n",
      "DEBUG: - bed_lib:Running: bedtools shuffle -i ../data/wgEncodeRegTfbsClusteredV3.bed -g ../data/genome_chro_size.tab  > bed_outfolder/wgEncodeRegTfbsClusteredV3-shuffle-28.bed\n",
      "DEBUG: - bed_lib:Running: bedtools shuffle -i ../data/wgEncodeRegTfbsClusteredV3.bed -g ../data/genome_chro_size.tab  > bed_outfolder/wgEncodeRegTfbsClusteredV3-shuffle-29.bed\n",
      "DEBUG: - bed_lib:Running: bedtools shuffle -i ../data/wgEncodeRegTfbsClusteredV3.bed -g ../data/genome_chro_size.tab  > bed_outfolder/wgEncodeRegTfbsClusteredV3-shuffle-30.bed\n",
      "DEBUG: - bed_lib:Running: bedtools shuffle -i ../data/wgEncodeRegTfbsClusteredV3.bed -g ../data/genome_chro_size.tab  > bed_outfolder/wgEncodeRegTfbsClusteredV3-shuffle-31.bed\n",
      "DEBUG: - bed_lib:Running: bedtools shuffle -i ../data/wgEncodeRegTfbsClusteredV3.bed -g ../data/genome_chro_size.tab  > bed_outfolder/wgEncodeRegTfbsClusteredV3-shuffle-32.bed\n",
      "DEBUG: - bed_lib:Running: bedtools shuffle -i ../data/wgEncodeRegTfbsClusteredV3.bed -g ../data/genome_chro_size.tab  > bed_outfolder/wgEncodeRegTfbsClusteredV3-shuffle-33.bed\n",
      "DEBUG: - bed_lib:Running: bedtools shuffle -i ../data/wgEncodeRegTfbsClusteredV3.bed -g ../data/genome_chro_size.tab  > bed_outfolder/wgEncodeRegTfbsClusteredV3-shuffle-34.bed\n",
      "DEBUG: - bed_lib:Running: bedtools shuffle -i ../data/wgEncodeRegTfbsClusteredV3.bed -g ../data/genome_chro_size.tab  > bed_outfolder/wgEncodeRegTfbsClusteredV3-shuffle-35.bed\n",
      "DEBUG: - bed_lib:Running: bedtools shuffle -i ../data/wgEncodeRegTfbsClusteredV3.bed -g ../data/genome_chro_size.tab  > bed_outfolder/wgEncodeRegTfbsClusteredV3-shuffle-36.bed\n",
      "DEBUG: - bed_lib:Running: bedtools shuffle -i ../data/wgEncodeRegTfbsClusteredV3.bed -g ../data/genome_chro_size.tab  > bed_outfolder/wgEncodeRegTfbsClusteredV3-shuffle-37.bed\n",
      "DEBUG: - bed_lib:Running: bedtools shuffle -i ../data/wgEncodeRegTfbsClusteredV3.bed -g ../data/genome_chro_size.tab  > bed_outfolder/wgEncodeRegTfbsClusteredV3-shuffle-38.bed\n",
      "DEBUG: - bed_lib:Running: bedtools shuffle -i ../data/wgEncodeRegTfbsClusteredV3.bed -g ../data/genome_chro_size.tab  > bed_outfolder/wgEncodeRegTfbsClusteredV3-shuffle-39.bed\n",
      "DEBUG: - bed_lib:Running: bedtools shuffle -i ../data/wgEncodeRegTfbsClusteredV3.bed -g ../data/genome_chro_size.tab  > bed_outfolder/wgEncodeRegTfbsClusteredV3-shuffle-40.bed\n",
      "DEBUG: - bed_lib:Running: bedtools shuffle -i ../data/wgEncodeRegTfbsClusteredV3.bed -g ../data/genome_chro_size.tab  > bed_outfolder/wgEncodeRegTfbsClusteredV3-shuffle-41.bed\n",
      "DEBUG: - bed_lib:Running: bedtools shuffle -i ../data/wgEncodeRegTfbsClusteredV3.bed -g ../data/genome_chro_size.tab  > bed_outfolder/wgEncodeRegTfbsClusteredV3-shuffle-42.bed\n",
      "DEBUG: - bed_lib:Running: bedtools shuffle -i ../data/wgEncodeRegTfbsClusteredV3.bed -g ../data/genome_chro_size.tab  > bed_outfolder/wgEncodeRegTfbsClusteredV3-shuffle-43.bed\n",
      "DEBUG: - bed_lib:Running: bedtools shuffle -i ../data/wgEncodeRegTfbsClusteredV3.bed -g ../data/genome_chro_size.tab  > bed_outfolder/wgEncodeRegTfbsClusteredV3-shuffle-44.bed\n",
      "DEBUG: - bed_lib:Running: bedtools shuffle -i ../data/wgEncodeRegTfbsClusteredV3.bed -g ../data/genome_chro_size.tab  > bed_outfolder/wgEncodeRegTfbsClusteredV3-shuffle-45.bed\n",
      "DEBUG: - bed_lib:Running: bedtools shuffle -i ../data/wgEncodeRegTfbsClusteredV3.bed -g ../data/genome_chro_size.tab  > bed_outfolder/wgEncodeRegTfbsClusteredV3-shuffle-46.bed\n",
      "DEBUG: - bed_lib:Running: bedtools shuffle -i ../data/wgEncodeRegTfbsClusteredV3.bed -g ../data/genome_chro_size.tab  > bed_outfolder/wgEncodeRegTfbsClusteredV3-shuffle-47.bed\n",
      "DEBUG: - bed_lib:Running: bedtools shuffle -i ../data/wgEncodeRegTfbsClusteredV3.bed -g ../data/genome_chro_size.tab  > bed_outfolder/wgEncodeRegTfbsClusteredV3-shuffle-48.bed\n",
      "DEBUG: - bed_lib:Running: bedtools shuffle -i ../data/wgEncodeRegTfbsClusteredV3.bed -g ../data/genome_chro_size.tab  > bed_outfolder/wgEncodeRegTfbsClusteredV3-shuffle-49.bed\n",
      "DEBUG: - bed_lib:Running: bedtools shuffle -i ../data/wgEncodeRegTfbsClusteredV3.bed -g ../data/genome_chro_size.tab  > bed_outfolder/wgEncodeRegTfbsClusteredV3-shuffle-50.bed\n",
      "DEBUG: - bed_lib:Running: bedtools shuffle -i ../data/wgEncodeRegTfbsClusteredV3.bed -g ../data/genome_chro_size.tab  > bed_outfolder/wgEncodeRegTfbsClusteredV3-shuffle-51.bed\n",
      "DEBUG: - bed_lib:Running: bedtools shuffle -i ../data/wgEncodeRegTfbsClusteredV3.bed -g ../data/genome_chro_size.tab  > bed_outfolder/wgEncodeRegTfbsClusteredV3-shuffle-52.bed\n",
      "DEBUG: - bed_lib:Running: bedtools shuffle -i ../data/wgEncodeRegTfbsClusteredV3.bed -g ../data/genome_chro_size.tab  > bed_outfolder/wgEncodeRegTfbsClusteredV3-shuffle-53.bed\n",
      "DEBUG: - bed_lib:Running: bedtools shuffle -i ../data/wgEncodeRegTfbsClusteredV3.bed -g ../data/genome_chro_size.tab  > bed_outfolder/wgEncodeRegTfbsClusteredV3-shuffle-54.bed\n",
      "DEBUG: - bed_lib:Running: bedtools shuffle -i ../data/wgEncodeRegTfbsClusteredV3.bed -g ../data/genome_chro_size.tab  > bed_outfolder/wgEncodeRegTfbsClusteredV3-shuffle-55.bed\n",
      "DEBUG: - bed_lib:Running: bedtools shuffle -i ../data/wgEncodeRegTfbsClusteredV3.bed -g ../data/genome_chro_size.tab  > bed_outfolder/wgEncodeRegTfbsClusteredV3-shuffle-56.bed\n",
      "DEBUG: - bed_lib:Running: bedtools shuffle -i ../data/wgEncodeRegTfbsClusteredV3.bed -g ../data/genome_chro_size.tab  > bed_outfolder/wgEncodeRegTfbsClusteredV3-shuffle-57.bed\n",
      "DEBUG: - bed_lib:Running: bedtools shuffle -i ../data/wgEncodeRegTfbsClusteredV3.bed -g ../data/genome_chro_size.tab  > bed_outfolder/wgEncodeRegTfbsClusteredV3-shuffle-58.bed\n",
      "DEBUG: - bed_lib:Running: bedtools shuffle -i ../data/wgEncodeRegTfbsClusteredV3.bed -g ../data/genome_chro_size.tab  > bed_outfolder/wgEncodeRegTfbsClusteredV3-shuffle-59.bed\n",
      "DEBUG: - bed_lib:Running: bedtools shuffle -i ../data/wgEncodeRegTfbsClusteredV3.bed -g ../data/genome_chro_size.tab  > bed_outfolder/wgEncodeRegTfbsClusteredV3-shuffle-60.bed\n",
      "DEBUG: - bed_lib:Running: bedtools shuffle -i ../data/wgEncodeRegTfbsClusteredV3.bed -g ../data/genome_chro_size.tab  > bed_outfolder/wgEncodeRegTfbsClusteredV3-shuffle-61.bed\n",
      "DEBUG: - bed_lib:Running: bedtools shuffle -i ../data/wgEncodeRegTfbsClusteredV3.bed -g ../data/genome_chro_size.tab  > bed_outfolder/wgEncodeRegTfbsClusteredV3-shuffle-62.bed\n",
      "DEBUG: - bed_lib:Running: bedtools shuffle -i ../data/wgEncodeRegTfbsClusteredV3.bed -g ../data/genome_chro_size.tab  > bed_outfolder/wgEncodeRegTfbsClusteredV3-shuffle-63.bed\n",
      "DEBUG: - bed_lib:Running: bedtools shuffle -i ../data/wgEncodeRegTfbsClusteredV3.bed -g ../data/genome_chro_size.tab  > bed_outfolder/wgEncodeRegTfbsClusteredV3-shuffle-64.bed\n",
      "DEBUG: - bed_lib:Running: bedtools shuffle -i ../data/wgEncodeRegTfbsClusteredV3.bed -g ../data/genome_chro_size.tab  > bed_outfolder/wgEncodeRegTfbsClusteredV3-shuffle-65.bed\n",
      "DEBUG: - bed_lib:Running: bedtools shuffle -i ../data/wgEncodeRegTfbsClusteredV3.bed -g ../data/genome_chro_size.tab  > bed_outfolder/wgEncodeRegTfbsClusteredV3-shuffle-66.bed\n",
      "DEBUG: - bed_lib:Running: bedtools shuffle -i ../data/wgEncodeRegTfbsClusteredV3.bed -g ../data/genome_chro_size.tab  > bed_outfolder/wgEncodeRegTfbsClusteredV3-shuffle-67.bed\n",
      "DEBUG: - bed_lib:Running: bedtools shuffle -i ../data/wgEncodeRegTfbsClusteredV3.bed -g ../data/genome_chro_size.tab  > bed_outfolder/wgEncodeRegTfbsClusteredV3-shuffle-68.bed\n",
      "DEBUG: - bed_lib:Running: bedtools shuffle -i ../data/wgEncodeRegTfbsClusteredV3.bed -g ../data/genome_chro_size.tab  > bed_outfolder/wgEncodeRegTfbsClusteredV3-shuffle-69.bed\n",
      "DEBUG: - bed_lib:Running: bedtools shuffle -i ../data/wgEncodeRegTfbsClusteredV3.bed -g ../data/genome_chro_size.tab  > bed_outfolder/wgEncodeRegTfbsClusteredV3-shuffle-70.bed\n",
      "DEBUG: - bed_lib:Running: bedtools shuffle -i ../data/wgEncodeRegTfbsClusteredV3.bed -g ../data/genome_chro_size.tab  > bed_outfolder/wgEncodeRegTfbsClusteredV3-shuffle-71.bed\n",
      "DEBUG: - bed_lib:Running: bedtools shuffle -i ../data/wgEncodeRegTfbsClusteredV3.bed -g ../data/genome_chro_size.tab  > bed_outfolder/wgEncodeRegTfbsClusteredV3-shuffle-72.bed\n",
      "DEBUG: - bed_lib:Running: bedtools shuffle -i ../data/wgEncodeRegTfbsClusteredV3.bed -g ../data/genome_chro_size.tab  > bed_outfolder/wgEncodeRegTfbsClusteredV3-shuffle-73.bed\n",
      "DEBUG: - bed_lib:Running: bedtools shuffle -i ../data/wgEncodeRegTfbsClusteredV3.bed -g ../data/genome_chro_size.tab  > bed_outfolder/wgEncodeRegTfbsClusteredV3-shuffle-74.bed\n",
      "DEBUG: - bed_lib:Running: bedtools shuffle -i ../data/wgEncodeRegTfbsClusteredV3.bed -g ../data/genome_chro_size.tab  > bed_outfolder/wgEncodeRegTfbsClusteredV3-shuffle-75.bed\n",
      "DEBUG: - bed_lib:Running: bedtools shuffle -i ../data/wgEncodeRegTfbsClusteredV3.bed -g ../data/genome_chro_size.tab  > bed_outfolder/wgEncodeRegTfbsClusteredV3-shuffle-76.bed\n",
      "DEBUG: - bed_lib:Running: bedtools shuffle -i ../data/wgEncodeRegTfbsClusteredV3.bed -g ../data/genome_chro_size.tab  > bed_outfolder/wgEncodeRegTfbsClusteredV3-shuffle-77.bed\n",
      "DEBUG: - bed_lib:Running: bedtools shuffle -i ../data/wgEncodeRegTfbsClusteredV3.bed -g ../data/genome_chro_size.tab  > bed_outfolder/wgEncodeRegTfbsClusteredV3-shuffle-78.bed\n",
      "DEBUG: - bed_lib:Running: bedtools shuffle -i ../data/wgEncodeRegTfbsClusteredV3.bed -g ../data/genome_chro_size.tab  > bed_outfolder/wgEncodeRegTfbsClusteredV3-shuffle-79.bed\n",
      "DEBUG: - bed_lib:Running: bedtools shuffle -i ../data/wgEncodeRegTfbsClusteredV3.bed -g ../data/genome_chro_size.tab  > bed_outfolder/wgEncodeRegTfbsClusteredV3-shuffle-80.bed\n",
      "DEBUG: - bed_lib:Running: bedtools shuffle -i ../data/wgEncodeRegTfbsClusteredV3.bed -g ../data/genome_chro_size.tab  > bed_outfolder/wgEncodeRegTfbsClusteredV3-shuffle-81.bed\n",
      "DEBUG: - bed_lib:Running: bedtools shuffle -i ../data/wgEncodeRegTfbsClusteredV3.bed -g ../data/genome_chro_size.tab  > bed_outfolder/wgEncodeRegTfbsClusteredV3-shuffle-82.bed\n",
      "DEBUG: - bed_lib:Running: bedtools shuffle -i ../data/wgEncodeRegTfbsClusteredV3.bed -g ../data/genome_chro_size.tab  > bed_outfolder/wgEncodeRegTfbsClusteredV3-shuffle-83.bed\n",
      "DEBUG: - bed_lib:Running: bedtools shuffle -i ../data/wgEncodeRegTfbsClusteredV3.bed -g ../data/genome_chro_size.tab  > bed_outfolder/wgEncodeRegTfbsClusteredV3-shuffle-84.bed\n",
      "DEBUG: - bed_lib:Running: bedtools shuffle -i ../data/wgEncodeRegTfbsClusteredV3.bed -g ../data/genome_chro_size.tab  > bed_outfolder/wgEncodeRegTfbsClusteredV3-shuffle-85.bed\n",
      "DEBUG: - bed_lib:Running: bedtools shuffle -i ../data/wgEncodeRegTfbsClusteredV3.bed -g ../data/genome_chro_size.tab  > bed_outfolder/wgEncodeRegTfbsClusteredV3-shuffle-86.bed\n",
      "DEBUG: - bed_lib:Running: bedtools shuffle -i ../data/wgEncodeRegTfbsClusteredV3.bed -g ../data/genome_chro_size.tab  > bed_outfolder/wgEncodeRegTfbsClusteredV3-shuffle-87.bed\n",
      "DEBUG: - bed_lib:Running: bedtools shuffle -i ../data/wgEncodeRegTfbsClusteredV3.bed -g ../data/genome_chro_size.tab  > bed_outfolder/wgEncodeRegTfbsClusteredV3-shuffle-88.bed\n",
      "DEBUG: - bed_lib:Running: bedtools shuffle -i ../data/wgEncodeRegTfbsClusteredV3.bed -g ../data/genome_chro_size.tab  > bed_outfolder/wgEncodeRegTfbsClusteredV3-shuffle-89.bed\n",
      "DEBUG: - bed_lib:Running: bedtools shuffle -i ../data/wgEncodeRegTfbsClusteredV3.bed -g ../data/genome_chro_size.tab  > bed_outfolder/wgEncodeRegTfbsClusteredV3-shuffle-90.bed\n",
      "DEBUG: - bed_lib:Running: bedtools shuffle -i ../data/wgEncodeRegTfbsClusteredV3.bed -g ../data/genome_chro_size.tab  > bed_outfolder/wgEncodeRegTfbsClusteredV3-shuffle-91.bed\n",
      "DEBUG: - bed_lib:Running: bedtools shuffle -i ../data/wgEncodeRegTfbsClusteredV3.bed -g ../data/genome_chro_size.tab  > bed_outfolder/wgEncodeRegTfbsClusteredV3-shuffle-92.bed\n",
      "DEBUG: - bed_lib:Running: bedtools shuffle -i ../data/wgEncodeRegTfbsClusteredV3.bed -g ../data/genome_chro_size.tab  > bed_outfolder/wgEncodeRegTfbsClusteredV3-shuffle-93.bed\n",
      "DEBUG: - bed_lib:Running: bedtools shuffle -i ../data/wgEncodeRegTfbsClusteredV3.bed -g ../data/genome_chro_size.tab  > bed_outfolder/wgEncodeRegTfbsClusteredV3-shuffle-94.bed\n",
      "DEBUG: - bed_lib:Running: bedtools shuffle -i ../data/wgEncodeRegTfbsClusteredV3.bed -g ../data/genome_chro_size.tab  > bed_outfolder/wgEncodeRegTfbsClusteredV3-shuffle-95.bed\n",
      "DEBUG: - bed_lib:Running: bedtools shuffle -i ../data/wgEncodeRegTfbsClusteredV3.bed -g ../data/genome_chro_size.tab  > bed_outfolder/wgEncodeRegTfbsClusteredV3-shuffle-96.bed\n",
      "DEBUG: - bed_lib:Running: bedtools shuffle -i ../data/wgEncodeRegTfbsClusteredV3.bed -g ../data/genome_chro_size.tab  > bed_outfolder/wgEncodeRegTfbsClusteredV3-shuffle-97.bed\n",
      "DEBUG: - bed_lib:Running: bedtools shuffle -i ../data/wgEncodeRegTfbsClusteredV3.bed -g ../data/genome_chro_size.tab  > bed_outfolder/wgEncodeRegTfbsClusteredV3-shuffle-98.bed\n",
      "DEBUG: - bed_lib:Running: bedtools shuffle -i ../data/wgEncodeRegTfbsClusteredV3.bed -g ../data/genome_chro_size.tab  > bed_outfolder/wgEncodeRegTfbsClusteredV3-shuffle-99.bed\n"
     ]
    }
   ],
   "source": [
    "shuffled_transcription_factors_beds = transcription_factors_bed.multi_shuffle(100, '../data/genome_chro_size.tab')"
   ]
  },
  {
   "cell_type": "markdown",
   "metadata": {},
   "source": [
    "Average number of common intervals between shuffled transcription factors intervals and divergent transcription inferred dataset:\n",
    "\n",
    "(to relate with n_intersection from jaccard above)"
   ]
  },
  {
   "cell_type": "code",
   "execution_count": 43,
   "metadata": {},
   "outputs": [
    {
     "data": {
      "text/plain": [
       "5192.98"
      ]
     },
     "execution_count": 43,
     "metadata": {},
     "output_type": "execute_result"
    }
   ],
   "source": [
    "pd.DataFrame([div_trans_beds_filter_merged[0].intersect(x).stats() for x in shuffled_transcription_factors_beds]).Nintervals.mean()"
   ]
  },
  {
   "cell_type": "code",
   "execution_count": 44,
   "metadata": {},
   "outputs": [
    {
     "data": {
      "text/plain": [
       "6010.1"
      ]
     },
     "execution_count": 44,
     "metadata": {},
     "output_type": "execute_result"
    }
   ],
   "source": [
    "pd.DataFrame([div_trans_beds_filter_merged[1].intersect(x).stats() for x in shuffled_transcription_factors_beds]).Nintervals.mean()"
   ]
  },
  {
   "cell_type": "markdown",
   "metadata": {},
   "source": [
    "**CCL:** Only + ~10% of intersections compared to the ones expected by chance "
   ]
  },
  {
   "cell_type": "markdown",
   "metadata": {},
   "source": [
    "## Stats on divergent transcription intervals\n"
   ]
  },
  {
   "cell_type": "code",
   "execution_count": 53,
   "metadata": {},
   "outputs": [
    {
     "data": {
      "text/html": [
       "<div>\n",
       "<style scoped>\n",
       "    .dataframe tbody tr th:only-of-type {\n",
       "        vertical-align: middle;\n",
       "    }\n",
       "\n",
       "    .dataframe tbody tr th {\n",
       "        vertical-align: top;\n",
       "    }\n",
       "\n",
       "    .dataframe thead th {\n",
       "        text-align: right;\n",
       "    }\n",
       "</style>\n",
       "<table border=\"1\" class=\"dataframe\">\n",
       "  <thead>\n",
       "    <tr style=\"text-align: right;\">\n",
       "      <th></th>\n",
       "      <th>Nbases</th>\n",
       "      <th>Nintervals</th>\n",
       "      <th>bedobj</th>\n",
       "      <th>name</th>\n",
       "      <th>path</th>\n",
       "    </tr>\n",
       "  </thead>\n",
       "  <tbody>\n",
       "    <tr>\n",
       "      <th>0</th>\n",
       "      <td>32245785</td>\n",
       "      <td>246381</td>\n",
       "      <td>&lt;Bed object: VEUDE_A_1_coordSort_filt_divtrans...</td>\n",
       "      <td>VEUDE_A_1_coordSort_filt_divtrans_coverage_fil...</td>\n",
       "      <td>bed_outfolder/VEUDE_A_1_coordSort_filt_divtran...</td>\n",
       "    </tr>\n",
       "    <tr>\n",
       "      <th>1</th>\n",
       "      <td>37810841</td>\n",
       "      <td>290968</td>\n",
       "      <td>&lt;Bed object: Compoud_A_1_coordSort_filt_divtra...</td>\n",
       "      <td>Compoud_A_1_coordSort_filt_divtrans_coverage_f...</td>\n",
       "      <td>bed_outfolder/Compoud_A_1_coordSort_filt_divtr...</td>\n",
       "    </tr>\n",
       "  </tbody>\n",
       "</table>\n",
       "</div>"
      ],
      "text/plain": [
       "     Nbases  Nintervals                                             bedobj  \\\n",
       "0  32245785      246381  <Bed object: VEUDE_A_1_coordSort_filt_divtrans...   \n",
       "1  37810841      290968  <Bed object: Compoud_A_1_coordSort_filt_divtra...   \n",
       "\n",
       "                                                name  \\\n",
       "0  VEUDE_A_1_coordSort_filt_divtrans_coverage_fil...   \n",
       "1  Compoud_A_1_coordSort_filt_divtrans_coverage_f...   \n",
       "\n",
       "                                                path  \n",
       "0  bed_outfolder/VEUDE_A_1_coordSort_filt_divtran...  \n",
       "1  bed_outfolder/Compoud_A_1_coordSort_filt_divtr...  "
      ]
     },
     "execution_count": 53,
     "metadata": {},
     "output_type": "execute_result"
    }
   ],
   "source": [
    "intersection_transfact_div_trans_bed = [x.intersect(transcription_factors_bed) for x in div_trans_beds_filter_merged]\n",
    "pd.DataFrame([x.stats() for x in intersection_transfact_div_trans_bed])"
   ]
  },
  {
   "cell_type": "markdown",
   "metadata": {},
   "source": [
    "## Comparing SLIDEBASE enhancer and transcription factors"
   ]
  },
  {
   "cell_type": "code",
   "execution_count": 54,
   "metadata": {},
   "outputs": [
    {
     "data": {
      "text/plain": [
       "{'left': 1.0,\n",
       " 'right': 0.0,\n",
       " 'two-tail': 0.0,\n",
       " 'ratio': inf,\n",
       " 'bed1': 'slidebase_enhancers_clean',\n",
       " 'bed2': 'wgEncodeRegTfbsClusteredV3'}"
      ]
     },
     "execution_count": 54,
     "metadata": {},
     "output_type": "execute_result"
    }
   ],
   "source": [
    "slidebase_enh.fisher(transcription_factors_bed, '../data/genome_chro_size.tab')"
   ]
  },
  {
   "cell_type": "code",
   "execution_count": 55,
   "metadata": {},
   "outputs": [
    {
     "data": {
      "text/html": [
       "<div>\n",
       "<style scoped>\n",
       "    .dataframe tbody tr th:only-of-type {\n",
       "        vertical-align: middle;\n",
       "    }\n",
       "\n",
       "    .dataframe tbody tr th {\n",
       "        vertical-align: top;\n",
       "    }\n",
       "\n",
       "    .dataframe thead th {\n",
       "        text-align: right;\n",
       "    }\n",
       "</style>\n",
       "<table border=\"1\" class=\"dataframe\">\n",
       "  <thead>\n",
       "    <tr style=\"text-align: right;\">\n",
       "      <th></th>\n",
       "      <th>intersection</th>\n",
       "      <th>union-intersection</th>\n",
       "      <th>jaccard</th>\n",
       "      <th>n_intersections</th>\n",
       "    </tr>\n",
       "  </thead>\n",
       "  <tbody>\n",
       "    <tr>\n",
       "      <th>slidebase_enhancers_clean</th>\n",
       "      <td>7476471</td>\n",
       "      <td>382850987</td>\n",
       "      <td>0.019528</td>\n",
       "      <td>25726</td>\n",
       "    </tr>\n",
       "  </tbody>\n",
       "</table>\n",
       "</div>"
      ],
      "text/plain": [
       "                           intersection  union-intersection   jaccard  \\\n",
       "slidebase_enhancers_clean       7476471           382850987  0.019528   \n",
       "\n",
       "                           n_intersections  \n",
       "slidebase_enhancers_clean            25726  "
      ]
     },
     "execution_count": 55,
     "metadata": {},
     "output_type": "execute_result"
    }
   ],
   "source": [
    "slidebase_enh.jaccard(transcription_factors_bed, '../data/genome_chro_size.tab')"
   ]
  },
  {
   "cell_type": "code",
   "execution_count": 56,
   "metadata": {},
   "outputs": [
    {
     "data": {
      "text/plain": [
       "31249.86"
      ]
     },
     "execution_count": 56,
     "metadata": {},
     "output_type": "execute_result"
    }
   ],
   "source": [
    "pd.DataFrame([transcription_factors_bed.intersect(x).stats() for x in shuffled_slidebase_enh]).Nintervals.mean()"
   ]
  },
  {
   "cell_type": "markdown",
   "metadata": {},
   "source": [
    "**CCL:** Enhancer and transcription factor intervals appears to repel each other\n",
    "> **I DON'T UNDERSTAND THIS !**\n",
    "\n",
    ">> This could be explained by transcription factors being present couple hundreds bases up or downstream (ie related but not overlapping). Might have to try augmenting div_trans intervals sizes."
   ]
  },
  {
   "cell_type": "markdown",
   "metadata": {},
   "source": [
    "# Length distribution of intervals"
   ]
  },
  {
   "cell_type": "code",
   "execution_count": 57,
   "metadata": {},
   "outputs": [
    {
     "data": {
      "text/plain": [
       "<matplotlib.axes._subplots.AxesSubplot at 0x7f2b460830b8>"
      ]
     },
     "execution_count": 57,
     "metadata": {},
     "output_type": "execute_result"
    },
    {
     "data": {
      "image/png": "[encoded data removed]",
      "text/plain": [
       "<Figure size 432x288 with 1 Axes>"
      ]
     },
     "metadata": {},
     "output_type": "display_data"
    }
   ],
   "source": [
    "pd.Series(slidebase_enh.get_length_distribution()).hist(bins=100)"
   ]
  },
  {
   "cell_type": "code",
   "execution_count": 62,
   "metadata": {},
   "outputs": [
    {
     "name": "stdout",
     "output_type": "stream",
     "text": [
      "1\t10073\t10329\tZBTB33\t354\n",
      "1\t10149\t10413\tCEBPB\t201\n",
      "1\t16110\t16390\tCTCF\t227\n",
      "1\t29198\t29688\tTAF1\t184\n",
      "1\t29275\t29591\tGABPA\t198\n",
      "1\t89795\t90051\tUSF1\t185\n",
      "1\t91156\t91580\tCTCF\t223\n",
      "1\t104859\t105089\tCTCF\t106\n",
      "1\t138850\t139274\tCTCF\t166\n",
      "1\t235541\t235877\tSP1\t120\n"
     ]
    }
   ],
   "source": [
    "transcription_factors_bed.head()"
   ]
  },
  {
   "cell_type": "code",
   "execution_count": 74,
   "metadata": {},
   "outputs": [
    {
     "data": {
      "text/plain": [
       "<matplotlib.axes._subplots.AxesSubplot at 0x7f2b2f4b2eb8>"
      ]
     },
     "execution_count": 74,
     "metadata": {},
     "output_type": "execute_result"
    },
    {
     "data": {
      "image/png": "[encoded data removed]",
      "text/plain": [
       "<Figure size 432x288 with 1 Axes>"
      ]
     },
     "metadata": {},
     "output_type": "display_data"
    }
   ],
   "source": [
    "pd.Series(transcription_factors_bed.get_length_distribution()).hist(bins=100)"
   ]
  },
  {
   "cell_type": "code",
   "execution_count": 72,
   "metadata": {},
   "outputs": [
    {
     "data": {
      "text/plain": [
       "[<matplotlib.axes._subplots.AxesSubplot at 0x7f2b4b39ee80>,\n",
       " <matplotlib.axes._subplots.AxesSubplot at 0x7f2b4b39ee80>]"
      ]
     },
     "execution_count": 72,
     "metadata": {},
     "output_type": "execute_result"
    },
    {
     "data": {
      "image/png": "[encoded data removed]",
      "text/plain": [
       "<Figure size 432x288 with 1 Axes>"
      ]
     },
     "metadata": {},
     "output_type": "display_data"
    }
   ],
   "source": [
    "[pd.Series(x.get_length_distribution()).hist(bins=100, alpha=0.7) for x in div_trans_beds_filter_merged]"
   ]
  },
  {
   "cell_type": "markdown",
   "metadata": {},
   "source": [
    "# Application to MS dataset\n",
    "## Input"
   ]
  },
  {
   "cell_type": "code",
   "execution_count": 28,
   "metadata": {},
   "outputs": [],
   "source": [
    "ms_meta = pd.read_csv('../../ms_enh/metadata/metadata.csv')\n",
    "\n",
    "# Get Healthy bams\n",
    "healthy_bams = ['../../ms_enh/results/snakemake/star/bams/' + x + '.bam' for x in \n",
    "                ms_meta.loc[ms_meta.Main.isin(['ia', 'Healthy_control'])].loc[:,'Petient ID']]\n",
    "\n",
    "# Get ms bams\n",
    "rrms_bams = ['../../ms_enh/results/snakemake/star/bams/' + x + '.bam' for x in \n",
    "               ms_meta.loc[ms_meta.Diagnose == 'RRMS'].loc[:,'Petient ID']]"
   ]
  },
  {
   "cell_type": "code",
   "execution_count": 29,
   "metadata": {},
   "outputs": [
    {
     "data": {
      "text/plain": [
       "['../../ms_enh/results/snakemake/star/bams/Mono_85.bam',\n",
       " '../../ms_enh/results/snakemake/star/bams/Mono_125.bam',\n",
       " '../../ms_enh/results/snakemake/star/bams/Mono_129.bam',\n",
       " '../../ms_enh/results/snakemake/star/bams/Mono_136.bam',\n",
       " '../../ms_enh/results/snakemake/star/bams/Mono_138.bam']"
      ]
     },
     "execution_count": 29,
     "metadata": {},
     "output_type": "execute_result"
    }
   ],
   "source": [
    "rrms_bams"
   ]
  },
  {
   "cell_type": "markdown",
   "metadata": {},
   "source": [
    "## Detect divergent transcription in MS dataset"
   ]
  },
  {
   "cell_type": "code",
   "execution_count": 15,
   "metadata": {},
   "outputs": [],
   "source": [
    "healthy_div_trans_beds = [get_divergent_transcription_beds(bam) for bam in healthy_bams]\n",
    "healthy_div_trans_merged = [bed.merge(outfolder='../results/from_bam') for bed in healthy_div_trans_beds]"
   ]
  },
  {
   "cell_type": "code",
   "execution_count": 17,
   "metadata": {},
   "outputs": [
    {
     "ename": "KeyboardInterrupt",
     "evalue": "",
     "output_type": "error",
     "traceback": [
      "\u001b[0;31m---------------------------------------------------------------------------\u001b[0m",
      "\u001b[0;31mKeyboardInterrupt\u001b[0m                         Traceback (most recent call last)",
      "\u001b[0;32m<ipython-input-17-8d5f69feedc2>\u001b[0m in \u001b[0;36m<module>\u001b[0;34m()\u001b[0m\n\u001b[0;32m----> 1\u001b[0;31m \u001b[0mms_div_trans_beds\u001b[0m \u001b[0;34m=\u001b[0m \u001b[0;34m[\u001b[0m\u001b[0mget_divergent_transcription_beds\u001b[0m\u001b[0;34m(\u001b[0m\u001b[0mbam\u001b[0m\u001b[0;34m)\u001b[0m \u001b[0;32mfor\u001b[0m \u001b[0mbam\u001b[0m \u001b[0;32min\u001b[0m \u001b[0mms_bams\u001b[0m\u001b[0;34m]\u001b[0m\u001b[0;34m\u001b[0m\u001b[0m\n\u001b[0m\u001b[1;32m      2\u001b[0m \u001b[0mms_div_trans_merged\u001b[0m \u001b[0;34m=\u001b[0m \u001b[0;34m[\u001b[0m\u001b[0mbed\u001b[0m\u001b[0;34m.\u001b[0m\u001b[0mmerge\u001b[0m\u001b[0;34m(\u001b[0m\u001b[0moutfolder\u001b[0m\u001b[0;34m=\u001b[0m\u001b[0;34m'../results/from_bam'\u001b[0m\u001b[0;34m)\u001b[0m \u001b[0;32mfor\u001b[0m \u001b[0mbed\u001b[0m \u001b[0;32min\u001b[0m \u001b[0mms_div_trans_beds\u001b[0m\u001b[0;34m]\u001b[0m\u001b[0;34m\u001b[0m\u001b[0m\n",
      "\u001b[0;32m<ipython-input-17-8d5f69feedc2>\u001b[0m in \u001b[0;36m<listcomp>\u001b[0;34m(.0)\u001b[0m\n\u001b[0;32m----> 1\u001b[0;31m \u001b[0mms_div_trans_beds\u001b[0m \u001b[0;34m=\u001b[0m \u001b[0;34m[\u001b[0m\u001b[0mget_divergent_transcription_beds\u001b[0m\u001b[0;34m(\u001b[0m\u001b[0mbam\u001b[0m\u001b[0;34m)\u001b[0m \u001b[0;32mfor\u001b[0m \u001b[0mbam\u001b[0m \u001b[0;32min\u001b[0m \u001b[0mms_bams\u001b[0m\u001b[0;34m]\u001b[0m\u001b[0;34m\u001b[0m\u001b[0m\n\u001b[0m\u001b[1;32m      2\u001b[0m \u001b[0mms_div_trans_merged\u001b[0m \u001b[0;34m=\u001b[0m \u001b[0;34m[\u001b[0m\u001b[0mbed\u001b[0m\u001b[0;34m.\u001b[0m\u001b[0mmerge\u001b[0m\u001b[0;34m(\u001b[0m\u001b[0moutfolder\u001b[0m\u001b[0;34m=\u001b[0m\u001b[0;34m'../results/from_bam'\u001b[0m\u001b[0;34m)\u001b[0m \u001b[0;32mfor\u001b[0m \u001b[0mbed\u001b[0m \u001b[0;32min\u001b[0m \u001b[0mms_div_trans_beds\u001b[0m\u001b[0;34m]\u001b[0m\u001b[0;34m\u001b[0m\u001b[0m\n",
      "\u001b[0;32m<ipython-input-6-6e35029f6cb5>\u001b[0m in \u001b[0;36mget_divergent_transcription_beds\u001b[0;34m(bam, out_folder)\u001b[0m\n\u001b[1;32m     12\u001b[0m     \u001b[0;32melse\u001b[0m\u001b[0;34m:\u001b[0m\u001b[0;34m\u001b[0m\u001b[0m\n\u001b[1;32m     13\u001b[0m         \u001b[0;32mwith\u001b[0m \u001b[0mopen\u001b[0m\u001b[0;34m(\u001b[0m\u001b[0mbed_out\u001b[0m\u001b[0;34m,\u001b[0m \u001b[0;34m'w'\u001b[0m\u001b[0;34m)\u001b[0m \u001b[0;32mas\u001b[0m \u001b[0mf\u001b[0m\u001b[0;34m:\u001b[0m\u001b[0;34m\u001b[0m\u001b[0m\n\u001b[0;32m---> 14\u001b[0;31m             \u001b[0;32mfor\u001b[0m \u001b[0minterval\u001b[0m \u001b[0;32min\u001b[0m \u001b[0mdt\u001b[0m\u001b[0;34m.\u001b[0m\u001b[0midentify_divergent_transcription\u001b[0m\u001b[0;34m(\u001b[0m\u001b[0moread_gen\u001b[0m\u001b[0;34m)\u001b[0m\u001b[0;34m:\u001b[0m\u001b[0;34m\u001b[0m\u001b[0m\n\u001b[0m\u001b[1;32m     15\u001b[0m                 \u001b[0mf\u001b[0m\u001b[0;34m.\u001b[0m\u001b[0mwrite\u001b[0m\u001b[0;34m(\u001b[0m\u001b[0;34m'\\t'\u001b[0m\u001b[0;34m.\u001b[0m\u001b[0mjoin\u001b[0m\u001b[0;34m(\u001b[0m\u001b[0;34m[\u001b[0m\u001b[0mstr\u001b[0m\u001b[0;34m(\u001b[0m\u001b[0mx\u001b[0m\u001b[0;34m)\u001b[0m \u001b[0;32mfor\u001b[0m \u001b[0mx\u001b[0m \u001b[0;32min\u001b[0m \u001b[0minterval\u001b[0m\u001b[0;34m]\u001b[0m\u001b[0;34m)\u001b[0m \u001b[0;34m+\u001b[0m \u001b[0;34m'\\n'\u001b[0m\u001b[0;34m)\u001b[0m\u001b[0;34m\u001b[0m\u001b[0m\n\u001b[1;32m     16\u001b[0m \u001b[0;34m\u001b[0m\u001b[0m\n",
      "\u001b[0;32m~/Programming/pyNextGen/div_trans_lib.py\u001b[0m in \u001b[0;36midentify_divergent_transcription\u001b[0;34m(oread_gen, distance)\u001b[0m\n\u001b[1;32m     70\u001b[0m     \u001b[0mupstream_oread\u001b[0m \u001b[0;34m=\u001b[0m \u001b[0mnext\u001b[0m\u001b[0;34m(\u001b[0m\u001b[0moread_gen\u001b[0m\u001b[0;34m)\u001b[0m\u001b[0;34m\u001b[0m\u001b[0m\n\u001b[1;32m     71\u001b[0m \u001b[0;34m\u001b[0m\u001b[0m\n\u001b[0;32m---> 72\u001b[0;31m     \u001b[0;32mfor\u001b[0m \u001b[0mdownstream_oread\u001b[0m \u001b[0;32min\u001b[0m \u001b[0moread_gen\u001b[0m\u001b[0;34m:\u001b[0m\u001b[0;34m\u001b[0m\u001b[0m\n\u001b[0m\u001b[1;32m     73\u001b[0m \u001b[0;34m\u001b[0m\u001b[0m\n\u001b[1;32m     74\u001b[0m         \u001b[0;32mif\u001b[0m \u001b[0mupstream_oread\u001b[0m\u001b[0;34m.\u001b[0m\u001b[0mstrand\u001b[0m \u001b[0;34m!=\u001b[0m \u001b[0;34m'-'\u001b[0m\u001b[0;34m:\u001b[0m\u001b[0;34m\u001b[0m\u001b[0m\n",
      "\u001b[0;32m~/Programming/pyNextGen/div_trans_lib.py\u001b[0m in \u001b[0;36mget_oriented_reads\u001b[0;34m(bam)\u001b[0m\n\u001b[1;32m     57\u001b[0m                 \u001b[0mlogging\u001b[0m\u001b[0;34m.\u001b[0m\u001b[0mdebug\u001b[0m\u001b[0;34m(\u001b[0m\u001b[0;34m\"{} reads treated\"\u001b[0m\u001b[0;34m.\u001b[0m\u001b[0mformat\u001b[0m\u001b[0;34m(\u001b[0m\u001b[0mcount\u001b[0m\u001b[0;34m)\u001b[0m\u001b[0;34m)\u001b[0m\u001b[0;34m\u001b[0m\u001b[0m\n\u001b[1;32m     58\u001b[0m \u001b[0;34m\u001b[0m\u001b[0m\n\u001b[0;32m---> 59\u001b[0;31m             \u001b[0;32myield\u001b[0m \u001b[0mOread\u001b[0m\u001b[0;34m(\u001b[0m\u001b[0mread\u001b[0m\u001b[0;34m)\u001b[0m\u001b[0;34m\u001b[0m\u001b[0m\n\u001b[0m\u001b[1;32m     60\u001b[0m \u001b[0;34m\u001b[0m\u001b[0m\n\u001b[1;32m     61\u001b[0m \u001b[0;34m\u001b[0m\u001b[0m\n",
      "\u001b[0;32m~/Programming/pyNextGen/div_trans_lib.py\u001b[0m in \u001b[0;36m__init__\u001b[0;34m(self, ali_read)\u001b[0m\n\u001b[1;32m     24\u001b[0m         \u001b[0mblocks\u001b[0m \u001b[0;34m=\u001b[0m \u001b[0mali_read\u001b[0m\u001b[0;34m.\u001b[0m\u001b[0mget_blocks\u001b[0m\u001b[0;34m(\u001b[0m\u001b[0;34m)\u001b[0m\u001b[0;34m\u001b[0m\u001b[0m\n\u001b[1;32m     25\u001b[0m         \u001b[0mself\u001b[0m\u001b[0;34m.\u001b[0m\u001b[0mchro\u001b[0m \u001b[0;34m=\u001b[0m \u001b[0mali_read\u001b[0m\u001b[0;34m.\u001b[0m\u001b[0mreference_name\u001b[0m\u001b[0;34m\u001b[0m\u001b[0m\n\u001b[0;32m---> 26\u001b[0;31m         \u001b[0mself\u001b[0m\u001b[0;34m.\u001b[0m\u001b[0mstart\u001b[0m \u001b[0;34m=\u001b[0m \u001b[0mblocks\u001b[0m\u001b[0;34m[\u001b[0m\u001b[0;36m0\u001b[0m\u001b[0;34m]\u001b[0m\u001b[0;34m[\u001b[0m\u001b[0;36m0\u001b[0m\u001b[0;34m]\u001b[0m\u001b[0;34m\u001b[0m\u001b[0m\n\u001b[0m\u001b[1;32m     27\u001b[0m         \u001b[0mself\u001b[0m\u001b[0;34m.\u001b[0m\u001b[0mend\u001b[0m \u001b[0;34m=\u001b[0m \u001b[0mblocks\u001b[0m\u001b[0;34m[\u001b[0m\u001b[0;34m-\u001b[0m\u001b[0;36m1\u001b[0m\u001b[0;34m]\u001b[0m\u001b[0;34m[\u001b[0m\u001b[0;34m-\u001b[0m\u001b[0;36m1\u001b[0m\u001b[0;34m]\u001b[0m\u001b[0;34m\u001b[0m\u001b[0m\n\u001b[1;32m     28\u001b[0m \u001b[0;34m\u001b[0m\u001b[0m\n",
      "\u001b[0;31mKeyboardInterrupt\u001b[0m: "
     ]
    }
   ],
   "source": [
    "ms_div_trans_beds = [get_divergent_transcription_beds(bam) for bam in ms_bams]\n",
    "ms_div_trans_merged = [bed.merge(outfolder='../results/from_bam') for bed in ms_div_trans_beds]"
   ]
  },
  {
   "cell_type": "markdown",
   "metadata": {},
   "source": [
    "## Select intervals overlapping with CAGE dataset divergent transcription events"
   ]
  },
  {
   "cell_type": "code",
   "execution_count": 16,
   "metadata": {},
   "outputs": [
    {
     "ename": "NameError",
     "evalue": "name 'cage_minus_bed' is not defined",
     "output_type": "error",
     "traceback": [
      "\u001b[0;31m---------------------------------------------------------------------------\u001b[0m",
      "\u001b[0;31mNameError\u001b[0m                                 Traceback (most recent call last)",
      "\u001b[0;32m<ipython-input-16-254ac97a35cd>\u001b[0m in \u001b[0;36m<module>\u001b[0;34m()\u001b[0m\n\u001b[1;32m      1\u001b[0m div_trans_beds_merged_filter = [bed.intersect(cage_minus_bed, supp_args='-wa')                                .intersect(cage_plus_bed, supp_args='-wa')\n\u001b[0;32m----> 2\u001b[0;31m                                 for bed in div_trans_beds_merged]\n\u001b[0m",
      "\u001b[0;32m<ipython-input-16-254ac97a35cd>\u001b[0m in \u001b[0;36m<listcomp>\u001b[0;34m(.0)\u001b[0m\n\u001b[1;32m      1\u001b[0m div_trans_beds_merged_filter = [bed.intersect(cage_minus_bed, supp_args='-wa')                                .intersect(cage_plus_bed, supp_args='-wa')\n\u001b[0;32m----> 2\u001b[0;31m                                 for bed in div_trans_beds_merged]\n\u001b[0m",
      "\u001b[0;31mNameError\u001b[0m: name 'cage_minus_bed' is not defined"
     ]
    }
   ],
   "source": [
    "div_trans_beds_merged_filter = [bed.intersect(cage_minus_bed, supp_args='-wa')\\\n",
    "                                .intersect(cage_plus_bed, supp_args='-wa')\n",
    "                                for bed in div_trans_beds_merged]"
   ]
  }
 ],
 "metadata": {
  "extensions": {
   "jupyter_dashboards": {
    "activeView": "grid_default",
    "version": 1,
    "views": {
     "grid_default": {
      "cellMargin": 10,
      "defaultCellHeight": 20,
      "maxColumns": 12,
      "name": "grid",
      "type": "grid"
     },
     "report_default": {
      "name": "report",
      "type": "report"
     }
    }
   }
  },
  "kernelspec": {
   "display_name": "Python [default]",
   "language": "python",
   "name": "python3"
  },
  "language_info": {
   "codemirror_mode": {
    "name": "ipython",
    "version": 3
   },
   "file_extension": ".py",
   "mimetype": "text/x-python",
   "name": "python",
   "nbconvert_exporter": "python",
   "pygments_lexer": "ipython3",
   "version": "3.6.3"
  },
  "toc": {
   "colors": {
    "hover_highlight": "#DAA520",
    "navigate_num": "#000000",
    "navigate_text": "#333333",
    "running_highlight": "#FF0000",
    "selected_highlight": "#FFD700",
    "sidebar_border": "#EEEEEE",
    "wrapper_background": "#FFFFFF"
   },
   "moveMenuLeft": true,
   "nav_menu": {
    "height": "47px",
    "width": "252px"
   },
   "navigate_menu": true,
   "number_sections": true,
   "sideBar": false,
   "threshold": 4,
   "toc_cell": false,
   "toc_position": {
    "height": "577px",
    "left": "5px",
    "right": "20px",
    "top": "107.986px",
    "width": "184px"
   },
   "toc_section_display": "block",
   "toc_window_display": true,
   "widenNotebook": false
  }
 },
 "nbformat": 4,
 "nbformat_minor": 2
}
