{
 "cells": [
  {
   "cell_type": "markdown",
   "metadata": {},
   "source": [
    "# Pysam Count"
   ]
  },
  {
   "cell_type": "code",
   "execution_count": 1,
   "metadata": {},
   "outputs": [],
   "source": [
    "import basics_bam as bb"
   ]
  },
  {
   "cell_type": "code",
   "execution_count": 2,
   "metadata": {},
   "outputs": [],
   "source": [
    "%load_ext autoreload\n",
    "%autoreload 2"
   ]
  },
  {
   "cell_type": "code",
   "execution_count": 3,
   "metadata": {},
   "outputs": [],
   "source": [
    "bam = bb.Bam('../data/bams/Compoud_A_1_coordSort_filt.bam')"
   ]
  },
  {
   "cell_type": "code",
   "execution_count": 17,
   "metadata": {},
   "outputs": [
    {
     "name": "stdout",
     "output_type": "stream",
     "text": [
      "CPU times: user 11.7 ms, sys: 11.5 ms, total: 23.2 ms\n",
      "Wall time: 78.8 ms\n"
     ]
    }
   ],
   "source": [
    "%%time\n",
    "res = bb.count_over_intervals('../data/bams/Compoud_A_1_coordSort_filt.bam', 'bed_outfolder/test_A0.bed')"
   ]
  },
  {
   "cell_type": "code",
   "execution_count": null,
   "metadata": {},
   "outputs": [],
   "source": []
  },
  {
   "cell_type": "code",
   "execution_count": 18,
   "metadata": {},
   "outputs": [
    {
     "data": {
      "text/html": [
       "<div>\n",
       "<style scoped>\n",
       "    .dataframe tbody tr th:only-of-type {\n",
       "        vertical-align: middle;\n",
       "    }\n",
       "\n",
       "    .dataframe tbody tr th {\n",
       "        vertical-align: top;\n",
       "    }\n",
       "\n",
       "    .dataframe thead th {\n",
       "        text-align: right;\n",
       "    }\n",
       "</style>\n",
       "<table border=\"1\" class=\"dataframe\">\n",
       "  <thead>\n",
       "    <tr style=\"text-align: right;\">\n",
       "      <th></th>\n",
       "      <th>chro</th>\n",
       "      <th>start</th>\n",
       "      <th>end</th>\n",
       "      <th>forward</th>\n",
       "      <th>reverse</th>\n",
       "    </tr>\n",
       "    <tr>\n",
       "      <th>id</th>\n",
       "      <th></th>\n",
       "      <th></th>\n",
       "      <th></th>\n",
       "      <th></th>\n",
       "      <th></th>\n",
       "    </tr>\n",
       "  </thead>\n",
       "  <tbody>\n",
       "    <tr>\n",
       "      <th>div_event_1</th>\n",
       "      <td>1</td>\n",
       "      <td>14588</td>\n",
       "      <td>14735</td>\n",
       "      <td>2</td>\n",
       "      <td>93</td>\n",
       "    </tr>\n",
       "    <tr>\n",
       "      <th>div_event_2</th>\n",
       "      <td>1</td>\n",
       "      <td>14663</td>\n",
       "      <td>14811</td>\n",
       "      <td>2</td>\n",
       "      <td>92</td>\n",
       "    </tr>\n",
       "    <tr>\n",
       "      <th>div_event_3</th>\n",
       "      <td>1</td>\n",
       "      <td>14703</td>\n",
       "      <td>14830</td>\n",
       "      <td>2</td>\n",
       "      <td>95</td>\n",
       "    </tr>\n",
       "    <tr>\n",
       "      <th>div_event_4</th>\n",
       "      <td>1</td>\n",
       "      <td>14703</td>\n",
       "      <td>14853</td>\n",
       "      <td>2</td>\n",
       "      <td>97</td>\n",
       "    </tr>\n",
       "    <tr>\n",
       "      <th>div_event_5</th>\n",
       "      <td>1</td>\n",
       "      <td>16026</td>\n",
       "      <td>16167</td>\n",
       "      <td>1</td>\n",
       "      <td>4</td>\n",
       "    </tr>\n",
       "    <tr>\n",
       "      <th>div_event_6</th>\n",
       "      <td>1</td>\n",
       "      <td>16139</td>\n",
       "      <td>16283</td>\n",
       "      <td>1</td>\n",
       "      <td>16</td>\n",
       "    </tr>\n",
       "    <tr>\n",
       "      <th>div_event_7</th>\n",
       "      <td>1</td>\n",
       "      <td>16433</td>\n",
       "      <td>16582</td>\n",
       "      <td>1</td>\n",
       "      <td>35</td>\n",
       "    </tr>\n",
       "    <tr>\n",
       "      <th>div_event_8</th>\n",
       "      <td>1</td>\n",
       "      <td>16542</td>\n",
       "      <td>16692</td>\n",
       "      <td>1</td>\n",
       "      <td>24</td>\n",
       "    </tr>\n",
       "    <tr>\n",
       "      <th>div_event_9</th>\n",
       "      <td>1</td>\n",
       "      <td>19775</td>\n",
       "      <td>19918</td>\n",
       "      <td>1</td>\n",
       "      <td>11</td>\n",
       "    </tr>\n",
       "    <tr>\n",
       "      <th>div_event_10</th>\n",
       "      <td>1</td>\n",
       "      <td>19814</td>\n",
       "      <td>19938</td>\n",
       "      <td>1</td>\n",
       "      <td>7</td>\n",
       "    </tr>\n",
       "  </tbody>\n",
       "</table>\n",
       "</div>"
      ],
      "text/plain": [
       "             chro  start    end  forward  reverse\n",
       "id                                               \n",
       "div_event_1     1  14588  14735        2       93\n",
       "div_event_2     1  14663  14811        2       92\n",
       "div_event_3     1  14703  14830        2       95\n",
       "div_event_4     1  14703  14853        2       97\n",
       "div_event_5     1  16026  16167        1        4\n",
       "div_event_6     1  16139  16283        1       16\n",
       "div_event_7     1  16433  16582        1       35\n",
       "div_event_8     1  16542  16692        1       24\n",
       "div_event_9     1  19775  19918        1       11\n",
       "div_event_10    1  19814  19938        1        7"
      ]
     },
     "execution_count": 18,
     "metadata": {},
     "output_type": "execute_result"
    }
   ],
   "source": [
    "res"
   ]
  },
  {
   "cell_type": "code",
   "execution_count": 5,
   "metadata": {},
   "outputs": [
    {
     "name": "stdout",
     "output_type": "stream",
     "text": [
      "CPU times: user 527 ms, sys: 151 ms, total: 678 ms\n",
      "Wall time: 8min 49s\n"
     ]
    }
   ],
   "source": [
    "%%time\n",
    "res = bb.count_over_intervals('../data/bams/Compoud_A_1_coordSort_filt.bam', 'bed_outfolder/test_A.bed')"
   ]
  },
  {
   "cell_type": "code",
   "execution_count": 6,
   "metadata": {},
   "outputs": [
    {
     "name": "stdout",
     "output_type": "stream",
     "text": [
      "CPU times: user 1.19 s, sys: 394 ms, total: 1.58 s\n",
      "Wall time: 15min 24s\n"
     ]
    }
   ],
   "source": [
    "%%time\n",
    "res = bb.count_over_intervals('../data/bams/Compoud_A_1_coordSort_filt.bam', 'bed_outfolder/test_A2.bed')"
   ]
  },
  {
   "cell_type": "code",
   "execution_count": 12,
   "metadata": {},
   "outputs": [
    {
     "name": "stdout",
     "output_type": "stream",
     "text": [
      "CPU times: user 5min 56s, sys: 3.1 s, total: 5min 59s\n",
      "Wall time: 5min 59s\n"
     ]
    }
   ],
   "source": [
    "%%time\n",
    "a = bam.count_over_intervals('bed_outfolder/test_A.bed')"
   ]
  },
  {
   "cell_type": "markdown",
   "metadata": {},
   "source": [
    "# Deeptools counting / coverage"
   ]
  },
  {
   "cell_type": "code",
   "execution_count": 1,
   "metadata": {},
   "outputs": [],
   "source": [
    "import deeptools.countReadsPerBin as crpb"
   ]
  },
  {
   "cell_type": "code",
   "execution_count": 2,
   "metadata": {},
   "outputs": [
    {
     "name": "stderr",
     "output_type": "stream",
     "text": [
      "Warning: 1:28655438-28655438 is an invalid BED interval! Ignoring it.\n",
      "Warning: 1:36235179-36235179 is an invalid BED interval! Ignoring it.\n",
      "Warning: 1:46486595-46486595 is an invalid BED interval! Ignoring it.\n",
      "Warning: 1:52170285-52170285 is an invalid BED interval! Ignoring it.\n",
      "Warning: 1:54870603-54870603 is an invalid BED interval! Ignoring it.\n"
     ]
    },
    {
     "name": "stdout",
     "output_type": "stream",
     "text": [
      "CPU times: user 16min 33s, sys: 4.92 s, total: 16min 37s\n",
      "Wall time: 16min 40s\n"
     ]
    }
   ],
   "source": [
    "%%time\n",
    "a = crpb.CountReadsPerBin(['../data/bams/Compoud_A_1_coordSort_filt.bam'], bedFile='bed_outfolder/test_A.bed', )\n",
    "\n",
    "b = a.run()"
   ]
  },
  {
   "cell_type": "code",
   "execution_count": null,
   "metadata": {},
   "outputs": [],
   "source": [
    "b"
   ]
  },
  {
   "cell_type": "code",
   "execution_count": 10,
   "metadata": {},
   "outputs": [
    {
     "name": "stderr",
     "output_type": "stream",
     "text": [
      "Warning: 1:28655438-28655438 is an invalid BED interval! Ignoring it.\n",
      "Warning: 1:36235179-36235179 is an invalid BED interval! Ignoring it.\n",
      "Warning: 1:46486595-46486595 is an invalid BED interval! Ignoring it.\n",
      "Warning: 1:52170285-52170285 is an invalid BED interval! Ignoring it.\n",
      "Warning: 1:54870603-54870603 is an invalid BED interval! Ignoring it.\n"
     ]
    },
    {
     "name": "stdout",
     "output_type": "stream",
     "text": [
      "CPU times: user 686 ms, sys: 66.8 ms, total: 753 ms\n",
      "Wall time: 6min 16s\n"
     ]
    }
   ],
   "source": [
    "%%time\n",
    "a = crpb.CountReadsPerBin(['../data/bams/Compoud_A_1_coordSort_filt.bam'], bedFile='bed_outfolder/test_A.bed', numberOfProcessors=4)\n",
    "\n",
    "c = a.run()"
   ]
  },
  {
   "cell_type": "code",
   "execution_count": null,
   "metadata": {},
   "outputs": [],
   "source": []
  }
 ],
 "metadata": {
  "kernelspec": {
   "display_name": "Python [conda env:classic]",
   "language": "python",
   "name": "conda-env-classic-py"
  },
  "language_info": {
   "codemirror_mode": {
    "name": "ipython",
    "version": 3
   },
   "file_extension": ".py",
   "mimetype": "text/x-python",
   "name": "python",
   "nbconvert_exporter": "python",
   "pygments_lexer": "ipython3",
   "version": "3.6.7"
  }
 },
 "nbformat": 4,
 "nbformat_minor": 2
}
