{
 "cells": [
  {
   "cell_type": "markdown",
   "metadata": {
    "extensions": {
     "jupyter_dashboards": {
      "version": 1,
      "views": {
       "grid_default": {
        "col": 0,
        "height": 4,
        "hidden": false,
        "row": 0,
        "width": 4
       },
       "report_default": {
        "hidden": false
       }
      }
     }
    }
   },
   "source": [
    "# Import"
   ]
  },
  {
   "cell_type": "code",
   "execution_count": 1,
   "metadata": {
    "ExecuteTime": {
     "end_time": "2018-01-12T13:27:24.140077Z",
     "start_time": "2018-01-12T13:27:23.511971Z"
    },
    "collapsed": true,
    "extensions": {
     "jupyter_dashboards": {
      "version": 1,
      "views": {
       "grid_default": {
        "hidden": true
       },
       "report_default": {
        "hidden": true
       }
      }
     }
    }
   },
   "outputs": [],
   "source": [
    "import os\n",
    "import glob\n",
    "import pandas as pd\n",
    "#from multiprocessing import Pool\n",
    "\n",
    "from bed_lib import Bed\n",
    "import divtrans as dt\n",
    "\n",
    "\n",
    "%matplotlib inline"
   ]
  },
  {
   "cell_type": "code",
   "execution_count": 2,
   "metadata": {
    "ExecuteTime": {
     "end_time": "2018-01-12T13:27:25.055283Z",
     "start_time": "2018-01-12T13:27:25.010690Z"
    },
    "collapsed": true,
    "extensions": {
     "jupyter_dashboards": {
      "version": 1,
      "views": {
       "grid_default": {
        "hidden": true
       },
       "report_default": {
        "hidden": true
       }
      }
     }
    }
   },
   "outputs": [],
   "source": [
    "# To not have to restart the kernel everytime changes are made in modules\n",
    "%load_ext autoreload\n",
    "%autoreload 2"
   ]
  },
  {
   "cell_type": "markdown",
   "metadata": {
    "extensions": {
     "jupyter_dashboards": {
      "version": 1,
      "views": {
       "grid_default": {
        "col": 0,
        "height": 5,
        "hidden": false,
        "row": 86,
        "width": 12
       },
       "report_default": {
        "hidden": false
       }
      }
     }
    }
   },
   "source": [
    "**WARNINGS**\n",
    "\n",
    "- TRY filtering only uniquely mapping reads (MAPQ 255) and compare with filtering only primary \n",
    "\n",
    "**TO EXPLAIN**\n",
    "\n",
    "There is a rationale being only using reads (and not fragments), since we are only interested in ends of - reads first and then beginnings of + reads \n",
    "> Actually might be interesting to try using only one reads of the pair (TO CHECK)"
   ]
  },
  {
   "cell_type": "markdown",
   "metadata": {
    "extensions": {
     "jupyter_dashboards": {
      "version": 1,
      "views": {
       "grid_default": {
        "col": 7,
        "height": 4,
        "hidden": false,
        "row": 43,
        "width": 4
       },
       "report_default": {
        "hidden": false
       }
      }
     }
    }
   },
   "source": [
    "## Input"
   ]
  },
  {
   "cell_type": "code",
   "execution_count": 3,
   "metadata": {
    "ExecuteTime": {
     "end_time": "2018-01-12T13:27:26.846959Z",
     "start_time": "2018-01-12T13:27:26.810475Z"
    },
    "extensions": {
     "jupyter_dashboards": {
      "version": 1,
      "views": {
       "grid_default": {
        "hidden": true
       },
       "report_default": {
        "hidden": true
       }
      }
     }
    }
   },
   "outputs": [
    {
     "data": {
      "text/plain": [
       "['../data/bams/VEUDE_A_1_coordSort_filt.bam',\n",
       " '../data/bams/Compoud_A_1_coordSort_filt.bam']"
      ]
     },
     "execution_count": 3,
     "metadata": {},
     "output_type": "execute_result"
    }
   ],
   "source": [
    "bams = glob.glob('../data/bams/*_coordSort_filt.bam')\n",
    "bams"
   ]
  },
  {
   "cell_type": "markdown",
   "metadata": {},
   "source": [
    "# Analyse from bams\n",
    "\n",
    "The idea here is to detect divergent transcription directly from a sorted bam.\n",
    "This would fix some limitations of the first method.\n",
    "\n",
    "ALGO: \n",
    "Look through the coordinated sorted bam file, registering the transcribed strand for each reads.\n",
    "\n",
    "Since we have paired strand-specific libraries (rf):\n",
    "- first of the pair, reverse complemented = + strand\n",
    "- second of the pair, NOT reverse complemented = + strand\n",
    "- first of the pair, NOT reverse complemented = - strand\n",
    "- second of the pair, reverse complemented = - strand\n",
    "\n",
    "When a change of sign is detected, calculate the distance with the previous transcript on the opposite strand \n",
    "\n",
    "## Detect divergent transcription events accross sorted bam"
   ]
  },
  {
   "cell_type": "code",
   "execution_count": 4,
   "metadata": {},
   "outputs": [],
   "source": [
    "# Create orientated read objects, detect divergent transcription events with them\n",
    "# And create a bed file of these divergent transcription events\n",
    "\n",
    "def get_divergent_transcription_beds(bam):\n",
    "    oread_gen = dt.get_oriented_reads(bam)    \n",
    "    bed_out = os.path.join('../results/from_bam', \n",
    "                           os.path.basename(bam.replace('.bam', '_divtrans.bed')))\n",
    "    \n",
    "    with open(bed_out, 'w') as f:\n",
    "        for interval in dt.identify_divergent_transcription(oread_gen):\n",
    "            f.write('\\t'.join([str(x) for x in interval]) + '\\n')\n",
    "        \n",
    "    return Bed(bed_out)"
   ]
  },
  {
   "cell_type": "code",
   "execution_count": 5,
   "metadata": {},
   "outputs": [],
   "source": [
    "div_trans_beds = [get_divergent_transcription_beds(bam) for bam in bams]"
   ]
  },
  {
   "cell_type": "markdown",
   "metadata": {},
   "source": [
    "Merge the divergent transcription events detected:"
   ]
  },
  {
   "cell_type": "code",
   "execution_count": 10,
   "metadata": {},
   "outputs": [],
   "source": [
    "div_trans_beds_merged = [bed.merge(outfolder='../results/from_bam') for bed in div_trans_beds]"
   ]
  },
  {
   "cell_type": "markdown",
   "metadata": {},
   "source": [
    "## Stats on divergent transcription intervals"
   ]
  },
  {
   "cell_type": "code",
   "execution_count": 45,
   "metadata": {},
   "outputs": [
    {
     "data": {
      "text/html": [
       "<div>\n",
       "<style scoped>\n",
       "    .dataframe tbody tr th:only-of-type {\n",
       "        vertical-align: middle;\n",
       "    }\n",
       "\n",
       "    .dataframe tbody tr th {\n",
       "        vertical-align: top;\n",
       "    }\n",
       "\n",
       "    .dataframe thead th {\n",
       "        text-align: right;\n",
       "    }\n",
       "</style>\n",
       "<table border=\"1\" class=\"dataframe\">\n",
       "  <thead>\n",
       "    <tr style=\"text-align: right;\">\n",
       "      <th></th>\n",
       "      <th>Compoud_A_1_coordSort_filt_divtrans_M</th>\n",
       "      <th>VEUDE_A_1_coordSort_filt_divtrans_M</th>\n",
       "    </tr>\n",
       "  </thead>\n",
       "  <tbody>\n",
       "    <tr>\n",
       "      <th>Nbases</th>\n",
       "      <td>53104738</td>\n",
       "      <td>49025612</td>\n",
       "    </tr>\n",
       "    <tr>\n",
       "      <th>Nintervals</th>\n",
       "      <td>227676</td>\n",
       "      <td>213764</td>\n",
       "    </tr>\n",
       "    <tr>\n",
       "      <th>bedobj</th>\n",
       "      <td>&lt;Bed object: Compoud_A_1_coordSort_filt_divtra...</td>\n",
       "      <td>&lt;Bed object: VEUDE_A_1_coordSort_filt_divtrans_M&gt;</td>\n",
       "    </tr>\n",
       "    <tr>\n",
       "      <th>len_distrib_25%</th>\n",
       "      <td>129</td>\n",
       "      <td>129</td>\n",
       "    </tr>\n",
       "    <tr>\n",
       "      <th>len_distrib_50%</th>\n",
       "      <td>180</td>\n",
       "      <td>178</td>\n",
       "    </tr>\n",
       "    <tr>\n",
       "      <th>len_distrib_75%</th>\n",
       "      <td>247</td>\n",
       "      <td>244</td>\n",
       "    </tr>\n",
       "    <tr>\n",
       "      <th>len_distrib_count</th>\n",
       "      <td>227676</td>\n",
       "      <td>213764</td>\n",
       "    </tr>\n",
       "    <tr>\n",
       "      <th>len_distrib_max</th>\n",
       "      <td>21738</td>\n",
       "      <td>22406</td>\n",
       "    </tr>\n",
       "    <tr>\n",
       "      <th>len_distrib_mean</th>\n",
       "      <td>233.247</td>\n",
       "      <td>229.345</td>\n",
       "    </tr>\n",
       "    <tr>\n",
       "      <th>len_distrib_min</th>\n",
       "      <td>0</td>\n",
       "      <td>0</td>\n",
       "    </tr>\n",
       "    <tr>\n",
       "      <th>len_distrib_std</th>\n",
       "      <td>323.065</td>\n",
       "      <td>305.105</td>\n",
       "    </tr>\n",
       "    <tr>\n",
       "      <th>name</th>\n",
       "      <td>Compoud_A_1_coordSort_filt_divtrans_M</td>\n",
       "      <td>VEUDE_A_1_coordSort_filt_divtrans_M</td>\n",
       "    </tr>\n",
       "    <tr>\n",
       "      <th>path</th>\n",
       "      <td>../results/from_bam/Compoud_A_1_coordSort_filt...</td>\n",
       "      <td>../results/from_bam/VEUDE_A_1_coordSort_filt_d...</td>\n",
       "    </tr>\n",
       "  </tbody>\n",
       "</table>\n",
       "</div>"
      ],
      "text/plain": [
       "                               Compoud_A_1_coordSort_filt_divtrans_M  \\\n",
       "Nbases                                                      53104738   \n",
       "Nintervals                                                    227676   \n",
       "bedobj             <Bed object: Compoud_A_1_coordSort_filt_divtra...   \n",
       "len_distrib_25%                                                  129   \n",
       "len_distrib_50%                                                  180   \n",
       "len_distrib_75%                                                  247   \n",
       "len_distrib_count                                             227676   \n",
       "len_distrib_max                                                21738   \n",
       "len_distrib_mean                                             233.247   \n",
       "len_distrib_min                                                    0   \n",
       "len_distrib_std                                              323.065   \n",
       "name                           Compoud_A_1_coordSort_filt_divtrans_M   \n",
       "path               ../results/from_bam/Compoud_A_1_coordSort_filt...   \n",
       "\n",
       "                                 VEUDE_A_1_coordSort_filt_divtrans_M  \n",
       "Nbases                                                      49025612  \n",
       "Nintervals                                                    213764  \n",
       "bedobj             <Bed object: VEUDE_A_1_coordSort_filt_divtrans_M>  \n",
       "len_distrib_25%                                                  129  \n",
       "len_distrib_50%                                                  178  \n",
       "len_distrib_75%                                                  244  \n",
       "len_distrib_count                                             213764  \n",
       "len_distrib_max                                                22406  \n",
       "len_distrib_mean                                             229.345  \n",
       "len_distrib_min                                                    0  \n",
       "len_distrib_std                                              305.105  \n",
       "name                             VEUDE_A_1_coordSort_filt_divtrans_M  \n",
       "path               ../results/from_bam/VEUDE_A_1_coordSort_filt_d...  "
      ]
     },
     "execution_count": 45,
     "metadata": {},
     "output_type": "execute_result"
    }
   ],
   "source": [
    "#[bed.plot() for bed in div_trans_beds_merged]\n",
    "pd.DataFrame({bed.name: bed.stats(full_report=True) for bed in div_trans_beds_merged})"
   ]
  }
 ],
 "metadata": {
  "extensions": {
   "jupyter_dashboards": {
    "activeView": "grid_default",
    "version": 1,
    "views": {
     "grid_default": {
      "cellMargin": 10,
      "defaultCellHeight": 20,
      "maxColumns": 12,
      "name": "grid",
      "type": "grid"
     },
     "report_default": {
      "name": "report",
      "type": "report"
     }
    }
   }
  },
  "kernelspec": {
   "display_name": "Python [default]",
   "language": "python",
   "name": "python3"
  },
  "language_info": {
   "codemirror_mode": {
    "name": "ipython",
    "version": 3
   },
   "file_extension": ".py",
   "mimetype": "text/x-python",
   "name": "python",
   "nbconvert_exporter": "python",
   "pygments_lexer": "ipython3",
   "version": "3.6.3"
  },
  "toc": {
   "colors": {
    "hover_highlight": "#DAA520",
    "navigate_num": "#000000",
    "navigate_text": "#333333",
    "running_highlight": "#FF0000",
    "selected_highlight": "#FFD700",
    "sidebar_border": "#EEEEEE",
    "wrapper_background": "#FFFFFF"
   },
   "moveMenuLeft": true,
   "nav_menu": {
    "height": "47px",
    "width": "252px"
   },
   "navigate_menu": true,
   "number_sections": true,
   "sideBar": false,
   "threshold": 4,
   "toc_cell": false,
   "toc_position": {
    "height": "577px",
    "left": "5px",
    "right": "20px",
    "top": "107.986px",
    "width": "184px"
   },
   "toc_section_display": "block",
   "toc_window_display": true,
   "widenNotebook": false
  }
 },
 "nbformat": 4,
 "nbformat_minor": 2
}
