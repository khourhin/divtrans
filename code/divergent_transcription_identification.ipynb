{
 "cells": [
  {
   "cell_type": "markdown",
   "metadata": {
    "extensions": {
     "jupyter_dashboards": {
      "version": 1,
      "views": {
       "grid_default": {
        "col": 0,
        "height": 4,
        "hidden": false,
        "row": 0,
        "width": 4
       },
       "report_default": {
        "hidden": false
       }
      }
     }
    }
   },
   "source": [
    "# Import"
   ]
  },
  {
   "cell_type": "code",
   "execution_count": 148,
   "metadata": {
    "ExecuteTime": {
     "end_time": "2018-01-12T13:27:24.140077Z",
     "start_time": "2018-01-12T13:27:23.511971Z"
    },
    "collapsed": true,
    "extensions": {
     "jupyter_dashboards": {
      "version": 1,
      "views": {
       "grid_default": {
        "hidden": true
       },
       "report_default": {
        "hidden": true
       }
      }
     }
    }
   },
   "outputs": [],
   "source": [
    "import os\n",
    "import glob\n",
    "import pandas as pd\n",
    "#from multiprocessing import Pool\n",
    "\n",
    "import bed_lib as bl\n",
    "import divtrans as dt\n",
    "\n",
    "\n",
    "%matplotlib inline"
   ]
  },
  {
   "cell_type": "code",
   "execution_count": 2,
   "metadata": {
    "ExecuteTime": {
     "end_time": "2018-01-12T13:27:25.055283Z",
     "start_time": "2018-01-12T13:27:25.010690Z"
    },
    "collapsed": true,
    "extensions": {
     "jupyter_dashboards": {
      "version": 1,
      "views": {
       "grid_default": {
        "hidden": true
       },
       "report_default": {
        "hidden": true
       }
      }
     }
    }
   },
   "outputs": [],
   "source": [
    "# To not have to restart the kernel everytime changes are made in modules\n",
    "%load_ext autoreload\n",
    "%autoreload 2"
   ]
  },
  {
   "cell_type": "markdown",
   "metadata": {
    "extensions": {
     "jupyter_dashboards": {
      "version": 1,
      "views": {
       "grid_default": {
        "col": 0,
        "height": 5,
        "hidden": false,
        "row": 86,
        "width": 12
       },
       "report_default": {
        "hidden": false
       }
      }
     }
    }
   },
   "source": [
    "**WARNINGS**\n",
    "\n",
    "- TRY filtering only uniquely mapping reads (MAPQ 255) and compare with filtering only primary \n",
    "\n",
    "**TO EXPLAIN**\n",
    "\n",
    "There is a rationale being only using reads (and not fragments), since we are only interested in ends of - reads first and then beginnings of + reads \n",
    "> Actually might be interesting to try using only one reads of the pair (TO CHECK)"
   ]
  },
  {
   "cell_type": "markdown",
   "metadata": {
    "extensions": {
     "jupyter_dashboards": {
      "version": 1,
      "views": {
       "grid_default": {
        "col": 7,
        "height": 4,
        "hidden": false,
        "row": 43,
        "width": 4
       },
       "report_default": {
        "hidden": false
       }
      }
     }
    }
   },
   "source": [
    "## Input"
   ]
  },
  {
   "cell_type": "code",
   "execution_count": 3,
   "metadata": {
    "ExecuteTime": {
     "end_time": "2018-01-12T13:27:26.846959Z",
     "start_time": "2018-01-12T13:27:26.810475Z"
    },
    "extensions": {
     "jupyter_dashboards": {
      "version": 1,
      "views": {
       "grid_default": {
        "hidden": true
       },
       "report_default": {
        "hidden": true
       }
      }
     }
    }
   },
   "outputs": [
    {
     "data": {
      "text/plain": [
       "['../data/bams/VEUDE_A_1_coordSort_filt.bam',\n",
       " '../data/bams/Compoud_A_1_coordSort_filt.bam']"
      ]
     },
     "execution_count": 3,
     "metadata": {},
     "output_type": "execute_result"
    }
   ],
   "source": [
    "bams = glob.glob('../data/bams/*_coordSort_filt.bam')\n",
    "bams"
   ]
  },
  {
   "cell_type": "markdown",
   "metadata": {},
   "source": [
    "# Analyse from bams\n",
    "\n",
    "The idea here is to detect divergent transcription directly from a sorted bam.\n",
    "This would fix some limitations of the first method.\n",
    "\n",
    "ALGO: \n",
    "Look through the coordinated sorted bam file, registering the transcribed strand for each reads.\n",
    "\n",
    "Since we have paired strand-specific libraries (rf):\n",
    "- first of the pair, reverse complemented = + strand\n",
    "- second of the pair, NOT reverse complemented = + strand\n",
    "- first of the pair, NOT reverse complemented = - strand\n",
    "- second of the pair, reverse complemented = - strand\n",
    "\n",
    "When a change of sign is detected, calculate the distance with the previous transcript on the opposite strand \n",
    "\n",
    "## Detect divergent transcription events accross sorted bam"
   ]
  },
  {
   "cell_type": "code",
   "execution_count": 4,
   "metadata": {},
   "outputs": [],
   "source": [
    "# Create orientated read objects, detect divergent transcription events with them\n",
    "# And create a bed file of these divergent transcription events\n",
    "\n",
    "def get_divergent_transcription_beds(bam):\n",
    "    oread_gen = dt.get_oriented_reads(bam)    \n",
    "    bed_out = os.path.join('../results/from_bam', \n",
    "                           os.path.basename(bam.replace('.bam', '_divtrans.bed')))\n",
    "    \n",
    "    with open(bed_out, 'w') as f:\n",
    "        for interval in dt.identify_divergent_transcription(oread_gen):\n",
    "            f.write('\\t'.join([str(x) for x in interval]) + '\\n')\n",
    "        \n",
    "    return bl.Bed(bed_out)"
   ]
  },
  {
   "cell_type": "code",
   "execution_count": 126,
   "metadata": {},
   "outputs": [],
   "source": [
    "div_trans_beds = [get_divergent_transcription_beds(bam) for bam in bams]"
   ]
  },
  {
   "cell_type": "markdown",
   "metadata": {},
   "source": [
    "Merge the divergent transcription events detected:"
   ]
  },
  {
   "cell_type": "code",
   "execution_count": 127,
   "metadata": {},
   "outputs": [],
   "source": [
    "div_trans_beds_merged = [bed.merge(outfolder='../results/from_bam') for bed in div_trans_beds]"
   ]
  },
  {
   "cell_type": "markdown",
   "metadata": {},
   "source": [
    "# Compare to FANTOM5 CAGE enhancer prediction\n",
    "\n",
    "One can use SLIDEBASE for enhancer http://slidebase.binf.ku.dk/human_enhancers/results\n",
    "\n",
    "Downloading bed from SLIDEBASE (same as SLIDEBASE \"Download BED\"):"
   ]
  },
  {
   "cell_type": "code",
   "execution_count": 128,
   "metadata": {},
   "outputs": [
    {
     "name": "stderr",
     "output_type": "stream",
     "text": [
      "--2018-05-18 14:59:35--  http://slidebase.binf.ku.dk/human_enhancers/bed\n",
      "Resolving slidebase.binf.ku.dk... 130.226.13.22\n",
      "Connecting to slidebase.binf.ku.dk|130.226.13.22|:80... connected.\n",
      "HTTP request sent, awaiting response... 200 OK\n",
      "Length: unspecified [text/plain]\n",
      "Saving to: ‘../data/slidebase_enhancers.bed’\n",
      "\n",
      "     0K .......... .......... .......... .......... ..........  857K\n",
      "    50K .......... .......... .......... .......... .......... 1,47M\n",
      "   100K .......... .......... .......... .......... .......... 78,4M\n",
      "   150K .......... .......... .......... .......... .......... 90,5M\n",
      "   200K .......... .......... .......... .......... .......... 1,74M\n",
      "   250K .......... .......... .......... .......... .......... 74,6M\n",
      "   300K .......... .......... .......... .......... .......... 97,3M\n",
      "   350K .......... .......... .......... .......... ..........  101M\n",
      "   400K .......... .......... .......... .......... .......... 2,04M\n",
      "   450K .......... .......... .......... .......... .......... 78,0M\n",
      "   500K .......... .......... .......... .......... .......... 97,6M\n",
      "   550K .......... .......... .......... .......... ..........  100M\n",
      "   600K .......... .......... .......... .......... .......... 97,5M\n",
      "   650K .......... .......... .......... .......... .......... 98,8M\n",
      "   700K .......... .......... .......... .......... .......... 1,58M\n",
      "   750K .......... .......... .......... .......... .......... 18,3M\n",
      "   800K .......... .......... .......... .......... .......... 18,7M\n",
      "   850K .......... .......... .......... .......... .......... 17,8M\n",
      "   900K .......... .......... .......... .......... .......... 16,0M\n",
      "   950K .......... .......... .......... .......... .......... 18,4M\n",
      "  1000K .......... .......... .......... .......... .......... 18,8M\n",
      "  1050K .......... .......... .......... .......... .......... 18,9M\n",
      "  1100K .......... .......... .......... .......... .......... 19,5M\n",
      "  1150K .......... .......... .......... .......... .......... 16,7M\n",
      "  1200K .......... .......... .......... .......... .......... 11,0M\n",
      "  1250K .......... .......... .......... .......... .......... 20,4M\n",
      "  1300K .......... .......... .......... .......... .......... 19,5M\n",
      "  1350K .......... .......... .......... .......... .......... 17,3M\n",
      "  1400K .......... .......... .......... .......... .......... 19,3M\n",
      "  1450K .......... .......... .......... .......... .......... 19,4M\n",
      "  1500K .......... .......... .......... .......... .......... 1010K\n",
      "  1550K .......... .......... .......... .......... .......... 19,8M\n",
      "  1600K .......... .......... .......... .......... .......... 1,02M\n",
      "  1650K ....                                                   8620G=0,3s\n",
      "\n",
      "2018-05-18 14:59:36 (5,03 MB/s) - ‘../data/slidebase_enhancers.bed’ saved [1694228]\n",
      "\n"
     ]
    }
   ],
   "source": [
    "%%bash\n",
    "    \n",
    "wget http://slidebase.binf.ku.dk/human_enhancers/bed -O ../data/slidebase_enhancers.bed\n",
    "\n",
    "# Convert to Ensembl type bed\n",
    "sed 's/^chr//g' ../data/slidebase_enhancers.bed | bedtools sort -i - > ../data/slidebase_enhancers_clean.bed\n",
    "\n",
    "rm ../data/slidebase_enhancers.bed"
   ]
  },
  {
   "cell_type": "code",
   "execution_count": 210,
   "metadata": {},
   "outputs": [],
   "source": [
    "slidebase_enh = bl.Bed('../data/slidebase_enhancers_clean.bed')"
   ]
  },
  {
   "cell_type": "markdown",
   "metadata": {},
   "source": [
    "Get the chromosome sizes for statistical testing of interval association:"
   ]
  },
  {
   "cell_type": "code",
   "execution_count": 130,
   "metadata": {},
   "outputs": [
    {
     "data": {
      "text/plain": [
       "seq_names\n",
       "1             249250621\n",
       "10            135534747\n",
       "11            135006516\n",
       "12            133851895\n",
       "13            115169878\n",
       "14            107349540\n",
       "15            102531392\n",
       "16             90354753\n",
       "17             81195210\n",
       "18             78077248\n",
       "19             59128983\n",
       "2             243199373\n",
       "20             63025520\n",
       "21             48129895\n",
       "22             51304566\n",
       "3             198022430\n",
       "4             191154276\n",
       "5             180915260\n",
       "6             171115067\n",
       "7             159138663\n",
       "8             146364022\n",
       "9             141213431\n",
       "MT                16569\n",
       "X             155270560\n",
       "Y              59373566\n",
       "GL000192.1       547496\n",
       "GL000225.1       211173\n",
       "GL000194.1       191469\n",
       "GL000193.1       189789\n",
       "GL000200.1       187035\n",
       "                ...    \n",
       "GL000233.1        45941\n",
       "GL000237.1        45867\n",
       "GL000230.1        43691\n",
       "GL000242.1        43523\n",
       "GL000243.1        43341\n",
       "GL000241.1        42152\n",
       "GL000236.1        41934\n",
       "GL000240.1        41933\n",
       "GL000206.1        41001\n",
       "GL000232.1        40652\n",
       "GL000234.1        40531\n",
       "GL000202.1        40103\n",
       "GL000238.1        39939\n",
       "GL000244.1        39929\n",
       "GL000248.1        39786\n",
       "GL000196.1        38914\n",
       "GL000249.1        38502\n",
       "GL000246.1        38154\n",
       "GL000203.1        37498\n",
       "GL000197.1        37175\n",
       "GL000245.1        36651\n",
       "GL000247.1        36422\n",
       "GL000201.1        36148\n",
       "GL000235.1        34474\n",
       "GL000239.1        33824\n",
       "GL000210.1        27682\n",
       "GL000231.1        27386\n",
       "GL000229.1        19913\n",
       "GL000226.1        15008\n",
       "GL000207.1         4262\n",
       "Name: seq_len, Length: 84, dtype: int64"
      ]
     },
     "execution_count": 130,
     "metadata": {},
     "output_type": "execute_result"
    }
   ],
   "source": [
    "bl.get_chrom_sizes('/home/khourhin/data/genomes/Homo_sapiens.GRCh37.dna_sm.primary_assembly.fa', '../data/genome_chro_size.tab')"
   ]
  },
  {
   "cell_type": "markdown",
   "metadata": {},
   "source": [
    "Testing if significant association between intervals detected with divergent transcription and the ones reported in fantom5 CAGE enhancer dataset:\n"
   ]
  },
  {
   "cell_type": "code",
   "execution_count": 131,
   "metadata": {},
   "outputs": [
    {
     "data": {
      "text/plain": [
       "[{'bed1': 'VEUDE_A_1_coordSort_filt_divtrans_M',\n",
       "  'bed2': 'slidebase_enhancers_clean',\n",
       "  'left': 0.0,\n",
       "  'ratio': 2.439,\n",
       "  'right': 1.0,\n",
       "  'two-tail': 0.0},\n",
       " {'bed1': 'Compoud_A_1_coordSort_filt_divtrans_M',\n",
       "  'bed2': 'slidebase_enhancers_clean',\n",
       "  'left': 0.0,\n",
       "  'ratio': 2.687,\n",
       "  'right': 1.0,\n",
       "  'two-tail': 0.0}]"
      ]
     },
     "execution_count": 131,
     "metadata": {},
     "output_type": "execute_result"
    }
   ],
   "source": [
    "[bed.fisher(slidebase_enh, '../data/genome_chro_size.tab') for bed in div_trans_beds_merged]"
   ]
  },
  {
   "cell_type": "markdown",
   "metadata": {},
   "source": [
    "Evaluating the distance between enhancer intervals defined by fantom5 and the ones predicted from RNA-seq data:"
   ]
  },
  {
   "cell_type": "code",
   "execution_count": 187,
   "metadata": {},
   "outputs": [
    {
     "data": {
      "text/html": [
       "<div>\n",
       "<style scoped>\n",
       "    .dataframe tbody tr th:only-of-type {\n",
       "        vertical-align: middle;\n",
       "    }\n",
       "\n",
       "    .dataframe tbody tr th {\n",
       "        vertical-align: top;\n",
       "    }\n",
       "\n",
       "    .dataframe thead th {\n",
       "        text-align: right;\n",
       "    }\n",
       "</style>\n",
       "<table border=\"1\" class=\"dataframe\">\n",
       "  <thead>\n",
       "    <tr style=\"text-align: right;\">\n",
       "      <th></th>\n",
       "      <th>intersection</th>\n",
       "      <th>union-intersection</th>\n",
       "      <th>jaccard</th>\n",
       "      <th>n_intersections</th>\n",
       "    </tr>\n",
       "  </thead>\n",
       "  <tbody>\n",
       "    <tr>\n",
       "      <th>VEUDE_A_1_coordSort_filt_divtrans_M</th>\n",
       "      <td>350683</td>\n",
       "      <td>58647364</td>\n",
       "      <td>0.00598</td>\n",
       "      <td>2779</td>\n",
       "    </tr>\n",
       "    <tr>\n",
       "      <th>Compoud_A_1_coordSort_filt_divtrans_M</th>\n",
       "      <td>432884</td>\n",
       "      <td>62644295</td>\n",
       "      <td>0.00691</td>\n",
       "      <td>3239</td>\n",
       "    </tr>\n",
       "  </tbody>\n",
       "</table>\n",
       "</div>"
      ],
      "text/plain": [
       "                                       intersection  union-intersection  \\\n",
       "VEUDE_A_1_coordSort_filt_divtrans_M          350683            58647364   \n",
       "Compoud_A_1_coordSort_filt_divtrans_M        432884            62644295   \n",
       "\n",
       "                                       jaccard  n_intersections  \n",
       "VEUDE_A_1_coordSort_filt_divtrans_M    0.00598             2779  \n",
       "Compoud_A_1_coordSort_filt_divtrans_M  0.00691             3239  "
      ]
     },
     "execution_count": 187,
     "metadata": {},
     "output_type": "execute_result"
    }
   ],
   "source": [
    "pd.concat([bed.jaccard(slidebase_enh) for bed in div_trans_beds_merged])"
   ]
  },
  {
   "cell_type": "markdown",
   "metadata": {},
   "source": [
    "## Stats on divergent transcription intervals"
   ]
  },
  {
   "cell_type": "code",
   "execution_count": 152,
   "metadata": {},
   "outputs": [
    {
     "data": {
      "text/html": [
       "<div>\n",
       "<style scoped>\n",
       "    .dataframe tbody tr th:only-of-type {\n",
       "        vertical-align: middle;\n",
       "    }\n",
       "\n",
       "    .dataframe tbody tr th {\n",
       "        vertical-align: top;\n",
       "    }\n",
       "\n",
       "    .dataframe thead th {\n",
       "        text-align: right;\n",
       "    }\n",
       "</style>\n",
       "<table border=\"1\" class=\"dataframe\">\n",
       "  <thead>\n",
       "    <tr style=\"text-align: right;\">\n",
       "      <th></th>\n",
       "      <th>Compoud_A_1_coordSort_filt_divtrans_M</th>\n",
       "      <th>Compoud_A_1_coordSort_filt_divtrans_M-inter-slidebase_enhancers_clean</th>\n",
       "      <th>VEUDE_A_1_coordSort_filt_divtrans_M</th>\n",
       "      <th>VEUDE_A_1_coordSort_filt_divtrans_M-inter-slidebase_enhancers_clean</th>\n",
       "      <th>slidebase_enhancers_clean</th>\n",
       "    </tr>\n",
       "  </thead>\n",
       "  <tbody>\n",
       "    <tr>\n",
       "      <th>Nbases</th>\n",
       "      <td>53104738</td>\n",
       "      <td>432876</td>\n",
       "      <td>49025612</td>\n",
       "      <td>350683</td>\n",
       "      <td>9972201</td>\n",
       "    </tr>\n",
       "    <tr>\n",
       "      <th>Nintervals</th>\n",
       "      <td>227676</td>\n",
       "      <td>3239</td>\n",
       "      <td>213764</td>\n",
       "      <td>2779</td>\n",
       "      <td>32693</td>\n",
       "    </tr>\n",
       "    <tr>\n",
       "      <th>bedobj</th>\n",
       "      <td>&lt;Bed object: Compoud_A_1_coordSort_filt_divtra...</td>\n",
       "      <td>&lt;Bed object: Compoud_A_1_coordSort_filt_divtra...</td>\n",
       "      <td>&lt;Bed object: VEUDE_A_1_coordSort_filt_divtrans_M&gt;</td>\n",
       "      <td>&lt;Bed object: VEUDE_A_1_coordSort_filt_divtrans...</td>\n",
       "      <td>&lt;Bed object: slidebase_enhancers_clean&gt;</td>\n",
       "    </tr>\n",
       "    <tr>\n",
       "      <th>len_distrib_25%</th>\n",
       "      <td>129</td>\n",
       "      <td>53.5</td>\n",
       "      <td>129</td>\n",
       "      <td>50</td>\n",
       "      <td>190</td>\n",
       "    </tr>\n",
       "    <tr>\n",
       "      <th>len_distrib_50%</th>\n",
       "      <td>180</td>\n",
       "      <td>109</td>\n",
       "      <td>178</td>\n",
       "      <td>105</td>\n",
       "      <td>288</td>\n",
       "    </tr>\n",
       "    <tr>\n",
       "      <th>len_distrib_75%</th>\n",
       "      <td>247</td>\n",
       "      <td>182</td>\n",
       "      <td>244</td>\n",
       "      <td>174</td>\n",
       "      <td>385</td>\n",
       "    </tr>\n",
       "    <tr>\n",
       "      <th>len_distrib_count</th>\n",
       "      <td>227676</td>\n",
       "      <td>3239</td>\n",
       "      <td>213764</td>\n",
       "      <td>2779</td>\n",
       "      <td>32693</td>\n",
       "    </tr>\n",
       "    <tr>\n",
       "      <th>len_distrib_max</th>\n",
       "      <td>21738</td>\n",
       "      <td>1057</td>\n",
       "      <td>22406</td>\n",
       "      <td>955</td>\n",
       "      <td>2860</td>\n",
       "    </tr>\n",
       "    <tr>\n",
       "      <th>len_distrib_mean</th>\n",
       "      <td>233.247</td>\n",
       "      <td>133.645</td>\n",
       "      <td>229.345</td>\n",
       "      <td>126.19</td>\n",
       "      <td>305.026</td>\n",
       "    </tr>\n",
       "    <tr>\n",
       "      <th>len_distrib_min</th>\n",
       "      <td>0</td>\n",
       "      <td>0</td>\n",
       "      <td>0</td>\n",
       "      <td>1</td>\n",
       "      <td>2</td>\n",
       "    </tr>\n",
       "    <tr>\n",
       "      <th>len_distrib_std</th>\n",
       "      <td>323.065</td>\n",
       "      <td>115.586</td>\n",
       "      <td>305.105</td>\n",
       "      <td>103.622</td>\n",
       "      <td>170.002</td>\n",
       "    </tr>\n",
       "    <tr>\n",
       "      <th>name</th>\n",
       "      <td>Compoud_A_1_coordSort_filt_divtrans_M</td>\n",
       "      <td>Compoud_A_1_coordSort_filt_divtrans_M-inter-sl...</td>\n",
       "      <td>VEUDE_A_1_coordSort_filt_divtrans_M</td>\n",
       "      <td>VEUDE_A_1_coordSort_filt_divtrans_M-inter-slid...</td>\n",
       "      <td>slidebase_enhancers_clean</td>\n",
       "    </tr>\n",
       "    <tr>\n",
       "      <th>path</th>\n",
       "      <td>../results/from_bam/Compoud_A_1_coordSort_filt...</td>\n",
       "      <td>bed_outfolder/Compoud_A_1_coordSort_filt_divtr...</td>\n",
       "      <td>../results/from_bam/VEUDE_A_1_coordSort_filt_d...</td>\n",
       "      <td>bed_outfolder/VEUDE_A_1_coordSort_filt_divtran...</td>\n",
       "      <td>../data/slidebase_enhancers_clean.bed</td>\n",
       "    </tr>\n",
       "  </tbody>\n",
       "</table>\n",
       "</div>"
      ],
      "text/plain": [
       "                               Compoud_A_1_coordSort_filt_divtrans_M  \\\n",
       "Nbases                                                      53104738   \n",
       "Nintervals                                                    227676   \n",
       "bedobj             <Bed object: Compoud_A_1_coordSort_filt_divtra...   \n",
       "len_distrib_25%                                                  129   \n",
       "len_distrib_50%                                                  180   \n",
       "len_distrib_75%                                                  247   \n",
       "len_distrib_count                                             227676   \n",
       "len_distrib_max                                                21738   \n",
       "len_distrib_mean                                             233.247   \n",
       "len_distrib_min                                                    0   \n",
       "len_distrib_std                                              323.065   \n",
       "name                           Compoud_A_1_coordSort_filt_divtrans_M   \n",
       "path               ../results/from_bam/Compoud_A_1_coordSort_filt...   \n",
       "\n",
       "                  Compoud_A_1_coordSort_filt_divtrans_M-inter-slidebase_enhancers_clean  \\\n",
       "Nbases                                                        432876                      \n",
       "Nintervals                                                      3239                      \n",
       "bedobj             <Bed object: Compoud_A_1_coordSort_filt_divtra...                      \n",
       "len_distrib_25%                                                 53.5                      \n",
       "len_distrib_50%                                                  109                      \n",
       "len_distrib_75%                                                  182                      \n",
       "len_distrib_count                                               3239                      \n",
       "len_distrib_max                                                 1057                      \n",
       "len_distrib_mean                                             133.645                      \n",
       "len_distrib_min                                                    0                      \n",
       "len_distrib_std                                              115.586                      \n",
       "name               Compoud_A_1_coordSort_filt_divtrans_M-inter-sl...                      \n",
       "path               bed_outfolder/Compoud_A_1_coordSort_filt_divtr...                      \n",
       "\n",
       "                                 VEUDE_A_1_coordSort_filt_divtrans_M  \\\n",
       "Nbases                                                      49025612   \n",
       "Nintervals                                                    213764   \n",
       "bedobj             <Bed object: VEUDE_A_1_coordSort_filt_divtrans_M>   \n",
       "len_distrib_25%                                                  129   \n",
       "len_distrib_50%                                                  178   \n",
       "len_distrib_75%                                                  244   \n",
       "len_distrib_count                                             213764   \n",
       "len_distrib_max                                                22406   \n",
       "len_distrib_mean                                             229.345   \n",
       "len_distrib_min                                                    0   \n",
       "len_distrib_std                                              305.105   \n",
       "name                             VEUDE_A_1_coordSort_filt_divtrans_M   \n",
       "path               ../results/from_bam/VEUDE_A_1_coordSort_filt_d...   \n",
       "\n",
       "                  VEUDE_A_1_coordSort_filt_divtrans_M-inter-slidebase_enhancers_clean  \\\n",
       "Nbases                                                        350683                    \n",
       "Nintervals                                                      2779                    \n",
       "bedobj             <Bed object: VEUDE_A_1_coordSort_filt_divtrans...                    \n",
       "len_distrib_25%                                                   50                    \n",
       "len_distrib_50%                                                  105                    \n",
       "len_distrib_75%                                                  174                    \n",
       "len_distrib_count                                               2779                    \n",
       "len_distrib_max                                                  955                    \n",
       "len_distrib_mean                                              126.19                    \n",
       "len_distrib_min                                                    1                    \n",
       "len_distrib_std                                              103.622                    \n",
       "name               VEUDE_A_1_coordSort_filt_divtrans_M-inter-slid...                    \n",
       "path               bed_outfolder/VEUDE_A_1_coordSort_filt_divtran...                    \n",
       "\n",
       "                                 slidebase_enhancers_clean  \n",
       "Nbases                                             9972201  \n",
       "Nintervals                                           32693  \n",
       "bedobj             <Bed object: slidebase_enhancers_clean>  \n",
       "len_distrib_25%                                        190  \n",
       "len_distrib_50%                                        288  \n",
       "len_distrib_75%                                        385  \n",
       "len_distrib_count                                    32693  \n",
       "len_distrib_max                                       2860  \n",
       "len_distrib_mean                                   305.026  \n",
       "len_distrib_min                                          2  \n",
       "len_distrib_std                                    170.002  \n",
       "name                             slidebase_enhancers_clean  \n",
       "path                 ../data/slidebase_enhancers_clean.bed  "
      ]
     },
     "execution_count": 152,
     "metadata": {},
     "output_type": "execute_result"
    }
   ],
   "source": [
    "all_beds = div_trans_beds_merged + [slidebase_enh] + inter_prediction_VS_cage\n",
    "pd.DataFrame({bed.name: bed.stats(full_report=True) for bed in all_beds})"
   ]
  },
  {
   "cell_type": "markdown",
   "metadata": {},
   "source": [
    "## Filter detected intervals based on counts"
   ]
  },
  {
   "cell_type": "code",
   "execution_count": 215,
   "metadata": {},
   "outputs": [
    {
     "ename": "CalledProcessError",
     "evalue": "Command 'bedtools coverage -a ../results/from_bam/VEUDE_A_1_coordSort_filt_divtrans_M.bed -b ../data/bams/VEUDE_A_1_coordSort_filt.bam > bed_outfolder/VEUDE_A_1_coordSort_filt_divtrans_M-coveredby-VEUDE_A_1_coordSort_filt.bam.bed' returned non-zero exit status 137.",
     "output_type": "error",
     "traceback": [
      "\u001b[0;31m---------------------------------------------------------------------------\u001b[0m",
      "\u001b[0;31mCalledProcessError\u001b[0m                        Traceback (most recent call last)",
      "\u001b[0;32m<ipython-input-215-640b0ed1ee7a>\u001b[0m in \u001b[0;36m<module>\u001b[0;34m()\u001b[0m\n\u001b[0;32m----> 1\u001b[0;31m \u001b[0ma\u001b[0m \u001b[0;34m=\u001b[0m \u001b[0mdiv_trans_beds_merged\u001b[0m\u001b[0;34m[\u001b[0m\u001b[0;36m0\u001b[0m\u001b[0;34m]\u001b[0m\u001b[0;34m.\u001b[0m\u001b[0mcoverage\u001b[0m\u001b[0;34m(\u001b[0m\u001b[0mbams\u001b[0m\u001b[0;34m[\u001b[0m\u001b[0;36m0\u001b[0m\u001b[0;34m]\u001b[0m\u001b[0;34m)\u001b[0m\u001b[0;34m\u001b[0m\u001b[0m\n\u001b[0m",
      "\u001b[0;32m~/Programming/pyNextGen/bed_lib.py\u001b[0m in \u001b[0;36mcoverage\u001b[0;34m(self, cov, outfolder, supp_args)\u001b[0m\n\u001b[1;32m    318\u001b[0m                                                              coverage_out_path)\n\u001b[1;32m    319\u001b[0m \u001b[0;34m\u001b[0m\u001b[0m\n\u001b[0;32m--> 320\u001b[0;31m         \u001b[0msubprocess\u001b[0m\u001b[0;34m.\u001b[0m\u001b[0mcheck_output\u001b[0m\u001b[0;34m(\u001b[0m\u001b[0mcmd\u001b[0m\u001b[0;34m,\u001b[0m \u001b[0mshell\u001b[0m\u001b[0;34m=\u001b[0m\u001b[0;32mTrue\u001b[0m\u001b[0;34m)\u001b[0m\u001b[0;34m\u001b[0m\u001b[0m\n\u001b[0m\u001b[1;32m    321\u001b[0m \u001b[0;34m\u001b[0m\u001b[0m\n\u001b[1;32m    322\u001b[0m         \u001b[0;32mreturn\u001b[0m \u001b[0mBed\u001b[0m\u001b[0;34m(\u001b[0m\u001b[0mcoverage_out_path\u001b[0m\u001b[0;34m)\u001b[0m\u001b[0;34m\u001b[0m\u001b[0m\n",
      "\u001b[0;32m~/programs/anaconda3/lib/python3.6/subprocess.py\u001b[0m in \u001b[0;36mcheck_output\u001b[0;34m(timeout, *popenargs, **kwargs)\u001b[0m\n\u001b[1;32m    334\u001b[0m \u001b[0;34m\u001b[0m\u001b[0m\n\u001b[1;32m    335\u001b[0m     return run(*popenargs, stdout=PIPE, timeout=timeout, check=True,\n\u001b[0;32m--> 336\u001b[0;31m                **kwargs).stdout\n\u001b[0m\u001b[1;32m    337\u001b[0m \u001b[0;34m\u001b[0m\u001b[0m\n\u001b[1;32m    338\u001b[0m \u001b[0;34m\u001b[0m\u001b[0m\n",
      "\u001b[0;32m~/programs/anaconda3/lib/python3.6/subprocess.py\u001b[0m in \u001b[0;36mrun\u001b[0;34m(input, timeout, check, *popenargs, **kwargs)\u001b[0m\n\u001b[1;32m    416\u001b[0m         \u001b[0;32mif\u001b[0m \u001b[0mcheck\u001b[0m \u001b[0;32mand\u001b[0m \u001b[0mretcode\u001b[0m\u001b[0;34m:\u001b[0m\u001b[0;34m\u001b[0m\u001b[0m\n\u001b[1;32m    417\u001b[0m             raise CalledProcessError(retcode, process.args,\n\u001b[0;32m--> 418\u001b[0;31m                                      output=stdout, stderr=stderr)\n\u001b[0m\u001b[1;32m    419\u001b[0m     \u001b[0;32mreturn\u001b[0m \u001b[0mCompletedProcess\u001b[0m\u001b[0;34m(\u001b[0m\u001b[0mprocess\u001b[0m\u001b[0;34m.\u001b[0m\u001b[0margs\u001b[0m\u001b[0;34m,\u001b[0m \u001b[0mretcode\u001b[0m\u001b[0;34m,\u001b[0m \u001b[0mstdout\u001b[0m\u001b[0;34m,\u001b[0m \u001b[0mstderr\u001b[0m\u001b[0;34m)\u001b[0m\u001b[0;34m\u001b[0m\u001b[0m\n\u001b[1;32m    420\u001b[0m \u001b[0;34m\u001b[0m\u001b[0m\n",
      "\u001b[0;31mCalledProcessError\u001b[0m: Command 'bedtools coverage -a ../results/from_bam/VEUDE_A_1_coordSort_filt_divtrans_M.bed -b ../data/bams/VEUDE_A_1_coordSort_filt.bam > bed_outfolder/VEUDE_A_1_coordSort_filt_divtrans_M-coveredby-VEUDE_A_1_coordSort_filt.bam.bed' returned non-zero exit status 137."
     ]
    }
   ],
   "source": [
    "a = div_trans_beds_merged[0].coverage(bams[0])"
   ]
  },
  {
   "cell_type": "code",
   "execution_count": null,
   "metadata": {},
   "outputs": [],
   "source": [
    "a.head()"
   ]
  },
  {
   "cell_type": "code",
   "execution_count": 202,
   "metadata": {},
   "outputs": [
    {
     "data": {
      "text/plain": [
       "True"
      ]
     },
     "execution_count": 202,
     "metadata": {},
     "output_type": "execute_result"
    }
   ],
   "source": [
    "isinstance(slidebase_enh, Bed)"
   ]
  }
 ],
 "metadata": {
  "extensions": {
   "jupyter_dashboards": {
    "activeView": "grid_default",
    "version": 1,
    "views": {
     "grid_default": {
      "cellMargin": 10,
      "defaultCellHeight": 20,
      "maxColumns": 12,
      "name": "grid",
      "type": "grid"
     },
     "report_default": {
      "name": "report",
      "type": "report"
     }
    }
   }
  },
  "kernelspec": {
   "display_name": "Python [default]",
   "language": "python",
   "name": "python3"
  },
  "language_info": {
   "codemirror_mode": {
    "name": "ipython",
    "version": 3
   },
   "file_extension": ".py",
   "mimetype": "text/x-python",
   "name": "python",
   "nbconvert_exporter": "python",
   "pygments_lexer": "ipython3",
   "version": "3.6.3"
  },
  "toc": {
   "colors": {
    "hover_highlight": "#DAA520",
    "navigate_num": "#000000",
    "navigate_text": "#333333",
    "running_highlight": "#FF0000",
    "selected_highlight": "#FFD700",
    "sidebar_border": "#EEEEEE",
    "wrapper_background": "#FFFFFF"
   },
   "moveMenuLeft": true,
   "nav_menu": {
    "height": "47px",
    "width": "252px"
   },
   "navigate_menu": true,
   "number_sections": true,
   "sideBar": false,
   "threshold": 4,
   "toc_cell": false,
   "toc_position": {
    "height": "577px",
    "left": "5px",
    "right": "20px",
    "top": "107.986px",
    "width": "184px"
   },
   "toc_section_display": "block",
   "toc_window_display": true,
   "widenNotebook": false
  }
 },
 "nbformat": 4,
 "nbformat_minor": 2
}
