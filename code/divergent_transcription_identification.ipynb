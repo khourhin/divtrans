{
 "cells": [
  {
   "cell_type": "markdown",
   "metadata": {
    "extensions": {
     "jupyter_dashboards": {
      "version": 1,
      "views": {
       "grid_default": {
        "col": 0,
        "height": 4,
        "hidden": false,
        "row": 0,
        "width": 4
       },
       "report_default": {
        "hidden": false
       }
      }
     }
    }
   },
   "source": [
    "# Import"
   ]
  },
  {
   "cell_type": "code",
   "execution_count": 1,
   "metadata": {
    "ExecuteTime": {
     "end_time": "2018-01-12T13:27:24.140077Z",
     "start_time": "2018-01-12T13:27:23.511971Z"
    },
    "collapsed": true,
    "extensions": {
     "jupyter_dashboards": {
      "version": 1,
      "views": {
       "grid_default": {
        "hidden": true
       },
       "report_default": {
        "hidden": true
       }
      }
     }
    }
   },
   "outputs": [],
   "source": [
    "import os\n",
    "import glob\n",
    "import pandas as pd\n",
    "#from multiprocessing import Pool\n",
    "\n",
    "import bed_lib as bl\n",
    "import div_trans_lib as dt\n",
    "import basics_counts as bc\n",
    "\n",
    "%matplotlib inline"
   ]
  },
  {
   "cell_type": "code",
   "execution_count": 2,
   "metadata": {
    "ExecuteTime": {
     "end_time": "2018-01-12T13:27:25.055283Z",
     "start_time": "2018-01-12T13:27:25.010690Z"
    },
    "collapsed": true,
    "extensions": {
     "jupyter_dashboards": {
      "version": 1,
      "views": {
       "grid_default": {
        "hidden": true
       },
       "report_default": {
        "hidden": true
       }
      }
     }
    }
   },
   "outputs": [],
   "source": [
    "# To not have to restart the kernel everytime changes are made in modules\n",
    "%load_ext autoreload\n",
    "%autoreload 2"
   ]
  },
  {
   "cell_type": "markdown",
   "metadata": {
    "extensions": {
     "jupyter_dashboards": {
      "version": 1,
      "views": {
       "grid_default": {
        "col": 0,
        "height": 5,
        "hidden": false,
        "row": 86,
        "width": 12
       },
       "report_default": {
        "hidden": false
       }
      }
     }
    }
   },
   "source": [
    "**WARNINGS**\n",
    "\n",
    "- TRY filtering only uniquely mapping reads (MAPQ 255) and compare with filtering only primary \n",
    "\n",
    "**TO EXPLAIN**\n",
    "\n",
    "There is a rationale being only using reads (and not fragments), since we are only interested in ends of - reads first and then beginnings of + reads \n",
    "> Actually might be interesting to try using only one reads of the pair (TO CHECK)"
   ]
  },
  {
   "cell_type": "markdown",
   "metadata": {
    "extensions": {
     "jupyter_dashboards": {
      "version": 1,
      "views": {
       "grid_default": {
        "col": 7,
        "height": 4,
        "hidden": false,
        "row": 43,
        "width": 4
       },
       "report_default": {
        "hidden": false
       }
      }
     }
    }
   },
   "source": [
    "## Input"
   ]
  },
  {
   "cell_type": "code",
   "execution_count": 3,
   "metadata": {
    "ExecuteTime": {
     "end_time": "2018-01-12T13:27:26.846959Z",
     "start_time": "2018-01-12T13:27:26.810475Z"
    },
    "extensions": {
     "jupyter_dashboards": {
      "version": 1,
      "views": {
       "grid_default": {
        "hidden": true
       },
       "report_default": {
        "hidden": true
       }
      }
     }
    }
   },
   "outputs": [
    {
     "data": {
      "text/plain": [
       "['../data/bams/VEUDE_A_1_coordSort_filt.bam',\n",
       " '../data/bams/Compoud_A_1_coordSort_filt.bam']"
      ]
     },
     "execution_count": 3,
     "metadata": {},
     "output_type": "execute_result"
    }
   ],
   "source": [
    "bams = glob.glob('../data/bams/*_coordSort_filt.bam')\n",
    "#bams = glob.glob('../data/bams/test/*.bam')\n",
    "bams"
   ]
  },
  {
   "cell_type": "markdown",
   "metadata": {},
   "source": [
    "# Analyse from bams\n",
    "\n",
    "The idea here is to detect divergent transcription directly from a sorted bam.\n",
    "This would fix some limitations of the first method.\n",
    "\n",
    "ALGO: \n",
    "Look through the coordinated sorted bam file, registering the transcribed strand for each reads.\n",
    "\n",
    "Since we have paired strand-specific libraries (rf):\n",
    "- first of the pair, reverse complemented = + strand\n",
    "- second of the pair, NOT reverse complemented = + strand\n",
    "- first of the pair, NOT reverse complemented = - strand\n",
    "- second of the pair, reverse complemented = - strand\n",
    "\n",
    "When a change of sign is detected, calculate the distance with the previous transcript on the opposite strand \n",
    "\n",
    "## Detect divergent transcription events accross sorted bam"
   ]
  },
  {
   "cell_type": "code",
   "execution_count": 4,
   "metadata": {},
   "outputs": [],
   "source": [
    "# Create orientated read objects, detect divergent transcription events with them\n",
    "# And create a bed file of these divergent transcription events\n",
    "\n",
    "def get_divergent_transcription_beds(bam, out_folder='../results/from_bam', distance=100):\n",
    "    oread_gen = dt.get_oriented_reads(bam)  \n",
    "    bed_out = os.path.join(out_folder, \n",
    "                           os.path.basename(bam.replace('.bam', '_divtrans.bed')))\n",
    "    \n",
    "    if os.path.isfile(bed_out):\n",
    "        print(f\"Using already available bed file: {bed_out}\")\n",
    "    \n",
    "    else:\n",
    "        with open(bed_out, 'w') as f:\n",
    "            for interval in dt.identify_divergent_transcription(oread_gen, distance=distance):\n",
    "                f.write('\\t'.join([str(x) for x in interval]) + '\\n')\n",
    "        \n",
    "    return bl.Bed(bed_out)"
   ]
  },
  {
   "cell_type": "code",
   "execution_count": 5,
   "metadata": {},
   "outputs": [],
   "source": [
    "div_trans_beds = [get_divergent_transcription_beds(bam, distance=500) for bam in bams]"
   ]
  },
  {
   "cell_type": "markdown",
   "metadata": {},
   "source": [
    "Merge the divergent transcription events detected:"
   ]
  },
  {
   "cell_type": "markdown",
   "metadata": {},
   "source": [
    "### Filter based on coverage"
   ]
  },
  {
   "cell_type": "code",
   "execution_count": null,
   "metadata": {},
   "outputs": [],
   "source": [
    "%%capture\n",
    "\n",
    "div_trans_beds_cov_filtered = []"
   ]
  },
  {
   "cell_type": "code",
   "execution_count": null,
   "metadata": {},
   "outputs": [],
   "source": [
    "for bed, bam in zip(div_trans_beds, bams):\n",
    "    div_trans_beds_cov_filtered.append(dt.filter_by_coverage(bed, bam, \n",
    "                                                       '../data/genome_chro_size.tab', \n",
    "                                                       flank=500, cov_thres=10, cov_ratio_thres=5))"
   ]
  },
  {
   "cell_type": "code",
   "execution_count": 7,
   "metadata": {},
   "outputs": [
    {
     "ename": "IndexError",
     "evalue": "list index out of range",
     "output_type": "error",
     "traceback": [
      "\u001b[0;31m---------------------------------------------------------------------------\u001b[0m",
      "\u001b[0;31mIndexError\u001b[0m                                Traceback (most recent call last)",
      "\u001b[0;32m<ipython-input-7-b210a5298107>\u001b[0m in \u001b[0;36m<module>\u001b[0;34m()\u001b[0m\n\u001b[0;32m----> 1\u001b[0;31m \u001b[0mdiv_trans_beds_cov_filtered\u001b[0m\u001b[0;34m[\u001b[0m\u001b[0;36m1\u001b[0m\u001b[0;34m]\u001b[0m\u001b[0;34m\u001b[0m\u001b[0m\n\u001b[0m",
      "\u001b[0;31mIndexError\u001b[0m: list index out of range"
     ]
    }
   ],
   "source": [
    "div_trans_beds_cov_filtered[1]"
   ]
  },
  {
   "cell_type": "markdown",
   "metadata": {},
   "source": [
    "# Filter divergent intervals events by overlap with CAGE TSS\n",
    "\n",
    "Use FANTOM5 transcription initiation information obtained with CAGE data (either simple or divergent transcription) to filter divergent transcription events detected in RNA-seq alignments.\n",
    "\n",
    "## Download cage peaks"
   ]
  },
  {
   "cell_type": "code",
   "execution_count": 271,
   "metadata": {},
   "outputs": [
    {
     "name": "stderr",
     "output_type": "stream",
     "text": [
      "--2018-07-12 13:15:00--  http://fantom.gsc.riken.jp/5/datafiles/latest/extra/CAGE_peaks/hg19.cage_peak_phase1and2combined_coord.bed.gz\n",
      "Resolving fantom.gsc.riken.jp (fantom.gsc.riken.jp)... 134.160.84.66\n",
      "Connecting to fantom.gsc.riken.jp (fantom.gsc.riken.jp)|134.160.84.66|:80... connected.\n",
      "HTTP request sent, awaiting response... 200 OK\n",
      "Length: 4405584 (4,2M) [application/x-gzip]\n",
      "Saving to: ‘../data/cage_peaks.bed.gz’\n",
      "\n",
      "     0K .......... .......... .......... .......... ..........  1% 95,6K 44s\n",
      "    50K .......... .......... .......... .......... ..........  2%  197K 33s\n",
      "   100K .......... .......... .......... .......... ..........  3% 8,39M 22s\n",
      "   150K .......... .......... .......... .......... ..........  4% 10,3M 16s\n",
      "   200K .......... .......... .......... .......... ..........  5%  198K 17s\n",
      "   250K .......... .......... .......... .......... ..........  6% 11,7M 14s\n",
      "   300K .......... .......... .......... .......... ..........  8% 5,65M 12s\n",
      "   350K .......... .......... .......... .......... ..........  9% 10,7M 10s\n",
      "   400K .......... .......... .......... .......... .......... 10%  217K 11s\n",
      "   450K .......... .......... .......... .......... .......... 11% 4,28M 10s\n",
      "   500K .......... .......... .......... .......... .......... 12% 5,64M 9s\n",
      "   550K .......... .......... .......... .......... .......... 13% 8,19M 8s\n",
      "   600K .......... .......... .......... .......... .......... 15% 4,76M 7s\n",
      "   650K .......... .......... .......... .......... .......... 16%  110M 7s\n",
      "   700K .......... .......... .......... .......... .......... 17% 22,8M 6s\n",
      "   750K .......... .......... .......... .......... .......... 18% 14,4M 6s\n",
      "   800K .......... .......... .......... .......... .......... 19%  238K 6s\n",
      "   850K .......... .......... .......... .......... .......... 20% 11,0M 6s\n",
      "   900K .......... .......... .......... .......... .......... 22% 2,72M 6s\n",
      "   950K .......... .......... .......... .......... .......... 23%  144M 5s\n",
      "  1000K .......... .......... .......... .......... .......... 24%  148M 5s\n",
      "  1050K .......... .......... .......... .......... .......... 25% 6,95M 5s\n",
      "  1100K .......... .......... .......... .......... .......... 26% 11,5M 4s\n",
      "  1150K .......... .......... .......... .......... .......... 27% 5,19M 4s\n",
      "  1200K .......... .......... .......... .......... .......... 29% 11,1M 4s\n",
      "  1250K .......... .......... .......... .......... .......... 30% 4,66M 4s\n",
      "  1300K .......... .......... .......... .......... .......... 31% 10,5M 4s\n",
      "  1350K .......... .......... .......... .......... .......... 32% 6,90M 3s\n",
      "  1400K .......... .......... .......... .......... .......... 33% 3,35M 3s\n",
      "  1450K .......... .......... .......... .......... .......... 34% 6,80M 3s\n",
      "  1500K .......... .......... .......... .......... .......... 36% 10,9M 3s\n",
      "  1550K .......... .......... .......... .......... .......... 37% 6,13M 3s\n",
      "  1600K .......... .......... .......... .......... .......... 38% 10,6M 3s\n",
      "  1650K .......... .......... .......... .......... .......... 39%  355K 3s\n",
      "  1700K .......... .......... .......... .......... .......... 40% 3,76M 3s\n",
      "  1750K .......... .......... .......... .......... .......... 41% 10,4M 3s\n",
      "  1800K .......... .......... .......... .......... .......... 42% 5,50M 2s\n",
      "  1850K .......... .......... .......... .......... .......... 44% 8,22M 2s\n",
      "  1900K .......... .......... .......... .......... .......... 45% 13,7M 2s\n",
      "  1950K .......... .......... .......... .......... .......... 46% 6,94M 2s\n",
      "  2000K .......... .......... .......... .......... .......... 47% 20,6M 2s\n",
      "  2050K .......... .......... .......... .......... .......... 48% 21,3M 2s\n",
      "  2100K .......... .......... .......... .......... .......... 49% 11,5M 2s\n",
      "  2150K .......... .......... .......... .......... .......... 51% 19,1M 2s\n",
      "  2200K .......... .......... .......... .......... .......... 52% 13,6M 2s\n",
      "  2250K .......... .......... .......... .......... .......... 53% 18,0M 2s\n",
      "  2300K .......... .......... .......... .......... .......... 54% 21,1M 2s\n",
      "  2350K .......... .......... .......... .......... .......... 55% 6,52M 1s\n",
      "  2400K .......... .......... .......... .......... .......... 56% 10,4M 1s\n",
      "  2450K .......... .......... .......... .......... .......... 58% 7,16M 1s\n",
      "  2500K .......... .......... .......... .......... .......... 59% 8,91M 1s\n",
      "  2550K .......... .......... .......... .......... .......... 60% 5,96M 1s\n",
      "  2600K .......... .......... .......... .......... .......... 61% 8,31M 1s\n",
      "  2650K .......... .......... .......... .......... .......... 62% 10,7M 1s\n",
      "  2700K .......... .......... .......... .......... .......... 63% 5,59M 1s\n",
      "  2750K .......... .......... .......... .......... .......... 65% 3,50M 1s\n",
      "  2800K .......... .......... .......... .......... .......... 66%  142M 1s\n",
      "  2850K .......... .......... .......... .......... .......... 67%  135M 1s\n",
      "  2900K .......... .......... .......... .......... .......... 68% 69,7M 1s\n",
      "  2950K .......... .......... .......... .......... .......... 69% 11,0M 1s\n",
      "  3000K .......... .......... .......... .......... .......... 70% 32,0M 1s\n",
      "  3050K .......... .......... .......... .......... .......... 72% 10,9M 1s\n",
      "  3100K .......... .......... .......... .......... .......... 73% 19,7M 1s\n",
      "  3150K .......... .......... .......... .......... .......... 74% 2,56M 1s\n",
      "  3200K .......... .......... .......... .......... .......... 75%  128M 1s\n",
      "  3250K .......... .......... .......... .......... .......... 76%  179M 1s\n",
      "  3300K .......... .......... .......... .......... .......... 77% 10,7M 1s\n",
      "  3350K .......... .......... .......... .......... .......... 79%  596K 1s\n",
      "  3400K .......... .......... .......... .......... .......... 80% 3,16M 1s\n",
      "  3450K .......... .......... .......... .......... .......... 81%  140M 0s\n",
      "  3500K .......... .......... .......... .......... .......... 82% 5,64M 0s\n",
      "  3550K .......... .......... .......... .......... .......... 83% 19,3M 0s\n",
      "  3600K .......... .......... .......... .......... .......... 84% 18,0M 0s\n",
      "  3650K .......... .......... .......... .......... .......... 85% 15,5M 0s\n",
      "  3700K .......... .......... .......... .......... .......... 87% 17,0M 0s\n",
      "  3750K .......... .......... .......... .......... .......... 88% 5,85M 0s\n",
      "  3800K .......... .......... .......... .......... .......... 89%  130M 0s\n",
      "  3850K .......... .......... .......... .......... .......... 90% 46,5M 0s\n",
      "  3900K .......... .......... .......... .......... .......... 91% 10,2M 0s\n",
      "  3950K .......... .......... .......... .......... .......... 92% 39,5M 0s\n",
      "  4000K .......... .......... .......... .......... .......... 94% 14,6M 0s\n",
      "  4050K .......... .......... .......... .......... .......... 95% 18,7M 0s\n",
      "  4100K .......... .......... .......... .......... .......... 96% 11,3M 0s\n",
      "  4150K .......... .......... .......... .......... .......... 97% 26,7M 0s\n",
      "  4200K .......... .......... .......... .......... .......... 98% 12,1M 0s\n",
      "  4250K .......... .......... .......... .......... .......... 99% 23,9M 0s\n",
      "  4300K ..                                                    100% 18,8M=2,1s\n",
      "\n",
      "2018-07-12 13:15:03 (1,99 MB/s) - ‘../data/cage_peaks.bed.gz’ saved [4405584/4405584]\n",
      "\n"
     ]
    }
   ],
   "source": [
    "%%bash\n",
    "\n",
    "wget http://fantom.gsc.riken.jp/5/datafiles/latest/extra/CAGE_peaks/hg19.cage_peak_phase1and2combined_coord.bed.gz \\\n",
    "    -O ../data/cage_peaks.bed.gz\n",
    "    \n",
    "gunzip ../data/cage_peaks.bed.gz\n",
    "    \n",
    "# Convert to Ensembl type bed\n",
    "sed 's/^chr//g' ../data/cage_peaks.bed | bedtools sort -i - > ../data/cage_peaks_clean.bed\n",
    "\n",
    "# Separate two beds (one per strand) to later catch both cage transcription direction\n",
    "#awk '$6~\"+\" {print}' ../data/cage_peaks_clean.bed > ../data/cage_peaks_plusStrand.bed\n",
    "#awk '$6~\"-\" {print}' ../data/cage_peaks_clean.bed > ../data/cage_peaks_minusStrand.bed\n",
    "\n",
    "# Cleanup\n",
    "rm ../data/cage_peaks.bed\n",
    "#rm ../data/cage_peaks_clean.bed"
   ]
  },
  {
   "cell_type": "markdown",
   "metadata": {},
   "source": [
    "## Filter divergent transcription events with CAGE dataset\n",
    "### Detect divergent transcription in CAGE dataset"
   ]
  },
  {
   "cell_type": "code",
   "execution_count": 272,
   "metadata": {},
   "outputs": [],
   "source": [
    "cage_bed = bl.Bed('../data/cage_peaks_clean.bed')\n",
    "cage_div_trans_out = '../data/cage_div_trans.bed'\n",
    "\n",
    "with open(cage_div_trans_out, 'w') as f:\n",
    "        for interval in dt.identify_divergent_transcription(cage_bed.get_intervals()):\n",
    "            f.write('\\t'.join([str(x) for x in interval]) + '\\n')\n",
    "        \n",
    "cage_div_trans_bed = bl.Bed(cage_div_trans_out)"
   ]
  },
  {
   "cell_type": "markdown",
   "metadata": {},
   "source": [
    "### Select RNA-seq divtrans events overlapping with CAGE divtrans events"
   ]
  },
  {
   "cell_type": "code",
   "execution_count": 273,
   "metadata": {},
   "outputs": [],
   "source": [
    "div_trans_beds_merged_filter = [bed.intersect(cage_div_trans_bed, supp_args='-wa')\n",
    "                                for bed in div_trans_beds_merged]"
   ]
  },
  {
   "cell_type": "code",
   "execution_count": 274,
   "metadata": {},
   "outputs": [
    {
     "ename": "FileNotFoundError",
     "evalue": "[Errno 2] No such file or directory: '../results/from_bam/dieldrin_fos_area_divtrans_M.bed'",
     "output_type": "error",
     "traceback": [
      "\u001b[0;31m---------------------------------------------------------------------------\u001b[0m",
      "\u001b[0;31mFileNotFoundError\u001b[0m                         Traceback (most recent call last)",
      "\u001b[0;32m<ipython-input-274-035eb1e054cd>\u001b[0m in \u001b[0;36m<module>\u001b[0;34m()\u001b[0m\n\u001b[0;32m----> 1\u001b[0;31m \u001b[0mpd\u001b[0m\u001b[0;34m.\u001b[0m\u001b[0mDataFrame\u001b[0m\u001b[0;34m(\u001b[0m\u001b[0;34m[\u001b[0m\u001b[0mbed\u001b[0m\u001b[0;34m.\u001b[0m\u001b[0mstats\u001b[0m\u001b[0;34m(\u001b[0m\u001b[0;34m)\u001b[0m \u001b[0;32mfor\u001b[0m \u001b[0mbed\u001b[0m \u001b[0;32min\u001b[0m \u001b[0mdiv_trans_beds_merged\u001b[0m\u001b[0;34m]\u001b[0m\u001b[0;34m)\u001b[0m\u001b[0;34m\u001b[0m\u001b[0m\n\u001b[0m",
      "\u001b[0;32m<ipython-input-274-035eb1e054cd>\u001b[0m in \u001b[0;36m<listcomp>\u001b[0;34m(.0)\u001b[0m\n\u001b[0;32m----> 1\u001b[0;31m \u001b[0mpd\u001b[0m\u001b[0;34m.\u001b[0m\u001b[0mDataFrame\u001b[0m\u001b[0;34m(\u001b[0m\u001b[0;34m[\u001b[0m\u001b[0mbed\u001b[0m\u001b[0;34m.\u001b[0m\u001b[0mstats\u001b[0m\u001b[0;34m(\u001b[0m\u001b[0;34m)\u001b[0m \u001b[0;32mfor\u001b[0m \u001b[0mbed\u001b[0m \u001b[0;32min\u001b[0m \u001b[0mdiv_trans_beds_merged\u001b[0m\u001b[0;34m]\u001b[0m\u001b[0;34m)\u001b[0m\u001b[0;34m\u001b[0m\u001b[0m\n\u001b[0m",
      "\u001b[0;32m~/Programming/pyNextGen/bed_lib.py\u001b[0m in \u001b[0;36mstats\u001b[0;34m(self, full_report)\u001b[0m\n\u001b[1;32m    155\u001b[0m         \"\"\"\n\u001b[1;32m    156\u001b[0m \u001b[0;34m\u001b[0m\u001b[0m\n\u001b[0;32m--> 157\u001b[0;31m         stats = {'Nbases': self.total_bases(),\n\u001b[0m\u001b[1;32m    158\u001b[0m                  \u001b[0;34m'Nintervals'\u001b[0m\u001b[0;34m:\u001b[0m \u001b[0mlen\u001b[0m\u001b[0;34m(\u001b[0m\u001b[0mself\u001b[0m\u001b[0;34m)\u001b[0m\u001b[0;34m,\u001b[0m\u001b[0;34m\u001b[0m\u001b[0m\n\u001b[1;32m    159\u001b[0m                  \u001b[0;34m'path'\u001b[0m\u001b[0;34m:\u001b[0m \u001b[0mself\u001b[0m\u001b[0;34m.\u001b[0m\u001b[0mpath\u001b[0m\u001b[0;34m,\u001b[0m\u001b[0;34m\u001b[0m\u001b[0m\n",
      "\u001b[0;32m~/Programming/pyNextGen/bed_lib.py\u001b[0m in \u001b[0;36mtotal_bases\u001b[0;34m(self)\u001b[0m\n\u001b[1;32m    143\u001b[0m     \u001b[0;32mdef\u001b[0m \u001b[0mtotal_bases\u001b[0m\u001b[0;34m(\u001b[0m\u001b[0mself\u001b[0m\u001b[0;34m)\u001b[0m\u001b[0;34m:\u001b[0m\u001b[0;34m\u001b[0m\u001b[0m\n\u001b[1;32m    144\u001b[0m         \u001b[0mnbases\u001b[0m \u001b[0;34m=\u001b[0m \u001b[0;36m0\u001b[0m\u001b[0;34m\u001b[0m\u001b[0m\n\u001b[0;32m--> 145\u001b[0;31m         \u001b[0;32mwith\u001b[0m \u001b[0mopen\u001b[0m\u001b[0;34m(\u001b[0m\u001b[0mself\u001b[0m\u001b[0;34m.\u001b[0m\u001b[0mpath\u001b[0m\u001b[0;34m)\u001b[0m \u001b[0;32mas\u001b[0m \u001b[0mbed\u001b[0m\u001b[0;34m:\u001b[0m\u001b[0;34m\u001b[0m\u001b[0m\n\u001b[0m\u001b[1;32m    146\u001b[0m             \u001b[0;32mfor\u001b[0m \u001b[0mline\u001b[0m \u001b[0;32min\u001b[0m \u001b[0mbed\u001b[0m\u001b[0;34m:\u001b[0m\u001b[0;34m\u001b[0m\u001b[0m\n\u001b[1;32m    147\u001b[0m                 \u001b[0mline\u001b[0m \u001b[0;34m=\u001b[0m \u001b[0mline\u001b[0m\u001b[0;34m.\u001b[0m\u001b[0msplit\u001b[0m\u001b[0;34m(\u001b[0m\u001b[0;34m)\u001b[0m\u001b[0;34m\u001b[0m\u001b[0m\n",
      "\u001b[0;31mFileNotFoundError\u001b[0m: [Errno 2] No such file or directory: '../results/from_bam/dieldrin_fos_area_divtrans_M.bed'"
     ]
    }
   ],
   "source": [
    "pd.DataFrame([bed.stats() for bed in div_trans_beds_merged])"
   ]
  },
  {
   "cell_type": "code",
   "execution_count": 34,
   "metadata": {},
   "outputs": [
    {
     "data": {
      "text/html": [
       "<div>\n",
       "<style scoped>\n",
       "    .dataframe tbody tr th:only-of-type {\n",
       "        vertical-align: middle;\n",
       "    }\n",
       "\n",
       "    .dataframe tbody tr th {\n",
       "        vertical-align: top;\n",
       "    }\n",
       "\n",
       "    .dataframe thead th {\n",
       "        text-align: right;\n",
       "    }\n",
       "</style>\n",
       "<table border=\"1\" class=\"dataframe\">\n",
       "  <thead>\n",
       "    <tr style=\"text-align: right;\">\n",
       "      <th></th>\n",
       "      <th>Nbases</th>\n",
       "      <th>Nintervals</th>\n",
       "      <th>bedobj</th>\n",
       "      <th>name</th>\n",
       "      <th>path</th>\n",
       "    </tr>\n",
       "  </thead>\n",
       "  <tbody>\n",
       "    <tr>\n",
       "      <th>0</th>\n",
       "      <td>843899</td>\n",
       "      <td>1713</td>\n",
       "      <td>&lt;Bed object: VEUDE_A_1_coordSort_filt_divtrans...</td>\n",
       "      <td>VEUDE_A_1_coordSort_filt_divtrans_M-inter-cage...</td>\n",
       "      <td>bed_outfolder/VEUDE_A_1_coordSort_filt_divtran...</td>\n",
       "    </tr>\n",
       "    <tr>\n",
       "      <th>1</th>\n",
       "      <td>994521</td>\n",
       "      <td>1779</td>\n",
       "      <td>&lt;Bed object: Compoud_A_1_coordSort_filt_divtra...</td>\n",
       "      <td>Compoud_A_1_coordSort_filt_divtrans_M-inter-ca...</td>\n",
       "      <td>bed_outfolder/Compoud_A_1_coordSort_filt_divtr...</td>\n",
       "    </tr>\n",
       "  </tbody>\n",
       "</table>\n",
       "</div>"
      ],
      "text/plain": [
       "   Nbases  Nintervals                                             bedobj  \\\n",
       "0  843899        1713  <Bed object: VEUDE_A_1_coordSort_filt_divtrans...   \n",
       "1  994521        1779  <Bed object: Compoud_A_1_coordSort_filt_divtra...   \n",
       "\n",
       "                                                name  \\\n",
       "0  VEUDE_A_1_coordSort_filt_divtrans_M-inter-cage...   \n",
       "1  Compoud_A_1_coordSort_filt_divtrans_M-inter-ca...   \n",
       "\n",
       "                                                path  \n",
       "0  bed_outfolder/VEUDE_A_1_coordSort_filt_divtran...  \n",
       "1  bed_outfolder/Compoud_A_1_coordSort_filt_divtr...  "
      ]
     },
     "execution_count": 34,
     "metadata": {},
     "output_type": "execute_result"
    }
   ],
   "source": [
    "pd.DataFrame([bed.stats() for bed in div_trans_beds_merged_filter])"
   ]
  },
  {
   "cell_type": "markdown",
   "metadata": {},
   "source": [
    "# Compare to FANTOM5 CAGE enhancer prediction [SLIDEBASE]\n",
    "\n",
    "One can use SLIDEBASE for enhancer http://slidebase.binf.ku.dk/human_enhancers/results\n",
    "\n",
    "Downloading bed from SLIDEBASE (same as SLIDEBASE \"Download BED\"):"
   ]
  },
  {
   "cell_type": "code",
   "execution_count": 12,
   "metadata": {},
   "outputs": [
    {
     "name": "stderr",
     "output_type": "stream",
     "text": [
      "--2018-07-10 10:15:20--  http://slidebase.binf.ku.dk/human_enhancers/bed\n",
      "Resolving slidebase.binf.ku.dk (slidebase.binf.ku.dk)... 130.226.13.22\n",
      "Connecting to slidebase.binf.ku.dk (slidebase.binf.ku.dk)|130.226.13.22|:80... connected.\n",
      "HTTP request sent, awaiting response... 200 OK\n",
      "Length: unspecified [text/plain]\n",
      "Saving to: ‘../data/slidebase_enhancers.bed’\n",
      "\n",
      "     0K .......... .......... .......... .......... ..........  716K\n",
      "    50K .......... .......... .......... .......... .......... 1,30M\n",
      "   100K .......... .......... .......... .......... .......... 9,82M\n",
      "   150K .......... .......... .......... .......... .......... 2,27M\n",
      "   200K .......... .......... .......... .......... .......... 3,94M\n",
      "   250K .......... .......... .......... .......... .......... 13,0M\n",
      "   300K .......... .......... .......... .......... .......... 7,51M\n",
      "   350K .......... .......... .......... .......... .......... 8,06M\n",
      "   400K .......... .......... .......... .......... .......... 3,02M\n",
      "   450K .......... .......... .......... .......... .......... 9,39M\n",
      "   500K .......... .......... .......... .......... .......... 7,85M\n",
      "   550K .......... .......... .......... .......... .......... 11,1M\n",
      "   600K .......... .......... .......... .......... .......... 2,62M\n",
      "   650K .......... .......... .......... .......... .......... 12,5M\n",
      "   700K .......... .......... .......... .......... .......... 14,3M\n",
      "   750K .......... .......... .......... .......... .......... 2,67M\n",
      "   800K .......... .......... .......... .......... .......... 37,9M\n",
      "   850K .......... .......... .......... .......... .......... 5,69M\n",
      "   900K .......... .......... .......... .......... .......... 8,16M\n",
      "   950K .......... .......... .......... .......... .......... 4,67M\n",
      "  1000K .......... .......... .......... .......... .......... 8,41M\n",
      "  1050K .......... .......... .......... .......... .......... 11,8M\n",
      "  1100K .......... .......... .......... .......... .......... 3,42M\n",
      "  1150K .......... .......... .......... .......... .......... 9,25M\n",
      "  1200K .......... .......... .......... .......... .......... 18,7M\n",
      "  1250K .......... .......... .......... .......... .......... 5,25M\n",
      "  1300K .......... .......... .......... .......... .......... 5,15M\n",
      "  1350K .......... .......... .......... .......... .......... 3,99M\n",
      "  1400K .......... .......... .......... .......... .......... 15,2M\n",
      "  1450K .......... .......... .......... .......... .......... 10,3M\n",
      "  1500K .......... .......... .......... .......... .......... 7,69M\n",
      "  1550K .......... .......... .......... .......... .......... 8,97M\n",
      "  1600K .......... .......... .......... .......... .......... 3,95M\n",
      "  1650K ....                                                   8620G=0,4s\n",
      "\n",
      "2018-07-10 10:15:21 (4,49 MB/s) - ‘../data/slidebase_enhancers.bed’ saved [1694228]\n",
      "\n"
     ]
    }
   ],
   "source": [
    "%%bash\n",
    "    \n",
    "wget http://slidebase.binf.ku.dk/human_enhancers/bed -O ../data/slidebase_enhancers.bed\n",
    "\n",
    "# Convert to Ensembl type bed\n",
    "sed 's/^chr//g' ../data/slidebase_enhancers.bed | bedtools sort -i - > ../data/slidebase_enhancers_clean.bed\n",
    "\n",
    "rm ../data/slidebase_enhancers.bed"
   ]
  },
  {
   "cell_type": "code",
   "execution_count": 8,
   "metadata": {},
   "outputs": [],
   "source": [
    "slidebase_enh = bl.Bed('../data/slidebase_enhancers_clean.bed')"
   ]
  },
  {
   "cell_type": "markdown",
   "metadata": {},
   "source": [
    "Get the chromosome sizes for statistical testing of interval association:"
   ]
  },
  {
   "cell_type": "code",
   "execution_count": 10,
   "metadata": {},
   "outputs": [
    {
     "data": {
      "text/plain": [
       "seq_names\n",
       "1             249250621\n",
       "10            135534747\n",
       "11            135006516\n",
       "12            133851895\n",
       "13            115169878\n",
       "14            107349540\n",
       "15            102531392\n",
       "16             90354753\n",
       "17             81195210\n",
       "18             78077248\n",
       "19             59128983\n",
       "2             243199373\n",
       "20             63025520\n",
       "21             48129895\n",
       "22             51304566\n",
       "3             198022430\n",
       "4             191154276\n",
       "5             180915260\n",
       "6             171115067\n",
       "7             159138663\n",
       "8             146364022\n",
       "9             141213431\n",
       "MT                16569\n",
       "X             155270560\n",
       "Y              59373566\n",
       "GL000192.1       547496\n",
       "GL000225.1       211173\n",
       "GL000194.1       191469\n",
       "GL000193.1       189789\n",
       "GL000200.1       187035\n",
       "                ...    \n",
       "GL000233.1        45941\n",
       "GL000237.1        45867\n",
       "GL000230.1        43691\n",
       "GL000242.1        43523\n",
       "GL000243.1        43341\n",
       "GL000241.1        42152\n",
       "GL000236.1        41934\n",
       "GL000240.1        41933\n",
       "GL000206.1        41001\n",
       "GL000232.1        40652\n",
       "GL000234.1        40531\n",
       "GL000202.1        40103\n",
       "GL000238.1        39939\n",
       "GL000244.1        39929\n",
       "GL000248.1        39786\n",
       "GL000196.1        38914\n",
       "GL000249.1        38502\n",
       "GL000246.1        38154\n",
       "GL000203.1        37498\n",
       "GL000197.1        37175\n",
       "GL000245.1        36651\n",
       "GL000247.1        36422\n",
       "GL000201.1        36148\n",
       "GL000235.1        34474\n",
       "GL000239.1        33824\n",
       "GL000210.1        27682\n",
       "GL000231.1        27386\n",
       "GL000229.1        19913\n",
       "GL000226.1        15008\n",
       "GL000207.1         4262\n",
       "Name: seq_len, Length: 84, dtype: int64"
      ]
     },
     "execution_count": 10,
     "metadata": {},
     "output_type": "execute_result"
    }
   ],
   "source": [
    "bl.get_chrom_sizes('/home/khourhin/data/genomes/Homo_sapiens.GRCh37.dna_sm.primary_assembly.fa', '../data/genome_chro_size.tab')"
   ]
  },
  {
   "cell_type": "markdown",
   "metadata": {},
   "source": [
    "## Fisher test\n",
    "Testing if significant association between intervals detected with divergent transcription and the ones reported in fantom5 CAGE enhancer dataset:\n"
   ]
  },
  {
   "cell_type": "code",
   "execution_count": 11,
   "metadata": {},
   "outputs": [
    {
     "data": {
      "text/plain": [
       "[{'bed1': 'VEUDE_A_1_coordSort_filt_divtrans_M',\n",
       "  'bed2': 'slidebase_enhancers_clean',\n",
       "  'left': 0.0,\n",
       "  'ratio': 2.439,\n",
       "  'right': 1.0,\n",
       "  'two-tail': 0.0},\n",
       " {'bed1': 'Compoud_A_1_coordSort_filt_divtrans_M',\n",
       "  'bed2': 'slidebase_enhancers_clean',\n",
       "  'left': 0.0,\n",
       "  'ratio': 2.687,\n",
       "  'right': 1.0,\n",
       "  'two-tail': 0.0}]"
      ]
     },
     "execution_count": 11,
     "metadata": {},
     "output_type": "execute_result"
    }
   ],
   "source": [
    "[bed.fisher(slidebase_enh, '../data/genome_chro_size.tab') for bed in div_trans_beds_merged]"
   ]
  },
  {
   "cell_type": "markdown",
   "metadata": {},
   "source": [
    "## Jaccard index\n",
    "\n",
    "Evaluating the distance between enhancer intervals defined by fantom5 and the ones predicted from RNA-seq data:"
   ]
  },
  {
   "cell_type": "code",
   "execution_count": 12,
   "metadata": {},
   "outputs": [
    {
     "data": {
      "text/html": [
       "<div>\n",
       "<style scoped>\n",
       "    .dataframe tbody tr th:only-of-type {\n",
       "        vertical-align: middle;\n",
       "    }\n",
       "\n",
       "    .dataframe tbody tr th {\n",
       "        vertical-align: top;\n",
       "    }\n",
       "\n",
       "    .dataframe thead th {\n",
       "        text-align: right;\n",
       "    }\n",
       "</style>\n",
       "<table border=\"1\" class=\"dataframe\">\n",
       "  <thead>\n",
       "    <tr style=\"text-align: right;\">\n",
       "      <th></th>\n",
       "      <th>intersection</th>\n",
       "      <th>union-intersection</th>\n",
       "      <th>jaccard</th>\n",
       "      <th>n_intersections</th>\n",
       "    </tr>\n",
       "  </thead>\n",
       "  <tbody>\n",
       "    <tr>\n",
       "      <th>VEUDE_A_1_coordSort_filt_divtrans_M</th>\n",
       "      <td>350683</td>\n",
       "      <td>58647364</td>\n",
       "      <td>0.00598</td>\n",
       "      <td>2779</td>\n",
       "    </tr>\n",
       "    <tr>\n",
       "      <th>Compoud_A_1_coordSort_filt_divtrans_M</th>\n",
       "      <td>432884</td>\n",
       "      <td>62644295</td>\n",
       "      <td>0.00691</td>\n",
       "      <td>3239</td>\n",
       "    </tr>\n",
       "  </tbody>\n",
       "</table>\n",
       "</div>"
      ],
      "text/plain": [
       "                                       intersection  union-intersection  \\\n",
       "VEUDE_A_1_coordSort_filt_divtrans_M          350683            58647364   \n",
       "Compoud_A_1_coordSort_filt_divtrans_M        432884            62644295   \n",
       "\n",
       "                                       jaccard  n_intersections  \n",
       "VEUDE_A_1_coordSort_filt_divtrans_M    0.00598             2779  \n",
       "Compoud_A_1_coordSort_filt_divtrans_M  0.00691             3239  "
      ]
     },
     "execution_count": 12,
     "metadata": {},
     "output_type": "execute_result"
    }
   ],
   "source": [
    "pd.concat([bed.jaccard(slidebase_enh) for bed in div_trans_beds_merged])"
   ]
  },
  {
   "cell_type": "markdown",
   "metadata": {},
   "source": [
    "## Shuffling"
   ]
  },
  {
   "cell_type": "code",
   "execution_count": 30,
   "metadata": {},
   "outputs": [],
   "source": [
    "shuffled_slidebase_enh = slidebase_enh.multi_shuffle(100, '../data/genome_chro_size.tab')"
   ]
  },
  {
   "cell_type": "markdown",
   "metadata": {},
   "source": [
    "Average number of common intervals between shuffled CAGE dataset and divergent transcription inferred dataset:\n",
    "\n",
    "(to relate with n_intersection from jaccard above)"
   ]
  },
  {
   "cell_type": "code",
   "execution_count": 33,
   "metadata": {},
   "outputs": [
    {
     "data": {
      "text/plain": [
       "1201.34"
      ]
     },
     "execution_count": 33,
     "metadata": {},
     "output_type": "execute_result"
    }
   ],
   "source": [
    "pd.DataFrame([div_trans_beds_merged[0].intersect(x).stats() for x in shuffled_slidebase_enh]).Nintervals.mean()"
   ]
  },
  {
   "cell_type": "code",
   "execution_count": 34,
   "metadata": {},
   "outputs": [
    {
     "data": {
      "text/plain": [
       "1290.88"
      ]
     },
     "execution_count": 34,
     "metadata": {},
     "output_type": "execute_result"
    }
   ],
   "source": [
    "pd.DataFrame([div_trans_beds_merged[1].intersect(x).stats() for x in shuffled_slidebase_enh]).Nintervals.mean()"
   ]
  },
  {
   "cell_type": "markdown",
   "metadata": {},
   "source": [
    "**CCL:** ~2 times more intersections between divtrans and CAGE intervals than expected by chance"
   ]
  },
  {
   "cell_type": "markdown",
   "metadata": {},
   "source": [
    "## Stats on divergent transcription intervals\n"
   ]
  },
  {
   "cell_type": "code",
   "execution_count": 17,
   "metadata": {},
   "outputs": [],
   "source": [
    "intersection_cage_div_trans_bed = [x.intersect(slidebase_enh) for x in div_trans_beds]"
   ]
  },
  {
   "cell_type": "markdown",
   "metadata": {},
   "source": [
    "# Compare to Transcription factors intervals\n",
    "\n",
    "Download transcription factors bed from UCSC:\n",
    "\n",
    "**IMPORTANT NOTE:** At the difference of enhancer and div_trans intervals, transcription factors intervals are not merged \n",
    "> This leads to divergent estimations in intersection when considering jaccard and intersect results."
   ]
  },
  {
   "cell_type": "code",
   "execution_count": 174,
   "metadata": {},
   "outputs": [],
   "source": [
    "%%bash\n",
    "\n",
    "# Download from UCSC mysql database, remove the 'chr',the header, sort the bed\n",
    "mysql --user=genome --host=genome-mysql.cse.ucsc.edu -A -e \"use hg19; SELECT * FROM wgEncodeRegTfbsClusteredV3;\" | \\\n",
    "    awk -v OFS='\\t' 'NR>1 {gsub(\"chr\",\"\",$2); print $2, $3, $4, $5, $6}' | \\\n",
    "    bedtools sort -i - > ../data/wgEncodeRegTfbsClusteredV3.bed"
   ]
  },
  {
   "cell_type": "code",
   "execution_count": 175,
   "metadata": {},
   "outputs": [],
   "source": [
    "transcription_factors_bed = bl.Bed('../data/wgEncodeRegTfbsClusteredV3.bed')"
   ]
  },
  {
   "cell_type": "markdown",
   "metadata": {},
   "source": [
    "## Fisher test\n",
    "Testing if significant association between intervals detected with divergent transcription and transcription factors from UCSC\n"
   ]
  },
  {
   "cell_type": "code",
   "execution_count": 176,
   "metadata": {},
   "outputs": [
    {
     "data": {
      "text/plain": [
       "[{'bed1': 'VEUDE_A_1_coordSort_filt_divtrans_M',\n",
       "  'bed2': 'wgEncodeRegTfbsClusteredV3',\n",
       "  'left': 1.0,\n",
       "  'ratio': inf,\n",
       "  'right': 0.0,\n",
       "  'two-tail': 0.0},\n",
       " {'bed1': 'Compoud_A_1_coordSort_filt_divtrans_M',\n",
       "  'bed2': 'wgEncodeRegTfbsClusteredV3',\n",
       "  'left': 1.0,\n",
       "  'ratio': inf,\n",
       "  'right': 0.0,\n",
       "  'two-tail': 0.0}]"
      ]
     },
     "execution_count": 176,
     "metadata": {},
     "output_type": "execute_result"
    }
   ],
   "source": [
    "[bed.fisher(transcription_factors_bed, '../data/genome_chro_size.tab') for bed in div_trans_beds_merged]"
   ]
  },
  {
   "cell_type": "markdown",
   "metadata": {},
   "source": [
    "## Jaccard index"
   ]
  },
  {
   "cell_type": "code",
   "execution_count": 190,
   "metadata": {},
   "outputs": [
    {
     "data": {
      "text/html": [
       "<div>\n",
       "<style scoped>\n",
       "    .dataframe tbody tr th:only-of-type {\n",
       "        vertical-align: middle;\n",
       "    }\n",
       "\n",
       "    .dataframe tbody tr th {\n",
       "        vertical-align: top;\n",
       "    }\n",
       "\n",
       "    .dataframe thead th {\n",
       "        text-align: right;\n",
       "    }\n",
       "</style>\n",
       "<table border=\"1\" class=\"dataframe\">\n",
       "  <thead>\n",
       "    <tr style=\"text-align: right;\">\n",
       "      <th></th>\n",
       "      <th>intersection</th>\n",
       "      <th>union-intersection</th>\n",
       "      <th>jaccard</th>\n",
       "      <th>n_intersections</th>\n",
       "    </tr>\n",
       "  </thead>\n",
       "  <tbody>\n",
       "    <tr>\n",
       "      <th>VEUDE_A_1_coordSort_filt_divtrans_M</th>\n",
       "      <td>16528634</td>\n",
       "      <td>412852469</td>\n",
       "      <td>0.040035</td>\n",
       "      <td>82724</td>\n",
       "    </tr>\n",
       "    <tr>\n",
       "      <th>Compoud_A_1_coordSort_filt_divtrans_M</th>\n",
       "      <td>17892242</td>\n",
       "      <td>415567993</td>\n",
       "      <td>0.043055</td>\n",
       "      <td>88571</td>\n",
       "    </tr>\n",
       "  </tbody>\n",
       "</table>\n",
       "</div>"
      ],
      "text/plain": [
       "                                       intersection  union-intersection  \\\n",
       "VEUDE_A_1_coordSort_filt_divtrans_M        16528634           412852469   \n",
       "Compoud_A_1_coordSort_filt_divtrans_M      17892242           415567993   \n",
       "\n",
       "                                        jaccard  n_intersections  \n",
       "VEUDE_A_1_coordSort_filt_divtrans_M    0.040035            82724  \n",
       "Compoud_A_1_coordSort_filt_divtrans_M  0.043055            88571  "
      ]
     },
     "execution_count": 190,
     "metadata": {},
     "output_type": "execute_result"
    }
   ],
   "source": [
    "pd.concat([bed.jaccard(transcription_factors_bed) for bed in div_trans_beds_merged])"
   ]
  },
  {
   "cell_type": "markdown",
   "metadata": {},
   "source": [
    "## Shuffling"
   ]
  },
  {
   "cell_type": "code",
   "execution_count": 183,
   "metadata": {},
   "outputs": [
    {
     "ename": "KeyboardInterrupt",
     "evalue": "",
     "output_type": "error",
     "traceback": [
      "\u001b[0;31m---------------------------------------------------------------------------\u001b[0m",
      "\u001b[0;31mKeyboardInterrupt\u001b[0m                         Traceback (most recent call last)",
      "\u001b[0;32m<ipython-input-183-3bbad0ecb528>\u001b[0m in \u001b[0;36m<module>\u001b[0;34m()\u001b[0m\n\u001b[0;32m----> 1\u001b[0;31m \u001b[0mshuffled_transcription_factors_beds\u001b[0m \u001b[0;34m=\u001b[0m \u001b[0mtranscription_factors_bed\u001b[0m\u001b[0;34m.\u001b[0m\u001b[0mmulti_shuffle\u001b[0m\u001b[0;34m(\u001b[0m\u001b[0;36m100\u001b[0m\u001b[0;34m,\u001b[0m \u001b[0;34m'../data/genome_chro_size.tab'\u001b[0m\u001b[0;34m)\u001b[0m\u001b[0;34m\u001b[0m\u001b[0m\n\u001b[0m",
      "\u001b[0;32m~/Programming/pyNextGen/bed_lib.py\u001b[0m in \u001b[0;36mmulti_shuffle\u001b[0;34m(self, nshuffle, genome_chro_size, supp_args, outfolder)\u001b[0m\n\u001b[1;32m    290\u001b[0m \u001b[0;34m\u001b[0m\u001b[0m\n\u001b[1;32m    291\u001b[0m             \u001b[0mlogger\u001b[0m\u001b[0;34m.\u001b[0m\u001b[0mdebug\u001b[0m\u001b[0;34m(\u001b[0m\u001b[0;34m'Running: {}'\u001b[0m\u001b[0;34m.\u001b[0m\u001b[0mformat\u001b[0m\u001b[0;34m(\u001b[0m\u001b[0mcmd\u001b[0m\u001b[0;34m)\u001b[0m\u001b[0;34m)\u001b[0m\u001b[0;34m\u001b[0m\u001b[0m\n\u001b[0;32m--> 292\u001b[0;31m             \u001b[0msubprocess\u001b[0m\u001b[0;34m.\u001b[0m\u001b[0mcheck_output\u001b[0m\u001b[0;34m(\u001b[0m\u001b[0mcmd\u001b[0m\u001b[0;34m,\u001b[0m \u001b[0mshell\u001b[0m\u001b[0;34m=\u001b[0m\u001b[0;32mTrue\u001b[0m\u001b[0;34m)\u001b[0m\u001b[0;34m\u001b[0m\u001b[0m\n\u001b[0m\u001b[1;32m    293\u001b[0m             \u001b[0mshuffle_beds\u001b[0m\u001b[0;34m.\u001b[0m\u001b[0mappend\u001b[0m\u001b[0;34m(\u001b[0m\u001b[0mBed\u001b[0m\u001b[0;34m(\u001b[0m\u001b[0mshuffle_path\u001b[0m\u001b[0;34m)\u001b[0m\u001b[0;34m)\u001b[0m\u001b[0;34m\u001b[0m\u001b[0m\n\u001b[1;32m    294\u001b[0m \u001b[0;34m\u001b[0m\u001b[0m\n",
      "\u001b[0;32m~/programs/anaconda3/lib/python3.6/subprocess.py\u001b[0m in \u001b[0;36mcheck_output\u001b[0;34m(timeout, *popenargs, **kwargs)\u001b[0m\n\u001b[1;32m    334\u001b[0m \u001b[0;34m\u001b[0m\u001b[0m\n\u001b[1;32m    335\u001b[0m     return run(*popenargs, stdout=PIPE, timeout=timeout, check=True,\n\u001b[0;32m--> 336\u001b[0;31m                **kwargs).stdout\n\u001b[0m\u001b[1;32m    337\u001b[0m \u001b[0;34m\u001b[0m\u001b[0m\n\u001b[1;32m    338\u001b[0m \u001b[0;34m\u001b[0m\u001b[0m\n",
      "\u001b[0;32m~/programs/anaconda3/lib/python3.6/subprocess.py\u001b[0m in \u001b[0;36mrun\u001b[0;34m(input, timeout, check, *popenargs, **kwargs)\u001b[0m\n\u001b[1;32m    403\u001b[0m     \u001b[0;32mwith\u001b[0m \u001b[0mPopen\u001b[0m\u001b[0;34m(\u001b[0m\u001b[0;34m*\u001b[0m\u001b[0mpopenargs\u001b[0m\u001b[0;34m,\u001b[0m \u001b[0;34m**\u001b[0m\u001b[0mkwargs\u001b[0m\u001b[0;34m)\u001b[0m \u001b[0;32mas\u001b[0m \u001b[0mprocess\u001b[0m\u001b[0;34m:\u001b[0m\u001b[0;34m\u001b[0m\u001b[0m\n\u001b[1;32m    404\u001b[0m         \u001b[0;32mtry\u001b[0m\u001b[0;34m:\u001b[0m\u001b[0;34m\u001b[0m\u001b[0m\n\u001b[0;32m--> 405\u001b[0;31m             \u001b[0mstdout\u001b[0m\u001b[0;34m,\u001b[0m \u001b[0mstderr\u001b[0m \u001b[0;34m=\u001b[0m \u001b[0mprocess\u001b[0m\u001b[0;34m.\u001b[0m\u001b[0mcommunicate\u001b[0m\u001b[0;34m(\u001b[0m\u001b[0minput\u001b[0m\u001b[0;34m,\u001b[0m \u001b[0mtimeout\u001b[0m\u001b[0;34m=\u001b[0m\u001b[0mtimeout\u001b[0m\u001b[0;34m)\u001b[0m\u001b[0;34m\u001b[0m\u001b[0m\n\u001b[0m\u001b[1;32m    406\u001b[0m         \u001b[0;32mexcept\u001b[0m \u001b[0mTimeoutExpired\u001b[0m\u001b[0;34m:\u001b[0m\u001b[0;34m\u001b[0m\u001b[0m\n\u001b[1;32m    407\u001b[0m             \u001b[0mprocess\u001b[0m\u001b[0;34m.\u001b[0m\u001b[0mkill\u001b[0m\u001b[0;34m(\u001b[0m\u001b[0;34m)\u001b[0m\u001b[0;34m\u001b[0m\u001b[0m\n",
      "\u001b[0;32m~/programs/anaconda3/lib/python3.6/subprocess.py\u001b[0m in \u001b[0;36mcommunicate\u001b[0;34m(self, input, timeout)\u001b[0m\n\u001b[1;32m    828\u001b[0m                 \u001b[0mself\u001b[0m\u001b[0;34m.\u001b[0m\u001b[0m_stdin_write\u001b[0m\u001b[0;34m(\u001b[0m\u001b[0minput\u001b[0m\u001b[0;34m)\u001b[0m\u001b[0;34m\u001b[0m\u001b[0m\n\u001b[1;32m    829\u001b[0m             \u001b[0;32melif\u001b[0m \u001b[0mself\u001b[0m\u001b[0;34m.\u001b[0m\u001b[0mstdout\u001b[0m\u001b[0;34m:\u001b[0m\u001b[0;34m\u001b[0m\u001b[0m\n\u001b[0;32m--> 830\u001b[0;31m                 \u001b[0mstdout\u001b[0m \u001b[0;34m=\u001b[0m \u001b[0mself\u001b[0m\u001b[0;34m.\u001b[0m\u001b[0mstdout\u001b[0m\u001b[0;34m.\u001b[0m\u001b[0mread\u001b[0m\u001b[0;34m(\u001b[0m\u001b[0;34m)\u001b[0m\u001b[0;34m\u001b[0m\u001b[0m\n\u001b[0m\u001b[1;32m    831\u001b[0m                 \u001b[0mself\u001b[0m\u001b[0;34m.\u001b[0m\u001b[0mstdout\u001b[0m\u001b[0;34m.\u001b[0m\u001b[0mclose\u001b[0m\u001b[0;34m(\u001b[0m\u001b[0;34m)\u001b[0m\u001b[0;34m\u001b[0m\u001b[0m\n\u001b[1;32m    832\u001b[0m             \u001b[0;32melif\u001b[0m \u001b[0mself\u001b[0m\u001b[0;34m.\u001b[0m\u001b[0mstderr\u001b[0m\u001b[0;34m:\u001b[0m\u001b[0;34m\u001b[0m\u001b[0m\n",
      "\u001b[0;31mKeyboardInterrupt\u001b[0m: "
     ]
    }
   ],
   "source": [
    "shuffled_transcription_factors_beds = transcription_factors_bed.multi_shuffle(100, '../data/genome_chro_size.tab')"
   ]
  },
  {
   "cell_type": "markdown",
   "metadata": {},
   "source": [
    "Average number of common intervals between shuffled transcription factors intervals and divergent transcription inferred dataset:\n",
    "\n",
    "(to relate with n_intersection from jaccard above)"
   ]
  },
  {
   "cell_type": "code",
   "execution_count": null,
   "metadata": {},
   "outputs": [],
   "source": [
    "pd.DataFrame([div_trans_beds_merged[0].intersect(x).stats() for x in shuffled_transcription_factors_beds]).Nintervals.mean()"
   ]
  },
  {
   "cell_type": "code",
   "execution_count": null,
   "metadata": {},
   "outputs": [],
   "source": [
    "pd.DataFrame([div_trans_beds_merged[1].intersect(x).stats() for x in shuffled_transcription_factors_beds]).Nintervals.mean()"
   ]
  },
  {
   "cell_type": "markdown",
   "metadata": {},
   "source": [
    "**CCL:** Only 10% of intersections of the ones expected by chance "
   ]
  },
  {
   "cell_type": "markdown",
   "metadata": {},
   "source": [
    "## Stats on divergent transcription intervals\n"
   ]
  },
  {
   "cell_type": "code",
   "execution_count": 95,
   "metadata": {},
   "outputs": [
    {
     "data": {
      "text/html": [
       "<div>\n",
       "<style scoped>\n",
       "    .dataframe tbody tr th:only-of-type {\n",
       "        vertical-align: middle;\n",
       "    }\n",
       "\n",
       "    .dataframe tbody tr th {\n",
       "        vertical-align: top;\n",
       "    }\n",
       "\n",
       "    .dataframe thead th {\n",
       "        text-align: right;\n",
       "    }\n",
       "</style>\n",
       "<table border=\"1\" class=\"dataframe\">\n",
       "  <thead>\n",
       "    <tr style=\"text-align: right;\">\n",
       "      <th></th>\n",
       "      <th>Nbases</th>\n",
       "      <th>Nintervals</th>\n",
       "      <th>bedobj</th>\n",
       "      <th>name</th>\n",
       "      <th>path</th>\n",
       "    </tr>\n",
       "  </thead>\n",
       "  <tbody>\n",
       "    <tr>\n",
       "      <th>0</th>\n",
       "      <td>238482956</td>\n",
       "      <td>2279683</td>\n",
       "      <td>&lt;Bed object: VEUDE_A_1_coordSort_filt_divtrans...</td>\n",
       "      <td>VEUDE_A_1_coordSort_filt_divtrans-inter-wgEnco...</td>\n",
       "      <td>bed_outfolder/VEUDE_A_1_coordSort_filt_divtran...</td>\n",
       "    </tr>\n",
       "    <tr>\n",
       "      <th>1</th>\n",
       "      <td>246101331</td>\n",
       "      <td>2348583</td>\n",
       "      <td>&lt;Bed object: Compoud_A_1_coordSort_filt_divtra...</td>\n",
       "      <td>Compoud_A_1_coordSort_filt_divtrans-inter-wgEn...</td>\n",
       "      <td>bed_outfolder/Compoud_A_1_coordSort_filt_divtr...</td>\n",
       "    </tr>\n",
       "  </tbody>\n",
       "</table>\n",
       "</div>"
      ],
      "text/plain": [
       "      Nbases  Nintervals                                             bedobj  \\\n",
       "0  238482956     2279683  <Bed object: VEUDE_A_1_coordSort_filt_divtrans...   \n",
       "1  246101331     2348583  <Bed object: Compoud_A_1_coordSort_filt_divtra...   \n",
       "\n",
       "                                                name  \\\n",
       "0  VEUDE_A_1_coordSort_filt_divtrans-inter-wgEnco...   \n",
       "1  Compoud_A_1_coordSort_filt_divtrans-inter-wgEn...   \n",
       "\n",
       "                                                path  \n",
       "0  bed_outfolder/VEUDE_A_1_coordSort_filt_divtran...  \n",
       "1  bed_outfolder/Compoud_A_1_coordSort_filt_divtr...  "
      ]
     },
     "execution_count": 95,
     "metadata": {},
     "output_type": "execute_result"
    }
   ],
   "source": [
    "intersection_transfact_div_trans_bed = [x.intersect(transcription_factors_bed) for x in div_trans_beds]\n",
    "pd.DataFrame([x.stats() for x in intersection_transfact_div_trans_bed])"
   ]
  },
  {
   "cell_type": "markdown",
   "metadata": {},
   "source": [
    "## Comparing SLIDEBASE enhancer and transcription factors"
   ]
  },
  {
   "cell_type": "code",
   "execution_count": 100,
   "metadata": {},
   "outputs": [
    {
     "data": {
      "text/plain": [
       "{'bed1': 'slidebase_enhancers_clean',\n",
       " 'bed2': 'wgEncodeRegTfbsClusteredV3',\n",
       " 'left': 1.0,\n",
       " 'ratio': inf,\n",
       " 'right': 0.0,\n",
       " 'two-tail': 0.0}"
      ]
     },
     "execution_count": 100,
     "metadata": {},
     "output_type": "execute_result"
    }
   ],
   "source": [
    "slidebase_enh.fisher(transcription_factors_bed, '../data/genome_chro_size.tab')"
   ]
  },
  {
   "cell_type": "code",
   "execution_count": 99,
   "metadata": {},
   "outputs": [
    {
     "data": {
      "text/html": [
       "<div>\n",
       "<style scoped>\n",
       "    .dataframe tbody tr th:only-of-type {\n",
       "        vertical-align: middle;\n",
       "    }\n",
       "\n",
       "    .dataframe tbody tr th {\n",
       "        vertical-align: top;\n",
       "    }\n",
       "\n",
       "    .dataframe thead th {\n",
       "        text-align: right;\n",
       "    }\n",
       "</style>\n",
       "<table border=\"1\" class=\"dataframe\">\n",
       "  <thead>\n",
       "    <tr style=\"text-align: right;\">\n",
       "      <th></th>\n",
       "      <th>intersection</th>\n",
       "      <th>union-intersection</th>\n",
       "      <th>jaccard</th>\n",
       "      <th>n_intersections</th>\n",
       "    </tr>\n",
       "  </thead>\n",
       "  <tbody>\n",
       "    <tr>\n",
       "      <th>slidebase_enhancers_clean</th>\n",
       "      <td>845531</td>\n",
       "      <td>180475823</td>\n",
       "      <td>0.004685</td>\n",
       "      <td>2843</td>\n",
       "    </tr>\n",
       "  </tbody>\n",
       "</table>\n",
       "</div>"
      ],
      "text/plain": [
       "                           intersection  union-intersection   jaccard  \\\n",
       "slidebase_enhancers_clean        845531           180475823  0.004685   \n",
       "\n",
       "                           n_intersections  \n",
       "slidebase_enhancers_clean             2843  "
      ]
     },
     "execution_count": 99,
     "metadata": {},
     "output_type": "execute_result"
    }
   ],
   "source": [
    "slidebase_enh.jaccard(transcription_factors_bed, '../data/genome_chro_size.tab')"
   ]
  },
  {
   "cell_type": "code",
   "execution_count": 103,
   "metadata": {},
   "outputs": [
    {
     "data": {
      "text/plain": [
       "31134.32"
      ]
     },
     "execution_count": 103,
     "metadata": {},
     "output_type": "execute_result"
    }
   ],
   "source": [
    "pd.DataFrame([transcription_factors_bed.intersect(x).stats() for x in shuffled_slidebase_enh]).Nintervals.mean()"
   ]
  },
  {
   "cell_type": "markdown",
   "metadata": {},
   "source": [
    "**CCL:** Enhancer and transcription factor intervals appears to repel each other\n",
    "> **I DON'T UNDERSTAND THIS !**\n",
    "\n",
    ">> This could be explained by transcription factors being present couple hundreds bases up or downstream (ie related but not overlapping). Might have to try augmenting div_trans intervals sizes."
   ]
  },
  {
   "cell_type": "markdown",
   "metadata": {},
   "source": [
    "# Length distribution of intervals"
   ]
  },
  {
   "cell_type": "code",
   "execution_count": 119,
   "metadata": {},
   "outputs": [
    {
     "data": {
      "text/plain": [
       "<matplotlib.axes._subplots.AxesSubplot at 0x7f05aaefcb38>"
      ]
     },
     "execution_count": 119,
     "metadata": {},
     "output_type": "execute_result"
    },
    {
     "data": {
      "image/png": "[encoded data removed]",
      "text/plain": [
       "<Figure size 432x288 with 1 Axes>"
      ]
     },
     "metadata": {},
     "output_type": "display_data"
    }
   ],
   "source": [
    "pd.Series(slidebase_enh.get_length_distribution()).hist(bins=100)"
   ]
  },
  {
   "cell_type": "code",
   "execution_count": 127,
   "metadata": {},
   "outputs": [
    {
     "data": {
      "text/plain": [
       "<matplotlib.axes._subplots.AxesSubplot at 0x7f05ab4acda0>"
      ]
     },
     "execution_count": 127,
     "metadata": {},
     "output_type": "execute_result"
    },
    {
     "data": {
      "image/png": "[encoded data removed]",
      "text/plain": [
       "<Figure size 432x288 with 1 Axes>"
      ]
     },
     "metadata": {},
     "output_type": "display_data"
    }
   ],
   "source": [
    "pd.Series(transcription_factors_bed.get_length_distribution()).hist(bins=100)"
   ]
  },
  {
   "cell_type": "code",
   "execution_count": 14,
   "metadata": {},
   "outputs": [
    {
     "data": {
      "text/plain": [
       "<matplotlib.axes._subplots.AxesSubplot at 0x7f486ce15a90>"
      ]
     },
     "execution_count": 14,
     "metadata": {},
     "output_type": "execute_result"
    },
    {
     "data": {
      "image/png": "[encoded data removed]",
      "text/plain": [
       "<Figure size 432x288 with 1 Axes>"
      ]
     },
     "metadata": {},
     "output_type": "display_data"
    }
   ],
   "source": [
    "import numpy as np\n",
    "pd.Series(div_trans_beds_cov_filtered[0].get_length_distribution()).hist(bins=100)"
   ]
  },
  {
   "cell_type": "markdown",
   "metadata": {},
   "source": [
    "# Application to MS dataset\n",
    "## Input"
   ]
  },
  {
   "cell_type": "code",
   "execution_count": 28,
   "metadata": {},
   "outputs": [],
   "source": [
    "ms_meta = pd.read_csv('../../ms_enh/metadata/metadata.csv')\n",
    "\n",
    "# Get Healthy bams\n",
    "healthy_bams = ['../../ms_enh/results/snakemake/star/bams/' + x + '.bam' for x in \n",
    "                ms_meta.loc[ms_meta.Main.isin(['ia', 'Healthy_control'])].loc[:,'Petient ID']]\n",
    "\n",
    "# Get ms bams\n",
    "rrms_bams = ['../../ms_enh/results/snakemake/star/bams/' + x + '.bam' for x in \n",
    "               ms_meta.loc[ms_meta.Diagnose == 'RRMS'].loc[:,'Petient ID']]"
   ]
  },
  {
   "cell_type": "code",
   "execution_count": 29,
   "metadata": {},
   "outputs": [
    {
     "data": {
      "text/plain": [
       "['../../ms_enh/results/snakemake/star/bams/Mono_85.bam',\n",
       " '../../ms_enh/results/snakemake/star/bams/Mono_125.bam',\n",
       " '../../ms_enh/results/snakemake/star/bams/Mono_129.bam',\n",
       " '../../ms_enh/results/snakemake/star/bams/Mono_136.bam',\n",
       " '../../ms_enh/results/snakemake/star/bams/Mono_138.bam']"
      ]
     },
     "execution_count": 29,
     "metadata": {},
     "output_type": "execute_result"
    }
   ],
   "source": [
    "rrms_bams"
   ]
  },
  {
   "cell_type": "markdown",
   "metadata": {},
   "source": [
    "## Detect divergent transcription in MS dataset"
   ]
  },
  {
   "cell_type": "code",
   "execution_count": 15,
   "metadata": {},
   "outputs": [],
   "source": [
    "healthy_div_trans_beds = [get_divergent_transcription_beds(bam) for bam in healthy_bams]\n",
    "healthy_div_trans_merged = [bed.merge(outfolder='../results/from_bam') for bed in healthy_div_trans_beds]"
   ]
  },
  {
   "cell_type": "code",
   "execution_count": 17,
   "metadata": {},
   "outputs": [
    {
     "ename": "KeyboardInterrupt",
     "evalue": "",
     "output_type": "error",
     "traceback": [
      "\u001b[0;31m---------------------------------------------------------------------------\u001b[0m",
      "\u001b[0;31mKeyboardInterrupt\u001b[0m                         Traceback (most recent call last)",
      "\u001b[0;32m<ipython-input-17-8d5f69feedc2>\u001b[0m in \u001b[0;36m<module>\u001b[0;34m()\u001b[0m\n\u001b[0;32m----> 1\u001b[0;31m \u001b[0mms_div_trans_beds\u001b[0m \u001b[0;34m=\u001b[0m \u001b[0;34m[\u001b[0m\u001b[0mget_divergent_transcription_beds\u001b[0m\u001b[0;34m(\u001b[0m\u001b[0mbam\u001b[0m\u001b[0;34m)\u001b[0m \u001b[0;32mfor\u001b[0m \u001b[0mbam\u001b[0m \u001b[0;32min\u001b[0m \u001b[0mms_bams\u001b[0m\u001b[0;34m]\u001b[0m\u001b[0;34m\u001b[0m\u001b[0m\n\u001b[0m\u001b[1;32m      2\u001b[0m \u001b[0mms_div_trans_merged\u001b[0m \u001b[0;34m=\u001b[0m \u001b[0;34m[\u001b[0m\u001b[0mbed\u001b[0m\u001b[0;34m.\u001b[0m\u001b[0mmerge\u001b[0m\u001b[0;34m(\u001b[0m\u001b[0moutfolder\u001b[0m\u001b[0;34m=\u001b[0m\u001b[0;34m'../results/from_bam'\u001b[0m\u001b[0;34m)\u001b[0m \u001b[0;32mfor\u001b[0m \u001b[0mbed\u001b[0m \u001b[0;32min\u001b[0m \u001b[0mms_div_trans_beds\u001b[0m\u001b[0;34m]\u001b[0m\u001b[0;34m\u001b[0m\u001b[0m\n",
      "\u001b[0;32m<ipython-input-17-8d5f69feedc2>\u001b[0m in \u001b[0;36m<listcomp>\u001b[0;34m(.0)\u001b[0m\n\u001b[0;32m----> 1\u001b[0;31m \u001b[0mms_div_trans_beds\u001b[0m \u001b[0;34m=\u001b[0m \u001b[0;34m[\u001b[0m\u001b[0mget_divergent_transcription_beds\u001b[0m\u001b[0;34m(\u001b[0m\u001b[0mbam\u001b[0m\u001b[0;34m)\u001b[0m \u001b[0;32mfor\u001b[0m \u001b[0mbam\u001b[0m \u001b[0;32min\u001b[0m \u001b[0mms_bams\u001b[0m\u001b[0;34m]\u001b[0m\u001b[0;34m\u001b[0m\u001b[0m\n\u001b[0m\u001b[1;32m      2\u001b[0m \u001b[0mms_div_trans_merged\u001b[0m \u001b[0;34m=\u001b[0m \u001b[0;34m[\u001b[0m\u001b[0mbed\u001b[0m\u001b[0;34m.\u001b[0m\u001b[0mmerge\u001b[0m\u001b[0;34m(\u001b[0m\u001b[0moutfolder\u001b[0m\u001b[0;34m=\u001b[0m\u001b[0;34m'../results/from_bam'\u001b[0m\u001b[0;34m)\u001b[0m \u001b[0;32mfor\u001b[0m \u001b[0mbed\u001b[0m \u001b[0;32min\u001b[0m \u001b[0mms_div_trans_beds\u001b[0m\u001b[0;34m]\u001b[0m\u001b[0;34m\u001b[0m\u001b[0m\n",
      "\u001b[0;32m<ipython-input-6-6e35029f6cb5>\u001b[0m in \u001b[0;36mget_divergent_transcription_beds\u001b[0;34m(bam, out_folder)\u001b[0m\n\u001b[1;32m     12\u001b[0m     \u001b[0;32melse\u001b[0m\u001b[0;34m:\u001b[0m\u001b[0;34m\u001b[0m\u001b[0m\n\u001b[1;32m     13\u001b[0m         \u001b[0;32mwith\u001b[0m \u001b[0mopen\u001b[0m\u001b[0;34m(\u001b[0m\u001b[0mbed_out\u001b[0m\u001b[0;34m,\u001b[0m \u001b[0;34m'w'\u001b[0m\u001b[0;34m)\u001b[0m \u001b[0;32mas\u001b[0m \u001b[0mf\u001b[0m\u001b[0;34m:\u001b[0m\u001b[0;34m\u001b[0m\u001b[0m\n\u001b[0;32m---> 14\u001b[0;31m             \u001b[0;32mfor\u001b[0m \u001b[0minterval\u001b[0m \u001b[0;32min\u001b[0m \u001b[0mdt\u001b[0m\u001b[0;34m.\u001b[0m\u001b[0midentify_divergent_transcription\u001b[0m\u001b[0;34m(\u001b[0m\u001b[0moread_gen\u001b[0m\u001b[0;34m)\u001b[0m\u001b[0;34m:\u001b[0m\u001b[0;34m\u001b[0m\u001b[0m\n\u001b[0m\u001b[1;32m     15\u001b[0m                 \u001b[0mf\u001b[0m\u001b[0;34m.\u001b[0m\u001b[0mwrite\u001b[0m\u001b[0;34m(\u001b[0m\u001b[0;34m'\\t'\u001b[0m\u001b[0;34m.\u001b[0m\u001b[0mjoin\u001b[0m\u001b[0;34m(\u001b[0m\u001b[0;34m[\u001b[0m\u001b[0mstr\u001b[0m\u001b[0;34m(\u001b[0m\u001b[0mx\u001b[0m\u001b[0;34m)\u001b[0m \u001b[0;32mfor\u001b[0m \u001b[0mx\u001b[0m \u001b[0;32min\u001b[0m \u001b[0minterval\u001b[0m\u001b[0;34m]\u001b[0m\u001b[0;34m)\u001b[0m \u001b[0;34m+\u001b[0m \u001b[0;34m'\\n'\u001b[0m\u001b[0;34m)\u001b[0m\u001b[0;34m\u001b[0m\u001b[0m\n\u001b[1;32m     16\u001b[0m \u001b[0;34m\u001b[0m\u001b[0m\n",
      "\u001b[0;32m~/Programming/pyNextGen/div_trans_lib.py\u001b[0m in \u001b[0;36midentify_divergent_transcription\u001b[0;34m(oread_gen, distance)\u001b[0m\n\u001b[1;32m     70\u001b[0m     \u001b[0mupstream_oread\u001b[0m \u001b[0;34m=\u001b[0m \u001b[0mnext\u001b[0m\u001b[0;34m(\u001b[0m\u001b[0moread_gen\u001b[0m\u001b[0;34m)\u001b[0m\u001b[0;34m\u001b[0m\u001b[0m\n\u001b[1;32m     71\u001b[0m \u001b[0;34m\u001b[0m\u001b[0m\n\u001b[0;32m---> 72\u001b[0;31m     \u001b[0;32mfor\u001b[0m \u001b[0mdownstream_oread\u001b[0m \u001b[0;32min\u001b[0m \u001b[0moread_gen\u001b[0m\u001b[0;34m:\u001b[0m\u001b[0;34m\u001b[0m\u001b[0m\n\u001b[0m\u001b[1;32m     73\u001b[0m \u001b[0;34m\u001b[0m\u001b[0m\n\u001b[1;32m     74\u001b[0m         \u001b[0;32mif\u001b[0m \u001b[0mupstream_oread\u001b[0m\u001b[0;34m.\u001b[0m\u001b[0mstrand\u001b[0m \u001b[0;34m!=\u001b[0m \u001b[0;34m'-'\u001b[0m\u001b[0;34m:\u001b[0m\u001b[0;34m\u001b[0m\u001b[0m\n",
      "\u001b[0;32m~/Programming/pyNextGen/div_trans_lib.py\u001b[0m in \u001b[0;36mget_oriented_reads\u001b[0;34m(bam)\u001b[0m\n\u001b[1;32m     57\u001b[0m                 \u001b[0mlogging\u001b[0m\u001b[0;34m.\u001b[0m\u001b[0mdebug\u001b[0m\u001b[0;34m(\u001b[0m\u001b[0;34m\"{} reads treated\"\u001b[0m\u001b[0;34m.\u001b[0m\u001b[0mformat\u001b[0m\u001b[0;34m(\u001b[0m\u001b[0mcount\u001b[0m\u001b[0;34m)\u001b[0m\u001b[0;34m)\u001b[0m\u001b[0;34m\u001b[0m\u001b[0m\n\u001b[1;32m     58\u001b[0m \u001b[0;34m\u001b[0m\u001b[0m\n\u001b[0;32m---> 59\u001b[0;31m             \u001b[0;32myield\u001b[0m \u001b[0mOread\u001b[0m\u001b[0;34m(\u001b[0m\u001b[0mread\u001b[0m\u001b[0;34m)\u001b[0m\u001b[0;34m\u001b[0m\u001b[0m\n\u001b[0m\u001b[1;32m     60\u001b[0m \u001b[0;34m\u001b[0m\u001b[0m\n\u001b[1;32m     61\u001b[0m \u001b[0;34m\u001b[0m\u001b[0m\n",
      "\u001b[0;32m~/Programming/pyNextGen/div_trans_lib.py\u001b[0m in \u001b[0;36m__init__\u001b[0;34m(self, ali_read)\u001b[0m\n\u001b[1;32m     24\u001b[0m         \u001b[0mblocks\u001b[0m \u001b[0;34m=\u001b[0m \u001b[0mali_read\u001b[0m\u001b[0;34m.\u001b[0m\u001b[0mget_blocks\u001b[0m\u001b[0;34m(\u001b[0m\u001b[0;34m)\u001b[0m\u001b[0;34m\u001b[0m\u001b[0m\n\u001b[1;32m     25\u001b[0m         \u001b[0mself\u001b[0m\u001b[0;34m.\u001b[0m\u001b[0mchro\u001b[0m \u001b[0;34m=\u001b[0m \u001b[0mali_read\u001b[0m\u001b[0;34m.\u001b[0m\u001b[0mreference_name\u001b[0m\u001b[0;34m\u001b[0m\u001b[0m\n\u001b[0;32m---> 26\u001b[0;31m         \u001b[0mself\u001b[0m\u001b[0;34m.\u001b[0m\u001b[0mstart\u001b[0m \u001b[0;34m=\u001b[0m \u001b[0mblocks\u001b[0m\u001b[0;34m[\u001b[0m\u001b[0;36m0\u001b[0m\u001b[0;34m]\u001b[0m\u001b[0;34m[\u001b[0m\u001b[0;36m0\u001b[0m\u001b[0;34m]\u001b[0m\u001b[0;34m\u001b[0m\u001b[0m\n\u001b[0m\u001b[1;32m     27\u001b[0m         \u001b[0mself\u001b[0m\u001b[0;34m.\u001b[0m\u001b[0mend\u001b[0m \u001b[0;34m=\u001b[0m \u001b[0mblocks\u001b[0m\u001b[0;34m[\u001b[0m\u001b[0;34m-\u001b[0m\u001b[0;36m1\u001b[0m\u001b[0;34m]\u001b[0m\u001b[0;34m[\u001b[0m\u001b[0;34m-\u001b[0m\u001b[0;36m1\u001b[0m\u001b[0;34m]\u001b[0m\u001b[0;34m\u001b[0m\u001b[0m\n\u001b[1;32m     28\u001b[0m \u001b[0;34m\u001b[0m\u001b[0m\n",
      "\u001b[0;31mKeyboardInterrupt\u001b[0m: "
     ]
    }
   ],
   "source": [
    "ms_div_trans_beds = [get_divergent_transcription_beds(bam) for bam in ms_bams]\n",
    "ms_div_trans_merged = [bed.merge(outfolder='../results/from_bam') for bed in ms_div_trans_beds]"
   ]
  },
  {
   "cell_type": "markdown",
   "metadata": {},
   "source": [
    "## Select intervals overlapping with CAGE dataset divergent transcription events"
   ]
  },
  {
   "cell_type": "code",
   "execution_count": 16,
   "metadata": {},
   "outputs": [
    {
     "ename": "NameError",
     "evalue": "name 'cage_minus_bed' is not defined",
     "output_type": "error",
     "traceback": [
      "\u001b[0;31m---------------------------------------------------------------------------\u001b[0m",
      "\u001b[0;31mNameError\u001b[0m                                 Traceback (most recent call last)",
      "\u001b[0;32m<ipython-input-16-254ac97a35cd>\u001b[0m in \u001b[0;36m<module>\u001b[0;34m()\u001b[0m\n\u001b[1;32m      1\u001b[0m div_trans_beds_merged_filter = [bed.intersect(cage_minus_bed, supp_args='-wa')                                .intersect(cage_plus_bed, supp_args='-wa')\n\u001b[0;32m----> 2\u001b[0;31m                                 for bed in div_trans_beds_merged]\n\u001b[0m",
      "\u001b[0;32m<ipython-input-16-254ac97a35cd>\u001b[0m in \u001b[0;36m<listcomp>\u001b[0;34m(.0)\u001b[0m\n\u001b[1;32m      1\u001b[0m div_trans_beds_merged_filter = [bed.intersect(cage_minus_bed, supp_args='-wa')                                .intersect(cage_plus_bed, supp_args='-wa')\n\u001b[0;32m----> 2\u001b[0;31m                                 for bed in div_trans_beds_merged]\n\u001b[0m",
      "\u001b[0;31mNameError\u001b[0m: name 'cage_minus_bed' is not defined"
     ]
    }
   ],
   "source": [
    "div_trans_beds_merged_filter = [bed.intersect(cage_minus_bed, supp_args='-wa')\\\n",
    "                                .intersect(cage_plus_bed, supp_args='-wa')\n",
    "                                for bed in div_trans_beds_merged]"
   ]
  }
 ],
 "metadata": {
  "extensions": {
   "jupyter_dashboards": {
    "activeView": "grid_default",
    "version": 1,
    "views": {
     "grid_default": {
      "cellMargin": 10,
      "defaultCellHeight": 20,
      "maxColumns": 12,
      "name": "grid",
      "type": "grid"
     },
     "report_default": {
      "name": "report",
      "type": "report"
     }
    }
   }
  },
  "kernelspec": {
   "display_name": "Python [default]",
   "language": "python",
   "name": "python3"
  },
  "language_info": {
   "codemirror_mode": {
    "name": "ipython",
    "version": 3
   },
   "file_extension": ".py",
   "mimetype": "text/x-python",
   "name": "python",
   "nbconvert_exporter": "python",
   "pygments_lexer": "ipython3",
   "version": "3.6.5"
  },
  "toc": {
   "colors": {
    "hover_highlight": "#DAA520",
    "navigate_num": "#000000",
    "navigate_text": "#333333",
    "running_highlight": "#FF0000",
    "selected_highlight": "#FFD700",
    "sidebar_border": "#EEEEEE",
    "wrapper_background": "#FFFFFF"
   },
   "moveMenuLeft": true,
   "nav_menu": {
    "height": "47px",
    "width": "252px"
   },
   "navigate_menu": true,
   "number_sections": true,
   "sideBar": false,
   "threshold": 4,
   "toc_cell": false,
   "toc_position": {
    "height": "577px",
    "left": "5px",
    "right": "20px",
    "top": "107.986px",
    "width": "184px"
   },
   "toc_section_display": "block",
   "toc_window_display": true,
   "widenNotebook": false
  }
 },
 "nbformat": 4,
 "nbformat_minor": 2
}
