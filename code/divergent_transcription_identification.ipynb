{
 "cells": [
  {
   "cell_type": "markdown",
   "metadata": {
    "extensions": {
     "jupyter_dashboards": {
      "version": 1,
      "views": {
       "grid_default": {
        "col": 0,
        "height": 4,
        "hidden": false,
        "row": 0,
        "width": 4
       },
       "report_default": {
        "hidden": false
       }
      }
     }
    }
   },
   "source": [
    "# Import"
   ]
  },
  {
   "cell_type": "code",
   "execution_count": 1,
   "metadata": {
    "ExecuteTime": {
     "end_time": "2018-01-10T12:02:13.096039Z",
     "start_time": "2018-01-10T12:02:12.455406Z"
    },
    "collapsed": true,
    "extensions": {
     "jupyter_dashboards": {
      "version": 1,
      "views": {
       "grid_default": {
        "hidden": true
       },
       "report_default": {
        "hidden": true
       }
      }
     }
    }
   },
   "outputs": [],
   "source": [
    "import glob\n",
    "import bed_lib as bl\n",
    "import os\n",
    "import div_trans_lib as dt\n",
    "import pandas as pd\n",
    "from multiprocessing import Pool\n",
    "\n",
    "%matplotlib inline"
   ]
  },
  {
   "cell_type": "code",
   "execution_count": 2,
   "metadata": {
    "ExecuteTime": {
     "end_time": "2018-01-10T12:02:13.286276Z",
     "start_time": "2018-01-10T12:02:13.253441Z"
    },
    "collapsed": true,
    "extensions": {
     "jupyter_dashboards": {
      "version": 1,
      "views": {
       "grid_default": {
        "hidden": true
       },
       "report_default": {
        "hidden": true
       }
      }
     }
    }
   },
   "outputs": [],
   "source": [
    "# To not have to restart the kernel everytime I change the module lib1_bed\n",
    "%load_ext autoreload\n",
    "%autoreload 2"
   ]
  },
  {
   "cell_type": "markdown",
   "metadata": {
    "extensions": {
     "jupyter_dashboards": {
      "version": 1,
      "views": {
       "grid_default": {
        "col": 0,
        "height": 5,
        "hidden": false,
        "row": 86,
        "width": 12
       },
       "report_default": {
        "hidden": false
       }
      }
     }
    }
   },
   "source": [
    "**WARNINGS**\n",
    "\n",
    "USING NAME SORTED BAMS !!\n",
    "\n",
    "- TOFIX bedpe option apparently filter out the pairs with insert < 0\n",
    "- TRY filtering only uniquely mapping reads (MAPQ 255) and compare with filtering only primary"
   ]
  },
  {
   "cell_type": "markdown",
   "metadata": {
    "ExecuteTime": {
     "end_time": "2018-01-03T11:33:32.890906Z",
     "start_time": "2018-01-03T11:33:32.867225Z"
    },
    "extensions": {
     "jupyter_dashboards": {
      "version": 1,
      "views": {
       "grid_default": {
        "col": 4,
        "height": 4,
        "hidden": false,
        "row": 0,
        "width": 4
       },
       "report_default": {
        "hidden": false
       }
      }
     }
    }
   },
   "source": [
    "# Analysis"
   ]
  },
  {
   "cell_type": "markdown",
   "metadata": {
    "extensions": {
     "jupyter_dashboards": {
      "version": 1,
      "views": {
       "grid_default": {
        "col": 7,
        "height": 4,
        "hidden": false,
        "row": 43,
        "width": 4
       },
       "report_default": {
        "hidden": false
       }
      }
     }
    }
   },
   "source": [
    "## Input"
   ]
  },
  {
   "cell_type": "code",
   "execution_count": 316,
   "metadata": {
    "ExecuteTime": {
     "end_time": "2018-01-12T09:30:39.870189Z",
     "start_time": "2018-01-12T09:30:39.822890Z"
    },
    "extensions": {
     "jupyter_dashboards": {
      "version": 1,
      "views": {
       "grid_default": {
        "hidden": true
       },
       "report_default": {
        "hidden": true
       }
      }
     }
    }
   },
   "outputs": [
    {
     "data": {
      "text/plain": [
       "['/home/ekornobis/hub/divtrans/data/bams/test/mini_veude_nameSort.bam',\n",
       " '/home/ekornobis/hub/divtrans/data/bams/test/mini_A_nameSort.bam']"
      ]
     },
     "execution_count": 316,
     "metadata": {},
     "output_type": "execute_result"
    }
   ],
   "source": [
    "bams = glob.glob('/home/ekornobis/hub/divtrans/data/bams/*nameSort.bam')\n",
    "# For testing\n",
    "bams = glob.glob('/home/ekornobis/hub/divtrans/data/bams/test/*nameSort.bam')\n",
    "bams"
   ]
  },
  {
   "cell_type": "markdown",
   "metadata": {
    "extensions": {
     "jupyter_dashboards": {
      "version": 1,
      "views": {
       "grid_default": {
        "col": 7,
        "height": 4,
        "hidden": false,
        "row": 47,
        "width": 4
       },
       "report_default": {
        "hidden": false
       }
      }
     }
    }
   },
   "source": [
    "## Functions"
   ]
  },
  {
   "cell_type": "code",
   "execution_count": 321,
   "metadata": {
    "ExecuteTime": {
     "end_time": "2018-01-12T10:04:28.071896Z",
     "start_time": "2018-01-12T10:04:27.654416Z"
    },
    "collapsed": true
   },
   "outputs": [],
   "source": [
    "def close_div_filt(row):\n",
    "    \"\"\" Keep only divergent transcription (no convergent)\n",
    "    \"\"\"\n",
    "    # 2 cases for divergent transcription (hence removing convergente transcription)\n",
    "    if row.iloc[1] <= row.iloc[7] and row.iloc[5] == '-':\n",
    "        return True\n",
    "    elif row.iloc[1] >= row.iloc[7] and row.iloc[5] == '+':\n",
    "        return True\n",
    "    else:\n",
    "        return False\n",
    "\n",
    "def get_div_read_intervals(row):\n",
    "        return [row.iloc[0], min(row.iloc[[1,2,7,8]]), max(row.iloc[[1,2,7,8]]), '.', '.', '.']\n",
    "\n",
    "def process_bam(bam):\n",
    "    \"\"\" Filter the bam and produce a bed of fragments\"\"\"\n",
    "    # Remove read unmapped, mate unmapped, only primary, no spliced\n",
    "    filt_bam = dt.bam_filtering(bam)\n",
    "    # Generate fragments from read pairs and orient them properly\n",
    "    bedpe = dt.bam_to_fragments(filt_bam)\n",
    "    bedfrag = dt.bedpe_to_fragbed(bedpe)\n",
    "    bedfrag = bl.Bed(bedfrag)\n",
    "    return bedfrag\n",
    "\n",
    "def get_div_reads(bed):\n",
    "    \"\"\" Get couples of closest reads on opposite strands\"\"\"\n",
    "    df = bed.to_dataframe(index_col=None)\n",
    "    \n",
    "    # Separate + and - strands\n",
    "    pos_strand_df = df[df[5] == '+']\n",
    "    neg_strand_df = df[df[5] == '-']\n",
    "    \n",
    "    pos_bed = bl.df_to_bed(pos_strand_df, bed.path + \"_plus.bed\")\n",
    "    neg_bed = bl.df_to_bed(neg_strand_df, bed.path + \"_minus.bed\")\n",
    "    \n",
    "    # The divergent read should always be looked upstream considering\n",
    "    # the orientation of bedA (see bedtools closest manual)\n",
    "    bed1 = pos_bed.closest(neg_bed, supp_args='-D a -id')\n",
    "    bed2 = neg_bed.closest(pos_bed, supp_args='-D a -id')\n",
    "    closest_bed = bed1.concat(bed2).move_to(bed.path + \"_closest_concat.bed\")\n",
    "    \n",
    "    # Ignore overlaping reads to look for reads further away\n",
    "    # Treat special cases where overlapping hide divergent transcription (test with test/frag.bed)\n",
    "    # This will overwrite the previous beds so need to be concat sequentially\n",
    "    bed3 = pos_bed.closest(neg_bed, supp_args='-D a -id -io')\n",
    "    closest_bed = closest_bed.concat(bed3).move_to(bed.path + \"_closest_concat.bed\")\n",
    "    \n",
    "    bed4 = neg_bed.closest(pos_bed, supp_args='-D a -id -io')\n",
    "    closest_bed = closest_bed.concat(bed4).move_to(bed.path + \"_closest_concat.bed\")\n",
    "    \n",
    "    df = closest_bed.to_dataframe(index_col=None)\n",
    "    \n",
    "    # Filtering convergence (still detected when reads are overlapping)\n",
    "    df = df.loc[df.apply(close_div_filt, axis=1)]\n",
    "    df = df[(abs(df[12]) <= 500)]\n",
    "    \n",
    "    return df\n",
    "\n",
    "def process_fragbed(fragbed):\n",
    "    \"\"\" Process fragments beds to extract divergent transcription intervals\"\"\"\n",
    "    # -c 6 -o distinct is to keep the strand info\n",
    "    bedmerge = fragbed.sort().merge(supp_args='-s -c 4,5,6 -o min,distinct,distinct') \n",
    "    \n",
    "    df = get_div_reads(bedmerge)\n",
    "    \n",
    "    # remove GL contigs\n",
    "    df = df[[not str(x).startswith('GL') for x in df.iloc[:,0]]]\n",
    "    \n",
    "    # For cases where no close reads can be found, bedtools add -1 as coordinates\n",
    "    # This filters this case out\n",
    "    sel = (df.iloc[:,1] != -1) & (df.iloc[:,2] != -1) & (df.iloc[:,7] != -1) & (df.iloc[:,8] != -1)\n",
    "    df = df.loc[sel,:]\n",
    "\n",
    "    out_prefix = os.path.splitext(bedmerge.path)[0]\n",
    "\n",
    "    df = pd.DataFrame(list(df.apply(get_div_read_intervals, axis=1)))\n",
    "    \n",
    "    div_read_intervals = bl.df_to_bed(df, out_prefix + '_div_read.bed')\n",
    "    \n",
    "    # Clustering instead of merging was necessary to get the interval between divergent reads\n",
    "    #cluster_div_reads = div_read_intervals.sort().cluster()\n",
    "    #get_div_trans_intervals(cluster_div_reads.path, out_prefix + 'div_trans_final.bed')\n",
    "    \n",
    "    final_bed = div_read_intervals.sort().merge()\n",
    "    \n",
    "    return final_bed"
   ]
  },
  {
   "cell_type": "markdown",
   "metadata": {
    "extensions": {
     "jupyter_dashboards": {
      "version": 1,
      "views": {
       "grid_default": {
        "col": 7,
        "height": 4,
        "hidden": false,
        "row": 51,
        "width": 4
       },
       "report_default": {
        "hidden": false
       }
      }
     }
    }
   },
   "source": [
    "## Processing"
   ]
  },
  {
   "cell_type": "markdown",
   "metadata": {},
   "source": [
    "Generate beds for divergence transcription detection"
   ]
  },
  {
   "cell_type": "code",
   "execution_count": 323,
   "metadata": {
    "ExecuteTime": {
     "end_time": "2018-01-12T10:05:44.468447Z",
     "start_time": "2018-01-12T10:04:43.461457Z"
    },
    "scrolled": true
   },
   "outputs": [
    {
     "name": "stderr",
     "output_type": "stream",
     "text": [
      "/home/ekornobis/programs/anaconda3/lib/python3.5/site-packages/ipykernel/__main__.py:64: DtypeWarning: Columns (0) have mixed types. Specify dtype option on import or set low_memory=False.\n",
      "/home/ekornobis/programs/anaconda3/lib/python3.5/site-packages/ipykernel/__main__.py:64: DtypeWarning: Columns (0) have mixed types. Specify dtype option on import or set low_memory=False.\n",
      "Process ForkPoolWorker-327:\n",
      "Process ForkPoolWorker-328:\n",
      "Traceback (most recent call last):\n",
      "  File \"/home/ekornobis/programs/anaconda3/lib/python3.5/multiprocessing/process.py\", line 249, in _bootstrap\n",
      "    self.run()\n",
      "Traceback (most recent call last):\n",
      "  File \"/home/ekornobis/programs/anaconda3/lib/python3.5/multiprocessing/process.py\", line 93, in run\n",
      "    self._target(*self._args, **self._kwargs)\n",
      "  File \"/home/ekornobis/programs/anaconda3/lib/python3.5/multiprocessing/process.py\", line 249, in _bootstrap\n",
      "    self.run()\n",
      "  File \"/home/ekornobis/programs/anaconda3/lib/python3.5/multiprocessing/pool.py\", line 108, in worker\n",
      "    task = get()\n",
      "  File \"/home/ekornobis/programs/anaconda3/lib/python3.5/multiprocessing/process.py\", line 93, in run\n",
      "    self._target(*self._args, **self._kwargs)\n",
      "  File \"/home/ekornobis/programs/anaconda3/lib/python3.5/multiprocessing/queues.py\", line 342, in get\n",
      "    with self._rlock:\n",
      "  File \"/home/ekornobis/programs/anaconda3/lib/python3.5/multiprocessing/synchronize.py\", line 96, in __enter__\n",
      "    return self._semlock.__enter__()\n",
      "  File \"/home/ekornobis/programs/anaconda3/lib/python3.5/multiprocessing/pool.py\", line 108, in worker\n",
      "    task = get()\n",
      "KeyboardInterrupt\n",
      "  File \"/home/ekornobis/programs/anaconda3/lib/python3.5/multiprocessing/queues.py\", line 343, in get\n",
      "    res = self._reader.recv_bytes()\n",
      "  File \"/home/ekornobis/programs/anaconda3/lib/python3.5/multiprocessing/connection.py\", line 216, in recv_bytes\n",
      "    buf = self._recv_bytes(maxlength)\n",
      "  File \"/home/ekornobis/programs/anaconda3/lib/python3.5/multiprocessing/connection.py\", line 407, in _recv_bytes\n",
      "    buf = self._recv(4)\n",
      "  File \"/home/ekornobis/programs/anaconda3/lib/python3.5/multiprocessing/connection.py\", line 379, in _recv\n",
      "    chunk = read(handle, remaining)\n",
      "KeyboardInterrupt\n"
     ]
    }
   ],
   "source": [
    "p = Pool(2)\n",
    "fragbeds = p.map(process_bam, bams)\n",
    "final_beds = p.map(process_fragbed, fragbeds)"
   ]
  },
  {
   "cell_type": "markdown",
   "metadata": {},
   "source": [
    "**OR** from already generated 'frag_clean' bed files"
   ]
  },
  {
   "cell_type": "code",
   "execution_count": 324,
   "metadata": {
    "ExecuteTime": {
     "end_time": "2018-01-12T10:08:23.164842Z",
     "start_time": "2018-01-12T10:08:23.093497Z"
    }
   },
   "outputs": [
    {
     "data": {
      "text/plain": [
       "[<Bed object: VEUDE_A_1_nameSort_filt_frag_clean>,\n",
       " <Bed object: Compoud_A_1_nameSort_filt_frag_clean>]"
      ]
     },
     "execution_count": 324,
     "metadata": {},
     "output_type": "execute_result"
    }
   ],
   "source": [
    "fragbeds = [bl.Bed(x) for x in glob.glob('/home/ekornobis/hub/divtrans/data/bams/*frag_clean.bed')]\n",
    "# For testing\n",
    "#fragbeds = [bl.Bed(x) for x in glob.glob('/home/ekornobis/hub/divtrans/data/test/frag.bed')]\n",
    "fragbeds"
   ]
  },
  {
   "cell_type": "code",
   "execution_count": 326,
   "metadata": {
    "ExecuteTime": {
     "end_time": "2018-01-12T10:34:06.105800Z",
     "start_time": "2018-01-12T10:08:40.041457Z"
    },
    "scrolled": true
   },
   "outputs": [
    {
     "name": "stderr",
     "output_type": "stream",
     "text": [
      "/home/ekornobis/programs/anaconda3/lib/python3.5/site-packages/ipykernel/__main__.py:64: DtypeWarning: Columns (0) have mixed types. Specify dtype option on import or set low_memory=False.\n",
      "/home/ekornobis/programs/anaconda3/lib/python3.5/site-packages/ipykernel/__main__.py:64: DtypeWarning: Columns (0) have mixed types. Specify dtype option on import or set low_memory=False.\n",
      "/home/ekornobis/programs/anaconda3/lib/python3.5/site-packages/ipykernel/__main__.py:64: DtypeWarning: Columns (0,6) have mixed types. Specify dtype option on import or set low_memory=False.\n",
      "/home/ekornobis/programs/anaconda3/lib/python3.5/site-packages/ipykernel/__main__.py:64: DtypeWarning: Columns (0,6) have mixed types. Specify dtype option on import or set low_memory=False.\n"
     ]
    }
   ],
   "source": [
    "p = Pool(2)\n",
    "final_beds = p.map(process_fragbed, fragbeds)"
   ]
  },
  {
   "cell_type": "markdown",
   "metadata": {},
   "source": [
    "Extract feature in A but not in vehicule (**VERIFY THE ORDER IN final_beds IF NEW EXECUTION**)"
   ]
  },
  {
   "cell_type": "code",
   "execution_count": 166,
   "metadata": {
    "ExecuteTime": {
     "end_time": "2018-01-11T13:15:43.047734Z",
     "start_time": "2018-01-11T13:15:42.907938Z"
    }
   },
   "outputs": [
    {
     "data": {
      "text/plain": [
       "[<Bed object: VEUDE_A_1_nameSort_filt_frag_cleandiv_trans_final.bed>,\n",
       " <Bed object: Compoud_A_1_nameSort_filt_frag_cleandiv_trans_final.bed>]"
      ]
     },
     "execution_count": 166,
     "metadata": {},
     "output_type": "execute_result"
    }
   ],
   "source": [
    "final_beds"
   ]
  },
  {
   "cell_type": "markdown",
   "metadata": {},
   "source": [
    "Subtracting vehicule from Compound A and removing refseq intervals"
   ]
  },
  {
   "cell_type": "code",
   "execution_count": 48,
   "metadata": {
    "ExecuteTime": {
     "end_time": "2018-01-10T14:26:11.624192Z",
     "start_time": "2018-01-10T14:26:10.806536Z"
    }
   },
   "outputs": [
    {
     "data": {
      "text/plain": [
       "<Bed object: A-minus-vehicule_divtrans_noRefSeq.bed>"
      ]
     },
     "execution_count": 48,
     "metadata": {},
     "output_type": "execute_result"
    }
   ],
   "source": [
    "ref_genes='/home/ekornobis/data/genomes/ensembl/h_sapiens/hg37/hg19_refseq_sort.bed'\n",
    "\n",
    "# Renaming is necessary beacuse zsh complains about too long file names\n",
    "A_bed = final_beds[0].move_to('../results/A_divtrans.bed')\n",
    "vehi_bed = final_beds[1].move_to('../results/vehicule_divtrans.bed')\n",
    "\n",
    "A_bed.subtract(vehi_bed, supp_args='-A').subtract(bl.Bed(ref_genes), supp_args='-A').rename('../results/A-minus-vehicule_divtrans_noRefSeq.bed')"
   ]
  },
  {
   "cell_type": "markdown",
   "metadata": {
    "extensions": {
     "jupyter_dashboards": {
      "version": 1,
      "views": {
       "grid_default": {
        "col": 7,
        "height": 4,
        "hidden": false,
        "row": 55,
        "width": 4
       },
       "report_default": {
        "hidden": false
       }
      }
     }
    }
   },
   "source": [
    "## Stats"
   ]
  },
  {
   "cell_type": "code",
   "execution_count": 49,
   "metadata": {
    "ExecuteTime": {
     "end_time": "2018-01-10T14:26:44.765362Z",
     "start_time": "2018-01-10T14:26:43.250557Z"
    },
    "extensions": {
     "jupyter_dashboards": {
      "version": 1,
      "views": {
       "grid_default": {
        "col": 0,
        "height": 35,
        "hidden": false,
        "row": 91,
        "width": 5
       },
       "report_default": {
        "hidden": false
       }
      }
     }
    }
   },
   "outputs": [
    {
     "data": {
      "text/html": [
       "<div>\n",
       "<style>\n",
       "    .dataframe thead tr:only-child th {\n",
       "        text-align: right;\n",
       "    }\n",
       "\n",
       "    .dataframe thead th {\n",
       "        text-align: left;\n",
       "    }\n",
       "\n",
       "    .dataframe tbody tr th {\n",
       "        vertical-align: top;\n",
       "    }\n",
       "</style>\n",
       "<table border=\"1\" class=\"dataframe\">\n",
       "  <thead>\n",
       "    <tr style=\"text-align: right;\">\n",
       "      <th></th>\n",
       "      <th>Nbases</th>\n",
       "      <th>Nintervals</th>\n",
       "      <th>bedobj</th>\n",
       "      <th>name</th>\n",
       "      <th>path</th>\n",
       "    </tr>\n",
       "  </thead>\n",
       "  <tbody>\n",
       "    <tr>\n",
       "      <th>0</th>\n",
       "      <td>11100321</td>\n",
       "      <td>49752</td>\n",
       "      <td>&lt;Bed object: A_divtrans.bed&gt;</td>\n",
       "      <td>A_divtrans.bed</td>\n",
       "      <td>../results/A_divtrans.bed</td>\n",
       "    </tr>\n",
       "    <tr>\n",
       "      <th>1</th>\n",
       "      <td>11289522</td>\n",
       "      <td>50342</td>\n",
       "      <td>&lt;Bed object: vehicule_divtrans.bed&gt;</td>\n",
       "      <td>vehicule_divtrans.bed</td>\n",
       "      <td>../results/vehicule_divtrans.bed</td>\n",
       "    </tr>\n",
       "  </tbody>\n",
       "</table>\n",
       "</div>"
      ],
      "text/plain": [
       "     Nbases  Nintervals                               bedobj  \\\n",
       "0  11100321       49752         <Bed object: A_divtrans.bed>   \n",
       "1  11289522       50342  <Bed object: vehicule_divtrans.bed>   \n",
       "\n",
       "                    name                              path  \n",
       "0         A_divtrans.bed         ../results/A_divtrans.bed  \n",
       "1  vehicule_divtrans.bed  ../results/vehicule_divtrans.bed  "
      ]
     },
     "execution_count": 49,
     "metadata": {},
     "output_type": "execute_result"
    },
    {
     "data": {
      "image/png": "[encoded data removed]",
      "text/plain": [
       "<matplotlib.figure.Figure at 0x7f18aa3d7eb8>"
      ]
     },
     "metadata": {},
     "output_type": "display_data"
    },
    {
     "data": {
      "image/png": "[encoded data removed]",
      "text/plain": [
       "<matplotlib.figure.Figure at 0x7f18aa143550>"
      ]
     },
     "metadata": {},
     "output_type": "display_data"
    }
   ],
   "source": [
    "stats_df = []\n",
    "for bed in final_beds:\n",
    "    stats_df.append(bed.stats())\n",
    "    bed.plot()\n",
    "    \n",
    "stats_df = pd.DataFrame(stats_df)\n",
    "stats_df"
   ]
  },
  {
   "cell_type": "markdown",
   "metadata": {
    "extensions": {
     "jupyter_dashboards": {
      "version": 1,
      "views": {
       "grid_default": {
        "hidden": true
       },
       "report_default": {
        "hidden": false
       }
      }
     }
    }
   },
   "source": [
    " # Legacy (previous analysis version)"
   ]
  },
  {
   "cell_type": "markdown",
   "metadata": {
    "heading_collapsed": true
   },
   "source": [
    "## v1"
   ]
  },
  {
   "cell_type": "code",
   "execution_count": 269,
   "metadata": {
    "ExecuteTime": {
     "end_time": "2018-01-11T16:54:40.684980Z",
     "start_time": "2018-01-11T16:54:40.033330Z"
    },
    "collapsed": true,
    "extensions": {
     "jupyter_dashboards": {
      "version": 1,
      "views": {
       "grid_default": {
        "hidden": true
       },
       "report_default": {
        "hidden": true
       }
      }
     }
    },
    "hidden": true
   },
   "outputs": [],
   "source": [
    "#### LEGACY\n",
    "def OLD_get_div_read_intervals(row):\n",
    "    \"\"\"Get the end of the upstream read and the start of the downstream read\n",
    "     \"\"\"\n",
    "    \n",
    "    if row.iloc[5] == '-':\n",
    "        interval = {'chr': row.iloc[0], 'start': row.iloc[2], 'end': row.iloc[7], 'name': row.iloc[3] + row.iloc[9],  'score': '.', 'strand': '.'}\n",
    "    elif row.iloc[5] == '+':\n",
    "        interval = {'chr': row.iloc[0], 'start': row.iloc[8], 'end': row.iloc[1], 'name': row.iloc[3] + row.iloc[9],  'score': '.', 'strand': '.'}\n",
    "    else:\n",
    "        raise IOError('Something is wrong')\n",
    "    return interval\n",
    "\n",
    "\n",
    "def close_div_filt(row):\n",
    "    \"\"\" Keep only divergent transcription (no convergent)\n",
    "    and remove 'GL' contigs\"\"\"\n",
    "    \n",
    "    if str(row.iloc[0]).startswith('GL'):\n",
    "        return False    \n",
    "    # 2 cases for divergent transcription (hence removing convergente transcription)\n",
    "    elif row.iloc[1] < row.iloc[7] and row.iloc[5] == '-':\n",
    "        return True\n",
    "    elif row.iloc[1] > row.iloc[7] and row.iloc[5] == '+':\n",
    "        return True\n",
    "    else:\n",
    "        return False\n",
    "    \n",
    "# This was usefull when getting the intervals between reads \n",
    "# A merge might be sufficient if not needing the internal interval\n",
    "def get_div_trans_intervals(bed, bed_out):\n",
    "    cluster_dict = {}\n",
    "    with open(bed) as f:\n",
    "        for line in f:\n",
    "            line = line.split()\n",
    "            cluster_dict[line[6]] = cluster_dict.get(line[6], list()) + [(line[0], line[1], line[2])]\n",
    "            \n",
    "    with open(bed_out, 'w') as f: \n",
    "        for k, v in cluster_dict.items():\n",
    "            chro = v[0][0]\n",
    "            start = min([interval[1] for interval in v])\n",
    "            end = max([interval[2] for interval in v])\n",
    "        \n",
    "            f.write('{0}\\t{1}\\t{2}\\n'.format(chro, start, end))"
   ]
  },
  {
   "cell_type": "markdown",
   "metadata": {
    "heading_collapsed": true
   },
   "source": [
    "## v0"
   ]
  },
  {
   "cell_type": "code",
   "execution_count": 9,
   "metadata": {
    "ExecuteTime": {
     "end_time": "2017-12-27T21:07:18.172265Z",
     "start_time": "2017-12-27T15:47:05.808574Z"
    },
    "extensions": {
     "jupyter_dashboards": {
      "version": 1,
      "views": {
       "grid_default": {
        "col": 7,
        "height": 9,
        "hidden": false,
        "row": 5,
        "width": 4
       },
       "report_default": {
        "hidden": false
       }
      }
     }
    },
    "hidden": true
   },
   "outputs": [
    {
     "name": "stdout",
     "output_type": "stream",
     "text": [
      "Processing: /home/ekornobis/analysis/muchardt/seqherv/11.1_divtrans_ribominus/star/Compoud_A_1_nameSort.bam\n",
      "DONE: /home/ekornobis/analysis/muchardt/seqherv/11.1_divtrans_ribominus/star/Compoud_A_1_nameSort.bam\n",
      "BED OUT: /home/ekornobis/analysis/muchardt/seqherv/11.1_divtrans_ribominus/star/Compoud_A_1_nameSort_bothMapped_primaryAlign_noSplice_frag.bed\n",
      "Widow reads: 12907206\n",
      "Processing: /home/ekornobis/analysis/muchardt/seqherv/11.1_divtrans_ribominus/star/VEUDE_A_1_nameSort.bam\n",
      "DONE: /home/ekornobis/analysis/muchardt/seqherv/11.1_divtrans_ribominus/star/VEUDE_A_1_nameSort.bam\n",
      "BED OUT: /home/ekornobis/analysis/muchardt/seqherv/11.1_divtrans_ribominus/star/VEUDE_A_1_nameSort_bothMapped_primaryAlign_noSplice_frag.bed\n",
      "Widow reads: 13596423\n"
     ]
    },
    {
     "name": "stderr",
     "output_type": "stream",
     "text": [
      "INFO:__main__:Number of pairs mapping on different chromosomes: 0\n",
      "INFO:__main__:Min frag_length: 100; Max frag_length: 2450629;\n",
      "INFO:__main__:Number of pairs mapping on different chromosomes: 0\n",
      "INFO:__main__:Min frag_length: 100; Max frag_length: 1845804;\n"
     ]
    }
   ],
   "source": [
    "%%bash\n",
    "\n",
    "bams=`ls /home/ekornobis/analysis/muchardt/seqherv/11.1_divtrans_ribominus/star/*_nameSort.bam`\n",
    "\n",
    "for bam in $bams; do\n",
    "    echo \"Processing: $bam\"\n",
    "    bed=${bam%.bam}_bothMapped_primaryAlign_noSplice_frag.bed\n",
    "    # Remove read unmapped, mate unmapped, only primary, no spliced\n",
    "    # The bams are sorted by names for proper bedtools bamtobed bedpe\n",
    "    samtools view -h -F 0x4 -F 0x8 -F 0x100 $bam | \\\n",
    "    awk '{if ($1 ~ /^@/) {print} else if ($6 !~ /N/) {print}}' | \\\n",
    "    samtools view -bh > ${bam%.bam}_filtered.bam\n",
    "    bedtools bamtobed -bedpe -mate1 -i ${bam%.bam}_filtered.bam > $bed 2> bedpe.log\n",
    "    echo \"DONE: $bam\"\n",
    "    echo \"BED OUT: $bed\"\n",
    "    echo \"Widow reads:\" $(wc -l bedpe.log | cut -f1,1 -d' ')\n",
    "    \n",
    "    python /home/ekornobis/code/muchardt/seqherv/2.1_bedpe_to_fragBed.py $bed > ${bed%.bed}_clean.bed\n",
    "    \n",
    "    awk '($3-$2 < 500) {print}' ${bed%.bed}_clean.bed | \\\n",
    "    sort -k1,1 -k2,2n | \\\n",
    "    bedtools merge -s -i - | \\\n",
    "    awk -v OFS='\\t' '{print $1, $2, $3, \".\", \".\", $4}' > ${bed%.bed}_inf500_merged.bed\n",
    "    \n",
    "    # Separate strands and get shortest distance between different expressed strands\n",
    "    out_bed1=${bed%.bed}_div_dist1.bed\n",
    "    out_bed2=${bed%.bed}_div_dist2.bed\n",
    "    \n",
    "    grep \"-\" ${bed%.bed}_inf500_merged.bed | bedtools sort -i - > ${bed%.bed}_strand-.bed\n",
    "    grep \"+\" ${bed%.bed}_inf500_merged.bed | bedtools sort -i - > ${bed%.bed}_strand+.bed\n",
    "     \n",
    "    bedtools closest -d -a ${bed%.bed}_strand-.bed -b ${bed%.bed}_strand+.bed > $out_bed1\n",
    "    bedtools closest -d -b ${bed%.bed}_strand-.bed -a ${bed%.bed}_strand+.bed > $out_bed2\n",
    "    \n",
    "    # Filter out based on minimal distance between 2 opposite strand expression regions\n",
    "    awk '($13 <= 100) {print}' $out_bed1 > ${bed%.bed}_all_oppositeStrands_dist100b.bed\n",
    "    awk '($13 <= 100) {print}' $out_bed2 >> ${bed%.bed}_all_oppositeStrands_dist100b.bed\n",
    "    \n",
    "done"
   ]
  },
  {
   "cell_type": "code",
   "execution_count": 11,
   "metadata": {
    "ExecuteTime": {
     "end_time": "2018-01-02T12:59:16.958805Z",
     "start_time": "2018-01-02T12:59:14.472035Z"
    },
    "collapsed": true,
    "extensions": {
     "jupyter_dashboards": {
      "version": 1,
      "views": {
       "grid_default": {
        "hidden": true
       },
       "report_default": {
        "hidden": true
       }
      }
     }
    },
    "hidden": true
   },
   "outputs": [],
   "source": [
    "%%bash\n",
    "\n",
    "bams=`ls /home/ekornobis/analysis/muchardt/seqherv/11.1_divtrans_ribominus/star/*_nameSort.bam`\n",
    "\n",
    "# Apply other distance between 2 opposite strand expression regions\n",
    "for bam in $bams; do \n",
    "\n",
    "    bed=${bam%.bam}_bothMapped_primaryAlign_noSplice_frag.bed\n",
    "    out_bed1=${bed%.bed}_div_dist1.bed\n",
    "    out_bed2=${bed%.bed}_div_dist2.bed\n",
    "       \n",
    "   awk '($13 <= 500) {print}' $out_bed1 > ${bed%.bed}_all_oppositeStrands_dist500b.bed\n",
    "   awk '($13 <= 500) {print}' $out_bed2 >> ${bed%.bed}_all_oppositeStrands_dist500b.bed\n",
    "done"
   ]
  },
  {
   "cell_type": "code",
   "execution_count": 12,
   "metadata": {
    "ExecuteTime": {
     "end_time": "2018-01-02T12:59:18.432718Z",
     "start_time": "2018-01-02T12:59:18.429130Z"
    },
    "collapsed": true,
    "extensions": {
     "jupyter_dashboards": {
      "version": 1,
      "views": {
       "grid_default": {
        "hidden": true
       },
       "report_default": {
        "hidden": true
       }
      }
     }
    },
    "hidden": true
   },
   "outputs": [],
   "source": [
    "closest_div_bed = glob.glob('/home/ekornobis/analysis/muchardt/seqherv/11.1_divtrans_ribominus/star/*all_oppositeStrands_dist500b.bed')"
   ]
  },
  {
   "cell_type": "code",
   "execution_count": 6,
   "metadata": {
    "ExecuteTime": {
     "end_time": "2018-01-02T12:52:46.096159Z",
     "start_time": "2018-01-02T12:52:46.090086Z"
    },
    "extensions": {
     "jupyter_dashboards": {
      "version": 1,
      "views": {
       "grid_default": {
        "col": 7,
        "height": 5,
        "hidden": false,
        "row": 14,
        "width": 4
       },
       "report_default": {
        "hidden": false
       }
      }
     }
    },
    "hidden": true
   },
   "outputs": [
    {
     "data": {
      "text/plain": [
       "['/home/ekornobis/analysis/muchardt/seqherv/11.1_divtrans_ribominus/star/Compoud_A_1_nameSort_bothMapped_primaryAlign_noSplice_frag_all_oppositeStrands_dist500b.bed',\n",
       " '/home/ekornobis/analysis/muchardt/seqherv/11.1_divtrans_ribominus/star/VEUDE_A_1_nameSort_bothMapped_primaryAlign_noSplice_frag_all_oppositeStrands_dist500b.bed']"
      ]
     },
     "execution_count": 6,
     "metadata": {},
     "output_type": "execute_result"
    }
   ],
   "source": [
    "closest_div_bed"
   ]
  },
  {
   "cell_type": "code",
   "execution_count": 13,
   "metadata": {
    "ExecuteTime": {
     "end_time": "2018-01-02T12:59:28.388898Z",
     "start_time": "2018-01-02T12:59:23.766237Z"
    },
    "collapsed": true,
    "extensions": {
     "jupyter_dashboards": {
      "version": 1,
      "views": {
       "grid_default": {
        "hidden": true
       },
       "report_default": {
        "hidden": true
       }
      }
     }
    },
    "hidden": true
   },
   "outputs": [],
   "source": [
    "for bed in closest_div_bed:\n",
    "    outfile = os.path.splitext(bed)[0] + '_joined.bed'\n",
    "    with open(outfile, 'w') as f:\n",
    "        for line in open(bed, 'r'):\n",
    "            line = line.split()\n",
    "            coords = [int(line[1]), int(line[2]), int(line[7]), int(line[8])]\n",
    "            # Skip negative values for positions obtained for 'GL' contigs\n",
    "            coords = [x for x in coords if x >= 0]\n",
    "            f.write('{0}\\t{1}\\t{2}\\t{3}\\t{4}\\t{5}\\n'.format(line[0], min(coords), max(coords), '.', '.', '.'))"
   ]
  },
  {
   "cell_type": "code",
   "execution_count": 14,
   "metadata": {
    "ExecuteTime": {
     "end_time": "2018-01-02T12:59:51.009790Z",
     "start_time": "2018-01-02T12:59:43.103743Z"
    },
    "collapsed": true,
    "extensions": {
     "jupyter_dashboards": {
      "version": 1,
      "views": {
       "grid_default": {
        "hidden": true
       },
       "report_default": {
        "hidden": true
       }
      }
     }
    },
    "hidden": true
   },
   "outputs": [],
   "source": [
    "%%bash\n",
    "\n",
    "beds=`ls /home/ekornobis/analysis/muchardt/seqherv/11.1_divtrans_ribominus/star/*_joined.bed`\n",
    "\n",
    "for bed in $beds; do\n",
    "    bedtools sort -i $bed | bedtools merge > ${bed%.bed}_merged.bed\n",
    "    done"
   ]
  },
  {
   "cell_type": "code",
   "execution_count": 15,
   "metadata": {
    "ExecuteTime": {
     "end_time": "2018-01-02T12:59:51.662589Z",
     "start_time": "2018-01-02T12:59:51.013612Z"
    },
    "extensions": {
     "jupyter_dashboards": {
      "version": 1,
      "views": {
       "grid_default": {
        "hidden": true
       },
       "report_default": {
        "hidden": true
       }
      }
     }
    },
    "hidden": true
   },
   "outputs": [
    {
     "name": "stderr",
     "output_type": "stream",
     "text": [
      "awk: fatal: cannot open file `A_minus_veude_final_noRefSeq.bed' for reading (No such file or directory)\n",
      "awk: fatal: cannot open file `A_minus_veude_final_noRefSeq.bed' for reading (No such file or directory)\n"
     ]
    }
   ],
   "source": [
    "%%bash\n",
    "\n",
    "cd /home/ekornobis/analysis/muchardt/seqherv/11.1_divtrans_ribominus/star\n",
    "\n",
    "ref_genes=/home/ekornobis/data/genomes/ensembl/h_sapiens/hg37/hg19_refseq_sort.bed\n",
    "\n",
    "bedtools subtract -A -a Compoud_A_1_nameSort_bothMapped_primaryAlign_noSplice_frag_all_oppositeStrands_dist500b_joined_merged.bed -b VEUDE_A_1_nameSort_bothMapped_primaryAlign_noSplice_frag_all_oppositeStrands_dist500b_joined_merged.bed > A_minus_veude_divtrans_dist500b.bed\n",
    "\n",
    "# Remove intervals contained in known genes\n",
    "bedtools subtract -A -a A_minus_veude_divtrans_dist500b.bed -b $ref_genes > A_minus_veude_final_dist500b_noRefSeq.bed\n",
    "\n",
    "# Count by strands\n",
    "awk -v OFS='\\t' '{print $0, \".\", \".\", \"+\"}' A_minus_veude_final_noRefSeq.bed > A_minus_veude_final_noRefSeq_strand+.bed\n",
    "awk -v OFS='\\t' '{print $0, \".\", \".\", \"-\"}' A_minus_veude_final_noRefSeq.bed > A_minus_veude_final_noRefSeq_strand-.bed\n",
    "\n",
    "#bedtools coverage -a Compoud_A_1_nameSort_filtered.bam -b A_minus_veude_final_noRefSeq_strand+.bed"
   ]
  },
  {
   "cell_type": "code",
   "execution_count": null,
   "metadata": {
    "collapsed": true,
    "extensions": {
     "jupyter_dashboards": {
      "version": 1,
      "views": {
       "grid_default": {
        "hidden": true
       },
       "report_default": {
        "hidden": true
       }
      }
     }
    },
    "hidden": true
   },
   "outputs": [],
   "source": [
    "# Used for final 500bp interval centered on the middle of divtrans region\n",
    "# awk -v OFS='\\t' '{print $1, int(($2 + $3)/2 - 251), int(($2 + $3)/2 + 250)}' A_minus_veude_final_dist500b_noRefSeq.bed > A_minus_veude_final_dist500b_noRefSeq_500bWin.bed"
   ]
  }
 ],
 "metadata": {
  "extensions": {
   "jupyter_dashboards": {
    "activeView": "grid_default",
    "version": 1,
    "views": {
     "grid_default": {
      "cellMargin": 10,
      "defaultCellHeight": 20,
      "maxColumns": 12,
      "name": "grid",
      "type": "grid"
     },
     "report_default": {
      "name": "report",
      "type": "report"
     }
    }
   }
  },
  "kernelspec": {
   "display_name": "Python [conda root]",
   "language": "python",
   "name": "conda-root-py"
  },
  "language_info": {
   "codemirror_mode": {
    "name": "ipython",
    "version": 3
   },
   "file_extension": ".py",
   "mimetype": "text/x-python",
   "name": "python",
   "nbconvert_exporter": "python",
   "pygments_lexer": "ipython3",
   "version": "3.5.3"
  },
  "toc": {
   "colors": {
    "hover_highlight": "#DAA520",
    "navigate_num": "#000000",
    "navigate_text": "#333333",
    "running_highlight": "#FF0000",
    "selected_highlight": "#FFD700",
    "sidebar_border": "#EEEEEE",
    "wrapper_background": "#FFFFFF"
   },
   "moveMenuLeft": true,
   "nav_menu": {
    "height": "47px",
    "width": "252px"
   },
   "navigate_menu": true,
   "number_sections": true,
   "sideBar": false,
   "threshold": 4,
   "toc_cell": false,
   "toc_position": {
    "height": "577px",
    "left": "5px",
    "right": "20px",
    "top": "107.986px",
    "width": "184px"
   },
   "toc_section_display": "block",
   "toc_window_display": true,
   "widenNotebook": false
  }
 },
 "nbformat": 4,
 "nbformat_minor": 2
}
